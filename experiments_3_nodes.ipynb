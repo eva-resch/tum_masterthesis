{
 "cells": [
  {
   "cell_type": "markdown",
   "metadata": {},
   "source": [
    "## Preparation"
   ]
  },
  {
   "cell_type": "code",
   "execution_count": 1,
   "metadata": {},
   "outputs": [],
   "source": [
    "import numpy as np\n",
    "from sympy import *\n",
    "from sympy.solvers import solve\n",
    "init_printing(use_unicode=True)\n",
    "\n",
    "def num_sym(p: int) -> int:\n",
    "    return int(p * (p + 1) / 2)\n",
    "\n",
    "def solve_lyapunov_cov(M: Matrix, C: Matrix, p: int) -> Matrix:\n",
    "    Sigma = MatrixSymbol(\"Sigma\", p, p).as_explicit()\n",
    "    Sigma_solved = solve(M*Sigma + Sigma*M.T + C, Sigma)\n",
    "    scheme = [[Sigma_solved[Sigma[i,j]] for i in range(p)] for j in range(p)]\n",
    "    Sigma_new = Matrix(scheme)\n",
    "    return Sigma_new\n",
    "\n",
    "def create_A_Sigma(cov: Matrix, p: int) -> Matrix:\n",
    "    row_num = num_sym(p=p)\n",
    "    col_num = int(p * p)\n",
    "    A_Sigma = MatrixSymbol(\"A\", row_num, col_num).as_mutable()\n",
    "    for l in range(p):\n",
    "        for k in range(l+1):\n",
    "            for i in range(p):\n",
    "                for j in range(p):\n",
    "                    if (j != k) & (j != l):\n",
    "                        A_Sigma[(k * p) + (l - num_sym(p=k)), i * p + j] = 0\n",
    "                    elif (j == k) & (k != l):\n",
    "                        A_Sigma[(k * p) + (l - num_sym(p=k)), i * p + j] = cov[l, i]\n",
    "                    elif (j == l) & (l != k):\n",
    "                        A_Sigma[(k * p) + (l - num_sym(p=k)), i * p + j] = cov[k, i]\n",
    "                    elif (j == k) & (j == l):\n",
    "                        A_Sigma[(k * p) + (l - num_sym(p=k)), i * p + j] = 2 * cov[j, i]\n",
    "    return A_Sigma\n",
    "\n",
    "def create_A(A_Sigma: Matrix, mean: Matrix, p: int) -> Matrix:\n",
    "    identity = mean[0] * eye(p)\n",
    "    for i in range(1, p):\n",
    "        identity = Matrix.hstack(identity, mean[i] * eye(p))\n",
    "    return Matrix.vstack(A_Sigma, identity)\n",
    "\n",
    "def create_c(vech_C: Matrix, b: float, index: int, p: int) -> Matrix:\n",
    "    unit_vector = eye(p).col(index)\n",
    "    return Matrix.vstack(vech_C, - b * unit_vector)"
   ]
  },
  {
   "cell_type": "markdown",
   "metadata": {},
   "source": [
    "## Test 1\n",
    "Estimate 1000 true matrices $M^*$, then create the matrix $A$ and vector $c$, calculate $\\text{det}(A)$ and if $\\text{det}(A)\\neq 0$ estimate $\\hat{M}$ and calculate the Frobenius distance to the true $M^*$."
   ]
  },
  {
   "cell_type": "code",
   "execution_count": null,
   "metadata": {},
   "outputs": [],
   "source": [
    "p = 3\n",
    "num_eq = num_sym(p=p) + p\n",
    "num_seed = 1000\n",
    "d = 0.9 # Probability of edges in graph\n",
    "\n",
    "m11, m12, m13 = symbols('m11'), symbols('m12'), symbols('m13')\n",
    "m21, m22, m23 = symbols('m21'), symbols('m22'), symbols('m23')\n",
    "m31, m32, m33 = symbols('m31'), symbols('m32'), symbols('m33')\n",
    "M = Matrix([[m11, m12, m13], [m21, m22, m23], [m31, m32, m33]])\n",
    "\n",
    "C = 2 * eye(p) # volatility matrix\n",
    "\n",
    "vec_M = Matrix([[M[j, i]] for i in range(p) for j in range(p)]) # j faster than i\n",
    "vech_C = Matrix([[C[i, j]] for i in range(p) for j in range(i, p)])\n",
    "\n",
    "# Intervention\n",
    "index_intervention = 1\n",
    "b = 2\n",
    "unit_v = eye(p).col(index_intervention)\n",
    "\n",
    "estimates_3nodes_test1 = np.empty(shape=(num_seed), dtype=object)\n",
    "statistics_3nodes_test1 = np.empty(shape=(num_seed, 3), dtype=float)\n",
    "\n",
    "for seed in range(1, num_seed + 1):\n",
    "    np.random.seed(seed=seed)\n",
    "\n",
    "    bernoulli_matrix = np.random.binomial(1, d, (p, p))\n",
    "    normal_matrix = np.random.normal(0, 1, (p, p))\n",
    "\n",
    "    temp_M = bernoulli_matrix * normal_matrix\n",
    "    for i in range(p): # adjust diagonal entries s.t. M stable\n",
    "        row_sum = np.sum(np.abs(temp_M[i, :])) - np.abs(temp_M[i, i])\n",
    "        temp_M[i, i] = - row_sum - np.abs(normal_matrix[i,i])\n",
    "\n",
    "    concrete_M = Matrix(temp_M)\n",
    "\n",
    "    cov = solve_lyapunov_cov(M=concrete_M, C=C, p=p)\n",
    "    mean = b * concrete_M.inv() * unit_v\n",
    "\n",
    "    A_Sigma = create_A_Sigma(cov=cov, p=p)\n",
    "    A = create_A(A_Sigma=A_Sigma, mean=mean, p=p)\n",
    "\n",
    "    c = create_c(vech_C=vech_C, b=b, index=index_intervention, p=p)\n",
    "\n",
    "    det_A = det(A)\n",
    "    solution = solve(A * vec_M + c, vec_M)\n",
    "\n",
    "    if solution:\n",
    "        M_est = M.subs(solve(A * vec_M + c, vec_M))\n",
    "        M_est_np = matrix2numpy(M_est).astype(float)\n",
    "        M_true = matrix2numpy(concrete_M).astype(float)\n",
    "        frob = np.linalg.norm(M_est_np - M_true)\n",
    "\n",
    "        estimates_3nodes_test1[seed - 1] = M_est_np.round(3)\n",
    "        statistics_3nodes_test1[seed - 1, 0] = det_A\n",
    "        statistics_3nodes_test1[seed - 1, 1] = frob\n",
    "        statistics_3nodes_test1[seed - 1, 2] = 1\n",
    "    # elif det_A == 0: # det(A) = 0\n",
    "        # print(\"Solution exists at seed \", seed, \": \", solution, \", but det(A)=0.\")\n",
    "        # statistics_3nodes_test1[seed - 1, 0] = det_A\n",
    "        # statistics_3nodes_test1[seed - 1, 1] = 0.0\n",
    "        # statistics_3nodes_test1[seed - 1, 2] = 0\n",
    "    else: # empty solution\n",
    "        statistics_3nodes_test1[seed - 1, 0] = det_A\n",
    "        statistics_3nodes_test1[seed - 1, 1] = 0.0\n",
    "        statistics_3nodes_test1[seed - 1, 2] = 0"
   ]
  },
  {
   "cell_type": "markdown",
   "metadata": {},
   "source": [
    "Had Problem at seed = 220, so investigate what caused error."
   ]
  },
  {
   "cell_type": "code",
   "execution_count": null,
   "metadata": {},
   "outputs": [],
   "source": [
    "np.random.seed(seed=220)\n",
    "\n",
    "bernoulli_matrix = np.random.binomial(1, d, (p, p))\n",
    "normal_matrix = np.random.normal(0, 1, (p, p))\n",
    "\n",
    "temp_M = bernoulli_matrix * normal_matrix\n",
    "for i in range(p): # adjust diagonal entries s.t. M stable\n",
    "    row_sum = np.sum(np.abs(temp_M[i, :])) - np.abs(temp_M[i, i])\n",
    "    temp_M[i, i] = - row_sum - np.abs(normal_matrix[i,i])\n",
    "\n",
    "concrete_M = Matrix(temp_M)\n",
    "\n",
    "cov = solve_lyapunov_cov(M=concrete_M, C=C, p=p)\n",
    "mean = b * concrete_M.inv() * unit_v\n",
    "\n",
    "A_Sigma = create_A_Sigma(cov=cov, p=p)\n",
    "A = create_A(A_Sigma=A_Sigma, mean=mean, p=p)\n",
    "\n",
    "c = create_c(vech_C=vech_C, b=b, index=index_intervention, p=p)\n",
    "\n",
    "det_A = det(A)\n",
    "print(det_A)\n",
    "print(A * vec_M + c)\n",
    "\n",
    "M_est = M.subs(solve(A * vec_M + c, vec_M))\n",
    "# M_est_np = matrix2numpy(M_est).astype(float)\n",
    "M_true = matrix2numpy(concrete_M).astype(float)\n",
    "# frob = np.linalg.norm(M_est_np - M_true)\n",
    "M_est"
   ]
  },
  {
   "cell_type": "code",
   "execution_count": null,
   "metadata": {},
   "outputs": [],
   "source": [
    "concrete_M"
   ]
  },
  {
   "cell_type": "code",
   "execution_count": null,
   "metadata": {},
   "outputs": [],
   "source": [
    "cov"
   ]
  },
  {
   "cell_type": "code",
   "execution_count": null,
   "metadata": {},
   "outputs": [],
   "source": [
    "A"
   ]
  },
  {
   "cell_type": "code",
   "execution_count": null,
   "metadata": {},
   "outputs": [],
   "source": [
    "det_A"
   ]
  },
  {
   "cell_type": "code",
   "execution_count": null,
   "metadata": {},
   "outputs": [],
   "source": [
    "A * vec_M + c"
   ]
  }
 ],
 "metadata": {
  "kernelspec": {
   "display_name": ".venv",
   "language": "python",
   "name": "python3"
  },
  "language_info": {
   "codemirror_mode": {
    "name": "ipython",
    "version": 3
   },
   "file_extension": ".py",
   "mimetype": "text/x-python",
   "name": "python",
   "nbconvert_exporter": "python",
   "pygments_lexer": "ipython3",
   "version": "3.12.3"
  }
 },
 "nbformat": 4,
 "nbformat_minor": 2
}
