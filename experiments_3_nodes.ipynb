{
 "cells": [
  {
   "cell_type": "markdown",
   "metadata": {},
   "source": [
    "## Preparation"
   ]
  },
  {
   "cell_type": "code",
   "execution_count": 1,
   "metadata": {},
   "outputs": [],
   "source": [
    "import numpy as np\n",
    "from sympy import *\n",
    "from sympy.solvers import solve\n",
    "init_printing(use_unicode=True)\n",
    "\n",
    "def num_sym(p: int) -> int:\n",
    "    return int(p * (p + 1) / 2)\n",
    "\n",
    "def solve_lyapunov_cov(M: Matrix, C: Matrix, p: int) -> Matrix:\n",
    "    Sigma = MatrixSymbol(\"Sigma\", p, p).as_explicit()\n",
    "    Sigma_solved = solve(M*Sigma + Sigma*M.T + C, Sigma)\n",
    "    scheme = [[Sigma_solved[Sigma[i,j]] for i in range(p)] for j in range(p)]\n",
    "    Sigma_new = Matrix(scheme)\n",
    "    return Sigma_new\n",
    "\n",
    "def create_A_Sigma(cov: Matrix, p: int) -> Matrix:\n",
    "    row_num = num_sym(p=p)\n",
    "    col_num = int(p * p)\n",
    "    A_Sigma = MatrixSymbol(\"A\", row_num, col_num).as_mutable()\n",
    "    for l in range(p):\n",
    "        for k in range(l+1):\n",
    "            for i in range(p):\n",
    "                for j in range(p):\n",
    "                    if (j != k) & (j != l):\n",
    "                        A_Sigma[(k * p) + (l - num_sym(p=k)), i * p + j] = 0\n",
    "                    elif (j == k) & (k != l):\n",
    "                        A_Sigma[(k * p) + (l - num_sym(p=k)), i * p + j] = cov[l, i]\n",
    "                    elif (j == l) & (l != k):\n",
    "                        A_Sigma[(k * p) + (l - num_sym(p=k)), i * p + j] = cov[k, i]\n",
    "                    elif (j == k) & (j == l):\n",
    "                        A_Sigma[(k * p) + (l - num_sym(p=k)), i * p + j] = 2 * cov[j, i]\n",
    "    return A_Sigma\n",
    "\n",
    "def create_A(A_Sigma: Matrix, mean: Matrix, p: int) -> Matrix:\n",
    "    identity = mean[0] * eye(p)\n",
    "    for i in range(1, p):\n",
    "        identity = Matrix.hstack(identity, mean[i] * eye(p))\n",
    "    return Matrix.vstack(A_Sigma, identity)\n",
    "\n",
    "def create_c(vech_C: Matrix, b: float, index: int, p: int) -> Matrix:\n",
    "    unit_vector = eye(p).col(index)\n",
    "    return Matrix.vstack(vech_C, - b * unit_vector)"
   ]
  },
  {
   "cell_type": "markdown",
   "metadata": {},
   "source": [
    "## Test 1\n",
    "Estimate 1000 true matrices $M^*$, then create the matrix $A$ and vector $c$, calculate $\\text{det}(A)$ and if $\\text{det}(A)\\neq 0$ estimate $\\hat{M}$ and calculate the Frobenius distance to the true $M^*$."
   ]
  },
  {
   "cell_type": "code",
   "execution_count": 2,
   "metadata": {},
   "outputs": [],
   "source": [
    "p = 3\n",
    "num_eq = num_sym(p=p) + p\n",
    "num_seed = 1000\n",
    "d = 0.9 # Probability of edges in graph\n",
    "\n",
    "m11, m12, m13 = symbols('m11'), symbols('m12'), symbols('m13')\n",
    "m21, m22, m23 = symbols('m21'), symbols('m22'), symbols('m23')\n",
    "m31, m32, m33 = symbols('m31'), symbols('m32'), symbols('m33')\n",
    "M = Matrix([[m11, m12, m13], [m21, m22, m23], [m31, m32, m33]])\n",
    "\n",
    "C = 2 * eye(p) # volatility matrix\n",
    "\n",
    "vec_M = Matrix([[M[j, i]] for i in range(p) for j in range(p)]) # j faster than i\n",
    "vech_C = Matrix([[C[i, j]] for i in range(p) for j in range(i, p)])\n",
    "\n",
    "# Intervention\n",
    "index_intervention = 1\n",
    "b = 2\n",
    "unit_v = eye(p).col(index_intervention)\n",
    "\n",
    "estimates_3nodes_test1 = np.empty(shape=(num_seed), dtype=object)\n",
    "statistics_3nodes_test1 = np.empty(shape=(num_seed, 3), dtype=float)\n",
    "\n",
    "for seed in range(1, num_seed + 1):\n",
    "    np.random.seed(seed=seed)\n",
    "\n",
    "    bernoulli_matrix = np.random.binomial(1, d, (p, p))\n",
    "    normal_matrix = np.random.normal(0, 1, (p, p))\n",
    "\n",
    "    temp_M = bernoulli_matrix * normal_matrix\n",
    "    for i in range(p): # adjust diagonal entries s.t. M stable\n",
    "        row_sum = np.sum(np.abs(temp_M[i, :])) - np.abs(temp_M[i, i])\n",
    "        temp_M[i, i] = - row_sum - np.abs(normal_matrix[i,i])\n",
    "\n",
    "    concrete_M = Matrix(temp_M)\n",
    "\n",
    "    cov = solve_lyapunov_cov(M=concrete_M, C=C, p=p)\n",
    "    mean = b * concrete_M.inv() * unit_v\n",
    "\n",
    "    A_Sigma = create_A_Sigma(cov=cov, p=p)\n",
    "    A = create_A(A_Sigma=A_Sigma, mean=mean, p=p)\n",
    "\n",
    "    c = create_c(vech_C=vech_C, b=b, index=index_intervention, p=p)\n",
    "\n",
    "    det_A = det(A)\n",
    "    solution = solve(A * vec_M + c, vec_M)\n",
    "\n",
    "    if len(solution) == 9:\n",
    "        M_est = M.subs(solution)\n",
    "        M_est_np = matrix2numpy(M_est).astype(float)\n",
    "        M_true = matrix2numpy(concrete_M).astype(float)\n",
    "        frob = np.linalg.norm(M_est_np - M_true)\n",
    "\n",
    "        estimates_3nodes_test1[seed - 1] = M_est_np.round(3)\n",
    "        statistics_3nodes_test1[seed - 1, 0] = det_A\n",
    "        statistics_3nodes_test1[seed - 1, 1] = frob\n",
    "        statistics_3nodes_test1[seed - 1, 2] = 1\n",
    "    # elif det_A == 0: # det(A) = 0\n",
    "        # print(\"Solution exists at seed \", seed, \": \", solution, \", but det(A)=0.\")\n",
    "        # statistics_3nodes_test1[seed - 1, 0] = det_A\n",
    "        # statistics_3nodes_test1[seed - 1, 1] = 0.0\n",
    "        # statistics_3nodes_test1[seed - 1, 2] = 0\n",
    "    else: # empty solution\n",
    "        estimates_3nodes_test1[seed - 1] = solution\n",
    "        statistics_3nodes_test1[seed - 1, 0] = det_A\n",
    "        statistics_3nodes_test1[seed - 1, 1] = 0.0\n",
    "        statistics_3nodes_test1[seed - 1, 2] = 0"
   ]
  },
  {
   "cell_type": "code",
   "execution_count": 2,
   "metadata": {},
   "outputs": [],
   "source": [
    "p = 3\n",
    "num_eq = num_sym(p=p) + p\n",
    "num_seed = 100\n",
    "d = 0.9 # Probability of edges in graph\n",
    "\n",
    "m11, m12, m13 = symbols('m11'), symbols('m12'), symbols('m13')\n",
    "m21, m22, m23 = symbols('m21'), symbols('m22'), symbols('m23')\n",
    "m31, m32, m33 = symbols('m31'), symbols('m32'), symbols('m33')\n",
    "M = Matrix([[m11, m12, m13], [m21, m22, m23], [m31, m32, m33]])\n",
    "\n",
    "C = 2 * eye(p) # volatility matrix\n",
    "\n",
    "vec_M = Matrix([[M[j, i]] for i in range(p) for j in range(p)]) # j faster than i\n",
    "vech_C = Matrix([[C[i, j]] for i in range(p) for j in range(i, p)])\n",
    "\n",
    "# Intervention\n",
    "index_intervention = 1\n",
    "b = 2\n",
    "unit_v = eye(p).col(index_intervention)\n",
    "\n",
    "estimates_3nodes_test1 = np.empty(shape=(num_seed), dtype=object)\n",
    "statistics_3nodes_test1 = np.empty(shape=(num_seed, 4), dtype=float)\n",
    "\n",
    "for seed in range(1, num_seed + 1):\n",
    "    np.random.seed(seed=seed)\n",
    "\n",
    "    # bernoulli_matrix = np.random.binomial(1, d, (p, p))\n",
    "    normal_matrix = np.random.normal(0, 1, (p, p))\n",
    "\n",
    "    # temp_M = bernoulli_matrix * normal_matrix\n",
    "    for i in range(p): # adjust diagonal entries s.t. M stable\n",
    "        row_sum = np.sum(np.abs(normal_matrix[i, :])) - np.abs(normal_matrix[i, i])\n",
    "        normal_matrix[i, i] = - row_sum - np.abs(normal_matrix[i,i])\n",
    "\n",
    "    concrete_M = Matrix(normal_matrix)\n",
    "\n",
    "    cov = solve_lyapunov_cov(M=concrete_M, C=C, p=p)\n",
    "    mean = b * concrete_M.inv() * unit_v\n",
    "\n",
    "    A_Sigma = create_A_Sigma(cov=cov, p=p)\n",
    "    A = create_A(A_Sigma=A_Sigma, mean=mean, p=p)\n",
    "    A_np = matrix2numpy(A).astype(float)\n",
    "    rang = np.linalg.matrix_rank(A_np)\n",
    "\n",
    "    c = create_c(vech_C=vech_C, b=b, index=index_intervention, p=p)\n",
    "\n",
    "    det_A = det(A)\n",
    "    solution = solve(A * vec_M + c, vec_M)\n",
    "\n",
    "    if len(solution) == 9:\n",
    "        M_est = M.subs(solution)\n",
    "        M_est_np = matrix2numpy(M_est).astype(float)\n",
    "        M_true = matrix2numpy(concrete_M).astype(float)\n",
    "        frob = np.linalg.norm(M_est_np - M_true)\n",
    "\n",
    "        estimates_3nodes_test1[seed - 1] = M_est_np.round(3)\n",
    "        statistics_3nodes_test1[seed - 1, 0] = det_A\n",
    "        statistics_3nodes_test1[seed - 1, 1] = frob\n",
    "        statistics_3nodes_test1[seed - 1, 2] = 1\n",
    "        statistics_3nodes_test1[seed - 1, 3] = rang\n",
    "    # elif det_A == 0: # det(A) = 0\n",
    "        # print(\"Solution exists at seed \", seed, \": \", solution, \", but det(A)=0.\")\n",
    "        # statistics_3nodes_test1[seed - 1, 0] = det_A\n",
    "        # statistics_3nodes_test1[seed - 1, 1] = 0.0\n",
    "        # statistics_3nodes_test1[seed - 1, 2] = 0\n",
    "    else: # empty solution\n",
    "        estimates_3nodes_test1[seed - 1] = solution\n",
    "        statistics_3nodes_test1[seed - 1, 0] = det_A\n",
    "        statistics_3nodes_test1[seed - 1, 1] = 0.0\n",
    "        statistics_3nodes_test1[seed - 1, 2] = 0\n",
    "        statistics_3nodes_test1[seed - 1, 3] = rang"
   ]
  },
  {
   "cell_type": "code",
   "execution_count": null,
   "metadata": {},
   "outputs": [],
   "source": [
    "statistics_3nodes_test1"
   ]
  },
  {
   "cell_type": "code",
   "execution_count": 3,
   "metadata": {},
   "outputs": [
    {
     "data": {
      "text/plain": [
       "array([219, 480])"
      ]
     },
     "execution_count": 3,
     "metadata": {},
     "output_type": "execute_result"
    }
   ],
   "source": [
    "index_no_solution = np.where(statistics_3nodes_test1[:, 2] == 0)[0]\n",
    "index_no_solution"
   ]
  },
  {
   "cell_type": "code",
   "execution_count": 4,
   "metadata": {},
   "outputs": [
    {
     "data": {
      "text/plain": [
       "array([[-4.25501888e-16,  0.00000000e+00,  0.00000000e+00],\n",
       "       [ 4.86359419e-19,  0.00000000e+00,  0.00000000e+00]])"
      ]
     },
     "execution_count": 4,
     "metadata": {},
     "output_type": "execute_result"
    }
   ],
   "source": [
    "statistics_3nodes_test1[index_no_solution, :]"
   ]
  },
  {
   "cell_type": "code",
   "execution_count": 5,
   "metadata": {},
   "outputs": [
    {
     "data": {
      "text/plain": [
       "array([  6,  26,  49,  59,  63,  73,  84, 121, 127, 128, 164, 186, 193,\n",
       "       223, 260, 269, 283, 315, 320, 343, 345, 350, 359, 367, 370, 396,\n",
       "       401, 406, 428, 432, 441, 465, 470, 488, 507, 513, 518, 544, 552,\n",
       "       553, 570, 584, 601, 615, 627, 633, 635, 637, 638, 648, 662, 667,\n",
       "       669, 712, 721, 722, 730, 737, 791, 809, 818, 822, 824, 859, 864,\n",
       "       869, 888, 894, 899, 906, 935, 937, 980])"
      ]
     },
     "execution_count": 5,
     "metadata": {},
     "output_type": "execute_result"
    }
   ],
   "source": [
    "index_zero_det = np.where(statistics_3nodes_test1[:, 0] == 0)[0]\n",
    "index_zero_det"
   ]
  },
  {
   "cell_type": "code",
   "execution_count": 6,
   "metadata": {},
   "outputs": [
    {
     "data": {
      "image/png": "[encoded data removed]",
      "text/latex": [
       "$\\displaystyle 73$"
      ],
      "text/plain": [
       "73"
      ]
     },
     "execution_count": 6,
     "metadata": {},
     "output_type": "execute_result"
    }
   ],
   "source": [
    "len(index_zero_det)"
   ]
  },
  {
   "cell_type": "markdown",
   "metadata": {},
   "source": [
    "### Problem\n",
    "There are entries that do not produce a solution even though $\\text{det}(A)\\neq 0$.\n",
    "\n",
    "Solution: when solving the same system of equations but deleting an arbitrary row, the result is always the same entries dependent on $m_{33}$, so I suppose that there has to me a numerical problem behind this phenomenom.\n",
    "\n",
    "Furthermore, there are a lot of matrices with one or several zero entries, so that cannot have been the problem (cf. $\\texttt{seed = 4, 5}$)."
   ]
  },
  {
   "cell_type": "code",
   "execution_count": 7,
   "metadata": {},
   "outputs": [],
   "source": [
    "np.random.seed(seed=220)\n",
    "\n",
    "bernoulli_matrix = np.random.binomial(1, d, (p, p))\n",
    "normal_matrix = np.random.normal(0, 1, (p, p))\n",
    "\n",
    "temp_M = bernoulli_matrix * normal_matrix\n",
    "for i in range(p): # adjust diagonal entries s.t. M stable\n",
    "    row_sum = np.sum(np.abs(temp_M[i, :])) - np.abs(temp_M[i, i])\n",
    "    temp_M[i, i] = - row_sum - np.abs(normal_matrix[i,i])\n",
    "\n",
    "concrete_M = Matrix(temp_M)\n",
    "\n",
    "cov = solve_lyapunov_cov(M=concrete_M, C=C, p=p)\n",
    "mean = b * concrete_M.inv() * unit_v\n",
    "\n",
    "A_Sigma = create_A_Sigma(cov=cov, p=p)\n",
    "A = create_A(A_Sigma=A_Sigma, mean=mean, p=p)\n",
    "\n",
    "c = create_c(vech_C=vech_C, b=b, index=index_intervention, p=p)\n",
    "\n",
    "det_A = det(A)\n",
    "solution = solve(A * vec_M + c, vec_M)"
   ]
  },
  {
   "cell_type": "code",
   "execution_count": 8,
   "metadata": {},
   "outputs": [
    {
     "data": {
      "image/png": "[encoded data removed]",
      "text/latex": [
       "$\\displaystyle \\left\\{ m_{11} : - 1.00802493949008 m_{33} - 3.7086510433208, \\  m_{12} : - 0.0960897657999057 m_{33} - 0.403212794401901, \\  m_{13} : 0.608419743733643 m_{33} + 1.87127218182882, \\  m_{21} : 0.0941237057546393 m_{33} - 0.914616747451685, \\  m_{22} : 0.00802493949007659 m_{33} - 1.41457969021023, \\  m_{23} : 0.340166119271559 - 0.0638119455711392 m_{33}, \\  m_{31} : - 2.10222967767152 m_{33} - 0.370127489517314, \\  m_{32} : - 0.23677576620482 m_{33} - 0.0655125193405015\\right\\}$"
      ],
      "text/plain": [
       "{m₁₁: -1.00802493949008⋅m₃₃ - 3.7086510433208, m₁₂: -0.0960897657999057⋅m₃₃ -  ↪\n",
       "\n",
       "↪ 0.403212794401901, m₁₃: 0.608419743733643⋅m₃₃ + 1.87127218182882, m₂₁: 0.094 ↪\n",
       "\n",
       "↪ 1237057546393⋅m₃₃ - 0.914616747451685, m₂₂: 0.00802493949007659⋅m₃₃ - 1.4145 ↪\n",
       "\n",
       "↪ 7969021023, m₂₃: 0.340166119271559 - 0.0638119455711392⋅m₃₃, m₃₁: -2.1022296 ↪\n",
       "\n",
       "↪ 7767152⋅m₃₃ - 0.370127489517314, m₃₂: -0.23677576620482⋅m₃₃ - 0.065512519340 ↪\n",
       "\n",
       "↪ 5015}"
      ]
     },
     "execution_count": 8,
     "metadata": {},
     "output_type": "execute_result"
    }
   ],
   "source": [
    "temp = A * vec_M + c\n",
    "temp.row_del(8)\n",
    "solve(temp, vec_M)"
   ]
  },
  {
   "cell_type": "code",
   "execution_count": 9,
   "metadata": {},
   "outputs": [],
   "source": [
    "np.random.seed(seed=481)\n",
    "\n",
    "bernoulli_matrix = np.random.binomial(1, d, (p, p))\n",
    "normal_matrix = np.random.normal(0, 1, (p, p))\n",
    "\n",
    "temp_M = bernoulli_matrix * normal_matrix\n",
    "for i in range(p): # adjust diagonal entries s.t. M stable\n",
    "    row_sum = np.sum(np.abs(temp_M[i, :])) - np.abs(temp_M[i, i])\n",
    "    temp_M[i, i] = - row_sum - np.abs(normal_matrix[i,i])\n",
    "\n",
    "concrete_M = Matrix(temp_M)\n",
    "\n",
    "cov = solve_lyapunov_cov(M=concrete_M, C=C, p=p)\n",
    "mean = b * concrete_M.inv() * unit_v\n",
    "\n",
    "A_Sigma = create_A_Sigma(cov=cov, p=p)\n",
    "A = create_A(A_Sigma=A_Sigma, mean=mean, p=p)\n",
    "\n",
    "c = create_c(vech_C=vech_C, b=b, index=index_intervention, p=p)\n",
    "\n",
    "det_A = det(A)\n",
    "solution = solve(A * vec_M + c, vec_M)"
   ]
  },
  {
   "cell_type": "code",
   "execution_count": 10,
   "metadata": {},
   "outputs": [
    {
     "data": {
      "image/png": "[encoded data removed]",
      "text/latex": [
       "$\\displaystyle \\left\\{ m_{11} : - 1.53751104781164 m_{33} - 9.91368052491017, \\  m_{12} : - 3.01844755721857 m_{33} - 17.852603483809, \\  m_{13} : 7.74553000570341 m_{33} + 43.7489600239502, \\  m_{21} : 0.606735739397688 m_{33} + 2.37774359959178, \\  m_{22} : 0.537511047811642 m_{33} + 0.688432427560697, \\  m_{23} : - 0.542147466648282 m_{33} - 3.0982061222922, \\  m_{31} : - 1.91246079883268 m_{33} - 9.52220060554717, \\  m_{32} : - 1.50998502531107 m_{33} - 6.22393444861626\\right\\}$"
      ],
      "text/plain": [
       "{m₁₁: -1.53751104781164⋅m₃₃ - 9.91368052491017, m₁₂: -3.01844755721857⋅m₃₃ - 1 ↪\n",
       "\n",
       "↪ 7.852603483809, m₁₃: 7.74553000570341⋅m₃₃ + 43.7489600239502, m₂₁: 0.6067357 ↪\n",
       "\n",
       "↪ 39397688⋅m₃₃ + 2.37774359959178, m₂₂: 0.537511047811642⋅m₃₃ + 0.688432427560 ↪\n",
       "\n",
       "↪ 697, m₂₃: -0.542147466648282⋅m₃₃ - 3.0982061222922, m₃₁: -1.91246079883268⋅m ↪\n",
       "\n",
       "↪ ₃₃ - 9.52220060554717, m₃₂: -1.50998502531107⋅m₃₃ - 6.22393444861626}"
      ]
     },
     "execution_count": 10,
     "metadata": {},
     "output_type": "execute_result"
    }
   ],
   "source": [
    "temp = A * vec_M + c\n",
    "temp.row_del(0)\n",
    "solve(temp, vec_M)"
   ]
  },
  {
   "cell_type": "markdown",
   "metadata": {},
   "source": [
    "### How do the estimates look and what can we say about them?"
   ]
  },
  {
   "cell_type": "markdown",
   "metadata": {},
   "source": [
    "Significant amount of matrices that produce $\\text{det}(A) = 0$ have non-zero entries everywhere."
   ]
  },
  {
   "cell_type": "code",
   "execution_count": 11,
   "metadata": {},
   "outputs": [
    {
     "data": {
      "image/png": "[encoded data removed]",
      "text/latex": [
       "$\\displaystyle \\left[\\begin{matrix}-3.22280863081735 & 0.475219931831244 & 0.295203991923722\\\\0.683759979381298 & -2.89100759091762 & 0.606235897289704\\\\0.11549749272602 & -1.77041652715305 & -3.06171538275142\\end{matrix}\\right]$"
      ],
      "text/plain": [
       "⎡-3.22280863081735  0.475219931831244  0.295203991923722⎤\n",
       "⎢                                                       ⎥\n",
       "⎢0.683759979381298  -2.89100759091762  0.606235897289704⎥\n",
       "⎢                                                       ⎥\n",
       "⎣0.11549749272602   -1.77041652715305  -3.06171538275142⎦"
      ]
     },
     "execution_count": 11,
     "metadata": {},
     "output_type": "execute_result"
    }
   ],
   "source": [
    "np.random.seed(seed=824+1)\n",
    "\n",
    "bernoulli_matrix = np.random.binomial(1, d, (p, p))\n",
    "normal_matrix = np.random.normal(0, 1, (p, p))\n",
    "\n",
    "temp_M = bernoulli_matrix * normal_matrix\n",
    "for i in range(p): # adjust diagonal entries s.t. M stable\n",
    "    row_sum = np.sum(np.abs(temp_M[i, :])) - np.abs(temp_M[i, i])\n",
    "    temp_M[i, i] = - row_sum - np.abs(normal_matrix[i,i])\n",
    "\n",
    "concrete_M = Matrix(temp_M)\n",
    "concrete_M"
   ]
  },
  {
   "cell_type": "markdown",
   "metadata": {},
   "source": [
    "## Test 2\n",
    "How changes the number of unsuccessful estimations (no solution) and of successful estimations in spite of having $\\text{det}(A)=0$ in correlation with the mean number of edges in the graph?\n",
    "\n",
    "Our baseline is always 750 executions of the experiment."
   ]
  },
  {
   "cell_type": "markdown",
   "metadata": {},
   "source": [
    "### Probability of 99%\n",
    "$\\mathbb{P}(\\text{edge}) = 99\\%$, therefore on average there are $\\mathbb{E}(\\text{number of edges})=0.99*6=5.94$ edges plus the $3$ self-loops in the graph.\n",
    "\n",
    "***Results:*** $\\texttt{seed = 480,711}$ unsuccessful estimations and $\\large{54}$ estimations in spite of having $\\text{det}(A)=0$."
   ]
  },
  {
   "cell_type": "code",
   "execution_count": 12,
   "metadata": {},
   "outputs": [],
   "source": [
    "p = 3\n",
    "num_eq = num_sym(p=p) + p\n",
    "num_seed = 750\n",
    "d = 0.99 # Probability of edges in graph\n",
    "\n",
    "m11, m12, m13 = symbols('m11'), symbols('m12'), symbols('m13')\n",
    "m21, m22, m23 = symbols('m21'), symbols('m22'), symbols('m23')\n",
    "m31, m32, m33 = symbols('m31'), symbols('m32'), symbols('m33')\n",
    "M = Matrix([[m11, m12, m13], [m21, m22, m23], [m31, m32, m33]])\n",
    "\n",
    "C = 2 * eye(p) # volatility matrix\n",
    "\n",
    "vec_M = Matrix([[M[j, i]] for i in range(p) for j in range(p)]) # j faster than i\n",
    "vech_C = Matrix([[C[i, j]] for i in range(p) for j in range(i, p)])\n",
    "\n",
    "# Intervention\n",
    "index_intervention = 1\n",
    "b = 2\n",
    "unit_v = eye(p).col(index_intervention)\n",
    "\n",
    "estimates_3nodes_test2_99 = np.empty(shape=(num_seed), dtype=object)\n",
    "statistics_3nodes_test2_99 = np.empty(shape=(num_seed, 3), dtype=float)\n",
    "\n",
    "for seed in range(1, num_seed + 1):\n",
    "    np.random.seed(seed=seed)\n",
    "\n",
    "    bernoulli_matrix = np.random.binomial(1, d, (p, p))\n",
    "    normal_matrix = np.random.normal(0, 1, (p, p))\n",
    "\n",
    "    temp_M = bernoulli_matrix * normal_matrix\n",
    "    for i in range(p): # adjust diagonal entries s.t. M stable\n",
    "        row_sum = np.sum(np.abs(temp_M[i, :])) - np.abs(temp_M[i, i])\n",
    "        temp_M[i, i] = - row_sum - np.abs(normal_matrix[i,i])\n",
    "\n",
    "    concrete_M = Matrix(temp_M)\n",
    "\n",
    "    cov = solve_lyapunov_cov(M=concrete_M, C=C, p=p)\n",
    "    mean = b * concrete_M.inv() * unit_v\n",
    "\n",
    "    A_Sigma = create_A_Sigma(cov=cov, p=p)\n",
    "    A = create_A(A_Sigma=A_Sigma, mean=mean, p=p)\n",
    "\n",
    "    c = create_c(vech_C=vech_C, b=b, index=index_intervention, p=p)\n",
    "\n",
    "    det_A = det(A)\n",
    "    solution = solve(A * vec_M + c, vec_M)\n",
    "\n",
    "    if len(solution) == 9:\n",
    "        M_est = M.subs(solution)\n",
    "        M_est_np = matrix2numpy(M_est).astype(float)\n",
    "        M_true = matrix2numpy(concrete_M).astype(float)\n",
    "        frob = np.linalg.norm(M_est_np - M_true)\n",
    "\n",
    "        estimates_3nodes_test2_99[seed - 1] = M_est_np.round(3)\n",
    "        statistics_3nodes_test2_99[seed - 1, 0] = det_A\n",
    "        statistics_3nodes_test2_99[seed - 1, 1] = frob\n",
    "        statistics_3nodes_test2_99[seed - 1, 2] = 1\n",
    "    else: # empty solution\n",
    "        estimates_3nodes_test2_99[seed - 1] = solution\n",
    "        statistics_3nodes_test2_99[seed - 1, 0] = det_A\n",
    "        statistics_3nodes_test2_99[seed - 1, 1] = 0.0\n",
    "        statistics_3nodes_test2_99[seed - 1, 2] = 0"
   ]
  },
  {
   "cell_type": "code",
   "execution_count": 13,
   "metadata": {},
   "outputs": [
    {
     "data": {
      "text/plain": [
       "array([480, 711])"
      ]
     },
     "execution_count": 13,
     "metadata": {},
     "output_type": "execute_result"
    }
   ],
   "source": [
    "index_no_solution_99 = np.where(statistics_3nodes_test2_99[:, 2] == 0)[0]\n",
    "index_no_solution_99"
   ]
  },
  {
   "cell_type": "code",
   "execution_count": 14,
   "metadata": {},
   "outputs": [
    {
     "data": {
      "text/plain": [
       "array([[ 4.86359419e-19,  0.00000000e+00,  0.00000000e+00],\n",
       "       [-2.20993087e-18,  0.00000000e+00,  0.00000000e+00]])"
      ]
     },
     "execution_count": 14,
     "metadata": {},
     "output_type": "execute_result"
    }
   ],
   "source": [
    "statistics_3nodes_test2_99[index_no_solution_99, :]"
   ]
  },
  {
   "cell_type": "code",
   "execution_count": 15,
   "metadata": {},
   "outputs": [
    {
     "data": {
      "text/plain": [
       "array([  6,  17,  49,  59,  60,  63,  73,  84, 121, 127, 146, 148, 164,\n",
       "       186, 193, 215, 223, 225, 274, 283, 315, 343, 345, 348, 367, 370,\n",
       "       403, 406, 428, 432, 441, 449, 470, 482, 493, 507, 509, 518, 520,\n",
       "       522, 544, 553, 554, 570, 601, 633, 635, 662, 667, 669, 676, 687,\n",
       "       692, 747])"
      ]
     },
     "execution_count": 15,
     "metadata": {},
     "output_type": "execute_result"
    }
   ],
   "source": [
    "index_zero_det_99 = np.where(statistics_3nodes_test2_99[:, 0] == 0)[0]\n",
    "index_zero_det_99"
   ]
  },
  {
   "cell_type": "code",
   "execution_count": 16,
   "metadata": {},
   "outputs": [
    {
     "data": {
      "image/png": "[encoded data removed]",
      "text/latex": [
       "$\\displaystyle 54$"
      ],
      "text/plain": [
       "54"
      ]
     },
     "execution_count": 16,
     "metadata": {},
     "output_type": "execute_result"
    }
   ],
   "source": [
    "len(index_zero_det_99)"
   ]
  },
  {
   "cell_type": "markdown",
   "metadata": {},
   "source": [
    "### Probability of 90%\n",
    "$\\mathbb{P}(\\text{edge}) = 90\\%$, therefore on average there are $\\mathbb{E}(\\text{number of edges})=0.9*6=5.4$ edges plus the $3$ self-loops in the graph (cf. Test 1).\n",
    "\n",
    "***Results:*** $\\texttt{seed = 219,480}$ unsuccessful estimations and $\\large{58}$ estimations in spite of having $\\text{det}(A)=0$."
   ]
  },
  {
   "cell_type": "markdown",
   "metadata": {},
   "source": [
    "### Probability of 80%\n",
    "$\\mathbb{P}(\\text{edge}) = 80\\%$, therefore on average there are $\\mathbb{E}(\\text{number of edges})=0.8*6=4.8$ edges plus the $3$ self-loops in the graph.\n",
    "\n",
    "***Results:*** $\\texttt{seed = 219,480,745}$ unsuccessful estimations and $\\large{56}$ estimations in spite of having $\\text{det}(A)=0$."
   ]
  },
  {
   "cell_type": "code",
   "execution_count": 17,
   "metadata": {},
   "outputs": [],
   "source": [
    "p = 3\n",
    "num_eq = num_sym(p=p) + p\n",
    "num_seed = 750\n",
    "d = 0.8 # Probability of edges in graph\n",
    "\n",
    "m11, m12, m13 = symbols('m11'), symbols('m12'), symbols('m13')\n",
    "m21, m22, m23 = symbols('m21'), symbols('m22'), symbols('m23')\n",
    "m31, m32, m33 = symbols('m31'), symbols('m32'), symbols('m33')\n",
    "M = Matrix([[m11, m12, m13], [m21, m22, m23], [m31, m32, m33]])\n",
    "\n",
    "C = 2 * eye(p) # volatility matrix\n",
    "\n",
    "vec_M = Matrix([[M[j, i]] for i in range(p) for j in range(p)]) # j faster than i\n",
    "vech_C = Matrix([[C[i, j]] for i in range(p) for j in range(i, p)])\n",
    "\n",
    "# Intervention\n",
    "index_intervention = 1\n",
    "b = 2\n",
    "unit_v = eye(p).col(index_intervention)\n",
    "\n",
    "estimates_3nodes_test2_80 = np.empty(shape=(num_seed), dtype=object)\n",
    "statistics_3nodes_test2_80 = np.empty(shape=(num_seed, 3), dtype=float)\n",
    "\n",
    "for seed in range(1, num_seed + 1):\n",
    "    np.random.seed(seed=seed)\n",
    "\n",
    "    bernoulli_matrix = np.random.binomial(1, d, (p, p))\n",
    "    normal_matrix = np.random.normal(0, 1, (p, p))\n",
    "\n",
    "    temp_M = bernoulli_matrix * normal_matrix\n",
    "    for i in range(p): # adjust diagonal entries s.t. M stable\n",
    "        row_sum = np.sum(np.abs(temp_M[i, :])) - np.abs(temp_M[i, i])\n",
    "        temp_M[i, i] = - row_sum - np.abs(normal_matrix[i,i])\n",
    "\n",
    "    concrete_M = Matrix(temp_M)\n",
    "\n",
    "    cov = solve_lyapunov_cov(M=concrete_M, C=C, p=p)\n",
    "    mean = b * concrete_M.inv() * unit_v\n",
    "\n",
    "    A_Sigma = create_A_Sigma(cov=cov, p=p)\n",
    "    A = create_A(A_Sigma=A_Sigma, mean=mean, p=p)\n",
    "\n",
    "    c = create_c(vech_C=vech_C, b=b, index=index_intervention, p=p)\n",
    "\n",
    "    det_A = det(A)\n",
    "    solution = solve(A * vec_M + c, vec_M)\n",
    "\n",
    "    if len(solution) == 9:\n",
    "        M_est = M.subs(solution)\n",
    "        M_est_np = matrix2numpy(M_est).astype(float)\n",
    "        M_true = matrix2numpy(concrete_M).astype(float)\n",
    "        frob = np.linalg.norm(M_est_np - M_true)\n",
    "\n",
    "        estimates_3nodes_test2_80[seed - 1] = M_est_np.round(3)\n",
    "        statistics_3nodes_test2_80[seed - 1, 0] = det_A\n",
    "        statistics_3nodes_test2_80[seed - 1, 1] = frob\n",
    "        statistics_3nodes_test2_80[seed - 1, 2] = 1\n",
    "    else: # empty solution\n",
    "        estimates_3nodes_test2_80[seed - 1] = solution\n",
    "        statistics_3nodes_test2_80[seed - 1, 0] = det_A\n",
    "        statistics_3nodes_test2_80[seed - 1, 1] = 0.0\n",
    "        statistics_3nodes_test2_80[seed - 1, 2] = 0"
   ]
  },
  {
   "cell_type": "code",
   "execution_count": 18,
   "metadata": {},
   "outputs": [
    {
     "data": {
      "text/plain": [
       "array([219, 480, 745])"
      ]
     },
     "execution_count": 18,
     "metadata": {},
     "output_type": "execute_result"
    }
   ],
   "source": [
    "index_no_solution_80 = np.where(statistics_3nodes_test2_80[:, 2] == 0)[0]\n",
    "index_no_solution_80"
   ]
  },
  {
   "cell_type": "code",
   "execution_count": 19,
   "metadata": {},
   "outputs": [
    {
     "data": {
      "text/plain": [
       "array([[-4.25501888e-16,  0.00000000e+00,  0.00000000e+00],\n",
       "       [ 4.86359419e-19,  0.00000000e+00,  0.00000000e+00],\n",
       "       [ 0.00000000e+00,  0.00000000e+00,  0.00000000e+00]])"
      ]
     },
     "execution_count": 19,
     "metadata": {},
     "output_type": "execute_result"
    }
   ],
   "source": [
    "statistics_3nodes_test2_80[index_no_solution_80, :]"
   ]
  },
  {
   "cell_type": "code",
   "execution_count": 20,
   "metadata": {},
   "outputs": [
    {
     "data": {
      "text/plain": [
       "array([  6,  49,  59,  60,  63,  69,  73,  84, 103, 121, 193, 223, 241,\n",
       "       244, 286, 315, 330, 333, 343, 345, 350, 356, 359, 377, 396, 401,\n",
       "       406, 423, 432, 437, 447, 478, 510, 518, 544, 553, 584, 599, 601,\n",
       "       615, 618, 619, 627, 637, 642, 652, 662, 667, 669, 712, 722, 727,\n",
       "       730, 737, 739, 745])"
      ]
     },
     "execution_count": 20,
     "metadata": {},
     "output_type": "execute_result"
    }
   ],
   "source": [
    "index_zero_det_80 = np.where(statistics_3nodes_test2_80[:, 0] == 0)[0]\n",
    "index_zero_det_80"
   ]
  },
  {
   "cell_type": "code",
   "execution_count": 21,
   "metadata": {},
   "outputs": [
    {
     "data": {
      "image/png": "[encoded data removed]",
      "text/latex": [
       "$\\displaystyle 56$"
      ],
      "text/plain": [
       "56"
      ]
     },
     "execution_count": 21,
     "metadata": {},
     "output_type": "execute_result"
    }
   ],
   "source": [
    "len(index_zero_det_80)"
   ]
  },
  {
   "cell_type": "markdown",
   "metadata": {},
   "source": [
    "### Probability of 70%\n",
    "$\\mathbb{P}(\\text{edge}) = 70\\%$, therefore on average there are $\\mathbb{E}(\\text{number of edges})=0.7*6=4.2$ edges plus the $3$ self-loops in the graph.\n",
    "\n",
    "***Results:*** $\\large{20}$ unsuccessful estimations and $\\large{75}$ estimations in spite of having $\\text{det}(A)=0$."
   ]
  },
  {
   "cell_type": "code",
   "execution_count": 22,
   "metadata": {},
   "outputs": [],
   "source": [
    "p = 3\n",
    "num_eq = num_sym(p=p) + p\n",
    "num_seed = 750\n",
    "d = 0.7 # Probability of edges in graph\n",
    "\n",
    "m11, m12, m13 = symbols('m11'), symbols('m12'), symbols('m13')\n",
    "m21, m22, m23 = symbols('m21'), symbols('m22'), symbols('m23')\n",
    "m31, m32, m33 = symbols('m31'), symbols('m32'), symbols('m33')\n",
    "M = Matrix([[m11, m12, m13], [m21, m22, m23], [m31, m32, m33]])\n",
    "\n",
    "C = 2 * eye(p) # volatility matrix\n",
    "\n",
    "vec_M = Matrix([[M[j, i]] for i in range(p) for j in range(p)]) # j faster than i\n",
    "vech_C = Matrix([[C[i, j]] for i in range(p) for j in range(i, p)])\n",
    "\n",
    "# Intervention\n",
    "index_intervention = 1\n",
    "b = 2\n",
    "unit_v = eye(p).col(index_intervention)\n",
    "\n",
    "estimates_3nodes_test2_70 = np.empty(shape=(num_seed), dtype=object)\n",
    "statistics_3nodes_test2_70 = np.empty(shape=(num_seed, 3), dtype=float)\n",
    "\n",
    "for seed in range(1, num_seed + 1):\n",
    "    np.random.seed(seed=seed)\n",
    "\n",
    "    bernoulli_matrix = np.random.binomial(1, d, (p, p))\n",
    "    normal_matrix = np.random.normal(0, 1, (p, p))\n",
    "\n",
    "    temp_M = bernoulli_matrix * normal_matrix\n",
    "    for i in range(p): # adjust diagonal entries s.t. M stable\n",
    "        row_sum = np.sum(np.abs(temp_M[i, :])) - np.abs(temp_M[i, i])\n",
    "        temp_M[i, i] = - row_sum - np.abs(normal_matrix[i,i])\n",
    "\n",
    "    concrete_M = Matrix(temp_M)\n",
    "\n",
    "    cov = solve_lyapunov_cov(M=concrete_M, C=C, p=p)\n",
    "    mean = b * concrete_M.inv() * unit_v\n",
    "\n",
    "    A_Sigma = create_A_Sigma(cov=cov, p=p)\n",
    "    A = create_A(A_Sigma=A_Sigma, mean=mean, p=p)\n",
    "\n",
    "    c = create_c(vech_C=vech_C, b=b, index=index_intervention, p=p)\n",
    "\n",
    "    det_A = det(A)\n",
    "    solution = solve(A * vec_M + c, vec_M)\n",
    "\n",
    "    if len(solution) == 9:\n",
    "        M_est = M.subs(solution)\n",
    "        M_est_np = matrix2numpy(M_est).astype(float)\n",
    "        M_true = matrix2numpy(concrete_M).astype(float)\n",
    "        frob = np.linalg.norm(M_est_np - M_true)\n",
    "\n",
    "        estimates_3nodes_test2_70[seed - 1] = M_est_np.round(3)\n",
    "        statistics_3nodes_test2_70[seed - 1, 0] = det_A\n",
    "        statistics_3nodes_test2_70[seed - 1, 1] = frob\n",
    "        statistics_3nodes_test2_70[seed - 1, 2] = 1\n",
    "    else: # empty solution\n",
    "        estimates_3nodes_test2_70[seed - 1] = solution\n",
    "        statistics_3nodes_test2_70[seed - 1, 0] = det_A\n",
    "        statistics_3nodes_test2_70[seed - 1, 1] = 0.0\n",
    "        statistics_3nodes_test2_70[seed - 1, 2] = 0"
   ]
  },
  {
   "cell_type": "code",
   "execution_count": 23,
   "metadata": {},
   "outputs": [
    {
     "data": {
      "text/plain": [
       "array([ 26,  30,  49,  70, 196, 219, 222, 235, 239, 286, 447, 449, 453,\n",
       "       467, 642, 648, 654, 657, 739, 745])"
      ]
     },
     "execution_count": 23,
     "metadata": {},
     "output_type": "execute_result"
    }
   ],
   "source": [
    "index_no_solution_70 = np.where(statistics_3nodes_test2_70[:, 2] == 0)[0]\n",
    "index_no_solution_70"
   ]
  },
  {
   "cell_type": "code",
   "execution_count": 24,
   "metadata": {},
   "outputs": [
    {
     "data": {
      "text/plain": [
       "array([[ 0.00000000e+00,  0.00000000e+00,  0.00000000e+00],\n",
       "       [ 0.00000000e+00,  0.00000000e+00,  0.00000000e+00],\n",
       "       [ 7.20428620e-18,  0.00000000e+00,  0.00000000e+00],\n",
       "       [ 0.00000000e+00,  0.00000000e+00,  0.00000000e+00],\n",
       "       [ 0.00000000e+00,  0.00000000e+00,  0.00000000e+00],\n",
       "       [-4.25501888e-16,  0.00000000e+00,  0.00000000e+00],\n",
       "       [ 0.00000000e+00,  0.00000000e+00,  0.00000000e+00],\n",
       "       [ 0.00000000e+00,  0.00000000e+00,  0.00000000e+00],\n",
       "       [ 0.00000000e+00,  0.00000000e+00,  0.00000000e+00],\n",
       "       [ 0.00000000e+00,  0.00000000e+00,  0.00000000e+00],\n",
       "       [ 0.00000000e+00,  0.00000000e+00,  0.00000000e+00],\n",
       "       [ 0.00000000e+00,  0.00000000e+00,  0.00000000e+00],\n",
       "       [ 0.00000000e+00,  0.00000000e+00,  0.00000000e+00],\n",
       "       [ 0.00000000e+00,  0.00000000e+00,  0.00000000e+00],\n",
       "       [ 0.00000000e+00,  0.00000000e+00,  0.00000000e+00],\n",
       "       [ 0.00000000e+00,  0.00000000e+00,  0.00000000e+00],\n",
       "       [ 0.00000000e+00,  0.00000000e+00,  0.00000000e+00],\n",
       "       [ 0.00000000e+00,  0.00000000e+00,  0.00000000e+00],\n",
       "       [ 0.00000000e+00,  0.00000000e+00,  0.00000000e+00],\n",
       "       [ 0.00000000e+00,  0.00000000e+00,  0.00000000e+00]])"
      ]
     },
     "execution_count": 24,
     "metadata": {},
     "output_type": "execute_result"
    }
   ],
   "source": [
    "statistics_3nodes_test2_70[index_no_solution_70, :]"
   ]
  },
  {
   "cell_type": "code",
   "execution_count": 25,
   "metadata": {},
   "outputs": [
    {
     "data": {
      "text/plain": [
       "array([ 13,  17,  26,  28,  30,  59,  60,  63,  69,  70,  71,  84, 116,\n",
       "       150, 162, 163, 196, 203, 217, 218, 222, 235, 239, 241, 244, 257,\n",
       "       260, 286, 289, 320, 345, 350, 356, 359, 377, 395, 396, 401, 406,\n",
       "       410, 431, 432, 437, 447, 449, 453, 467, 478, 518, 531, 533, 553,\n",
       "       579, 584, 599, 601, 615, 618, 619, 627, 642, 648, 652, 654, 657,\n",
       "       662, 669, 675, 692, 727, 730, 734, 737, 739, 745])"
      ]
     },
     "execution_count": 25,
     "metadata": {},
     "output_type": "execute_result"
    }
   ],
   "source": [
    "index_zero_det_70 = np.where(statistics_3nodes_test2_70[:, 0] == 0)[0]\n",
    "index_zero_det_70"
   ]
  },
  {
   "cell_type": "code",
   "execution_count": 26,
   "metadata": {},
   "outputs": [
    {
     "data": {
      "image/png": "[encoded data removed]",
      "text/latex": [
       "$\\displaystyle 75$"
      ],
      "text/plain": [
       "75"
      ]
     },
     "execution_count": 26,
     "metadata": {},
     "output_type": "execute_result"
    }
   ],
   "source": [
    "len(index_zero_det_70)"
   ]
  },
  {
   "cell_type": "markdown",
   "metadata": {},
   "source": [
    "### Probability 60%\n",
    "$\\mathbb{P}(\\text{edge}) = 60\\%$, therefore on average there are $\\mathbb{E}(\\text{number of edges})=0.6*6=3.6$ edges plus the $3$ self-loops in the graph.\n",
    "\n",
    "***Results:*** $\\large{55}$ unsuccessful estimations and $\\large{103}$ estimations in spite of having $\\text{det}(A)=0$."
   ]
  },
  {
   "cell_type": "code",
   "execution_count": 27,
   "metadata": {},
   "outputs": [],
   "source": [
    "p = 3\n",
    "num_eq = num_sym(p=p) + p\n",
    "num_seed = 750\n",
    "d = 0.6 # Probability of edges in graph\n",
    "\n",
    "m11, m12, m13 = symbols('m11'), symbols('m12'), symbols('m13')\n",
    "m21, m22, m23 = symbols('m21'), symbols('m22'), symbols('m23')\n",
    "m31, m32, m33 = symbols('m31'), symbols('m32'), symbols('m33')\n",
    "M = Matrix([[m11, m12, m13], [m21, m22, m23], [m31, m32, m33]])\n",
    "\n",
    "C = 2 * eye(p) # volatility matrix\n",
    "\n",
    "vec_M = Matrix([[M[j, i]] for i in range(p) for j in range(p)]) # j faster than i\n",
    "vech_C = Matrix([[C[i, j]] for i in range(p) for j in range(i, p)])\n",
    "\n",
    "# Intervention\n",
    "index_intervention = 1\n",
    "b = 2\n",
    "unit_v = eye(p).col(index_intervention)\n",
    "\n",
    "estimates_3nodes_test2_60 = np.empty(shape=(num_seed), dtype=object)\n",
    "statistics_3nodes_test2_60 = np.empty(shape=(num_seed, 3), dtype=float)\n",
    "\n",
    "for seed in range(1, num_seed + 1):\n",
    "    np.random.seed(seed=seed)\n",
    "\n",
    "    bernoulli_matrix = np.random.binomial(1, d, (p, p))\n",
    "    normal_matrix = np.random.normal(0, 1, (p, p))\n",
    "\n",
    "    temp_M = bernoulli_matrix * normal_matrix\n",
    "    for i in range(p): # adjust diagonal entries s.t. M stable\n",
    "        row_sum = np.sum(np.abs(temp_M[i, :])) - np.abs(temp_M[i, i])\n",
    "        temp_M[i, i] = - row_sum - np.abs(normal_matrix[i,i])\n",
    "\n",
    "    concrete_M = Matrix(temp_M)\n",
    "\n",
    "    cov = solve_lyapunov_cov(M=concrete_M, C=C, p=p)\n",
    "    mean = b * concrete_M.inv() * unit_v\n",
    "\n",
    "    A_Sigma = create_A_Sigma(cov=cov, p=p)\n",
    "    A = create_A(A_Sigma=A_Sigma, mean=mean, p=p)\n",
    "\n",
    "    c = create_c(vech_C=vech_C, b=b, index=index_intervention, p=p)\n",
    "\n",
    "    det_A = det(A)\n",
    "    solution = solve(A * vec_M + c, vec_M)\n",
    "\n",
    "    if len(solution) == 9:\n",
    "        M_est = M.subs(solution)\n",
    "        M_est_np = matrix2numpy(M_est).astype(float)\n",
    "        M_true = matrix2numpy(concrete_M).astype(float)\n",
    "        frob = np.linalg.norm(M_est_np - M_true)\n",
    "\n",
    "        estimates_3nodes_test2_60[seed - 1] = M_est_np.round(3)\n",
    "        statistics_3nodes_test2_60[seed - 1, 0] = det_A\n",
    "        statistics_3nodes_test2_60[seed - 1, 1] = frob\n",
    "        statistics_3nodes_test2_60[seed - 1, 2] = 1\n",
    "    else: # empty solution\n",
    "        estimates_3nodes_test2_60[seed - 1] = solution\n",
    "        statistics_3nodes_test2_60[seed - 1, 0] = det_A\n",
    "        statistics_3nodes_test2_60[seed - 1, 1] = 0.0\n",
    "        statistics_3nodes_test2_60[seed - 1, 2] = 0"
   ]
  },
  {
   "cell_type": "code",
   "execution_count": 28,
   "metadata": {},
   "outputs": [
    {
     "data": {
      "text/plain": [
       "array([ 17,  26,  30,  49,  70,  73,  77,  81,  92, 105, 109, 114, 119,\n",
       "       121, 133, 153, 161, 189, 196, 216, 221, 222, 226, 233, 235, 239,\n",
       "       266, 286, 294, 324, 329, 330, 409, 447, 448, 449, 453, 455, 461,\n",
       "       467, 479, 486, 528, 595, 642, 648, 653, 654, 657, 697, 719, 728,\n",
       "       732, 739, 745])"
      ]
     },
     "execution_count": 28,
     "metadata": {},
     "output_type": "execute_result"
    }
   ],
   "source": [
    "index_no_solution_60 = np.where(statistics_3nodes_test2_60[:, 2] == 0)[0]\n",
    "index_no_solution_60"
   ]
  },
  {
   "cell_type": "code",
   "execution_count": 29,
   "metadata": {},
   "outputs": [
    {
     "data": {
      "text/plain": [
       "array([[ 0.00000000e+00,  0.00000000e+00,  0.00000000e+00],\n",
       "       [ 0.00000000e+00,  0.00000000e+00,  0.00000000e+00],\n",
       "       [ 0.00000000e+00,  0.00000000e+00,  0.00000000e+00],\n",
       "       [ 7.20428620e-18,  0.00000000e+00,  0.00000000e+00],\n",
       "       [ 0.00000000e+00,  0.00000000e+00,  0.00000000e+00],\n",
       "       [ 0.00000000e+00,  0.00000000e+00,  0.00000000e+00],\n",
       "       [ 0.00000000e+00,  0.00000000e+00,  0.00000000e+00],\n",
       "       [ 0.00000000e+00,  0.00000000e+00,  0.00000000e+00],\n",
       "       [ 0.00000000e+00,  0.00000000e+00,  0.00000000e+00],\n",
       "       [ 0.00000000e+00,  0.00000000e+00,  0.00000000e+00],\n",
       "       [ 0.00000000e+00,  0.00000000e+00,  0.00000000e+00],\n",
       "       [ 9.13631195e-17,  0.00000000e+00,  0.00000000e+00],\n",
       "       [ 0.00000000e+00,  0.00000000e+00,  0.00000000e+00],\n",
       "       [-1.89541680e-14,  0.00000000e+00,  0.00000000e+00],\n",
       "       [ 0.00000000e+00,  0.00000000e+00,  0.00000000e+00],\n",
       "       [ 0.00000000e+00,  0.00000000e+00,  0.00000000e+00],\n",
       "       [ 0.00000000e+00,  0.00000000e+00,  0.00000000e+00],\n",
       "       [ 0.00000000e+00,  0.00000000e+00,  0.00000000e+00],\n",
       "       [ 0.00000000e+00,  0.00000000e+00,  0.00000000e+00],\n",
       "       [ 0.00000000e+00,  0.00000000e+00,  0.00000000e+00],\n",
       "       [ 0.00000000e+00,  0.00000000e+00,  0.00000000e+00],\n",
       "       [ 0.00000000e+00,  0.00000000e+00,  0.00000000e+00],\n",
       "       [ 0.00000000e+00,  0.00000000e+00,  0.00000000e+00],\n",
       "       [ 0.00000000e+00,  0.00000000e+00,  0.00000000e+00],\n",
       "       [ 0.00000000e+00,  0.00000000e+00,  0.00000000e+00],\n",
       "       [ 0.00000000e+00,  0.00000000e+00,  0.00000000e+00],\n",
       "       [ 0.00000000e+00,  0.00000000e+00,  0.00000000e+00],\n",
       "       [ 0.00000000e+00,  0.00000000e+00,  0.00000000e+00],\n",
       "       [ 0.00000000e+00,  0.00000000e+00,  0.00000000e+00],\n",
       "       [ 0.00000000e+00,  0.00000000e+00,  0.00000000e+00],\n",
       "       [ 0.00000000e+00,  0.00000000e+00,  0.00000000e+00],\n",
       "       [ 0.00000000e+00,  0.00000000e+00,  0.00000000e+00],\n",
       "       [ 0.00000000e+00,  0.00000000e+00,  0.00000000e+00],\n",
       "       [ 0.00000000e+00,  0.00000000e+00,  0.00000000e+00],\n",
       "       [ 0.00000000e+00,  0.00000000e+00,  0.00000000e+00],\n",
       "       [ 0.00000000e+00,  0.00000000e+00,  0.00000000e+00],\n",
       "       [ 0.00000000e+00,  0.00000000e+00,  0.00000000e+00],\n",
       "       [ 0.00000000e+00,  0.00000000e+00,  0.00000000e+00],\n",
       "       [ 0.00000000e+00,  0.00000000e+00,  0.00000000e+00],\n",
       "       [ 0.00000000e+00,  0.00000000e+00,  0.00000000e+00],\n",
       "       [ 0.00000000e+00,  0.00000000e+00,  0.00000000e+00],\n",
       "       [ 0.00000000e+00,  0.00000000e+00,  0.00000000e+00],\n",
       "       [ 0.00000000e+00,  0.00000000e+00,  0.00000000e+00],\n",
       "       [ 0.00000000e+00,  0.00000000e+00,  0.00000000e+00],\n",
       "       [ 0.00000000e+00,  0.00000000e+00,  0.00000000e+00],\n",
       "       [ 0.00000000e+00,  0.00000000e+00,  0.00000000e+00],\n",
       "       [ 0.00000000e+00,  0.00000000e+00,  0.00000000e+00],\n",
       "       [ 0.00000000e+00,  0.00000000e+00,  0.00000000e+00],\n",
       "       [ 0.00000000e+00,  0.00000000e+00,  0.00000000e+00],\n",
       "       [ 0.00000000e+00,  0.00000000e+00,  0.00000000e+00],\n",
       "       [ 0.00000000e+00,  0.00000000e+00,  0.00000000e+00],\n",
       "       [ 0.00000000e+00,  0.00000000e+00,  0.00000000e+00],\n",
       "       [ 0.00000000e+00,  0.00000000e+00,  0.00000000e+00],\n",
       "       [ 0.00000000e+00,  0.00000000e+00,  0.00000000e+00],\n",
       "       [ 0.00000000e+00,  0.00000000e+00,  0.00000000e+00]])"
      ]
     },
     "execution_count": 29,
     "metadata": {},
     "output_type": "execute_result"
    }
   ],
   "source": [
    "statistics_3nodes_test2_60[index_no_solution_60, :]"
   ]
  },
  {
   "cell_type": "code",
   "execution_count": 30,
   "metadata": {},
   "outputs": [
    {
     "data": {
      "text/plain": [
       "array([ 13,  17,  26,  28,  30,  63,  69,  70,  73,  77,  81,  92,  99,\n",
       "       105, 109, 116, 119, 133, 141, 150, 153, 161, 162, 163, 185, 189,\n",
       "       196, 202, 204, 214, 216, 218, 221, 222, 226, 233, 235, 239, 241,\n",
       "       243, 244, 253, 266, 273, 286, 289, 290, 294, 320, 324, 329, 330,\n",
       "       350, 372, 377, 401, 405, 406, 409, 431, 447, 448, 449, 453, 455,\n",
       "       461, 467, 468, 478, 479, 486, 528, 533, 538, 563, 567, 571, 595,\n",
       "       599, 607, 615, 619, 627, 642, 643, 648, 652, 653, 654, 657, 668,\n",
       "       669, 692, 696, 697, 719, 727, 728, 730, 732, 737, 739, 745])"
      ]
     },
     "execution_count": 30,
     "metadata": {},
     "output_type": "execute_result"
    }
   ],
   "source": [
    "index_zero_det_60 = np.where(statistics_3nodes_test2_60[:, 0] == 0)[0]\n",
    "index_zero_det_60"
   ]
  },
  {
   "cell_type": "code",
   "execution_count": 31,
   "metadata": {},
   "outputs": [
    {
     "data": {
      "image/png": "[encoded data removed]",
      "text/latex": [
       "$\\displaystyle 103$"
      ],
      "text/plain": [
       "103"
      ]
     },
     "execution_count": 31,
     "metadata": {},
     "output_type": "execute_result"
    }
   ],
   "source": [
    "len(index_zero_det_60)"
   ]
  },
  {
   "cell_type": "markdown",
   "metadata": {},
   "source": [
    "### Probability 50%\n",
    "$\\mathbb{P}(\\text{edge}) = 50\\%$, therefore on average there are $\\mathbb{E}(\\text{number of edges})=0.5*6=3$ edges plus the $3$ self-loops in the graph.\n",
    "\n",
    "***Results:*** $\\large{129}$ unsuccessful estimations and $\\large{185}$ estimations in spite of having $\\text{det}(A)=0$."
   ]
  },
  {
   "cell_type": "code",
   "execution_count": 32,
   "metadata": {},
   "outputs": [],
   "source": [
    "p = 3\n",
    "num_eq = num_sym(p=p) + p\n",
    "num_seed = 750\n",
    "d = 0.5 # Probability of edges in graph\n",
    "\n",
    "m11, m12, m13 = symbols('m11'), symbols('m12'), symbols('m13')\n",
    "m21, m22, m23 = symbols('m21'), symbols('m22'), symbols('m23')\n",
    "m31, m32, m33 = symbols('m31'), symbols('m32'), symbols('m33')\n",
    "M = Matrix([[m11, m12, m13], [m21, m22, m23], [m31, m32, m33]])\n",
    "\n",
    "C = 2 * eye(p) # volatility matrix\n",
    "\n",
    "vec_M = Matrix([[M[j, i]] for i in range(p) for j in range(p)]) # j faster than i\n",
    "vech_C = Matrix([[C[i, j]] for i in range(p) for j in range(i, p)])\n",
    "\n",
    "# Intervention\n",
    "index_intervention = 1\n",
    "b = 2\n",
    "unit_v = eye(p).col(index_intervention)\n",
    "\n",
    "estimates_3nodes_test2_50 = np.empty(shape=(num_seed), dtype=object)\n",
    "statistics_3nodes_test2_50 = np.empty(shape=(num_seed, 3), dtype=float)\n",
    "\n",
    "for seed in range(1, num_seed + 1):\n",
    "    np.random.seed(seed=seed)\n",
    "\n",
    "    bernoulli_matrix = np.random.binomial(1, d, (p, p))\n",
    "    normal_matrix = np.random.normal(0, 1, (p, p))\n",
    "\n",
    "    temp_M = bernoulli_matrix * normal_matrix\n",
    "    for i in range(p): # adjust diagonal entries s.t. M stable\n",
    "        row_sum = np.sum(np.abs(temp_M[i, :])) - np.abs(temp_M[i, i])\n",
    "        temp_M[i, i] = - row_sum - np.abs(normal_matrix[i,i])\n",
    "\n",
    "    concrete_M = Matrix(temp_M)\n",
    "\n",
    "    cov = solve_lyapunov_cov(M=concrete_M, C=C, p=p)\n",
    "    mean = b * concrete_M.inv() * unit_v\n",
    "\n",
    "    A_Sigma = create_A_Sigma(cov=cov, p=p)\n",
    "    A = create_A(A_Sigma=A_Sigma, mean=mean, p=p)\n",
    "\n",
    "    c = create_c(vech_C=vech_C, b=b, index=index_intervention, p=p)\n",
    "\n",
    "    det_A = det(A)\n",
    "    solution = solve(A * vec_M + c, vec_M)\n",
    "\n",
    "    if len(solution) == 9:\n",
    "        M_est = M.subs(solution)\n",
    "        M_est_np = matrix2numpy(M_est).astype(float)\n",
    "        M_true = matrix2numpy(concrete_M).astype(float)\n",
    "        frob = np.linalg.norm(M_est_np - M_true)\n",
    "\n",
    "        estimates_3nodes_test2_50[seed - 1] = M_est_np.round(3)\n",
    "        statistics_3nodes_test2_50[seed - 1, 0] = det_A\n",
    "        statistics_3nodes_test2_50[seed - 1, 1] = frob\n",
    "        statistics_3nodes_test2_50[seed - 1, 2] = 1\n",
    "    else: # empty solution\n",
    "        estimates_3nodes_test2_50[seed - 1] = solution\n",
    "        statistics_3nodes_test2_50[seed - 1, 0] = det_A\n",
    "        statistics_3nodes_test2_50[seed - 1, 1] = 0.0\n",
    "        statistics_3nodes_test2_50[seed - 1, 2] = 0"
   ]
  },
  {
   "cell_type": "code",
   "execution_count": 33,
   "metadata": {},
   "outputs": [
    {
     "data": {
      "text/plain": [
       "array([  0,   8,  10,  14,  29,  32,  34,  44,  49,  57,  59,  61,  67,\n",
       "        68,  83,  88,  97, 104, 110, 118, 125, 130, 132, 135, 137, 139,\n",
       "       142, 147, 151, 154, 158, 159, 179, 180, 190, 191, 206, 207, 211,\n",
       "       213, 218, 223, 254, 255, 263, 269, 279, 280, 281, 285, 288, 306,\n",
       "       311, 314, 317, 321, 328, 332, 336, 341, 345, 361, 368, 377, 390,\n",
       "       394, 397, 399, 404, 406, 408, 415, 419, 432, 444, 446, 454, 468,\n",
       "       471, 475, 480, 504, 505, 511, 512, 516, 519, 532, 534, 535, 536,\n",
       "       543, 549, 559, 564, 571, 578, 583, 585, 590, 591, 593, 606, 621,\n",
       "       623, 624, 626, 633, 641, 647, 649, 656, 662, 664, 669, 672, 679,\n",
       "       686, 703, 710, 713, 723, 727, 730, 733, 744, 746, 747, 748])"
      ]
     },
     "execution_count": 33,
     "metadata": {},
     "output_type": "execute_result"
    }
   ],
   "source": [
    "index_no_solution_50 = np.where(statistics_3nodes_test2_50[:, 2] == 0)[0]\n",
    "index_no_solution_50"
   ]
  },
  {
   "cell_type": "code",
   "execution_count": 34,
   "metadata": {},
   "outputs": [
    {
     "data": {
      "text/plain": [
       "array([[ 0.00000000e+00,  0.00000000e+00,  0.00000000e+00],\n",
       "       [ 0.00000000e+00,  0.00000000e+00,  0.00000000e+00],\n",
       "       [ 0.00000000e+00,  0.00000000e+00,  0.00000000e+00],\n",
       "       [ 0.00000000e+00,  0.00000000e+00,  0.00000000e+00],\n",
       "       [ 0.00000000e+00,  0.00000000e+00,  0.00000000e+00],\n",
       "       [ 0.00000000e+00,  0.00000000e+00,  0.00000000e+00],\n",
       "       [ 0.00000000e+00,  0.00000000e+00,  0.00000000e+00],\n",
       "       [ 0.00000000e+00,  0.00000000e+00,  0.00000000e+00],\n",
       "       [ 0.00000000e+00,  0.00000000e+00,  0.00000000e+00],\n",
       "       [ 0.00000000e+00,  0.00000000e+00,  0.00000000e+00],\n",
       "       [ 0.00000000e+00,  0.00000000e+00,  0.00000000e+00],\n",
       "       [ 0.00000000e+00,  0.00000000e+00,  0.00000000e+00],\n",
       "       [ 0.00000000e+00,  0.00000000e+00,  0.00000000e+00],\n",
       "       [ 0.00000000e+00,  0.00000000e+00,  0.00000000e+00],\n",
       "       [ 0.00000000e+00,  0.00000000e+00,  0.00000000e+00],\n",
       "       [ 0.00000000e+00,  0.00000000e+00,  0.00000000e+00],\n",
       "       [ 0.00000000e+00,  0.00000000e+00,  0.00000000e+00],\n",
       "       [ 0.00000000e+00,  0.00000000e+00,  0.00000000e+00],\n",
       "       [ 0.00000000e+00,  0.00000000e+00,  0.00000000e+00],\n",
       "       [ 0.00000000e+00,  0.00000000e+00,  0.00000000e+00],\n",
       "       [ 0.00000000e+00,  0.00000000e+00,  0.00000000e+00],\n",
       "       [ 0.00000000e+00,  0.00000000e+00,  0.00000000e+00],\n",
       "       [ 0.00000000e+00,  0.00000000e+00,  0.00000000e+00],\n",
       "       [ 0.00000000e+00,  0.00000000e+00,  0.00000000e+00],\n",
       "       [ 0.00000000e+00,  0.00000000e+00,  0.00000000e+00],\n",
       "       [ 0.00000000e+00,  0.00000000e+00,  0.00000000e+00],\n",
       "       [ 0.00000000e+00,  0.00000000e+00,  0.00000000e+00],\n",
       "       [ 0.00000000e+00,  0.00000000e+00,  0.00000000e+00],\n",
       "       [ 0.00000000e+00,  0.00000000e+00,  0.00000000e+00],\n",
       "       [ 0.00000000e+00,  0.00000000e+00,  0.00000000e+00],\n",
       "       [ 0.00000000e+00,  0.00000000e+00,  0.00000000e+00],\n",
       "       [ 0.00000000e+00,  0.00000000e+00,  0.00000000e+00],\n",
       "       [ 0.00000000e+00,  0.00000000e+00,  0.00000000e+00],\n",
       "       [ 0.00000000e+00,  0.00000000e+00,  0.00000000e+00],\n",
       "       [ 0.00000000e+00,  0.00000000e+00,  0.00000000e+00],\n",
       "       [ 0.00000000e+00,  0.00000000e+00,  0.00000000e+00],\n",
       "       [ 0.00000000e+00,  0.00000000e+00,  0.00000000e+00],\n",
       "       [ 0.00000000e+00,  0.00000000e+00,  0.00000000e+00],\n",
       "       [ 0.00000000e+00,  0.00000000e+00,  0.00000000e+00],\n",
       "       [ 0.00000000e+00,  0.00000000e+00,  0.00000000e+00],\n",
       "       [ 0.00000000e+00,  0.00000000e+00,  0.00000000e+00],\n",
       "       [ 0.00000000e+00,  0.00000000e+00,  0.00000000e+00],\n",
       "       [ 0.00000000e+00,  0.00000000e+00,  0.00000000e+00],\n",
       "       [ 0.00000000e+00,  0.00000000e+00,  0.00000000e+00],\n",
       "       [ 0.00000000e+00,  0.00000000e+00,  0.00000000e+00],\n",
       "       [ 0.00000000e+00,  0.00000000e+00,  0.00000000e+00],\n",
       "       [ 0.00000000e+00,  0.00000000e+00,  0.00000000e+00],\n",
       "       [ 0.00000000e+00,  0.00000000e+00,  0.00000000e+00],\n",
       "       [ 0.00000000e+00,  0.00000000e+00,  0.00000000e+00],\n",
       "       [ 0.00000000e+00,  0.00000000e+00,  0.00000000e+00],\n",
       "       [ 0.00000000e+00,  0.00000000e+00,  0.00000000e+00],\n",
       "       [ 0.00000000e+00,  0.00000000e+00,  0.00000000e+00],\n",
       "       [ 0.00000000e+00,  0.00000000e+00,  0.00000000e+00],\n",
       "       [ 0.00000000e+00,  0.00000000e+00,  0.00000000e+00],\n",
       "       [ 0.00000000e+00,  0.00000000e+00,  0.00000000e+00],\n",
       "       [ 0.00000000e+00,  0.00000000e+00,  0.00000000e+00],\n",
       "       [ 0.00000000e+00,  0.00000000e+00,  0.00000000e+00],\n",
       "       [ 0.00000000e+00,  0.00000000e+00,  0.00000000e+00],\n",
       "       [ 0.00000000e+00,  0.00000000e+00,  0.00000000e+00],\n",
       "       [ 0.00000000e+00,  0.00000000e+00,  0.00000000e+00],\n",
       "       [ 0.00000000e+00,  0.00000000e+00,  0.00000000e+00],\n",
       "       [ 0.00000000e+00,  0.00000000e+00,  0.00000000e+00],\n",
       "       [ 0.00000000e+00,  0.00000000e+00,  0.00000000e+00],\n",
       "       [ 0.00000000e+00,  0.00000000e+00,  0.00000000e+00],\n",
       "       [ 0.00000000e+00,  0.00000000e+00,  0.00000000e+00],\n",
       "       [ 0.00000000e+00,  0.00000000e+00,  0.00000000e+00],\n",
       "       [ 0.00000000e+00,  0.00000000e+00,  0.00000000e+00],\n",
       "       [ 0.00000000e+00,  0.00000000e+00,  0.00000000e+00],\n",
       "       [ 0.00000000e+00,  0.00000000e+00,  0.00000000e+00],\n",
       "       [ 0.00000000e+00,  0.00000000e+00,  0.00000000e+00],\n",
       "       [ 0.00000000e+00,  0.00000000e+00,  0.00000000e+00],\n",
       "       [ 0.00000000e+00,  0.00000000e+00,  0.00000000e+00],\n",
       "       [ 0.00000000e+00,  0.00000000e+00,  0.00000000e+00],\n",
       "       [ 0.00000000e+00,  0.00000000e+00,  0.00000000e+00],\n",
       "       [ 0.00000000e+00,  0.00000000e+00,  0.00000000e+00],\n",
       "       [ 0.00000000e+00,  0.00000000e+00,  0.00000000e+00],\n",
       "       [ 0.00000000e+00,  0.00000000e+00,  0.00000000e+00],\n",
       "       [ 0.00000000e+00,  0.00000000e+00,  0.00000000e+00],\n",
       "       [ 0.00000000e+00,  0.00000000e+00,  0.00000000e+00],\n",
       "       [ 0.00000000e+00,  0.00000000e+00,  0.00000000e+00],\n",
       "       [ 1.17961177e-18,  0.00000000e+00,  0.00000000e+00],\n",
       "       [ 0.00000000e+00,  0.00000000e+00,  0.00000000e+00],\n",
       "       [ 0.00000000e+00,  0.00000000e+00,  0.00000000e+00],\n",
       "       [ 0.00000000e+00,  0.00000000e+00,  0.00000000e+00],\n",
       "       [ 0.00000000e+00,  0.00000000e+00,  0.00000000e+00],\n",
       "       [ 0.00000000e+00,  0.00000000e+00,  0.00000000e+00],\n",
       "       [ 0.00000000e+00,  0.00000000e+00,  0.00000000e+00],\n",
       "       [ 0.00000000e+00,  0.00000000e+00,  0.00000000e+00],\n",
       "       [ 0.00000000e+00,  0.00000000e+00,  0.00000000e+00],\n",
       "       [ 0.00000000e+00,  0.00000000e+00,  0.00000000e+00],\n",
       "       [ 0.00000000e+00,  0.00000000e+00,  0.00000000e+00],\n",
       "       [ 0.00000000e+00,  0.00000000e+00,  0.00000000e+00],\n",
       "       [ 0.00000000e+00,  0.00000000e+00,  0.00000000e+00],\n",
       "       [ 0.00000000e+00,  0.00000000e+00,  0.00000000e+00],\n",
       "       [ 0.00000000e+00,  0.00000000e+00,  0.00000000e+00],\n",
       "       [ 0.00000000e+00,  0.00000000e+00,  0.00000000e+00],\n",
       "       [ 1.85591913e-16,  0.00000000e+00,  0.00000000e+00],\n",
       "       [ 0.00000000e+00,  0.00000000e+00,  0.00000000e+00],\n",
       "       [ 0.00000000e+00,  0.00000000e+00,  0.00000000e+00],\n",
       "       [ 0.00000000e+00,  0.00000000e+00,  0.00000000e+00],\n",
       "       [ 0.00000000e+00,  0.00000000e+00,  0.00000000e+00],\n",
       "       [ 0.00000000e+00,  0.00000000e+00,  0.00000000e+00],\n",
       "       [ 0.00000000e+00,  0.00000000e+00,  0.00000000e+00],\n",
       "       [ 0.00000000e+00,  0.00000000e+00,  0.00000000e+00],\n",
       "       [ 0.00000000e+00,  0.00000000e+00,  0.00000000e+00],\n",
       "       [ 0.00000000e+00,  0.00000000e+00,  0.00000000e+00],\n",
       "       [ 0.00000000e+00,  0.00000000e+00,  0.00000000e+00],\n",
       "       [ 0.00000000e+00,  0.00000000e+00,  0.00000000e+00],\n",
       "       [ 0.00000000e+00,  0.00000000e+00,  0.00000000e+00],\n",
       "       [ 0.00000000e+00,  0.00000000e+00,  0.00000000e+00],\n",
       "       [-4.80260752e-20,  0.00000000e+00,  0.00000000e+00],\n",
       "       [ 0.00000000e+00,  0.00000000e+00,  0.00000000e+00],\n",
       "       [ 0.00000000e+00,  0.00000000e+00,  0.00000000e+00],\n",
       "       [ 0.00000000e+00,  0.00000000e+00,  0.00000000e+00],\n",
       "       [ 0.00000000e+00,  0.00000000e+00,  0.00000000e+00],\n",
       "       [ 0.00000000e+00,  0.00000000e+00,  0.00000000e+00],\n",
       "       [ 0.00000000e+00,  0.00000000e+00,  0.00000000e+00],\n",
       "       [ 0.00000000e+00,  0.00000000e+00,  0.00000000e+00],\n",
       "       [ 0.00000000e+00,  0.00000000e+00,  0.00000000e+00],\n",
       "       [ 0.00000000e+00,  0.00000000e+00,  0.00000000e+00],\n",
       "       [ 0.00000000e+00,  0.00000000e+00,  0.00000000e+00],\n",
       "       [ 0.00000000e+00,  0.00000000e+00,  0.00000000e+00],\n",
       "       [ 0.00000000e+00,  0.00000000e+00,  0.00000000e+00],\n",
       "       [ 0.00000000e+00,  0.00000000e+00,  0.00000000e+00],\n",
       "       [ 0.00000000e+00,  0.00000000e+00,  0.00000000e+00],\n",
       "       [ 0.00000000e+00,  0.00000000e+00,  0.00000000e+00],\n",
       "       [ 0.00000000e+00,  0.00000000e+00,  0.00000000e+00],\n",
       "       [ 0.00000000e+00,  0.00000000e+00,  0.00000000e+00],\n",
       "       [ 0.00000000e+00,  0.00000000e+00,  0.00000000e+00]])"
      ]
     },
     "execution_count": 34,
     "metadata": {},
     "output_type": "execute_result"
    }
   ],
   "source": [
    "statistics_3nodes_test2_50[index_no_solution_50, :]"
   ]
  },
  {
   "cell_type": "code",
   "execution_count": 35,
   "metadata": {},
   "outputs": [
    {
     "data": {
      "text/plain": [
       "array([  0,   6,   8,  10,  14,  16,  17,  29,  31,  32,  34,  44,  45,\n",
       "        49,  54,  57,  58,  59,  61,  63,  64,  67,  68,  83,  88,  96,\n",
       "        97, 104, 110, 118, 125, 129, 130, 132, 135, 137, 138, 139, 142,\n",
       "       143, 147, 151, 154, 158, 159, 177, 179, 180, 188, 190, 191, 202,\n",
       "       206, 207, 208, 209, 211, 213, 218, 223, 224, 227, 254, 255, 256,\n",
       "       257, 260, 263, 269, 279, 280, 281, 284, 285, 286, 288, 306, 311,\n",
       "       314, 317, 320, 321, 328, 332, 336, 341, 342, 345, 361, 366, 368,\n",
       "       377, 390, 394, 397, 399, 402, 404, 406, 408, 413, 415, 419, 432,\n",
       "       444, 446, 449, 454, 465, 468, 471, 475, 483, 488, 503, 504, 505,\n",
       "       509, 511, 512, 516, 519, 532, 534, 535, 536, 538, 539, 543, 545,\n",
       "       549, 554, 557, 559, 563, 564, 570, 571, 582, 583, 585, 588, 590,\n",
       "       591, 593, 601, 606, 612, 616, 620, 621, 623, 624, 626, 633, 639,\n",
       "       641, 646, 647, 656, 662, 664, 669, 670, 672, 678, 679, 684, 685,\n",
       "       686, 688, 702, 703, 705, 710, 713, 723, 727, 730, 733, 738, 744,\n",
       "       746, 747, 748])"
      ]
     },
     "execution_count": 35,
     "metadata": {},
     "output_type": "execute_result"
    }
   ],
   "source": [
    "index_zero_det_50 = np.where(statistics_3nodes_test2_50[:, 0] == 0)[0]\n",
    "index_zero_det_50"
   ]
  },
  {
   "cell_type": "code",
   "execution_count": 36,
   "metadata": {},
   "outputs": [
    {
     "data": {
      "image/png": "[encoded data removed]",
      "text/latex": [
       "$\\displaystyle 185$"
      ],
      "text/plain": [
       "185"
      ]
     },
     "execution_count": 36,
     "metadata": {},
     "output_type": "execute_result"
    }
   ],
   "source": [
    "len(index_zero_det_50)"
   ]
  },
  {
   "cell_type": "markdown",
   "metadata": {},
   "source": [
    "### Probability 40%\n",
    "$\\mathbb{P}(\\text{edge}) = 40\\%$, therefore on average there are $\\mathbb{E}(\\text{number of edges})=0.4*6=2.4$ edges plus the $3$ self-loops in the graph.\n",
    "\n",
    "***Results:*** $\\large{234}$ unsuccessful estimations and $\\large{276}$ estimations in spite of having $\\text{det}(A)=0$."
   ]
  },
  {
   "cell_type": "code",
   "execution_count": 37,
   "metadata": {},
   "outputs": [],
   "source": [
    "p = 3\n",
    "num_eq = num_sym(p=p) + p\n",
    "num_seed = 750\n",
    "d = 0.4 # Probability of edges in graph\n",
    "\n",
    "m11, m12, m13 = symbols('m11'), symbols('m12'), symbols('m13')\n",
    "m21, m22, m23 = symbols('m21'), symbols('m22'), symbols('m23')\n",
    "m31, m32, m33 = symbols('m31'), symbols('m32'), symbols('m33')\n",
    "M = Matrix([[m11, m12, m13], [m21, m22, m23], [m31, m32, m33]])\n",
    "\n",
    "C = 2 * eye(p) # volatility matrix\n",
    "\n",
    "vec_M = Matrix([[M[j, i]] for i in range(p) for j in range(p)]) # j faster than i\n",
    "vech_C = Matrix([[C[i, j]] for i in range(p) for j in range(i, p)])\n",
    "\n",
    "# Intervention\n",
    "index_intervention = 1\n",
    "b = 2\n",
    "unit_v = eye(p).col(index_intervention)\n",
    "\n",
    "estimates_3nodes_test2_40 = np.empty(shape=(num_seed), dtype=object)\n",
    "statistics_3nodes_test2_40 = np.empty(shape=(num_seed, 3), dtype=float)\n",
    "\n",
    "for seed in range(1, num_seed + 1):\n",
    "    np.random.seed(seed=seed)\n",
    "\n",
    "    bernoulli_matrix = np.random.binomial(1, d, (p, p))\n",
    "    normal_matrix = np.random.normal(0, 1, (p, p))\n",
    "\n",
    "    temp_M = bernoulli_matrix * normal_matrix\n",
    "    for i in range(p): # adjust diagonal entries s.t. M stable\n",
    "        row_sum = np.sum(np.abs(temp_M[i, :])) - np.abs(temp_M[i, i])\n",
    "        temp_M[i, i] = - row_sum - np.abs(normal_matrix[i,i])\n",
    "\n",
    "    concrete_M = Matrix(temp_M)\n",
    "\n",
    "    cov = solve_lyapunov_cov(M=concrete_M, C=C, p=p)\n",
    "    mean = b * concrete_M.inv() * unit_v\n",
    "\n",
    "    A_Sigma = create_A_Sigma(cov=cov, p=p)\n",
    "    A = create_A(A_Sigma=A_Sigma, mean=mean, p=p)\n",
    "\n",
    "    c = create_c(vech_C=vech_C, b=b, index=index_intervention, p=p)\n",
    "\n",
    "    det_A = det(A)\n",
    "    solution = solve(A * vec_M + c, vec_M)\n",
    "\n",
    "    if len(solution) == 9:\n",
    "        M_est = M.subs(solution)\n",
    "        M_est_np = matrix2numpy(M_est).astype(float)\n",
    "        M_true = matrix2numpy(concrete_M).astype(float)\n",
    "        frob = np.linalg.norm(M_est_np - M_true)\n",
    "\n",
    "        estimates_3nodes_test2_40[seed - 1] = M_est_np.round(3)\n",
    "        statistics_3nodes_test2_40[seed - 1, 0] = det_A\n",
    "        statistics_3nodes_test2_40[seed - 1, 1] = frob\n",
    "        statistics_3nodes_test2_40[seed - 1, 2] = 1\n",
    "    else: # empty solution\n",
    "        estimates_3nodes_test2_40[seed - 1] = solution\n",
    "        statistics_3nodes_test2_40[seed - 1, 0] = det_A\n",
    "        statistics_3nodes_test2_40[seed - 1, 1] = 0.0\n",
    "        statistics_3nodes_test2_40[seed - 1, 2] = 0"
   ]
  },
  {
   "cell_type": "code",
   "execution_count": 38,
   "metadata": {},
   "outputs": [
    {
     "data": {
      "text/plain": [
       "array([  0,   1,   5,   6,   8,  10,  14,  15,  24,  27,  29,  32,  34,\n",
       "        36,  44,  49,  52,  57,  58,  59,  61,  62,  63,  67,  68,  72,\n",
       "        83,  84,  88,  97,  98, 100, 104, 106, 110, 112, 118, 120, 125,\n",
       "       128, 129, 130, 132, 135, 137, 139, 140, 142, 144, 147, 151, 152,\n",
       "       154, 156, 158, 159, 162, 166, 169, 179, 180, 183, 187, 190, 191,\n",
       "       194, 195, 199, 205, 206, 207, 211, 213, 218, 223, 227, 230, 232,\n",
       "       238, 240, 247, 250, 251, 254, 255, 261, 263, 269, 279, 280, 281,\n",
       "       284, 285, 288, 289, 291, 301, 302, 306, 307, 311, 314, 317, 321,\n",
       "       323, 328, 332, 336, 337, 338, 339, 341, 343, 345, 351, 355, 357,\n",
       "       361, 368, 371, 374, 377, 380, 384, 387, 389, 390, 394, 397, 399,\n",
       "       402, 404, 406, 408, 415, 419, 423, 425, 426, 432, 438, 444, 446,\n",
       "       454, 456, 460, 463, 468, 471, 472, 475, 476, 480, 484, 487, 490,\n",
       "       499, 500, 503, 504, 505, 509, 511, 512, 516, 518, 519, 525, 532,\n",
       "       534, 535, 536, 543, 549, 555, 559, 562, 564, 565, 568, 571, 572,\n",
       "       577, 578, 583, 585, 586, 587, 589, 590, 591, 593, 599, 606, 609,\n",
       "       610, 621, 623, 624, 626, 630, 633, 641, 646, 647, 652, 655, 656,\n",
       "       662, 664, 666, 669, 672, 673, 679, 686, 690, 693, 695, 703, 704,\n",
       "       708, 710, 713, 723, 727, 730, 731, 733, 737, 742, 744, 746, 747,\n",
       "       748])"
      ]
     },
     "execution_count": 38,
     "metadata": {},
     "output_type": "execute_result"
    }
   ],
   "source": [
    "index_no_solution_40 = np.where(statistics_3nodes_test2_40[:, 2] == 0)[0]\n",
    "index_no_solution_40"
   ]
  },
  {
   "cell_type": "code",
   "execution_count": 39,
   "metadata": {},
   "outputs": [
    {
     "data": {
      "text/plain": [
       "array([[ 0.00000000e+00,  0.00000000e+00,  0.00000000e+00],\n",
       "       [ 0.00000000e+00,  0.00000000e+00,  0.00000000e+00],\n",
       "       [ 0.00000000e+00,  0.00000000e+00,  0.00000000e+00],\n",
       "       [ 0.00000000e+00,  0.00000000e+00,  0.00000000e+00],\n",
       "       [ 0.00000000e+00,  0.00000000e+00,  0.00000000e+00],\n",
       "       [ 0.00000000e+00,  0.00000000e+00,  0.00000000e+00],\n",
       "       [ 0.00000000e+00,  0.00000000e+00,  0.00000000e+00],\n",
       "       [ 0.00000000e+00,  0.00000000e+00,  0.00000000e+00],\n",
       "       [ 0.00000000e+00,  0.00000000e+00,  0.00000000e+00],\n",
       "       [ 0.00000000e+00,  0.00000000e+00,  0.00000000e+00],\n",
       "       [ 0.00000000e+00,  0.00000000e+00,  0.00000000e+00],\n",
       "       [ 0.00000000e+00,  0.00000000e+00,  0.00000000e+00],\n",
       "       [ 0.00000000e+00,  0.00000000e+00,  0.00000000e+00],\n",
       "       [ 0.00000000e+00,  0.00000000e+00,  0.00000000e+00],\n",
       "       [ 0.00000000e+00,  0.00000000e+00,  0.00000000e+00],\n",
       "       [ 0.00000000e+00,  0.00000000e+00,  0.00000000e+00],\n",
       "       [ 0.00000000e+00,  0.00000000e+00,  0.00000000e+00],\n",
       "       [ 0.00000000e+00,  0.00000000e+00,  0.00000000e+00],\n",
       "       [ 0.00000000e+00,  0.00000000e+00,  0.00000000e+00],\n",
       "       [ 0.00000000e+00,  0.00000000e+00,  0.00000000e+00],\n",
       "       [ 0.00000000e+00,  0.00000000e+00,  0.00000000e+00],\n",
       "       [ 0.00000000e+00,  0.00000000e+00,  0.00000000e+00],\n",
       "       [ 0.00000000e+00,  0.00000000e+00,  0.00000000e+00],\n",
       "       [ 0.00000000e+00,  0.00000000e+00,  0.00000000e+00],\n",
       "       [ 0.00000000e+00,  0.00000000e+00,  0.00000000e+00],\n",
       "       [ 0.00000000e+00,  0.00000000e+00,  0.00000000e+00],\n",
       "       [ 0.00000000e+00,  0.00000000e+00,  0.00000000e+00],\n",
       "       [ 0.00000000e+00,  0.00000000e+00,  0.00000000e+00],\n",
       "       [ 0.00000000e+00,  0.00000000e+00,  0.00000000e+00],\n",
       "       [ 0.00000000e+00,  0.00000000e+00,  0.00000000e+00],\n",
       "       [ 0.00000000e+00,  0.00000000e+00,  0.00000000e+00],\n",
       "       [ 0.00000000e+00,  0.00000000e+00,  0.00000000e+00],\n",
       "       [ 0.00000000e+00,  0.00000000e+00,  0.00000000e+00],\n",
       "       [ 0.00000000e+00,  0.00000000e+00,  0.00000000e+00],\n",
       "       [ 0.00000000e+00,  0.00000000e+00,  0.00000000e+00],\n",
       "       [ 0.00000000e+00,  0.00000000e+00,  0.00000000e+00],\n",
       "       [ 0.00000000e+00,  0.00000000e+00,  0.00000000e+00],\n",
       "       [ 0.00000000e+00,  0.00000000e+00,  0.00000000e+00],\n",
       "       [ 0.00000000e+00,  0.00000000e+00,  0.00000000e+00],\n",
       "       [ 0.00000000e+00,  0.00000000e+00,  0.00000000e+00],\n",
       "       [ 0.00000000e+00,  0.00000000e+00,  0.00000000e+00],\n",
       "       [ 0.00000000e+00,  0.00000000e+00,  0.00000000e+00],\n",
       "       [ 0.00000000e+00,  0.00000000e+00,  0.00000000e+00],\n",
       "       [ 0.00000000e+00,  0.00000000e+00,  0.00000000e+00],\n",
       "       [ 0.00000000e+00,  0.00000000e+00,  0.00000000e+00],\n",
       "       [ 0.00000000e+00,  0.00000000e+00,  0.00000000e+00],\n",
       "       [ 0.00000000e+00,  0.00000000e+00,  0.00000000e+00],\n",
       "       [ 0.00000000e+00,  0.00000000e+00,  0.00000000e+00],\n",
       "       [ 0.00000000e+00,  0.00000000e+00,  0.00000000e+00],\n",
       "       [ 0.00000000e+00,  0.00000000e+00,  0.00000000e+00],\n",
       "       [ 0.00000000e+00,  0.00000000e+00,  0.00000000e+00],\n",
       "       [ 0.00000000e+00,  0.00000000e+00,  0.00000000e+00],\n",
       "       [ 0.00000000e+00,  0.00000000e+00,  0.00000000e+00],\n",
       "       [ 0.00000000e+00,  0.00000000e+00,  0.00000000e+00],\n",
       "       [ 0.00000000e+00,  0.00000000e+00,  0.00000000e+00],\n",
       "       [ 0.00000000e+00,  0.00000000e+00,  0.00000000e+00],\n",
       "       [ 0.00000000e+00,  0.00000000e+00,  0.00000000e+00],\n",
       "       [ 0.00000000e+00,  0.00000000e+00,  0.00000000e+00],\n",
       "       [ 0.00000000e+00,  0.00000000e+00,  0.00000000e+00],\n",
       "       [ 0.00000000e+00,  0.00000000e+00,  0.00000000e+00],\n",
       "       [ 0.00000000e+00,  0.00000000e+00,  0.00000000e+00],\n",
       "       [ 0.00000000e+00,  0.00000000e+00,  0.00000000e+00],\n",
       "       [ 0.00000000e+00,  0.00000000e+00,  0.00000000e+00],\n",
       "       [ 0.00000000e+00,  0.00000000e+00,  0.00000000e+00],\n",
       "       [ 0.00000000e+00,  0.00000000e+00,  0.00000000e+00],\n",
       "       [ 0.00000000e+00,  0.00000000e+00,  0.00000000e+00],\n",
       "       [ 0.00000000e+00,  0.00000000e+00,  0.00000000e+00],\n",
       "       [ 0.00000000e+00,  0.00000000e+00,  0.00000000e+00],\n",
       "       [ 0.00000000e+00,  0.00000000e+00,  0.00000000e+00],\n",
       "       [ 0.00000000e+00,  0.00000000e+00,  0.00000000e+00],\n",
       "       [ 0.00000000e+00,  0.00000000e+00,  0.00000000e+00],\n",
       "       [ 0.00000000e+00,  0.00000000e+00,  0.00000000e+00],\n",
       "       [ 0.00000000e+00,  0.00000000e+00,  0.00000000e+00],\n",
       "       [ 0.00000000e+00,  0.00000000e+00,  0.00000000e+00],\n",
       "       [ 0.00000000e+00,  0.00000000e+00,  0.00000000e+00],\n",
       "       [ 0.00000000e+00,  0.00000000e+00,  0.00000000e+00],\n",
       "       [ 0.00000000e+00,  0.00000000e+00,  0.00000000e+00],\n",
       "       [ 0.00000000e+00,  0.00000000e+00,  0.00000000e+00],\n",
       "       [ 0.00000000e+00,  0.00000000e+00,  0.00000000e+00],\n",
       "       [ 0.00000000e+00,  0.00000000e+00,  0.00000000e+00],\n",
       "       [ 0.00000000e+00,  0.00000000e+00,  0.00000000e+00],\n",
       "       [ 0.00000000e+00,  0.00000000e+00,  0.00000000e+00],\n",
       "       [ 0.00000000e+00,  0.00000000e+00,  0.00000000e+00],\n",
       "       [ 0.00000000e+00,  0.00000000e+00,  0.00000000e+00],\n",
       "       [ 0.00000000e+00,  0.00000000e+00,  0.00000000e+00],\n",
       "       [ 0.00000000e+00,  0.00000000e+00,  0.00000000e+00],\n",
       "       [ 0.00000000e+00,  0.00000000e+00,  0.00000000e+00],\n",
       "       [ 0.00000000e+00,  0.00000000e+00,  0.00000000e+00],\n",
       "       [ 0.00000000e+00,  0.00000000e+00,  0.00000000e+00],\n",
       "       [ 0.00000000e+00,  0.00000000e+00,  0.00000000e+00],\n",
       "       [ 0.00000000e+00,  0.00000000e+00,  0.00000000e+00],\n",
       "       [ 0.00000000e+00,  0.00000000e+00,  0.00000000e+00],\n",
       "       [ 0.00000000e+00,  0.00000000e+00,  0.00000000e+00],\n",
       "       [ 0.00000000e+00,  0.00000000e+00,  0.00000000e+00],\n",
       "       [ 0.00000000e+00,  0.00000000e+00,  0.00000000e+00],\n",
       "       [ 7.34396103e-14,  0.00000000e+00,  0.00000000e+00],\n",
       "       [ 0.00000000e+00,  0.00000000e+00,  0.00000000e+00],\n",
       "       [ 0.00000000e+00,  0.00000000e+00,  0.00000000e+00],\n",
       "       [ 0.00000000e+00,  0.00000000e+00,  0.00000000e+00],\n",
       "       [ 0.00000000e+00,  0.00000000e+00,  0.00000000e+00],\n",
       "       [ 0.00000000e+00,  0.00000000e+00,  0.00000000e+00],\n",
       "       [ 0.00000000e+00,  0.00000000e+00,  0.00000000e+00],\n",
       "       [ 0.00000000e+00,  0.00000000e+00,  0.00000000e+00],\n",
       "       [ 0.00000000e+00,  0.00000000e+00,  0.00000000e+00],\n",
       "       [ 0.00000000e+00,  0.00000000e+00,  0.00000000e+00],\n",
       "       [ 0.00000000e+00,  0.00000000e+00,  0.00000000e+00],\n",
       "       [ 0.00000000e+00,  0.00000000e+00,  0.00000000e+00],\n",
       "       [ 0.00000000e+00,  0.00000000e+00,  0.00000000e+00],\n",
       "       [ 0.00000000e+00,  0.00000000e+00,  0.00000000e+00],\n",
       "       [ 0.00000000e+00,  0.00000000e+00,  0.00000000e+00],\n",
       "       [ 0.00000000e+00,  0.00000000e+00,  0.00000000e+00],\n",
       "       [ 0.00000000e+00,  0.00000000e+00,  0.00000000e+00],\n",
       "       [ 0.00000000e+00,  0.00000000e+00,  0.00000000e+00],\n",
       "       [ 0.00000000e+00,  0.00000000e+00,  0.00000000e+00],\n",
       "       [ 0.00000000e+00,  0.00000000e+00,  0.00000000e+00],\n",
       "       [ 0.00000000e+00,  0.00000000e+00,  0.00000000e+00],\n",
       "       [ 0.00000000e+00,  0.00000000e+00,  0.00000000e+00],\n",
       "       [ 0.00000000e+00,  0.00000000e+00,  0.00000000e+00],\n",
       "       [ 0.00000000e+00,  0.00000000e+00,  0.00000000e+00],\n",
       "       [ 0.00000000e+00,  0.00000000e+00,  0.00000000e+00],\n",
       "       [ 0.00000000e+00,  0.00000000e+00,  0.00000000e+00],\n",
       "       [ 0.00000000e+00,  0.00000000e+00,  0.00000000e+00],\n",
       "       [ 0.00000000e+00,  0.00000000e+00,  0.00000000e+00],\n",
       "       [ 0.00000000e+00,  0.00000000e+00,  0.00000000e+00],\n",
       "       [ 0.00000000e+00,  0.00000000e+00,  0.00000000e+00],\n",
       "       [-1.34225060e-15,  0.00000000e+00,  0.00000000e+00],\n",
       "       [ 0.00000000e+00,  0.00000000e+00,  0.00000000e+00],\n",
       "       [ 0.00000000e+00,  0.00000000e+00,  0.00000000e+00],\n",
       "       [ 0.00000000e+00,  0.00000000e+00,  0.00000000e+00],\n",
       "       [ 0.00000000e+00,  0.00000000e+00,  0.00000000e+00],\n",
       "       [ 0.00000000e+00,  0.00000000e+00,  0.00000000e+00],\n",
       "       [ 0.00000000e+00,  0.00000000e+00,  0.00000000e+00],\n",
       "       [ 0.00000000e+00,  0.00000000e+00,  0.00000000e+00],\n",
       "       [ 0.00000000e+00,  0.00000000e+00,  0.00000000e+00],\n",
       "       [ 0.00000000e+00,  0.00000000e+00,  0.00000000e+00],\n",
       "       [ 0.00000000e+00,  0.00000000e+00,  0.00000000e+00],\n",
       "       [ 0.00000000e+00,  0.00000000e+00,  0.00000000e+00],\n",
       "       [ 0.00000000e+00,  0.00000000e+00,  0.00000000e+00],\n",
       "       [ 0.00000000e+00,  0.00000000e+00,  0.00000000e+00],\n",
       "       [ 0.00000000e+00,  0.00000000e+00,  0.00000000e+00],\n",
       "       [ 0.00000000e+00,  0.00000000e+00,  0.00000000e+00],\n",
       "       [ 0.00000000e+00,  0.00000000e+00,  0.00000000e+00],\n",
       "       [ 0.00000000e+00,  0.00000000e+00,  0.00000000e+00],\n",
       "       [ 0.00000000e+00,  0.00000000e+00,  0.00000000e+00],\n",
       "       [ 0.00000000e+00,  0.00000000e+00,  0.00000000e+00],\n",
       "       [ 0.00000000e+00,  0.00000000e+00,  0.00000000e+00],\n",
       "       [ 0.00000000e+00,  0.00000000e+00,  0.00000000e+00],\n",
       "       [ 0.00000000e+00,  0.00000000e+00,  0.00000000e+00],\n",
       "       [ 0.00000000e+00,  0.00000000e+00,  0.00000000e+00],\n",
       "       [ 0.00000000e+00,  0.00000000e+00,  0.00000000e+00],\n",
       "       [ 0.00000000e+00,  0.00000000e+00,  0.00000000e+00],\n",
       "       [ 0.00000000e+00,  0.00000000e+00,  0.00000000e+00],\n",
       "       [ 1.17961177e-18,  0.00000000e+00,  0.00000000e+00],\n",
       "       [ 0.00000000e+00,  0.00000000e+00,  0.00000000e+00],\n",
       "       [ 0.00000000e+00,  0.00000000e+00,  0.00000000e+00],\n",
       "       [ 0.00000000e+00,  0.00000000e+00,  0.00000000e+00],\n",
       "       [ 0.00000000e+00,  0.00000000e+00,  0.00000000e+00],\n",
       "       [ 0.00000000e+00,  0.00000000e+00,  0.00000000e+00],\n",
       "       [ 0.00000000e+00,  0.00000000e+00,  0.00000000e+00],\n",
       "       [ 0.00000000e+00,  0.00000000e+00,  0.00000000e+00],\n",
       "       [ 0.00000000e+00,  0.00000000e+00,  0.00000000e+00],\n",
       "       [ 0.00000000e+00,  0.00000000e+00,  0.00000000e+00],\n",
       "       [ 0.00000000e+00,  0.00000000e+00,  0.00000000e+00],\n",
       "       [ 0.00000000e+00,  0.00000000e+00,  0.00000000e+00],\n",
       "       [ 0.00000000e+00,  0.00000000e+00,  0.00000000e+00],\n",
       "       [ 0.00000000e+00,  0.00000000e+00,  0.00000000e+00],\n",
       "       [ 0.00000000e+00,  0.00000000e+00,  0.00000000e+00],\n",
       "       [ 0.00000000e+00,  0.00000000e+00,  0.00000000e+00],\n",
       "       [ 0.00000000e+00,  0.00000000e+00,  0.00000000e+00],\n",
       "       [ 0.00000000e+00,  0.00000000e+00,  0.00000000e+00],\n",
       "       [ 0.00000000e+00,  0.00000000e+00,  0.00000000e+00],\n",
       "       [ 0.00000000e+00,  0.00000000e+00,  0.00000000e+00],\n",
       "       [ 0.00000000e+00,  0.00000000e+00,  0.00000000e+00],\n",
       "       [ 0.00000000e+00,  0.00000000e+00,  0.00000000e+00],\n",
       "       [ 0.00000000e+00,  0.00000000e+00,  0.00000000e+00],\n",
       "       [ 0.00000000e+00,  0.00000000e+00,  0.00000000e+00],\n",
       "       [ 0.00000000e+00,  0.00000000e+00,  0.00000000e+00],\n",
       "       [ 0.00000000e+00,  0.00000000e+00,  0.00000000e+00],\n",
       "       [ 0.00000000e+00,  0.00000000e+00,  0.00000000e+00],\n",
       "       [ 0.00000000e+00,  0.00000000e+00,  0.00000000e+00],\n",
       "       [ 0.00000000e+00,  0.00000000e+00,  0.00000000e+00],\n",
       "       [ 0.00000000e+00,  0.00000000e+00,  0.00000000e+00],\n",
       "       [ 0.00000000e+00,  0.00000000e+00,  0.00000000e+00],\n",
       "       [ 0.00000000e+00,  0.00000000e+00,  0.00000000e+00],\n",
       "       [ 0.00000000e+00,  0.00000000e+00,  0.00000000e+00],\n",
       "       [ 0.00000000e+00,  0.00000000e+00,  0.00000000e+00],\n",
       "       [ 0.00000000e+00,  0.00000000e+00,  0.00000000e+00],\n",
       "       [ 0.00000000e+00,  0.00000000e+00,  0.00000000e+00],\n",
       "       [ 0.00000000e+00,  0.00000000e+00,  0.00000000e+00],\n",
       "       [ 0.00000000e+00,  0.00000000e+00,  0.00000000e+00],\n",
       "       [ 0.00000000e+00,  0.00000000e+00,  0.00000000e+00],\n",
       "       [ 0.00000000e+00,  0.00000000e+00,  0.00000000e+00],\n",
       "       [ 0.00000000e+00,  0.00000000e+00,  0.00000000e+00],\n",
       "       [ 0.00000000e+00,  0.00000000e+00,  0.00000000e+00],\n",
       "       [ 0.00000000e+00,  0.00000000e+00,  0.00000000e+00],\n",
       "       [ 0.00000000e+00,  0.00000000e+00,  0.00000000e+00],\n",
       "       [ 0.00000000e+00,  0.00000000e+00,  0.00000000e+00],\n",
       "       [ 0.00000000e+00,  0.00000000e+00,  0.00000000e+00],\n",
       "       [ 0.00000000e+00,  0.00000000e+00,  0.00000000e+00],\n",
       "       [ 0.00000000e+00,  0.00000000e+00,  0.00000000e+00],\n",
       "       [ 0.00000000e+00,  0.00000000e+00,  0.00000000e+00],\n",
       "       [ 0.00000000e+00,  0.00000000e+00,  0.00000000e+00],\n",
       "       [ 0.00000000e+00,  0.00000000e+00,  0.00000000e+00],\n",
       "       [ 0.00000000e+00,  0.00000000e+00,  0.00000000e+00],\n",
       "       [ 0.00000000e+00,  0.00000000e+00,  0.00000000e+00],\n",
       "       [ 0.00000000e+00,  0.00000000e+00,  0.00000000e+00],\n",
       "       [ 0.00000000e+00,  0.00000000e+00,  0.00000000e+00],\n",
       "       [ 0.00000000e+00,  0.00000000e+00,  0.00000000e+00],\n",
       "       [ 0.00000000e+00,  0.00000000e+00,  0.00000000e+00],\n",
       "       [ 0.00000000e+00,  0.00000000e+00,  0.00000000e+00],\n",
       "       [ 0.00000000e+00,  0.00000000e+00,  0.00000000e+00],\n",
       "       [ 0.00000000e+00,  0.00000000e+00,  0.00000000e+00],\n",
       "       [ 0.00000000e+00,  0.00000000e+00,  0.00000000e+00],\n",
       "       [ 0.00000000e+00,  0.00000000e+00,  0.00000000e+00],\n",
       "       [ 0.00000000e+00,  0.00000000e+00,  0.00000000e+00],\n",
       "       [ 0.00000000e+00,  0.00000000e+00,  0.00000000e+00],\n",
       "       [ 0.00000000e+00,  0.00000000e+00,  0.00000000e+00],\n",
       "       [ 0.00000000e+00,  0.00000000e+00,  0.00000000e+00],\n",
       "       [ 0.00000000e+00,  0.00000000e+00,  0.00000000e+00],\n",
       "       [ 0.00000000e+00,  0.00000000e+00,  0.00000000e+00],\n",
       "       [ 0.00000000e+00,  0.00000000e+00,  0.00000000e+00],\n",
       "       [ 0.00000000e+00,  0.00000000e+00,  0.00000000e+00],\n",
       "       [ 0.00000000e+00,  0.00000000e+00,  0.00000000e+00],\n",
       "       [ 0.00000000e+00,  0.00000000e+00,  0.00000000e+00],\n",
       "       [ 0.00000000e+00,  0.00000000e+00,  0.00000000e+00],\n",
       "       [ 0.00000000e+00,  0.00000000e+00,  0.00000000e+00],\n",
       "       [ 0.00000000e+00,  0.00000000e+00,  0.00000000e+00],\n",
       "       [ 0.00000000e+00,  0.00000000e+00,  0.00000000e+00],\n",
       "       [ 0.00000000e+00,  0.00000000e+00,  0.00000000e+00],\n",
       "       [ 0.00000000e+00,  0.00000000e+00,  0.00000000e+00],\n",
       "       [ 0.00000000e+00,  0.00000000e+00,  0.00000000e+00],\n",
       "       [ 0.00000000e+00,  0.00000000e+00,  0.00000000e+00],\n",
       "       [ 0.00000000e+00,  0.00000000e+00,  0.00000000e+00],\n",
       "       [ 0.00000000e+00,  0.00000000e+00,  0.00000000e+00],\n",
       "       [ 0.00000000e+00,  0.00000000e+00,  0.00000000e+00]])"
      ]
     },
     "execution_count": 39,
     "metadata": {},
     "output_type": "execute_result"
    }
   ],
   "source": [
    "statistics_3nodes_test2_40[index_no_solution_40, :]"
   ]
  },
  {
   "cell_type": "code",
   "execution_count": 40,
   "metadata": {},
   "outputs": [
    {
     "data": {
      "text/plain": [
       "array([  0,   1,   5,   6,   8,  10,  14,  15,  24,  27,  29,  32,  34,\n",
       "        36,  39,  44,  45,  49,  52,  54,  57,  58,  59,  61,  62,  63,\n",
       "        64,  67,  68,  72,  83,  84,  88,  95,  96,  97,  98, 100, 104,\n",
       "       106, 110, 112, 118, 120, 125, 128, 129, 130, 132, 135, 137, 138,\n",
       "       139, 140, 142, 143, 144, 147, 151, 152, 154, 156, 158, 159, 162,\n",
       "       166, 169, 174, 179, 180, 183, 184, 187, 188, 190, 191, 194, 195,\n",
       "       199, 205, 206, 207, 208, 211, 213, 218, 223, 227, 230, 232, 238,\n",
       "       240, 246, 247, 249, 250, 251, 254, 255, 256, 257, 260, 261, 263,\n",
       "       269, 279, 280, 281, 284, 285, 286, 288, 289, 301, 302, 306, 307,\n",
       "       311, 314, 317, 321, 323, 325, 328, 332, 336, 337, 338, 339, 341,\n",
       "       342, 343, 345, 351, 355, 357, 361, 366, 368, 371, 374, 377, 380,\n",
       "       384, 387, 390, 393, 394, 397, 399, 402, 404, 406, 408, 411, 415,\n",
       "       419, 423, 425, 426, 432, 438, 444, 446, 449, 454, 456, 460, 463,\n",
       "       465, 468, 471, 472, 475, 476, 483, 484, 487, 490, 499, 500, 503,\n",
       "       504, 505, 509, 511, 512, 516, 518, 519, 525, 529, 532, 534, 535,\n",
       "       536, 538, 540, 543, 545, 549, 554, 555, 557, 559, 562, 563, 564,\n",
       "       565, 568, 571, 572, 577, 578, 583, 585, 586, 587, 588, 589, 590,\n",
       "       591, 593, 599, 601, 606, 609, 610, 616, 620, 621, 623, 624, 626,\n",
       "       630, 633, 639, 641, 646, 647, 652, 655, 656, 662, 664, 666, 669,\n",
       "       670, 672, 673, 678, 679, 684, 686, 688, 690, 693, 695, 698, 702,\n",
       "       703, 704, 708, 710, 713, 723, 727, 730, 731, 733, 737, 742, 744,\n",
       "       746, 747, 748])"
      ]
     },
     "execution_count": 40,
     "metadata": {},
     "output_type": "execute_result"
    }
   ],
   "source": [
    "index_zero_det_40 = np.where(statistics_3nodes_test2_40[:, 0] == 0)[0]\n",
    "index_zero_det_40"
   ]
  },
  {
   "cell_type": "code",
   "execution_count": 41,
   "metadata": {},
   "outputs": [
    {
     "data": {
      "image/png": "[encoded data removed]",
      "text/latex": [
       "$\\displaystyle 276$"
      ],
      "text/plain": [
       "276"
      ]
     },
     "execution_count": 41,
     "metadata": {},
     "output_type": "execute_result"
    }
   ],
   "source": [
    "len(index_zero_det_40)"
   ]
  }
 ],
 "metadata": {
  "kernelspec": {
   "display_name": ".venv",
   "language": "python",
   "name": "python3"
  },
  "language_info": {
   "codemirror_mode": {
    "name": "ipython",
    "version": 3
   },
   "file_extension": ".py",
   "mimetype": "text/x-python",
   "name": "python",
   "nbconvert_exporter": "python",
   "pygments_lexer": "ipython3",
   "version": "3.12.3"
  }
 },
 "nbformat": 4,
 "nbformat_minor": 2
}
