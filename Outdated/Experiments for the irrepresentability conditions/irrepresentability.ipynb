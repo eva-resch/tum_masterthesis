{
 "cells": [
  {
   "cell_type": "markdown",
   "metadata": {},
   "source": [
    "Primary experiments on the fulfillment of the irrepresentability conditions under shift intervention.\n",
    "\n",
    "Used to judge if the shift intervention does significantly change the outcome."
   ]
  },
  {
   "cell_type": "markdown",
   "metadata": {},
   "source": [
    "### Preparation"
   ]
  },
  {
   "cell_type": "code",
   "execution_count": 1,
   "metadata": {},
   "outputs": [],
   "source": [
    "import numpy as np\n",
    "from sympy import *\n",
    "from sympy.physics.quantum import TensorProduct\n",
    "import warnings\n",
    "from scipy.linalg import solve_continuous_lyapunov\n",
    "from sklearn.exceptions import ConvergenceWarning\n",
    "warnings.filterwarnings('ignore', category=ConvergenceWarning)\n",
    "init_printing(use_unicode=True)\n",
    "\n",
    "# ------- Simulation with random zero entries -------\n",
    "def simulate_M(bernoulli_matrix: Array, seed: int, p: int) -> Array:\n",
    "    np.random.seed(seed=seed)\n",
    "    normal_matrix = np.random.normal(0, 1, (p, p))\n",
    "    temp_M = bernoulli_matrix * normal_matrix\n",
    "    for i in range(p): # adjust diagonal entries s.t. M stable\n",
    "        row_sum = np.sum(np.abs(temp_M[i, :])) - np.abs(temp_M[i, i])\n",
    "        temp_M[i, i] = - np.sum(np.abs(temp_M[i, :]))\n",
    "    return temp_M\n",
    "\n",
    "# ------- Simulation -------\n",
    "def simulate_full_M(seed: int, p: int) -> Array:\n",
    "    np.random.seed(seed=seed)\n",
    "    normal_matrix = np.random.normal(0, 1, (p, p))\n",
    "    for i in range(p): # adjust diagonal entries s.t. M stable\n",
    "        normal_matrix[i, i] = - np.sum(np.abs(normal_matrix[i, :]))\n",
    "    return normal_matrix\n",
    "\n",
    "# ------- commutation matrix -------\n",
    "# sympy follows column-major style, numpy row-,amjor -> reshape with different order\n",
    "def comm_mat(m, n):\n",
    "    w = np.arange(m * n).reshape((m, n), order=\"F\").T.ravel(order=\"F\")\n",
    "    return np.eye(m * n)[w, :]\n",
    "def comm_mat_sympy(m, n):\n",
    "    w = Matrix(range(m * n)).reshape(n, m).T.reshape(m * n, 1)\n",
    "    return eye(m * n).extract(w, list(range(m * n)))\n",
    "\n",
    "# ------- matrix A(Sigma) -------\n",
    "def create_A_Sigma(cov: Array, p: int) -> Array:\n",
    "    identity = eye(p)\n",
    "    return np.kron(cov, identity) + np.matmul(np.kron(identity, cov), comm_mat(p, p))\n",
    "def create_A_Sigma_sympy(cov: Matrix, p: int) -> Matrix:\n",
    "    identity = eye(p)\n",
    "    return TensorProduct(cov, identity) + TensorProduct(identity, cov) * comm_mat_sympy(p, p)\n",
    "\n",
    "# ------- matrix A (intervention) -------\n",
    "def create_A(A_Sigma: Array, mean: Array, p: int) -> Array:\n",
    "    identity = mean[0] * eye(p)\n",
    "    for i in range(1, p):\n",
    "        identity = np.hstack((identity, mean[i] * eye(p)))\n",
    "    return np.vstack((A_Sigma, identity))\n",
    "def create_A_sympy(A_Sigma: Matrix, mean: Matrix, p: int) -> Matrix:\n",
    "    identity = mean[0] * eye(p)\n",
    "    for i in range(1, p):\n",
    "        identity = Matrix.hstack(identity, mean[i] * eye(p))\n",
    "    return Matrix.vstack(A_Sigma, identity)\n",
    "\n",
    "# ------- Gram matrix -------\n",
    "def gram(A: Array) -> Array:\n",
    "    return np.matmul(np.transpose(A), A)\n",
    "def gram_sympy(A: Matrix) -> Matrix:\n",
    "    return A.T * A\n",
    "\n",
    "# ------- vector g -------\n",
    "def vec_g(A: Array, vec_C: Array) -> Array:\n",
    "    return - np.dot(A, vec_C)\n",
    "def vec_g_sympy(A: Matrix, vec_C: Matrix) -> Matrix:\n",
    "    return - A * vec_C\n",
    "\n",
    "# ------- irrepresentability condition -------\n",
    "def irrep_cond(A: Array, supp: Array, supp_compl: Array) -> float:\n",
    "    gram_matrix = gram(A=A)\n",
    "    try:\n",
    "        matrix_1 = gram_matrix[supp_compl[:, None], supp] # uses broadcasting\n",
    "        matrix_2 = np.linalg.inv(gram_matrix[np.ix_(supp, supp)])\n",
    "        return np.linalg.norm(np.matmul(matrix_1, matrix_2), ord=np.inf)\n",
    "    except np.linalg.LinAlgError:\n",
    "        return -1\n",
    "\n",
    "# ------- weak irrepresentability condition -------\n",
    "def weak_irrep_cond(M: Array, A: Array, supp: Array, supp_compl: Array) -> float:\n",
    "    gram_matrix = gram(A=A)\n",
    "    try:\n",
    "        matrix_1 = gram_matrix[supp_compl[:, None], supp] # uses broadcasting\n",
    "        matrix_2 = np.linalg.inv(gram_matrix[np.ix_(supp, supp)])\n",
    "        sign_vec = np.sign(M.flatten(order=\"F\"))[supp]\n",
    "        return np.linalg.norm(np.matmul(matrix_1, matrix_2) @ sign_vec, ord=np.inf)\n",
    "    except np.linalg.LinAlgError:\n",
    "        return -1\n",
    "\n",
    "num_exp = 100000 # number of true matrices per case\n",
    "num_sim = 1000 # number of simulations per true matrix\n",
    "\n",
    "index_intervention = 0\n",
    "b = 2"
   ]
  },
  {
   "cell_type": "markdown",
   "metadata": {},
   "source": [
    "### 3 nodes - Irrepresentability condition"
   ]
  },
  {
   "cell_type": "code",
   "execution_count": null,
   "metadata": {},
   "outputs": [],
   "source": [
    "p = 3\n",
    "Sigma = MatrixSymbol(\"Sigma\", p, p).as_mutable()\n",
    "cov = Matrix(p, p, lambda i, j: Sigma[min(i,j),max(i,j)])\n",
    "mean = MatrixSymbol(\"mu\", p, 1).as_mutable()\n",
    "A_Sigma = create_A_Sigma_sympy(cov=cov, p=p)\n",
    "A = create_A_sympy(A_Sigma=A_Sigma, mean=mean, p=p)\n",
    "A"
   ]
  },
  {
   "cell_type": "code",
   "execution_count": null,
   "metadata": {},
   "outputs": [],
   "source": [
    "p = 3\n",
    "offset = 120899\n",
    "d = [0.4, 0.5, 0.6, 0.7, 0.8, 0.9, 1]\n",
    "full_support = np.arange(p * p)\n",
    "\n",
    "C = 2 * np.eye(p)\n",
    "unit_v = np.eye(p)[:, index_intervention]\n",
    "\n",
    "irrep_3 = np.empty(shape=(num_exp, len(d)), dtype=object)\n",
    "\n",
    "for index in range(len(d)):\n",
    "    for seed in range(offset, 2 + offset):\n",
    "        np.random.seed(seed=seed)\n",
    "        bernoulli_matrix = np.random.binomial(1, d[index], (p, p))\n",
    "\n",
    "        support = (np.nonzero(bernoulli_matrix.flatten() != 0))[0]\n",
    "        for i in range(p):\n",
    "            if ((i * p) + i) not in support:\n",
    "                support = np.append(support, (i * p) + i)\n",
    "        supp_compl = np.setdiff1d(full_support, support)\n",
    "\n",
    "        if len(supp_compl) == 0:\n",
    "            irrep_3[seed - offset, index] = -2\n",
    "        \n",
    "        else:\n",
    "            true_M = simulate_M(bernoulli_matrix=bernoulli_matrix, seed=seed, p=p)\n",
    "\n",
    "            true_cov = solve_continuous_lyapunov(a=true_M, q=-C)\n",
    "            true_mean = (b * np.linalg.inv(a=true_M)).dot(unit_v)\n",
    "\n",
    "            obs = np.random.multivariate_normal(mean = true_mean, cov = true_cov, size = num_sim)\n",
    "            emp_cov = np.cov(obs, rowvar=False)\n",
    "            emp_mean = np.mean(obs, axis=0)\n",
    "\n",
    "            emp_A_Sigma = create_A_Sigma(cov=emp_cov, p=p)\n",
    "            emp_A = create_A(A_Sigma=emp_A_Sigma, mean=emp_mean, p=p)\n",
    "            emp_A = np.float64(emp_A)\n",
    "\n",
    "            irrep_condition = irrep_cond(A=emp_A, supp=support, supp_compl=supp_compl)\n",
    "\n",
    "            irrep_3[seed - offset, index] = irrep_condition\n",
    "\n",
    "print(\"Complete graph: \", np.sum(irrep_3 == -2, axis=0))\n",
    "print(\"Singular Gram matrix: \", np.sum(irrep_3 == -1, axis=0))\n",
    "print(\"Irrepresentability condition satisfied: \", (np.sum(irrep_3 < 1, axis=0) - np.sum(irrep_3 == -2, axis=0) - np.sum(irrep_3 == -1, axis=0)))"
   ]
  },
  {
   "cell_type": "markdown",
   "metadata": {},
   "source": [
    "### 3 nodes - Weak irrepresentability condition"
   ]
  },
  {
   "cell_type": "code",
   "execution_count": null,
   "metadata": {},
   "outputs": [],
   "source": [
    "p = 3\n",
    "offset = 120899\n",
    "d = [0.4, 0.5, 0.6, 0.7, 0.8, 0.9, 1]\n",
    "full_support = np.arange(p * p)\n",
    "\n",
    "C = 2 * np.eye(p)\n",
    "unit_v = np.eye(p)[:, index_intervention]\n",
    "\n",
    "weak_irrep_3 = np.empty(shape=(num_exp, len(d)), dtype=object)\n",
    "\n",
    "for index in range(len(d)):\n",
    "    for seed in range(offset, num_exp + offset):\n",
    "        np.random.seed(seed=seed)\n",
    "        bernoulli_matrix = np.random.binomial(1, d[index], (p, p))\n",
    "\n",
    "        support = (np.nonzero(bernoulli_matrix.flatten() != 0))[0]\n",
    "        for i in range(p):\n",
    "            if ((i * p) + i) not in support:\n",
    "                support = np.append(support, (i * p) + i)\n",
    "        supp_compl = np.setdiff1d(full_support, support)\n",
    "\n",
    "        if len(supp_compl) == 0:\n",
    "            weak_irrep_3[seed - offset, index] = -2\n",
    "        \n",
    "        else:\n",
    "            true_M = simulate_M(bernoulli_matrix=bernoulli_matrix, seed=seed, p=p)\n",
    "\n",
    "            true_cov = solve_continuous_lyapunov(a=true_M, q=-C)\n",
    "            true_mean = (b * np.linalg.inv(a=true_M)).dot(unit_v)\n",
    "\n",
    "            obs = np.random.multivariate_normal(mean = true_mean, cov = true_cov, size = num_sim)\n",
    "            emp_cov = np.cov(obs, rowvar=False)\n",
    "            emp_mean = np.mean(obs, axis=0)\n",
    "\n",
    "            emp_A_Sigma = create_A_Sigma(cov=emp_cov, p=p)\n",
    "            emp_A = create_A(A_Sigma=emp_A_Sigma, mean=emp_mean, p=p)\n",
    "            emp_A = np.float64(emp_A)\n",
    "\n",
    "            irrep_condition = weak_irrep_cond(M=true_M, A=emp_A, supp=support, supp_compl=supp_compl)\n",
    "\n",
    "            weak_irrep_3[seed - offset, index] = irrep_condition\n",
    "\n",
    "print(\"Complete graph: \", np.sum(weak_irrep_3 == -2, axis=0))\n",
    "print(\"Singular Gram matrix: \", np.sum(weak_irrep_3 == -1, axis=0))\n",
    "print(\"Irrepresentability condition satisfied: \", (np.sum(weak_irrep_3 <= 1, axis=0) - np.sum(weak_irrep_3 == -2, axis=0) - np.sum(weak_irrep_3 == -1, axis=0)))"
   ]
  },
  {
   "cell_type": "markdown",
   "metadata": {},
   "source": [
    "### 4 nodes - Irrepresentability condition"
   ]
  },
  {
   "cell_type": "code",
   "execution_count": null,
   "metadata": {},
   "outputs": [],
   "source": [
    "p = 4\n",
    "offset = 120899\n",
    "d = [0.4, 0.5, 0.6, 0.7, 0.8, 0.9, 1]\n",
    "full_support = np.arange(p * p)\n",
    "\n",
    "C = 2 * np.eye(p)\n",
    "unit_v = np.eye(p)[:, index_intervention]\n",
    "\n",
    "irrep_4 = np.empty(shape=(num_exp, len(d)), dtype=object)\n",
    "\n",
    "for index in range(len(d)):\n",
    "    for seed in range(offset, num_exp + offset):\n",
    "        np.random.seed(seed=seed)\n",
    "        bernoulli_matrix = np.random.binomial(1, d[index], (p, p))\n",
    "\n",
    "        support = (np.nonzero(bernoulli_matrix.flatten() != 0))[0]\n",
    "        for i in range(p):\n",
    "            if ((i * p) + i) not in support:\n",
    "                support = np.append(support, (i * p) + i)\n",
    "        supp_compl = np.setdiff1d(full_support, support)\n",
    "\n",
    "        if len(supp_compl) == 0:\n",
    "            irrep_4[seed - offset, index] = -2\n",
    "        \n",
    "        else:\n",
    "            true_M = simulate_M(bernoulli_matrix=bernoulli_matrix, seed=seed, p=p)\n",
    "\n",
    "            true_cov = solve_continuous_lyapunov(a=true_M, q=-C)\n",
    "            true_mean = (b * np.linalg.inv(a=true_M)).dot(unit_v)\n",
    "\n",
    "            obs = np.random.multivariate_normal(mean = true_mean, cov = true_cov, size = num_sim)\n",
    "            emp_cov = np.cov(obs, rowvar=False)\n",
    "            emp_mean = np.mean(obs, axis=0)\n",
    "\n",
    "            emp_A_Sigma = create_A_Sigma(cov=emp_cov, p=p)\n",
    "            emp_A = create_A(A_Sigma=emp_A_Sigma, mean=emp_mean, p=p)\n",
    "            emp_A = np.float64(emp_A)\n",
    "\n",
    "            irrep_condition = irrep_cond(A=emp_A, supp=support, supp_compl=supp_compl)\n",
    "\n",
    "            irrep_4[seed - offset, index] = irrep_condition\n",
    "\n",
    "print(\"Complete graph: \", np.sum(irrep_4 == -2, axis=0))\n",
    "print(\"Singular Gram matrix: \", np.sum(irrep_4 == -1, axis=0))\n",
    "print(\"Irrepresentability condition satisfied: \", (np.sum(irrep_4 < 1, axis=0) - np.sum(irrep_4 == -2, axis=0) - np.sum(irrep_4 == -1, axis=0)))"
   ]
  },
  {
   "cell_type": "markdown",
   "metadata": {},
   "source": [
    "### 4 nodes - Weak irrepresentability condition"
   ]
  },
  {
   "cell_type": "code",
   "execution_count": null,
   "metadata": {},
   "outputs": [],
   "source": [
    "p = 4\n",
    "offset = 120899\n",
    "d = [0.4, 0.5, 0.6, 0.7, 0.8, 0.9, 1]\n",
    "full_support = np.arange(p * p)\n",
    "\n",
    "C = 2 * np.eye(p)\n",
    "unit_v = np.eye(p)[:, index_intervention]\n",
    "\n",
    "weak_irrep_4 = np.empty(shape=(num_exp, len(d)), dtype=object)\n",
    "\n",
    "for index in range(len(d)):\n",
    "    for seed in range(offset, num_exp + offset):\n",
    "        np.random.seed(seed=seed)\n",
    "        bernoulli_matrix = np.random.binomial(1, d[index], (p, p))\n",
    "\n",
    "        support = (np.nonzero(bernoulli_matrix.flatten() != 0))[0]\n",
    "        for i in range(p):\n",
    "            if ((i * p) + i) not in support:\n",
    "                support = np.append(support, (i * p) + i)\n",
    "        supp_compl = np.setdiff1d(full_support, support)\n",
    "\n",
    "        if len(supp_compl) == 0:\n",
    "            weak_irrep_4[seed - offset, index] = -2\n",
    "        \n",
    "        else:\n",
    "            true_M = simulate_M(bernoulli_matrix=bernoulli_matrix, seed=seed, p=p)\n",
    "\n",
    "            true_cov = solve_continuous_lyapunov(a=true_M, q=-C)\n",
    "            true_mean = (b * np.linalg.inv(a=true_M)).dot(unit_v)\n",
    "\n",
    "            obs = np.random.multivariate_normal(mean = true_mean, cov = true_cov, size = num_sim)\n",
    "            emp_cov = np.cov(obs, rowvar=False)\n",
    "            emp_mean = np.mean(obs, axis=0)\n",
    "\n",
    "            emp_A_Sigma = create_A_Sigma(cov=emp_cov, p=p)\n",
    "            emp_A = create_A(A_Sigma=emp_A_Sigma, mean=emp_mean, p=p)\n",
    "            emp_A = np.float64(emp_A)\n",
    "\n",
    "            irrep_condition = weak_irrep_cond(M=true_M, A=emp_A, supp=support, supp_compl=supp_compl)\n",
    "\n",
    "            weak_irrep_4[seed - offset, index] = irrep_condition\n",
    "\n",
    "print(\"Complete graph: \", np.sum(weak_irrep_4 == -2, axis=0))\n",
    "print(\"Singular Gram matrix: \", np.sum(weak_irrep_4 == -1, axis=0))\n",
    "print(\"Irrepresentability condition satisfied: \", (np.sum(weak_irrep_4 <= 1, axis=0) - np.sum(weak_irrep_4 == -2, axis=0) - np.sum(weak_irrep_4 == -1, axis=0)))"
   ]
  },
  {
   "cell_type": "markdown",
   "metadata": {},
   "source": [
    "### 5 nodes - Irrepresentability condition"
   ]
  },
  {
   "cell_type": "code",
   "execution_count": null,
   "metadata": {},
   "outputs": [],
   "source": [
    "p = 5\n",
    "offset = 120899\n",
    "d = [0.4, 0.5, 0.6, 0.7, 0.8, 0.9, 1]\n",
    "full_support = np.arange(p * p)\n",
    "\n",
    "C = 2 * np.eye(p)\n",
    "unit_v = np.eye(p)[:, index_intervention]\n",
    "\n",
    "irrep_5 = np.empty(shape=(num_exp, len(d)), dtype=object)\n",
    "\n",
    "for index in range(len(d)):\n",
    "    for seed in range(offset, num_exp + offset):\n",
    "        np.random.seed(seed=seed)\n",
    "        bernoulli_matrix = np.random.binomial(1, d[index], (p, p))\n",
    "\n",
    "        support = (np.nonzero(bernoulli_matrix.flatten() != 0))[0]\n",
    "        for i in range(p):\n",
    "            if ((i * p) + i) not in support:\n",
    "                support = np.append(support, (i * p) + i)\n",
    "        supp_compl = np.setdiff1d(full_support, support)\n",
    "\n",
    "        if len(supp_compl) == 0:\n",
    "            irrep_5[seed - offset, index] = -2\n",
    "        \n",
    "        else:\n",
    "            true_M = simulate_M(bernoulli_matrix=bernoulli_matrix, seed=seed, p=p)\n",
    "\n",
    "            true_cov = solve_continuous_lyapunov(a=true_M, q=-C)\n",
    "            true_mean = (b * np.linalg.inv(a=true_M)).dot(unit_v)\n",
    "\n",
    "            obs = np.random.multivariate_normal(mean = true_mean, cov = true_cov, size = num_sim)\n",
    "            emp_cov = np.cov(obs, rowvar=False)\n",
    "            emp_mean = np.mean(obs, axis=0)\n",
    "\n",
    "            emp_A_Sigma = create_A_Sigma(cov=emp_cov, p=p)\n",
    "            emp_A = create_A(A_Sigma=emp_A_Sigma, mean=emp_mean, p=p)\n",
    "            emp_A = np.float64(emp_A)\n",
    "\n",
    "            irrep_condition = irrep_cond(A=emp_A, supp=support, supp_compl=supp_compl)\n",
    "\n",
    "            irrep_5[seed - offset, index] = irrep_condition\n",
    "\n",
    "print(\"Complete graph: \", np.sum(irrep_5 == -2, axis=0))\n",
    "print(\"Singular Gram matrix: \", np.sum(irrep_5 == -1, axis=0))\n",
    "print(\"Irrepresentability condition satisfied: \", (np.sum(irrep_5 < 1, axis=0) - np.sum(irrep_5 == -2, axis=0) - np.sum(irrep_5 == -1, axis=0)))"
   ]
  },
  {
   "cell_type": "markdown",
   "metadata": {},
   "source": [
    "### 5 nodes - Weak irrepresentability condition"
   ]
  },
  {
   "cell_type": "code",
   "execution_count": null,
   "metadata": {},
   "outputs": [],
   "source": [
    "p = 5\n",
    "offset = 120899\n",
    "d = [0.4, 0.5, 0.6, 0.7, 0.8, 0.9, 1]\n",
    "full_support = np.arange(p * p)\n",
    "\n",
    "C = 2 * np.eye(p)\n",
    "unit_v = np.eye(p)[:, index_intervention]\n",
    "\n",
    "weak_irrep_5 = np.empty(shape=(num_exp, len(d)), dtype=object)\n",
    "\n",
    "for index in range(len(d)):\n",
    "    for seed in range(offset, num_exp + offset):\n",
    "        np.random.seed(seed=seed)\n",
    "        bernoulli_matrix = np.random.binomial(1, d[index], (p, p))\n",
    "\n",
    "        support = (np.nonzero(bernoulli_matrix.flatten() != 0))[0]\n",
    "        for i in range(p):\n",
    "            if ((i * p) + i) not in support:\n",
    "                support = np.append(support, (i * p) + i)\n",
    "        supp_compl = np.setdiff1d(full_support, support)\n",
    "\n",
    "        if len(supp_compl) == 0:\n",
    "            weak_irrep_5[seed - offset, index] = -2\n",
    "        \n",
    "        else:\n",
    "            true_M = simulate_M(bernoulli_matrix=bernoulli_matrix, seed=seed, p=p)\n",
    "\n",
    "            true_cov = solve_continuous_lyapunov(a=true_M, q=-C)\n",
    "            true_mean = (b * np.linalg.inv(a=true_M)).dot(unit_v)\n",
    "\n",
    "            obs = np.random.multivariate_normal(mean = true_mean, cov = true_cov, size = num_sim)\n",
    "            emp_cov = np.cov(obs, rowvar=False)\n",
    "            emp_mean = np.mean(obs, axis=0)\n",
    "\n",
    "            emp_A_Sigma = create_A_Sigma(cov=emp_cov, p=p)\n",
    "            emp_A = create_A(A_Sigma=emp_A_Sigma, mean=emp_mean, p=p)\n",
    "            emp_A = np.float64(emp_A)\n",
    "\n",
    "            irrep_condition = weak_irrep_cond(M=true_M, A=emp_A, supp=support, supp_compl=supp_compl)\n",
    "\n",
    "            weak_irrep_5[seed - offset, index] = irrep_condition\n",
    "\n",
    "print(\"Complete graph: \", np.sum(weak_irrep_5 == -2, axis=0))\n",
    "print(\"Singular Gram matrix: \", np.sum(weak_irrep_5 == -1, axis=0))\n",
    "print(\"Irrepresentability condition satisfied: \", (np.sum(weak_irrep_5 <= 1, axis=0) - np.sum(weak_irrep_5 == -2, axis=0) - np.sum(weak_irrep_5 == -1, axis=0)))"
   ]
  },
  {
   "cell_type": "markdown",
   "metadata": {},
   "source": [
    "## Specify graphs"
   ]
  },
  {
   "cell_type": "markdown",
   "metadata": {},
   "source": [
    "### 1 edge\n",
    "Graph with 2 nodes and edge $1\\to 2$ present, meaning $m_{21} \\neq 0$ and $m_{12} = 0$."
   ]
  },
  {
   "cell_type": "code",
   "execution_count": 2,
   "metadata": {},
   "outputs": [
    {
     "name": "stdout",
     "output_type": "stream",
     "text": [
      "Singular Gram matrix:  0\n",
      "Irrepresentability condition satisfied:  29864\n"
     ]
    }
   ],
   "source": [
    "p = 2\n",
    "offset = 12\n",
    "index_zero = np.array([[0, 1]])\n",
    "support = np.array([0, 2, 3])\n",
    "supp_compl = np.array([1])\n",
    "\n",
    "C = 2 * np.eye(p)\n",
    "unit_v = np.eye(p)[:, index_intervention]\n",
    "\n",
    "irrep_1edge = np.empty(shape=(num_exp), dtype=object)\n",
    "\n",
    "for seed in range(offset, num_exp + offset):\n",
    "    true_M = simulate_full_M(seed=seed, p=p)\n",
    "    true_M[index_zero[:, 0], index_zero[:, 1]] = 0\n",
    "\n",
    "    true_cov = solve_continuous_lyapunov(a=true_M, q=-C)\n",
    "    true_mean = (b * np.linalg.inv(a=true_M)).dot(unit_v)\n",
    "\n",
    "    obs = np.random.multivariate_normal(mean = true_mean, cov = true_cov, size = num_sim)\n",
    "    emp_cov = np.cov(obs, rowvar=False)\n",
    "    emp_mean = np.mean(obs, axis=0)\n",
    "\n",
    "    emp_A_Sigma = create_A_Sigma(cov=emp_cov, p=p)\n",
    "    emp_A = create_A(A_Sigma=emp_A_Sigma, mean=emp_mean, p=p)\n",
    "    emp_A = np.float64(emp_A)\n",
    "\n",
    "    irrep_condition = irrep_cond(A=emp_A, supp=support, supp_compl=supp_compl)\n",
    "\n",
    "    irrep_1edge[seed - offset] = irrep_condition\n",
    "\n",
    "print(\"Singular Gram matrix: \", np.sum(irrep_1edge == -1, axis=0))\n",
    "print(\"Irrepresentability condition satisfied: \", (np.sum(irrep_1edge < 1, axis=0) - np.sum(irrep_1edge == -1, axis=0)))"
   ]
  },
  {
   "cell_type": "markdown",
   "metadata": {},
   "source": [
    "**2.** Graph with 3 nodes and edges $1\\to 2$ and $2\\to 3$ present, meaning $m_{21} \\neq 0$ and $m_{32} \\neq 0$."
   ]
  },
  {
   "cell_type": "code",
   "execution_count": 3,
   "metadata": {},
   "outputs": [
    {
     "name": "stdout",
     "output_type": "stream",
     "text": [
      "Singular Gram matrix:  0\n",
      "Irrepresentability condition satisfied:  4120\n"
     ]
    }
   ],
   "source": [
    "p = 3\n",
    "offset = 1208\n",
    "index_zero = np.array([[0, 1], [0, 2], [1, 2], [2, 0]])\n",
    "support = np.array([0, 3, 4, 7, 8])\n",
    "supp_compl = np.array([1, 2, 5, 6])\n",
    "\n",
    "C = 2 * np.eye(p)\n",
    "unit_v = np.eye(p)[:, index_intervention]\n",
    "\n",
    "irrep_2edges_2 = np.empty(shape=(num_exp), dtype=object)\n",
    "\n",
    "for seed in range(offset, num_exp + offset):\n",
    "    true_M = simulate_full_M(seed=seed, p=p)\n",
    "    true_M[index_zero[:, 0], index_zero[:, 1]] = 0\n",
    "\n",
    "    true_cov = solve_continuous_lyapunov(a=true_M, q=-C)\n",
    "    true_mean = (b * np.linalg.inv(a=true_M)).dot(unit_v)\n",
    "\n",
    "    obs = np.random.multivariate_normal(mean = true_mean, cov = true_cov, size = num_sim)\n",
    "    emp_cov = np.cov(obs, rowvar=False)\n",
    "    emp_mean = np.mean(obs, axis=0)\n",
    "\n",
    "    emp_A_Sigma = create_A_Sigma(cov=emp_cov, p=p)\n",
    "    emp_A = create_A(A_Sigma=emp_A_Sigma, mean=emp_mean, p=p)\n",
    "    emp_A = np.float64(emp_A)\n",
    "\n",
    "    irrep_condition = irrep_cond(A=emp_A, supp=support, supp_compl=supp_compl)\n",
    "\n",
    "    irrep_2edges_2[seed - offset] = irrep_condition\n",
    "\n",
    "print(\"Singular Gram matrix: \", np.sum(irrep_2edges_2 == -1, axis=0))\n",
    "print(\"Irrepresentability condition satisfied: \", (np.sum(irrep_2edges_2 < 1, axis=0) - np.sum(irrep_2edges_2 == -1, axis=0)))"
   ]
  },
  {
   "cell_type": "markdown",
   "metadata": {},
   "source": [
    "**3.** Graph with 3 nodes and edges $1\\to 2$ and $3\\to 2$ present, meaning $m_{21} \\neq 0$ and $m_{23} \\neq 0$."
   ]
  },
  {
   "cell_type": "code",
   "execution_count": 4,
   "metadata": {},
   "outputs": [
    {
     "name": "stdout",
     "output_type": "stream",
     "text": [
      "Singular Gram matrix:  0\n",
      "Irrepresentability condition satisfied:  20150\n"
     ]
    }
   ],
   "source": [
    "p = 3\n",
    "offset = 1208\n",
    "index_zero = np.array([[0, 1], [0, 2], [2, 0], [2, 1]])\n",
    "support = np.array([0, 3, 4, 5, 8])\n",
    "supp_compl = np.array([1, 2, 6, 7])\n",
    "\n",
    "C = 2 * np.eye(p)\n",
    "unit_v = np.eye(p)[:, index_intervention]\n",
    "\n",
    "irrep_2edges_3 = np.empty(shape=(num_exp), dtype=object)\n",
    "\n",
    "for seed in range(offset, num_exp + offset):\n",
    "    true_M = simulate_full_M(seed=seed, p=p)\n",
    "    true_M[index_zero[:, 0], index_zero[:, 1]] = 0\n",
    "\n",
    "    true_cov = solve_continuous_lyapunov(a=true_M, q=-C)\n",
    "    true_mean = (b * np.linalg.inv(a=true_M)).dot(unit_v)\n",
    "\n",
    "    obs = np.random.multivariate_normal(mean = true_mean, cov = true_cov, size = num_sim)\n",
    "    emp_cov = np.cov(obs, rowvar=False)\n",
    "    emp_mean = np.mean(obs, axis=0)\n",
    "\n",
    "    emp_A_Sigma = create_A_Sigma(cov=emp_cov, p=p)\n",
    "    emp_A = create_A(A_Sigma=emp_A_Sigma, mean=emp_mean, p=p)\n",
    "    emp_A = np.float64(emp_A)\n",
    "\n",
    "    irrep_condition = irrep_cond(A=emp_A, supp=support, supp_compl=supp_compl)\n",
    "\n",
    "    irrep_2edges_3[seed - offset] = irrep_condition\n",
    "\n",
    "print(\"Singular Gram matrix: \", np.sum(irrep_2edges_3 == -1, axis=0))\n",
    "print(\"Irrepresentability condition satisfied: \", (np.sum(irrep_2edges_3 < 1, axis=0) - np.sum(irrep_2edges_3 == -1, axis=0)))"
   ]
  },
  {
   "cell_type": "markdown",
   "metadata": {},
   "source": [
    "### 3 edges - 3 nodes\n",
    "**1.** Graph with 3 nodes and edges $1\\to 2$, $2\\to 3$, and $3\\to 2$ present, meaning $m_{21} \\neq 0$, $m_{32} \\neq 0$, and $m_{23} \\neq 0$.\n",
    "\n",
    "Not present are edges $2\\to 1$, $1\\to 3$, and $3\\to 1$, meaning $m_{12} = 0$, $m_{31} = 0$, and $m_{13} = 0$."
   ]
  },
  {
   "cell_type": "code",
   "execution_count": 5,
   "metadata": {},
   "outputs": [
    {
     "name": "stdout",
     "output_type": "stream",
     "text": [
      "Singular Gram matrix:  0\n",
      "Irrepresentability condition satisfied:  0\n"
     ]
    }
   ],
   "source": [
    "p = 3\n",
    "offset = 1208\n",
    "index_zero = np.array([[0, 1], [0, 2], [2, 0]])\n",
    "support = np.array([0, 3, 4, 5, 7, 8])\n",
    "supp_compl = np.array([1, 2, 6])\n",
    "\n",
    "C = 2 * np.eye(p)\n",
    "unit_v = np.eye(p)[:, index_intervention]\n",
    "\n",
    "irrep_3edges_1 = np.empty(shape=(num_exp), dtype=object)\n",
    "\n",
    "for seed in range(offset, num_exp + offset):\n",
    "    true_M = simulate_full_M(seed=seed, p=p)\n",
    "    true_M[index_zero[:, 0], index_zero[:, 1]] = 0\n",
    "\n",
    "    true_cov = solve_continuous_lyapunov(a=true_M, q=-C)\n",
    "    true_mean = (b * np.linalg.inv(a=true_M)).dot(unit_v)\n",
    "\n",
    "    obs = np.random.multivariate_normal(mean = true_mean, cov = true_cov, size = num_sim)\n",
    "    emp_cov = np.cov(obs, rowvar=False)\n",
    "    emp_mean = np.mean(obs, axis=0)\n",
    "\n",
    "    emp_A_Sigma = create_A_Sigma(cov=emp_cov, p=p)\n",
    "    emp_A = create_A(A_Sigma=emp_A_Sigma, mean=emp_mean, p=p)\n",
    "    emp_A = np.float64(emp_A)\n",
    "\n",
    "    irrep_condition = irrep_cond(A=emp_A, supp=support, supp_compl=supp_compl)\n",
    "\n",
    "    irrep_3edges_1[seed - offset] = irrep_condition\n",
    "\n",
    "print(\"Singular Gram matrix: \", np.sum(irrep_3edges_1 == -1, axis=0))\n",
    "print(\"Irrepresentability condition satisfied: \", (np.sum(irrep_3edges_1 < 1, axis=0) - np.sum(irrep_3edges_1 == -1, axis=0)))"
   ]
  },
  {
   "cell_type": "markdown",
   "metadata": {},
   "source": [
    "**2.** Graph with 3 nodes and edges $2\\to 1$, $2\\to 3$, and $3\\to 2$ present, meaning $m_{12} \\neq 0$, $m_{32} \\neq 0$, and $m_{23} \\neq 0$.\n",
    "\n",
    "Not present are edges $1\\to 2$, $1\\to 3$, and $3\\to 1$, meaning $m_{21} = 0$, $m_{31} = 0$, and $m_{13} = 0$."
   ]
  },
  {
   "cell_type": "code",
   "execution_count": 6,
   "metadata": {},
   "outputs": [
    {
     "name": "stdout",
     "output_type": "stream",
     "text": [
      "Singular Gram matrix:  0\n",
      "Irrepresentability condition satisfied:  0\n"
     ]
    }
   ],
   "source": [
    "p = 3\n",
    "offset = 1208\n",
    "index_zero = np.array([[0, 2], [1, 0], [2, 0]])\n",
    "support = np.array([0, 1, 4, 5, 7, 8])\n",
    "supp_compl = np.array([2, 3, 6])\n",
    "\n",
    "C = 2 * np.eye(p)\n",
    "unit_v = np.eye(p)[:, index_intervention]\n",
    "\n",
    "irrep_3edges_2 = np.empty(shape=(num_exp), dtype=object)\n",
    "\n",
    "for seed in range(offset, num_exp + offset):\n",
    "    true_M = simulate_full_M(seed=seed, p=p)\n",
    "    true_M[index_zero[:, 0], index_zero[:, 1]] = 0\n",
    "\n",
    "    true_cov = solve_continuous_lyapunov(a=true_M, q=-C)\n",
    "    true_mean = (b * np.linalg.inv(a=true_M)).dot(unit_v)\n",
    "\n",
    "    obs = np.random.multivariate_normal(mean = true_mean, cov = true_cov, size = num_sim)\n",
    "    emp_cov = np.cov(obs, rowvar=False)\n",
    "    emp_mean = np.mean(obs, axis=0)\n",
    "\n",
    "    emp_A_Sigma = create_A_Sigma(cov=emp_cov, p=p)\n",
    "    emp_A = create_A(A_Sigma=emp_A_Sigma, mean=emp_mean, p=p)\n",
    "    emp_A = np.float64(emp_A)\n",
    "\n",
    "    irrep_condition = irrep_cond(A=emp_A, supp=support, supp_compl=supp_compl)\n",
    "\n",
    "    irrep_3edges_2[seed - offset] = irrep_condition\n",
    "\n",
    "print(\"Singular Gram matrix: \", np.sum(irrep_3edges_2 == -1, axis=0))\n",
    "print(\"Irrepresentability condition satisfied: \", (np.sum(irrep_3edges_2 < 1, axis=0) - np.sum(irrep_3edges_2 == -1, axis=0)))"
   ]
  },
  {
   "cell_type": "markdown",
   "metadata": {},
   "source": [
    "**3.** Graph with 3 nodes and edges $1\\to 2$, $2\\to 3$, and $3\\to 1$ present, meaning $m_{21} \\neq 0$, $m_{32} \\neq 0$, and $m_{13} \\neq 0$.\n",
    "\n",
    "Not present are edges $1\\to 3$, $2\\to 1$, and $3\\to 2$, meaning $m_{31} = 0$, $m_{12} = 0$, and $m_{23} = 0$."
   ]
  },
  {
   "cell_type": "code",
   "execution_count": 7,
   "metadata": {},
   "outputs": [
    {
     "name": "stdout",
     "output_type": "stream",
     "text": [
      "Singular Gram matrix:  0\n",
      "Irrepresentability condition satisfied:  53\n"
     ]
    }
   ],
   "source": [
    "p = 3\n",
    "offset = 1208\n",
    "index_zero = np.array([[0, 1], [1, 2], [2, 0]])\n",
    "support = np.array([0, 2, 3, 4, 7, 8])\n",
    "supp_compl = np.array([1, 5, 6])\n",
    "\n",
    "C = 2 * np.eye(p)\n",
    "unit_v = np.eye(p)[:, index_intervention]\n",
    "\n",
    "irrep_3edges_3 = np.empty(shape=(num_exp), dtype=object)\n",
    "\n",
    "for seed in range(offset, num_exp + offset):\n",
    "    true_M = simulate_full_M(seed=seed, p=p)\n",
    "    true_M[index_zero[:, 0], index_zero[:, 1]] = 0\n",
    "\n",
    "    true_cov = solve_continuous_lyapunov(a=true_M, q=-C)\n",
    "    true_mean = (b * np.linalg.inv(a=true_M)).dot(unit_v)\n",
    "\n",
    "    obs = np.random.multivariate_normal(mean = true_mean, cov = true_cov, size = num_sim)\n",
    "    emp_cov = np.cov(obs, rowvar=False)\n",
    "    emp_mean = np.mean(obs, axis=0)\n",
    "\n",
    "    emp_A_Sigma = create_A_Sigma(cov=emp_cov, p=p)\n",
    "    emp_A = create_A(A_Sigma=emp_A_Sigma, mean=emp_mean, p=p)\n",
    "    emp_A = np.float64(emp_A)\n",
    "\n",
    "    irrep_condition = irrep_cond(A=emp_A, supp=support, supp_compl=supp_compl)\n",
    "\n",
    "    irrep_3edges_3[seed - offset] = irrep_condition\n",
    "\n",
    "print(\"Singular Gram matrix: \", np.sum(irrep_3edges_3 == -1, axis=0))\n",
    "print(\"Irrepresentability condition satisfied: \", (np.sum(irrep_3edges_3 < 1, axis=0) - np.sum(irrep_3edges_3 == -1, axis=0)))"
   ]
  },
  {
   "cell_type": "markdown",
   "metadata": {},
   "source": [
    "**4.** Graph with 3 nodes and edges $1\\to 2$, $2\\to 3$, and $1\\to 3$ present, meaning $m_{21} \\neq 0$, $m_{31} \\neq 0$, and $m_{32} \\neq 0$.\n",
    "\n",
    "Not present are edges $3\\to 1$, $2\\to 1$, and $3\\to 2$, meaning $m_{13} = 0$, $m_{12} = 0$, and $m_{23} = 0$."
   ]
  },
  {
   "cell_type": "code",
   "execution_count": 8,
   "metadata": {},
   "outputs": [
    {
     "name": "stdout",
     "output_type": "stream",
     "text": [
      "Singular Gram matrix:  0\n",
      "Irrepresentability condition satisfied:  2960\n"
     ]
    }
   ],
   "source": [
    "p = 3\n",
    "offset = 1208\n",
    "index_zero = np.array([[0, 1], [0, 2], [1, 2]])\n",
    "support = np.array([0, 3, 4, 6, 7, 8])\n",
    "supp_compl = np.array([1, 2, 5])\n",
    "\n",
    "C = 2 * np.eye(p)\n",
    "unit_v = np.eye(p)[:, index_intervention]\n",
    "\n",
    "irrep_3edges_4 = np.empty(shape=(num_exp), dtype=object)\n",
    "\n",
    "for seed in range(offset, num_exp + offset):\n",
    "    true_M = simulate_full_M(seed=seed, p=p)\n",
    "    true_M[index_zero[:, 0], index_zero[:, 1]] = 0\n",
    "\n",
    "    true_cov = solve_continuous_lyapunov(a=true_M, q=-C)\n",
    "    true_mean = (b * np.linalg.inv(a=true_M)).dot(unit_v)\n",
    "\n",
    "    obs = np.random.multivariate_normal(mean = true_mean, cov = true_cov, size = num_sim)\n",
    "    emp_cov = np.cov(obs, rowvar=False)\n",
    "    emp_mean = np.mean(obs, axis=0)\n",
    "\n",
    "    emp_A_Sigma = create_A_Sigma(cov=emp_cov, p=p)\n",
    "    emp_A = create_A(A_Sigma=emp_A_Sigma, mean=emp_mean, p=p)\n",
    "    emp_A = np.float64(emp_A)\n",
    "\n",
    "    irrep_condition = irrep_cond(A=emp_A, supp=support, supp_compl=supp_compl)\n",
    "\n",
    "    irrep_3edges_4[seed - offset] = irrep_condition\n",
    "\n",
    "print(\"Singular Gram matrix: \", np.sum(irrep_3edges_4 == -1, axis=0))\n",
    "print(\"Irrepresentability condition satisfied: \", (np.sum(irrep_3edges_4 < 1, axis=0) - np.sum(irrep_3edges_4 == -1, axis=0)))"
   ]
  },
  {
   "cell_type": "markdown",
   "metadata": {},
   "source": [
    "### 3 edges - 4 nodes\n",
    "**5.** Graph with 4 nodes and edges $1\\to 2$, $1\\to 4$, and $4\\to 3$ present, meaning $m_{21} \\neq 0$, $m_{41} \\neq 0$, and $m_{34} \\neq 0$."
   ]
  },
  {
   "cell_type": "code",
   "execution_count": 9,
   "metadata": {},
   "outputs": [
    {
     "name": "stdout",
     "output_type": "stream",
     "text": [
      "Singular Gram matrix:  0\n",
      "Irrepresentability condition satisfied:  2240\n"
     ]
    }
   ],
   "source": [
    "p = 4\n",
    "offset = 1208\n",
    "index_zero = np.array([[0, 1], [0, 2], [0, 3], [1, 2], [1, 3], [2, 0], [2, 1], [3, 1], [3, 2]])\n",
    "support = np.array([0, 4, 5, 10, 11, 12, 15])\n",
    "supp_compl = np.array([1, 2, 3, 6, 7, 8, 9, 13, 14])\n",
    "\n",
    "C = 2 * np.eye(p)\n",
    "unit_v = np.eye(p)[:, index_intervention]\n",
    "\n",
    "irrep_3edges_5 = np.empty(shape=(num_exp), dtype=object)\n",
    "\n",
    "for seed in range(offset, num_exp + offset):\n",
    "    true_M = simulate_full_M(seed=seed, p=p)\n",
    "    true_M[index_zero[:, 0], index_zero[:, 1]] = 0\n",
    "\n",
    "    true_cov = solve_continuous_lyapunov(a=true_M, q=-C)\n",
    "    true_mean = (b * np.linalg.inv(a=true_M)).dot(unit_v)\n",
    "\n",
    "    obs = np.random.multivariate_normal(mean = true_mean, cov = true_cov, size = num_sim)\n",
    "    emp_cov = np.cov(obs, rowvar=False)\n",
    "    emp_mean = np.mean(obs, axis=0)\n",
    "\n",
    "    emp_A_Sigma = create_A_Sigma(cov=emp_cov, p=p)\n",
    "    emp_A = create_A(A_Sigma=emp_A_Sigma, mean=emp_mean, p=p)\n",
    "    emp_A = np.float64(emp_A)\n",
    "\n",
    "    irrep_condition = irrep_cond(A=emp_A, supp=support, supp_compl=supp_compl)\n",
    "\n",
    "    irrep_3edges_5[seed - offset] = irrep_condition\n",
    "\n",
    "print(\"Singular Gram matrix: \", np.sum(irrep_3edges_5 == -1, axis=0))\n",
    "print(\"Irrepresentability condition satisfied: \", (np.sum(irrep_3edges_5 < 1, axis=0) - np.sum(irrep_3edges_5 == -1, axis=0)))"
   ]
  },
  {
   "cell_type": "markdown",
   "metadata": {},
   "source": [
    "**6.** Graph with 4 nodes and edges $2\\to 1$, $1\\to 4$, and $4\\to 3$ present, meaning $m_{12} \\neq 0$, $m_{41} \\neq 0$, and $m_{34} \\neq 0$."
   ]
  },
  {
   "cell_type": "code",
   "execution_count": 10,
   "metadata": {},
   "outputs": [
    {
     "name": "stdout",
     "output_type": "stream",
     "text": [
      "Singular Gram matrix:  0\n",
      "Irrepresentability condition satisfied:  2608\n"
     ]
    }
   ],
   "source": [
    "p = 4\n",
    "offset = 1208\n",
    "index_zero = np.array([[0, 2], [0, 3], [1, 0], [1, 2], [1, 3], [2, 0], [2, 1], [3, 1], [3, 2]])\n",
    "support = np.array([0, 1, 5, 10, 11, 12, 15])\n",
    "supp_compl = np.array([2, 3, 4, 6, 7, 8, 9, 13, 14])\n",
    "\n",
    "C = 2 * np.eye(p)\n",
    "unit_v = np.eye(p)[:, index_intervention]\n",
    "\n",
    "irrep_3edges_6 = np.empty(shape=(num_exp), dtype=object)\n",
    "\n",
    "for seed in range(offset, num_exp + offset):\n",
    "    true_M = simulate_full_M(seed=seed, p=p)\n",
    "    true_M[index_zero[:, 0], index_zero[:, 1]] = 0\n",
    "\n",
    "    true_cov = solve_continuous_lyapunov(a=true_M, q=-C)\n",
    "    true_mean = (b * np.linalg.inv(a=true_M)).dot(unit_v)\n",
    "\n",
    "    obs = np.random.multivariate_normal(mean = true_mean, cov = true_cov, size = num_sim)\n",
    "    emp_cov = np.cov(obs, rowvar=False)\n",
    "    emp_mean = np.mean(obs, axis=0)\n",
    "\n",
    "    emp_A_Sigma = create_A_Sigma(cov=emp_cov, p=p)\n",
    "    emp_A = create_A(A_Sigma=emp_A_Sigma, mean=emp_mean, p=p)\n",
    "    emp_A = np.float64(emp_A)\n",
    "\n",
    "    irrep_condition = irrep_cond(A=emp_A, supp=support, supp_compl=supp_compl)\n",
    "\n",
    "    irrep_3edges_6[seed - offset] = irrep_condition\n",
    "\n",
    "print(\"Singular Gram matrix: \", np.sum(irrep_3edges_6 == -1, axis=0))\n",
    "print(\"Irrepresentability condition satisfied: \", (np.sum(irrep_3edges_6 < 1, axis=0) - np.sum(irrep_3edges_6 == -1, axis=0)))"
   ]
  },
  {
   "cell_type": "markdown",
   "metadata": {},
   "source": [
    "**7.** Graph with 4 nodes and edges $2\\to 1$, $3\\to 1$, and $4\\to 1$ present, meaning $m_{12} \\neq 0$, $m_{13} \\neq 0$, and $m_{14} \\neq 0$."
   ]
  },
  {
   "cell_type": "code",
   "execution_count": 11,
   "metadata": {},
   "outputs": [
    {
     "name": "stdout",
     "output_type": "stream",
     "text": [
      "Singular Gram matrix:  0\n",
      "Irrepresentability condition satisfied:  74043\n"
     ]
    }
   ],
   "source": [
    "p = 4\n",
    "offset = 1208\n",
    "index_zero = np.array([[1, 0], [1, 2], [1, 3], [2, 0], [2, 1], [2, 3], [3, 0], [3, 1], [3, 2]])\n",
    "support = np.array([0, 1, 2, 3, 5, 10, 15])\n",
    "supp_compl = np.array([4, 6, 7, 8, 9, 11, 12, 13, 14])\n",
    "\n",
    "C = 2 * np.eye(p)\n",
    "unit_v = np.eye(p)[:, index_intervention]\n",
    "\n",
    "irrep_3edges_7 = np.empty(shape=(num_exp), dtype=object)\n",
    "\n",
    "for seed in range(offset, num_exp + offset):\n",
    "    true_M = simulate_full_M(seed=seed, p=p)\n",
    "    true_M[index_zero[:, 0], index_zero[:, 1]] = 0\n",
    "\n",
    "    true_cov = solve_continuous_lyapunov(a=true_M, q=-C)\n",
    "    true_mean = (b * np.linalg.inv(a=true_M)).dot(unit_v)\n",
    "\n",
    "    obs = np.random.multivariate_normal(mean = true_mean, cov = true_cov, size = num_sim)\n",
    "    emp_cov = np.cov(obs, rowvar=False)\n",
    "    emp_mean = np.mean(obs, axis=0)\n",
    "\n",
    "    emp_A_Sigma = create_A_Sigma(cov=emp_cov, p=p)\n",
    "    emp_A = create_A(A_Sigma=emp_A_Sigma, mean=emp_mean, p=p)\n",
    "    emp_A = np.float64(emp_A)\n",
    "\n",
    "    irrep_condition = irrep_cond(A=emp_A, supp=support, supp_compl=supp_compl)\n",
    "\n",
    "    irrep_3edges_7[seed - offset] = irrep_condition\n",
    "\n",
    "print(\"Singular Gram matrix: \", np.sum(irrep_3edges_7 == -1, axis=0))\n",
    "print(\"Irrepresentability condition satisfied: \", (np.sum(irrep_3edges_7 < 1, axis=0) - np.sum(irrep_3edges_7 == -1, axis=0)))"
   ]
  },
  {
   "cell_type": "markdown",
   "metadata": {},
   "source": [
    "**8.** Graph with 4 nodes and edges $2\\to 1$, $1\\to 3$, and $4\\to 1$ present, meaning $m_{12} \\neq 0$, $m_{31} \\neq 0$, and $m_{14} \\neq 0$."
   ]
  },
  {
   "cell_type": "code",
   "execution_count": 12,
   "metadata": {},
   "outputs": [
    {
     "name": "stdout",
     "output_type": "stream",
     "text": [
      "Singular Gram matrix:  0\n",
      "Irrepresentability condition satisfied:  15830\n"
     ]
    }
   ],
   "source": [
    "p = 4\n",
    "offset = 1208\n",
    "index_zero = np.array([[0, 2], [1, 0], [1, 2], [1, 3], [2, 1], [2, 3], [3, 0], [3, 1], [3, 2]])\n",
    "support = np.array([0, 1, 3, 5, 8, 10, 15])\n",
    "supp_compl = np.array([2, 4, 6, 7, 9, 11, 12, 13, 14])\n",
    "\n",
    "C = 2 * np.eye(p)\n",
    "unit_v = np.eye(p)[:, index_intervention]\n",
    "\n",
    "irrep_3edges_8 = np.empty(shape=(num_exp), dtype=object)\n",
    "\n",
    "for seed in range(offset, num_exp + offset):\n",
    "    true_M = simulate_full_M(seed=seed, p=p)\n",
    "    true_M[index_zero[:, 0], index_zero[:, 1]] = 0\n",
    "\n",
    "    true_cov = solve_continuous_lyapunov(a=true_M, q=-C)\n",
    "    true_mean = (b * np.linalg.inv(a=true_M)).dot(unit_v)\n",
    "\n",
    "    obs = np.random.multivariate_normal(mean = true_mean, cov = true_cov, size = num_sim)\n",
    "    emp_cov = np.cov(obs, rowvar=False)\n",
    "    emp_mean = np.mean(obs, axis=0)\n",
    "\n",
    "    emp_A_Sigma = create_A_Sigma(cov=emp_cov, p=p)\n",
    "    emp_A = create_A(A_Sigma=emp_A_Sigma, mean=emp_mean, p=p)\n",
    "    emp_A = np.float64(emp_A)\n",
    "\n",
    "    irrep_condition = irrep_cond(A=emp_A, supp=support, supp_compl=supp_compl)\n",
    "\n",
    "    irrep_3edges_8[seed - offset] = irrep_condition\n",
    "\n",
    "print(\"Singular Gram matrix: \", np.sum(irrep_3edges_8 == -1, axis=0))\n",
    "print(\"Irrepresentability condition satisfied: \", (np.sum(irrep_3edges_8 < 1, axis=0) - np.sum(irrep_3edges_8 == -1, axis=0)))"
   ]
  },
  {
   "cell_type": "markdown",
   "metadata": {},
   "source": [
    "**9.** Graph with 4 nodes and edges $2\\to 1$, $2\\to 3$, and $4\\to 1$ present, meaning $m_{12} \\neq 0$, $m_{32} \\neq 0$, and $m_{14} \\neq 0$."
   ]
  },
  {
   "cell_type": "code",
   "execution_count": 13,
   "metadata": {},
   "outputs": [
    {
     "name": "stdout",
     "output_type": "stream",
     "text": [
      "Singular Gram matrix:  0\n",
      "Irrepresentability condition satisfied:  32792\n"
     ]
    }
   ],
   "source": [
    "p = 4\n",
    "offset = 1208\n",
    "index_zero = np.array([[0, 2], [1, 0], [1, 2], [1, 3], [2, 0], [2, 3], [3, 0], [3, 1], [3, 2]])\n",
    "support = np.array([0, 1, 3, 5, 9, 10, 15])\n",
    "supp_compl = np.array([2, 4, 6, 7, 8, 11, 12, 13, 14])\n",
    "\n",
    "C = 2 * np.eye(p)\n",
    "unit_v = np.eye(p)[:, index_intervention]\n",
    "\n",
    "irrep_3edges_9 = np.empty(shape=(num_exp), dtype=object)\n",
    "\n",
    "for seed in range(offset, num_exp + offset):\n",
    "    true_M = simulate_full_M(seed=seed, p=p)\n",
    "    true_M[index_zero[:, 0], index_zero[:, 1]] = 0\n",
    "\n",
    "    true_cov = solve_continuous_lyapunov(a=true_M, q=-C)\n",
    "    true_mean = (b * np.linalg.inv(a=true_M)).dot(unit_v)\n",
    "\n",
    "    obs = np.random.multivariate_normal(mean = true_mean, cov = true_cov, size = num_sim)\n",
    "    emp_cov = np.cov(obs, rowvar=False)\n",
    "    emp_mean = np.mean(obs, axis=0)\n",
    "\n",
    "    emp_A_Sigma = create_A_Sigma(cov=emp_cov, p=p)\n",
    "    emp_A = create_A(A_Sigma=emp_A_Sigma, mean=emp_mean, p=p)\n",
    "    emp_A = np.float64(emp_A)\n",
    "\n",
    "    irrep_condition = irrep_cond(A=emp_A, supp=support, supp_compl=supp_compl)\n",
    "\n",
    "    irrep_3edges_9[seed - offset] = irrep_condition\n",
    "\n",
    "print(\"Singular Gram matrix: \", np.sum(irrep_3edges_9 == -1, axis=0))\n",
    "print(\"Irrepresentability condition satisfied: \", (np.sum(irrep_3edges_9 < 1, axis=0) - np.sum(irrep_3edges_9 == -1, axis=0)))"
   ]
  },
  {
   "cell_type": "markdown",
   "metadata": {},
   "source": [
    "**10.** Graph with 4 nodes and edges $1\\to 2$, $1\\to 3$, and $1\\to 4$ present, meaning $m_{21} \\neq 0$, $m_{31} \\neq 0$, and $m_{41} \\neq 0$."
   ]
  },
  {
   "cell_type": "code",
   "execution_count": 14,
   "metadata": {},
   "outputs": [
    {
     "name": "stdout",
     "output_type": "stream",
     "text": [
      "Singular Gram matrix:  0\n",
      "Irrepresentability condition satisfied:  6840\n"
     ]
    }
   ],
   "source": [
    "p = 4\n",
    "offset = 1208\n",
    "index_zero = np.array([[0, 1], [0, 2], [0, 3], [1, 2], [1, 3], [2, 1], [2, 3], [3, 1], [3, 2]])\n",
    "support = np.array([0, 4, 5, 8, 10, 12, 15])\n",
    "supp_compl = np.array([1, 2, 3, 6, 7, 9, 11, 13, 14])\n",
    "\n",
    "C = 2 * np.eye(p)\n",
    "unit_v = np.eye(p)[:, index_intervention]\n",
    "\n",
    "irrep_3edges_10 = np.empty(shape=(num_exp), dtype=object)\n",
    "\n",
    "for seed in range(offset, num_exp + offset):\n",
    "    true_M = simulate_full_M(seed=seed, p=p)\n",
    "    true_M[index_zero[:, 0], index_zero[:, 1]] = 0\n",
    "\n",
    "    true_cov = solve_continuous_lyapunov(a=true_M, q=-C)\n",
    "    true_mean = (b * np.linalg.inv(a=true_M)).dot(unit_v)\n",
    "\n",
    "    obs = np.random.multivariate_normal(mean = true_mean, cov = true_cov, size = num_sim)\n",
    "    emp_cov = np.cov(obs, rowvar=False)\n",
    "    emp_mean = np.mean(obs, axis=0)\n",
    "\n",
    "    emp_A_Sigma = create_A_Sigma(cov=emp_cov, p=p)\n",
    "    emp_A = create_A(A_Sigma=emp_A_Sigma, mean=emp_mean, p=p)\n",
    "    emp_A = np.float64(emp_A)\n",
    "\n",
    "    irrep_condition = irrep_cond(A=emp_A, supp=support, supp_compl=supp_compl)\n",
    "\n",
    "    irrep_3edges_10[seed - offset] = irrep_condition\n",
    "\n",
    "print(\"Singular Gram matrix: \", np.sum(irrep_3edges_10 == -1, axis=0))\n",
    "print(\"Irrepresentability condition satisfied: \", (np.sum(irrep_3edges_10 < 1, axis=0) - np.sum(irrep_3edges_10 == -1, axis=0)))"
   ]
  },
  {
   "cell_type": "markdown",
   "metadata": {},
   "source": [
    "### 4 edges - 4 nodes\n",
    "**1.** Graph with 4 nodes and edges $1\\to 2$, $2\\to 3$, $3\\to 4$, and $4\\to 1$ present, meaning $m_{21} \\neq 0$, $m_{32} \\neq 0$, $m_{43} \\neq 0$, and $m_{14} \\neq 0$."
   ]
  },
  {
   "cell_type": "code",
   "execution_count": 15,
   "metadata": {},
   "outputs": [
    {
     "name": "stdout",
     "output_type": "stream",
     "text": [
      "Singular Gram matrix:  0\n",
      "Irrepresentability condition satisfied:  31\n"
     ]
    }
   ],
   "source": [
    "p = 4\n",
    "offset = 1208\n",
    "index_zero = np.array([[0, 1], [0, 2], [0, 3], [1, 2], [1, 3], [2, 1], [2, 3], [3, 1], [3, 2]])\n",
    "support = np.array([0, 3, 4, 5, 9, 10, 14, 15])\n",
    "supp_compl = np.array([1, 2, 6, 7, 8, 11, 12, 13])\n",
    "\n",
    "C = 2 * np.eye(p)\n",
    "unit_v = np.eye(p)[:, index_intervention]\n",
    "\n",
    "irrep_4edges_1 = np.empty(shape=(num_exp), dtype=object)\n",
    "\n",
    "for seed in range(offset, num_exp + offset):\n",
    "    true_M = simulate_full_M(seed=seed, p=p)\n",
    "    true_M[index_zero[:, 0], index_zero[:, 1]] = 0\n",
    "\n",
    "    true_cov = solve_continuous_lyapunov(a=true_M, q=-C)\n",
    "    true_mean = (b * np.linalg.inv(a=true_M)).dot(unit_v)\n",
    "\n",
    "    obs = np.random.multivariate_normal(mean = true_mean, cov = true_cov, size = num_sim)\n",
    "    emp_cov = np.cov(obs, rowvar=False)\n",
    "    emp_mean = np.mean(obs, axis=0)\n",
    "\n",
    "    emp_A_Sigma = create_A_Sigma(cov=emp_cov, p=p)\n",
    "    emp_A = create_A(A_Sigma=emp_A_Sigma, mean=emp_mean, p=p)\n",
    "    emp_A = np.float64(emp_A)\n",
    "\n",
    "    irrep_condition = irrep_cond(A=emp_A, supp=support, supp_compl=supp_compl)\n",
    "\n",
    "    irrep_4edges_1[seed - offset] = irrep_condition\n",
    "\n",
    "print(\"Singular Gram matrix: \", np.sum(irrep_4edges_1 == -1, axis=0))\n",
    "print(\"Irrepresentability condition satisfied: \", (np.sum(irrep_4edges_1 < 1, axis=0) - np.sum(irrep_4edges_1 == -1, axis=0)))"
   ]
  },
  {
   "cell_type": "markdown",
   "metadata": {},
   "source": [
    "**2.** Graph with 4 nodes and edges $1\\to 2$, $2\\to 1$, $2\\to 3$, and $4\\to 1$ present, meaning $m_{21} \\neq 0$, $m_{12} \\neq 0$, $m_{32} \\neq 0$, and $m_{14} \\neq 0$."
   ]
  },
  {
   "cell_type": "code",
   "execution_count": 16,
   "metadata": {},
   "outputs": [
    {
     "name": "stdout",
     "output_type": "stream",
     "text": [
      "Singular Gram matrix:  0\n",
      "Irrepresentability condition satisfied:  19175\n"
     ]
    }
   ],
   "source": [
    "p = 4\n",
    "offset = 1208\n",
    "index_zero = np.array([[0, 2], [1, 2], [1, 3], [2, 0], [2, 3], [3, 0], [3, 1], [3, 2]])\n",
    "support = np.array([0, 1, 3, 4, 5, 9, 10, 15])\n",
    "supp_compl = np.array([2, 6, 7, 8, 11, 12, 13, 14])\n",
    "\n",
    "C = 2 * np.eye(p)\n",
    "unit_v = np.eye(p)[:, index_intervention]\n",
    "\n",
    "irrep_4edges_2 = np.empty(shape=(num_exp), dtype=object)\n",
    "\n",
    "for seed in range(offset, num_exp + offset):\n",
    "    true_M = simulate_full_M(seed=seed, p=p)\n",
    "    true_M[index_zero[:, 0], index_zero[:, 1]] = 0\n",
    "\n",
    "    true_cov = solve_continuous_lyapunov(a=true_M, q=-C)\n",
    "    true_mean = (b * np.linalg.inv(a=true_M)).dot(unit_v)\n",
    "\n",
    "    obs = np.random.multivariate_normal(mean = true_mean, cov = true_cov, size = num_sim)\n",
    "    emp_cov = np.cov(obs, rowvar=False)\n",
    "    emp_mean = np.mean(obs, axis=0)\n",
    "\n",
    "    emp_A_Sigma = create_A_Sigma(cov=emp_cov, p=p)\n",
    "    emp_A = create_A(A_Sigma=emp_A_Sigma, mean=emp_mean, p=p)\n",
    "    emp_A = np.float64(emp_A)\n",
    "\n",
    "    irrep_condition = irrep_cond(A=emp_A, supp=support, supp_compl=supp_compl)\n",
    "\n",
    "    irrep_4edges_2[seed - offset] = irrep_condition\n",
    "\n",
    "print(\"Singular Gram matrix: \", np.sum(irrep_4edges_2 == -1, axis=0))\n",
    "print(\"Irrepresentability condition satisfied: \", (np.sum(irrep_4edges_2 < 1, axis=0) - np.sum(irrep_4edges_2 == -1, axis=0)))"
   ]
  },
  {
   "cell_type": "markdown",
   "metadata": {},
   "source": [
    "**3.** Graph with 4 nodes and edges $1\\to 2$, $2\\to 3$, $3\\to 4$, and $1\\to 4$ present, meaning $m_{21} \\neq 0$, $m_{32} \\neq 0$, $m_{43} \\neq 0$, and $m_{41} \\neq 0$."
   ]
  },
  {
   "cell_type": "code",
   "execution_count": 17,
   "metadata": {},
   "outputs": [
    {
     "name": "stdout",
     "output_type": "stream",
     "text": [
      "Singular Gram matrix:  0\n",
      "Irrepresentability condition satisfied:  343\n"
     ]
    }
   ],
   "source": [
    "p = 4\n",
    "offset = 1208\n",
    "index_zero = np.array([[0, 1], [0, 2], [0, 3], [1, 2], [1, 3], [2, 0], [2, 3], [3, 1]])\n",
    "support = np.array([0, 4, 5, 9, 10, 12, 14, 15])\n",
    "supp_compl = np.array([1, 2, 3, 6, 7, 8, 11, 13])\n",
    "\n",
    "C = 2 * np.eye(p)\n",
    "unit_v = np.eye(p)[:, index_intervention]\n",
    "\n",
    "irrep_4edges_3 = np.empty(shape=(num_exp), dtype=object)\n",
    "\n",
    "for seed in range(offset, num_exp + offset):\n",
    "    true_M = simulate_full_M(seed=seed, p=p)\n",
    "    true_M[index_zero[:, 0], index_zero[:, 1]] = 0\n",
    "\n",
    "    true_cov = solve_continuous_lyapunov(a=true_M, q=-C)\n",
    "    true_mean = (b * np.linalg.inv(a=true_M)).dot(unit_v)\n",
    "\n",
    "    obs = np.random.multivariate_normal(mean = true_mean, cov = true_cov, size = num_sim)\n",
    "    emp_cov = np.cov(obs, rowvar=False)\n",
    "    emp_mean = np.mean(obs, axis=0)\n",
    "\n",
    "    emp_A_Sigma = create_A_Sigma(cov=emp_cov, p=p)\n",
    "    emp_A = create_A(A_Sigma=emp_A_Sigma, mean=emp_mean, p=p)\n",
    "    emp_A = np.float64(emp_A)\n",
    "\n",
    "    irrep_condition = irrep_cond(A=emp_A, supp=support, supp_compl=supp_compl)\n",
    "\n",
    "    irrep_4edges_3[seed - offset] = irrep_condition\n",
    "\n",
    "print(\"Singular Gram matrix: \", np.sum(irrep_4edges_3 == -1, axis=0))\n",
    "print(\"Irrepresentability condition satisfied: \", (np.sum(irrep_4edges_3 < 1, axis=0) - np.sum(irrep_4edges_3 == -1, axis=0)))"
   ]
  },
  {
   "cell_type": "markdown",
   "metadata": {},
   "source": [
    "**4.** Graph with 4 nodes and edges $1\\to 2$, $3\\to 2$, $3\\to 4$, and $1\\to 4$ present, meaning $m_{21} \\neq 0$, $m_{23} \\neq 0$, $m_{43} \\neq 0$, and $m_{41} \\neq 0$."
   ]
  },
  {
   "cell_type": "code",
   "execution_count": 18,
   "metadata": {},
   "outputs": [
    {
     "name": "stdout",
     "output_type": "stream",
     "text": [
      "Singular Gram matrix:  0\n",
      "Irrepresentability condition satisfied:  5762\n"
     ]
    }
   ],
   "source": [
    "p = 4\n",
    "offset = 1208\n",
    "index_zero = np.array([[0, 1], [0, 2], [0, 3], [1, 3], [2, 0], [2, 1], [2, 3], [3, 1]])\n",
    "support = np.array([0, 4, 5, 6, 10, 12, 14, 15])\n",
    "supp_compl = np.array([1, 2, 3, 7, 8, 9, 11, 13])\n",
    "\n",
    "C = 2 * np.eye(p)\n",
    "unit_v = np.eye(p)[:, index_intervention]\n",
    "\n",
    "irrep_4edges_4 = np.empty(shape=(num_exp), dtype=object)\n",
    "\n",
    "for seed in range(offset, num_exp + offset):\n",
    "    true_M = simulate_full_M(seed=seed, p=p)\n",
    "    true_M[index_zero[:, 0], index_zero[:, 1]] = 0\n",
    "\n",
    "    true_cov = solve_continuous_lyapunov(a=true_M, q=-C)\n",
    "    true_mean = (b * np.linalg.inv(a=true_M)).dot(unit_v)\n",
    "\n",
    "    obs = np.random.multivariate_normal(mean = true_mean, cov = true_cov, size = num_sim)\n",
    "    emp_cov = np.cov(obs, rowvar=False)\n",
    "    emp_mean = np.mean(obs, axis=0)\n",
    "\n",
    "    emp_A_Sigma = create_A_Sigma(cov=emp_cov, p=p)\n",
    "    emp_A = create_A(A_Sigma=emp_A_Sigma, mean=emp_mean, p=p)\n",
    "    emp_A = np.float64(emp_A)\n",
    "\n",
    "    irrep_condition = irrep_cond(A=emp_A, supp=support, supp_compl=supp_compl)\n",
    "\n",
    "    irrep_4edges_4[seed - offset] = irrep_condition\n",
    "\n",
    "print(\"Singular Gram matrix: \", np.sum(irrep_4edges_4 == -1, axis=0))\n",
    "print(\"Irrepresentability condition satisfied: \", (np.sum(irrep_4edges_4 < 1, axis=0) - np.sum(irrep_4edges_4 == -1, axis=0)))"
   ]
  }
 ],
 "metadata": {
  "kernelspec": {
   "display_name": ".venv",
   "language": "python",
   "name": "python3"
  },
  "language_info": {
   "codemirror_mode": {
    "name": "ipython",
    "version": 3
   },
   "file_extension": ".py",
   "mimetype": "text/x-python",
   "name": "python",
   "nbconvert_exporter": "python",
   "pygments_lexer": "ipython3",
   "version": "3.12.3"
  }
 },
 "nbformat": 4,
 "nbformat_minor": 2
}
