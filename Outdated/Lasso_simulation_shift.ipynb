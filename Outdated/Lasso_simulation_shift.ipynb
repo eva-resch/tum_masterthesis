{
 "cells": [
  {
   "cell_type": "markdown",
   "metadata": {},
   "source": [
    "What is in here?\n",
    "\n",
    "$\\textbf{Lasso on shift interventional data using numpy}$ for full graphs with 2, 3, 4, and 5 nodes.\n",
    "\n",
    "In the case of 2 nodes, different rows from $A$ have been deleted but also the whole matrix has been used for the estimation using Lasso.\n",
    "\n",
    "In the case of 3 nodes, different entries of $M$ have been set to zero to simulate subgraphs."
   ]
  },
  {
   "cell_type": "markdown",
   "metadata": {},
   "source": [
    "## Preparation"
   ]
  },
  {
   "cell_type": "code",
   "execution_count": 1,
   "metadata": {},
   "outputs": [],
   "source": [
    "import numpy as np\n",
    "from sympy import *\n",
    "# from sympy.solvers import solve\n",
    "import warnings\n",
    "from scipy.linalg import solve_continuous_lyapunov\n",
    "from sklearn import linear_model\n",
    "from sklearn.exceptions import ConvergenceWarning\n",
    "warnings.filterwarnings('ignore', category=ConvergenceWarning) \n",
    "init_printing(use_unicode=True)"
   ]
  },
  {
   "cell_type": "code",
   "execution_count": 2,
   "metadata": {},
   "outputs": [],
   "source": [
    "def simulate_M(seed: int, p: int) -> Array:\n",
    "    np.random.seed(seed=seed)\n",
    "    normal_matrix = np.random.normal(0, 1, (p, p))\n",
    "    for i in range(p): # adjust diagonal entries s.t. M stable\n",
    "        normal_matrix[i, i] = - np.sum(np.abs(normal_matrix[i, :]))\n",
    "    return normal_matrix\n",
    "\n",
    "def num_sym(p: int) -> int:\n",
    "    return int(p * (p + 1) / 2)\n",
    "\n",
    "def create_A_Sigma(cov: Array, p: int) -> Array:\n",
    "    row_num = num_sym(p=p)\n",
    "    col_num = int(p * p)\n",
    "    A_Sigma = np.empty(shape=(row_num, col_num), dtype=float)\n",
    "    for l in range(p):\n",
    "        for k in range(l+1):\n",
    "            for i in range(p):\n",
    "                for j in range(p):\n",
    "                    if (j != k) & (j != l):\n",
    "                        A_Sigma[(k * p) + (l - num_sym(p=k)), i * p + j] = 0\n",
    "                    elif (j == k) & (k != l):\n",
    "                        A_Sigma[(k * p) + (l - num_sym(p=k)), i * p + j] = cov[l, i]\n",
    "                    elif (j == l) & (l != k):\n",
    "                        A_Sigma[(k * p) + (l - num_sym(p=k)), i * p + j] = cov[k, i]\n",
    "                    elif (j == k) & (j == l):\n",
    "                        A_Sigma[(k * p) + (l - num_sym(p=k)), i * p + j] = 2 * cov[j, i]\n",
    "    return A_Sigma\n",
    "\n",
    "def create_A(A_Sigma: Array, mean: Array, p: int) -> Array:\n",
    "    identity = mean[0] * eye(p)\n",
    "    for i in range(1, p):\n",
    "        identity = np.hstack((identity, mean[i] * eye(p)))\n",
    "    return np.vstack((A_Sigma, identity))"
   ]
  },
  {
   "cell_type": "code",
   "execution_count": 3,
   "metadata": {},
   "outputs": [],
   "source": [
    "num_exp = 1000 # number of true matrices per case\n",
    "num_sim = 1000 # number of simulations per true matrix\n",
    "\n",
    "index_intervention = 0\n",
    "b = 2"
   ]
  },
  {
   "cell_type": "markdown",
   "metadata": {},
   "source": [
    "## 2 nodes"
   ]
  },
  {
   "cell_type": "code",
   "execution_count": 4,
   "metadata": {},
   "outputs": [],
   "source": [
    "p = 2\n",
    "\n",
    "C = 2 * np.eye(p)\n",
    "vech_C = np.array([C[i, j] for i in range(p) for j in range(i, p)])\n",
    "unit_v = np.eye(p)[:, index_intervention]\n",
    "\n",
    "reg_param = [0.0001, 0.001, 0.01, 0.1, 1]\n",
    "num_param = len(reg_param) + 1 # also linear regression"
   ]
  },
  {
   "cell_type": "markdown",
   "metadata": {},
   "source": [
    "### $\\texttt{index\\_deletion = 0}$\n",
    "***Results:*** \n",
    "* Average Frobenius distance between the estimation $\\hat{M}$ and the true matrix $M^*$ for linear regression is $\\large{0.815}$.\n",
    "* Average Frobenius distance between the estimation $\\hat{M}$ and the true matrix $M^*$ for Lasso regression with $\\lambda = 0.0001$ is $\\large{1.033}$.\n",
    "* Average Frobenius distance between the estimation $\\hat{M}$ and the true matrix $M^*$ for Lasso regression with $\\lambda = 0.001$ is $\\large{0.965}$.\n",
    "* Average Frobenius distance between the estimation $\\hat{M}$ and the true matrix $M^*$ for Lasso regression with $\\lambda = 0.01$ is $\\large{0.966}$.\n",
    "* Average Frobenius distance between the estimation $\\hat{M}$ and the true matrix $M^*$ for Lasso regression with $\\lambda = 0.1$ is $\\large{1.498}$.\n",
    "* Average Frobenius distance between the estimation $\\hat{M}$ and the true matrix $M^*$ for Lasso regression with $\\lambda = 1$ is $\\large{2.645}$."
   ]
  },
  {
   "cell_type": "code",
   "execution_count": 5,
   "metadata": {},
   "outputs": [],
   "source": [
    "index_deletion = 0\n",
    "offset = 1\n",
    "\n",
    "c = np.hstack((vech_C, - b * unit_v))\n",
    "c = np.delete(c, (index_deletion))\n",
    "\n",
    "estimate_2_0 = np.empty(shape=(num_exp, num_param), dtype=object)\n",
    "frobnorm_2_0 = np.empty(shape=(num_exp, num_param), dtype=object)\n",
    "\n",
    "for seed in range(offset, num_exp + offset):\n",
    "    true_M = simulate_M(seed=seed, p=p)\n",
    "\n",
    "    true_cov = solve_continuous_lyapunov(a=true_M, q=-C)\n",
    "    true_mean = (b * np.linalg.inv(a=true_M)).dot(unit_v)\n",
    "\n",
    "    obs = np.random.multivariate_normal(mean = true_mean, cov = true_cov, size = num_sim)\n",
    "    emp_cov = np.cov(obs, rowvar=False)\n",
    "    emp_mean = np.mean(obs, axis=0)\n",
    "\n",
    "    emp_A_Sigma = create_A_Sigma(cov=emp_cov, p=p)\n",
    "    emp_A = np.delete(create_A(A_Sigma=emp_A_Sigma, mean=emp_mean, p=p), (index_deletion), axis=0)\n",
    "\n",
    "    # Linear regression\n",
    "    lin_reg = linear_model.LinearRegression()\n",
    "    lin_reg.fit(X=emp_A, y=-c)\n",
    "    est_M = np.transpose(np.reshape(lin_reg.coef_, shape=(p, p)))\n",
    "    frob = np.linalg.norm(est_M - true_M)\n",
    "\n",
    "    estimate_2_0[seed-offset, 0] = est_M.round(3)\n",
    "    frobnorm_2_0[seed-offset, 0] = frob\n",
    "\n",
    "    for index, param in enumerate(reg_param):\n",
    "        direct_lasso = linear_model.Lasso(alpha=param, max_iter=5000)\n",
    "        direct_lasso.fit(X=emp_A, y=-c)\n",
    "        est_M = np.transpose(np.reshape(direct_lasso.coef_, shape=(p, p)))\n",
    "        frob = np.linalg.norm(est_M - true_M)\n",
    "\n",
    "        estimate_2_0[seed-offset, index+1] = est_M.round(3)\n",
    "        frobnorm_2_0[seed-offset, index+1] = frob"
   ]
  },
  {
   "cell_type": "code",
   "execution_count": 6,
   "metadata": {},
   "outputs": [
    {
     "data": {
      "text/plain": [
       "array([np.float64(0.8149207435168655), np.float64(1.0325061959683624),\n",
       "       np.float64(0.9651368666292439), np.float64(0.9656801934246148),\n",
       "       np.float64(1.4977554525252295), np.float64(2.6449216219550697)],\n",
       "      dtype=object)"
      ]
     },
     "execution_count": 6,
     "metadata": {},
     "output_type": "execute_result"
    }
   ],
   "source": [
    "np.mean(frobnorm_2_0, axis=0)"
   ]
  },
  {
   "cell_type": "markdown",
   "metadata": {},
   "source": [
    "### $\\texttt{index\\_deletion = 1}$\n",
    "***Results:*** \n",
    "* Average Frobenius distance between the estimation $\\hat{M}$ and the true matrix $M^*$ for linear regression is $\\large{1.11}$.\n",
    "* Average Frobenius distance between the estimation $\\hat{M}$ and the true matrix $M^*$ for Lasso regression with $\\lambda = 0.0001$ is $\\large{1.023}$.\n",
    "* Average Frobenius distance between the estimation $\\hat{M}$ and the true matrix $M^*$ for Lasso regression with $\\lambda = 0.001$ is $\\large{1.098}$.\n",
    "* Average Frobenius distance between the estimation $\\hat{M}$ and the true matrix $M^*$ for Lasso regression with $\\lambda = 0.01$ is $\\large{1.126}$.\n",
    "* Average Frobenius distance between the estimation $\\hat{M}$ and the true matrix $M^*$ for Lasso regression with $\\lambda = 0.1$ is $\\large{1.534}$.\n",
    "* Average Frobenius distance between the estimation $\\hat{M}$ and the true matrix $M^*$ for Lasso regression with $\\lambda = 1$ is $\\large{2.545}$."
   ]
  },
  {
   "cell_type": "code",
   "execution_count": 7,
   "metadata": {},
   "outputs": [],
   "source": [
    "index_deletion = 1\n",
    "offset = 12\n",
    "\n",
    "c = np.hstack((vech_C, - b * unit_v))\n",
    "c = np.delete(c, (index_deletion))\n",
    "\n",
    "estimate_2_1 = np.empty(shape=(num_exp, num_param), dtype=object)\n",
    "frobnorm_2_1 = np.empty(shape=(num_exp, num_param), dtype=object)\n",
    "\n",
    "for seed in range(offset, num_exp + offset):\n",
    "    true_M = simulate_M(seed=seed, p=p)\n",
    "\n",
    "    true_cov = solve_continuous_lyapunov(a=true_M, q=-C)\n",
    "    true_mean = (b * np.linalg.inv(a=true_M)).dot(unit_v)\n",
    "\n",
    "    obs = np.random.multivariate_normal(mean = true_mean, cov = true_cov, size = num_sim)\n",
    "    emp_cov = np.cov(obs, rowvar=False)\n",
    "    emp_mean = np.mean(obs, axis=0)\n",
    "\n",
    "    emp_A_Sigma = create_A_Sigma(cov=emp_cov, p=p)\n",
    "    emp_A = np.delete(create_A(A_Sigma=emp_A_Sigma, mean=emp_mean, p=p), (index_deletion), axis=0)\n",
    "\n",
    "    # Linear regression\n",
    "    lin_reg = linear_model.LinearRegression()\n",
    "    lin_reg.fit(X=emp_A, y=-c)\n",
    "    est_M = np.transpose(np.reshape(lin_reg.coef_, shape=(p, p)))\n",
    "    frob = np.linalg.norm(est_M - true_M)\n",
    "\n",
    "    estimate_2_1[seed-offset, 0] = est_M.round(3)\n",
    "    frobnorm_2_1[seed-offset, 0] = frob\n",
    "\n",
    "    for index, param in enumerate(reg_param):\n",
    "        direct_lasso = linear_model.Lasso(alpha=param, max_iter=5000)\n",
    "        direct_lasso.fit(X=emp_A, y=-c)\n",
    "        est_M = np.transpose(np.reshape(direct_lasso.coef_, shape=(p, p)))\n",
    "        frob = np.linalg.norm(est_M - true_M)\n",
    "\n",
    "        estimate_2_1[seed-offset, index+1] = est_M.round(3)\n",
    "        frobnorm_2_1[seed-offset, index+1] = frob"
   ]
  },
  {
   "cell_type": "code",
   "execution_count": 8,
   "metadata": {},
   "outputs": [
    {
     "data": {
      "text/plain": [
       "array([np.float64(1.109647579854012), np.float64(1.0234657976362693),\n",
       "       np.float64(1.098175096620818), np.float64(1.1259596413563264),\n",
       "       np.float64(1.5344809765349823), np.float64(2.544526165275287)],\n",
       "      dtype=object)"
      ]
     },
     "execution_count": 8,
     "metadata": {},
     "output_type": "execute_result"
    }
   ],
   "source": [
    "np.mean(frobnorm_2_1, axis=0)"
   ]
  },
  {
   "cell_type": "markdown",
   "metadata": {},
   "source": [
    "### $\\texttt{index\\_deletion = 2}$\n",
    "***Results:***\n",
    "* Average Frobenius distance between the estimation $\\hat{M}$ and the true matrix $M^*$ for linear regression is $\\large{1.834}$.\n",
    "* Average Frobenius distance between the estimation $\\hat{M}$ and the true matrix $M^*$ for Lasso regression with $\\lambda = 0.0001$ is $\\large{1.761}$.\n",
    "* Average Frobenius distance between the estimation $\\hat{M}$ and the true matrix $M^*$ for Lasso regression with $\\lambda = 0.001$ is $\\large{1.804}$.\n",
    "* Average Frobenius distance between the estimation $\\hat{M}$ and the true matrix $M^*$ for Lasso regression with $\\lambda = 0.01$ is $\\large{1.957}$.\n",
    "* Average Frobenius distance between the estimation $\\hat{M}$ and the true matrix $M^*$ for Lasso regression with $\\lambda = 0.1$ is $\\large{2.129}$.\n",
    "* Average Frobenius distance between the estimation $\\hat{M}$ and the true matrix $M^*$ for Lasso regression with $\\lambda = 1$ is $\\large{2.581}$."
   ]
  },
  {
   "cell_type": "code",
   "execution_count": 9,
   "metadata": {},
   "outputs": [],
   "source": [
    "index_deletion = 2\n",
    "offset = 123\n",
    "\n",
    "c = np.hstack((vech_C, - b * unit_v))\n",
    "c = np.delete(c, (index_deletion))\n",
    "\n",
    "estimate_2_2 = np.empty(shape=(num_exp, num_param), dtype=object)\n",
    "frobnorm_2_2 = np.empty(shape=(num_exp, num_param), dtype=object)\n",
    "\n",
    "for seed in range(offset, num_exp + offset):\n",
    "    true_M = simulate_M(seed=seed, p=p)\n",
    "\n",
    "    true_cov = solve_continuous_lyapunov(a=true_M, q=-C)\n",
    "    true_mean = (b * np.linalg.inv(a=true_M)).dot(unit_v)\n",
    "\n",
    "    obs = np.random.multivariate_normal(mean = true_mean, cov = true_cov, size = num_sim)\n",
    "    emp_cov = np.cov(obs, rowvar=False)\n",
    "    emp_mean = np.mean(obs, axis=0)\n",
    "\n",
    "    emp_A_Sigma = create_A_Sigma(cov=emp_cov, p=p)\n",
    "    emp_A = np.delete(create_A(A_Sigma=emp_A_Sigma, mean=emp_mean, p=p), (index_deletion), axis=0)\n",
    "\n",
    "    # Linear regression\n",
    "    lin_reg = linear_model.LinearRegression()\n",
    "    lin_reg.fit(X=emp_A, y=-c)\n",
    "    est_M = np.transpose(np.reshape(lin_reg.coef_, shape=(p, p)))\n",
    "    frob = np.linalg.norm(est_M - true_M)\n",
    "\n",
    "    estimate_2_2[seed-offset, 0] = est_M.round(3)\n",
    "    frobnorm_2_2[seed-offset, 0] = frob\n",
    "\n",
    "    for index, param in enumerate(reg_param):\n",
    "        direct_lasso = linear_model.Lasso(alpha=param, max_iter=5000)\n",
    "        direct_lasso.fit(X=emp_A, y=-c)\n",
    "        est_M = np.transpose(np.reshape(direct_lasso.coef_, shape=(p, p)))\n",
    "        frob = np.linalg.norm(est_M - true_M)\n",
    "\n",
    "        estimate_2_2[seed-offset, index+1] = est_M.round(3)\n",
    "        frobnorm_2_2[seed-offset, index+1] = frob"
   ]
  },
  {
   "cell_type": "code",
   "execution_count": 10,
   "metadata": {},
   "outputs": [
    {
     "data": {
      "text/plain": [
       "array([np.float64(1.8341394399326245), np.float64(1.7617347116771944),\n",
       "       np.float64(1.8040643901133049), np.float64(1.9567571459419715),\n",
       "       np.float64(2.1297214900596284), np.float64(2.580841638732733)],\n",
       "      dtype=object)"
      ]
     },
     "execution_count": 10,
     "metadata": {},
     "output_type": "execute_result"
    }
   ],
   "source": [
    "np.mean(frobnorm_2_2, axis=0)"
   ]
  },
  {
   "cell_type": "markdown",
   "metadata": {},
   "source": [
    "### $\\texttt{index\\_deletion = 3}$\n",
    "***Results:***\n",
    "* Average Frobenius distance between the estimation $\\hat{M}$ and the true matrix $M^*$ for linear regression is $\\large{1.173}$.\n",
    "* Average Frobenius distance between the estimation $\\hat{M}$ and the true matrix $M^*$ for Lasso regression with $\\lambda = 0.0001$ is $\\large{1.331}$.\n",
    "* Average Frobenius distance between the estimation $\\hat{M}$ and the true matrix $M^*$ for Lasso regression with $\\lambda = 0.001$ is $\\large{1.099}$.\n",
    "* Average Frobenius distance between the estimation $\\hat{M}$ and the true matrix $M^*$ for Lasso regression with $\\lambda = 0.01$ is $\\large{1.053}$.\n",
    "* Average Frobenius distance between the estimation $\\hat{M}$ and the true matrix $M^*$ for Lasso regression with $\\lambda = 0.1$ is $\\large{1.808}$.\n",
    "* Average Frobenius distance between the estimation $\\hat{M}$ and the true matrix $M^*$ for Lasso regression with $\\lambda = 1$ is $\\large{2.716}$."
   ]
  },
  {
   "cell_type": "code",
   "execution_count": 11,
   "metadata": {},
   "outputs": [],
   "source": [
    "index_deletion = 3\n",
    "offset = 1234\n",
    "\n",
    "c = np.hstack((vech_C, - b * unit_v))\n",
    "c = np.delete(c, (index_deletion))\n",
    "\n",
    "estimate_2_3 = np.empty(shape=(num_exp, num_param), dtype=object)\n",
    "frobnorm_2_3 = np.empty(shape=(num_exp, num_param), dtype=object)\n",
    "\n",
    "for seed in range(offset, num_exp + offset):\n",
    "    true_M = simulate_M(seed=seed, p=p)\n",
    "\n",
    "    true_cov = solve_continuous_lyapunov(a=true_M, q=-C)\n",
    "    true_mean = (b * np.linalg.inv(a=true_M)).dot(unit_v)\n",
    "\n",
    "    obs = np.random.multivariate_normal(mean = true_mean, cov = true_cov, size = num_sim)\n",
    "    emp_cov = np.cov(obs, rowvar=False)\n",
    "    emp_mean = np.mean(obs, axis=0)\n",
    "\n",
    "    emp_A_Sigma = create_A_Sigma(cov=emp_cov, p=p)\n",
    "    emp_A = np.delete(create_A(A_Sigma=emp_A_Sigma, mean=emp_mean, p=p), (index_deletion), axis=0)\n",
    "\n",
    "    # Linear regression\n",
    "    lin_reg = linear_model.LinearRegression()\n",
    "    lin_reg.fit(X=emp_A, y=-c)\n",
    "    est_M = np.transpose(np.reshape(lin_reg.coef_, shape=(p, p)))\n",
    "    frob = np.linalg.norm(est_M - true_M)\n",
    "\n",
    "    estimate_2_3[seed-offset, 0] = est_M.round(3)\n",
    "    frobnorm_2_3[seed-offset, 0] = frob\n",
    "\n",
    "    for index, param in enumerate(reg_param):\n",
    "        direct_lasso = linear_model.Lasso(alpha=param, max_iter=5000)\n",
    "        direct_lasso.fit(X=emp_A, y=-c)\n",
    "        est_M = np.transpose(np.reshape(direct_lasso.coef_, shape=(p, p)))\n",
    "        frob = np.linalg.norm(est_M - true_M)\n",
    "\n",
    "        estimate_2_3[seed-offset, index+1] = est_M.round(3)\n",
    "        frobnorm_2_3[seed-offset, index+1] = frob"
   ]
  },
  {
   "cell_type": "code",
   "execution_count": 12,
   "metadata": {},
   "outputs": [
    {
     "data": {
      "text/plain": [
       "array([np.float64(1.173212079122521), np.float64(1.3314222377185199),\n",
       "       np.float64(1.0992103591417925), np.float64(1.0527467957458996),\n",
       "       np.float64(1.807932496222883), np.float64(2.7161311930542973)],\n",
       "      dtype=object)"
      ]
     },
     "execution_count": 12,
     "metadata": {},
     "output_type": "execute_result"
    }
   ],
   "source": [
    "np.mean(frobnorm_2_3, axis=0)"
   ]
  },
  {
   "cell_type": "markdown",
   "metadata": {},
   "source": [
    "### $\\texttt{index\\_deletion = 4}$\n",
    "***Results:***\n",
    "* Average Frobenius distance between the estimation $\\hat{M}$ and the true matrix $M^*$ for linear regression is $\\large{0.525}$.\n",
    "* Average Frobenius distance between the estimation $\\hat{M}$ and the true matrix $M^*$ for Lasso regression with $\\lambda = 0.0001$ is $\\large{0.559}$.\n",
    "* Average Frobenius distance between the estimation $\\hat{M}$ and the true matrix $M^*$ for Lasso regression with $\\lambda = 0.001$ is $\\large{0.684}$.\n",
    "* Average Frobenius distance between the estimation $\\hat{M}$ and the true matrix $M^*$ for Lasso regression with $\\lambda = 0.01$ is $\\large{0.774}$.\n",
    "* Average Frobenius distance between the estimation $\\hat{M}$ and the true matrix $M^*$ for Lasso regression with $\\lambda = 0.1$ is $\\large{1.466}$.\n",
    "* Average Frobenius distance between the estimation $\\hat{M}$ and the true matrix $M^*$ for Lasso regression with $\\lambda = 1$ is $\\large{2.56}$."
   ]
  },
  {
   "cell_type": "code",
   "execution_count": 13,
   "metadata": {},
   "outputs": [],
   "source": [
    "index_deletion = 4\n",
    "offset = 12345\n",
    "\n",
    "c = np.hstack((vech_C, - b * unit_v))\n",
    "c = np.delete(c, (index_deletion))\n",
    "\n",
    "estimate_2_4 = np.empty(shape=(num_exp, num_param), dtype=object)\n",
    "frobnorm_2_4 = np.empty(shape=(num_exp, num_param), dtype=object)\n",
    "\n",
    "for seed in range(offset, num_exp + offset):\n",
    "    true_M = simulate_M(seed=seed, p=p)\n",
    "\n",
    "    true_cov = solve_continuous_lyapunov(a=true_M, q=-C)\n",
    "    true_mean = (b * np.linalg.inv(a=true_M)).dot(unit_v)\n",
    "\n",
    "    obs = np.random.multivariate_normal(mean = true_mean, cov = true_cov, size = num_sim)\n",
    "    emp_cov = np.cov(obs, rowvar=False)\n",
    "    emp_mean = np.mean(obs, axis=0)\n",
    "\n",
    "    emp_A_Sigma = create_A_Sigma(cov=emp_cov, p=p)\n",
    "    emp_A = np.delete(create_A(A_Sigma=emp_A_Sigma, mean=emp_mean, p=p), (index_deletion), axis=0)\n",
    "\n",
    "    # Linear regression\n",
    "    lin_reg = linear_model.LinearRegression()\n",
    "    lin_reg.fit(X=emp_A, y=-c)\n",
    "    est_M = np.transpose(np.reshape(lin_reg.coef_, shape=(p, p)))\n",
    "    frob = np.linalg.norm(est_M - true_M)\n",
    "\n",
    "    estimate_2_4[seed-offset, 0] = est_M.round(3)\n",
    "    frobnorm_2_4[seed-offset, 0] = frob\n",
    "\n",
    "    for index, param in enumerate(reg_param):\n",
    "        direct_lasso = linear_model.Lasso(alpha=param, max_iter=5000)\n",
    "        direct_lasso.fit(X=emp_A, y=-c)\n",
    "        est_M = np.transpose(np.reshape(direct_lasso.coef_, shape=(p, p)))\n",
    "        frob = np.linalg.norm(est_M - true_M)\n",
    "\n",
    "        estimate_2_4[seed-offset, index+1] = est_M.round(3)\n",
    "        frobnorm_2_4[seed-offset, index+1] = frob"
   ]
  },
  {
   "cell_type": "code",
   "execution_count": 14,
   "metadata": {},
   "outputs": [
    {
     "data": {
      "text/plain": [
       "array([np.float64(0.5254359070100943), np.float64(0.5586466044393253),\n",
       "       np.float64(0.6843382765957513), np.float64(0.7738859483887953),\n",
       "       np.float64(1.4657694011316678), np.float64(2.5603087786860352)],\n",
       "      dtype=object)"
      ]
     },
     "execution_count": 14,
     "metadata": {},
     "output_type": "execute_result"
    }
   ],
   "source": [
    "np.mean(frobnorm_2_4, axis=0)"
   ]
  },
  {
   "cell_type": "markdown",
   "metadata": {},
   "source": [
    "### No deletion\n",
    "***Results:***\n",
    "* Average Frobenius distance between the estimation $\\hat{M}$ and the true matrix $M^*$ for linear regression is $\\large{0.317}$.\n",
    "* Average Frobenius distance between the estimation $\\hat{M}$ and the true matrix $M^*$ for Lasso regression with $\\lambda = 0.0001$ is $\\large{0.269}$.\n",
    "* Average Frobenius distance between the estimation $\\hat{M}$ and the true matrix $M^*$ for Lasso regression with $\\lambda = 0.001$ is $\\large{0.257}$.\n",
    "* Average Frobenius distance between the estimation $\\hat{M}$ and the true matrix $M^*$ for Lasso regression with $\\lambda = 0.01$ is $\\large{0.435}$.\n",
    "* Average Frobenius distance between the estimation $\\hat{M}$ and the true matrix $M^*$ for Lasso regression with $\\lambda = 0.1$ is $\\large{1.485}$.\n",
    "* Average Frobenius distance between the estimation $\\hat{M}$ and the true matrix $M^*$ for Lasso regression with $\\lambda = 1$ is $\\large{2.615}$."
   ]
  },
  {
   "cell_type": "code",
   "execution_count": 15,
   "metadata": {},
   "outputs": [],
   "source": [
    "offset = 12345\n",
    "\n",
    "c = np.hstack((vech_C, - b * unit_v))\n",
    "\n",
    "estimate_2 = np.empty(shape=(num_exp, num_param), dtype=object)\n",
    "frobnorm_2 = np.empty(shape=(num_exp, num_param), dtype=object)\n",
    "\n",
    "for seed in range(offset, num_exp + offset):\n",
    "    true_M = simulate_M(seed=seed, p=p)\n",
    "\n",
    "    true_cov = solve_continuous_lyapunov(a=true_M, q=-C)\n",
    "    true_mean = (b * np.linalg.inv(a=true_M)).dot(unit_v)\n",
    "\n",
    "    obs = np.random.multivariate_normal(mean = true_mean, cov = true_cov, size = num_sim)\n",
    "    emp_cov = np.cov(obs, rowvar=False)\n",
    "    emp_mean = np.mean(obs, axis=0)\n",
    "\n",
    "    emp_A_Sigma = create_A_Sigma(cov=emp_cov, p=p)\n",
    "    emp_A = create_A(A_Sigma=emp_A_Sigma, mean=emp_mean, p=p)\n",
    "\n",
    "    # Linear regression\n",
    "    lin_reg = linear_model.LinearRegression()\n",
    "    lin_reg.fit(X=emp_A, y=-c)\n",
    "    est_M = np.transpose(np.reshape(lin_reg.coef_, shape=(p, p)))\n",
    "    frob = np.linalg.norm(est_M - true_M)\n",
    "\n",
    "    estimate_2[seed-offset, 0] = est_M.round(3)\n",
    "    frobnorm_2[seed-offset, 0] = frob\n",
    "\n",
    "    for index, param in enumerate(reg_param):\n",
    "        direct_lasso = linear_model.Lasso(alpha=param, max_iter=5000)\n",
    "        direct_lasso.fit(X=emp_A, y=-c)\n",
    "        est_M = np.transpose(np.reshape(direct_lasso.coef_, shape=(p, p)))\n",
    "        frob = np.linalg.norm(est_M - true_M)\n",
    "\n",
    "        estimate_2[seed-offset, index+1] = est_M.round(3)\n",
    "        frobnorm_2[seed-offset, index+1] = frob"
   ]
  },
  {
   "cell_type": "code",
   "execution_count": 16,
   "metadata": {},
   "outputs": [
    {
     "data": {
      "text/plain": [
       "array([np.float64(0.31640154268575704), np.float64(0.2694951318754762),\n",
       "       np.float64(0.25661614152081935), np.float64(0.4347665218428023),\n",
       "       np.float64(1.4850007438856891), np.float64(2.6153284947527413)],\n",
       "      dtype=object)"
      ]
     },
     "execution_count": 16,
     "metadata": {},
     "output_type": "execute_result"
    }
   ],
   "source": [
    "np.mean(frobnorm_2, axis=0)"
   ]
  },
  {
   "cell_type": "markdown",
   "metadata": {},
   "source": [
    "### Overview: 2 nodes\n",
    "* Average Frobenius distance between the estimation $\\hat{M}$ and the true matrix $M^*$ for linear regression is $\\large{0.962}$.\n",
    "* Average Frobenius distance between the estimation $\\hat{M}$ and the true matrix $M^*$ for Lasso regression with $\\lambda = 0.0001$ is $\\large{0.996}$.\n",
    "* Average Frobenius distance between the estimation $\\hat{M}$ and the true matrix $M^*$ for Lasso regression with $\\lambda = 0.001$ is $\\large{0.985}$.\n",
    "* Average Frobenius distance between the estimation $\\hat{M}$ and the true matrix $M^*$ for Lasso regression with $\\lambda = 0.01$ is $\\large{1.052}$.\n",
    "* Average Frobenius distance between the estimation $\\hat{M}$ and the true matrix $M^*$ for Lasso regression with $\\lambda = 0.1$ is $\\large{1.653}$.\n",
    "* Average Frobenius distance between the estimation $\\hat{M}$ and the true matrix $M^*$ for Lasso regression with $\\lambda = 1$ is $\\large{2.61}$."
   ]
  },
  {
   "cell_type": "code",
   "execution_count": 17,
   "metadata": {},
   "outputs": [
    {
     "data": {
      "text/plain": [
       "array([np.float64(0.9622928820203176), np.float64(0.9962117798858562),\n",
       "       np.float64(0.9845901884369537), np.float64(1.051632707783403),\n",
       "       np.float64(1.6534434267266764), np.float64(2.61034298207602)],\n",
       "      dtype=object)"
      ]
     },
     "execution_count": 17,
     "metadata": {},
     "output_type": "execute_result"
    }
   ],
   "source": [
    "frobnorm_2nodes = np.vstack((frobnorm_2, frobnorm_2_0, frobnorm_2_1, frobnorm_2_2, frobnorm_2_3, frobnorm_2_4))\n",
    "np.mean(frobnorm_2nodes, axis=0)"
   ]
  },
  {
   "cell_type": "markdown",
   "metadata": {},
   "source": [
    "## 3 nodes"
   ]
  },
  {
   "cell_type": "code",
   "execution_count": 18,
   "metadata": {},
   "outputs": [],
   "source": [
    "p = 3\n",
    "\n",
    "C = 2 * np.eye(p)\n",
    "vech_C = np.array([C[i, j] for i in range(p) for j in range(i, p)])\n",
    "unit_v = np.eye(p)[:, index_intervention]\n",
    "c = np.hstack((vech_C, - b * unit_v))\n",
    "\n",
    "reg_param = [0.0001, 0.001, 0.005, 0.01, 0.05]\n",
    "num_param = len(reg_param) + 1 # also linear regression"
   ]
  },
  {
   "cell_type": "markdown",
   "metadata": {},
   "source": [
    "### All entries\n",
    "***Results:***\n",
    "* Average Frobenius distance between the estimation $\\hat{M}$ and the true matrix $M^*$ for linear regression is $\\large{1.599}$.\n",
    "* Average Frobenius distance between the estimation $\\hat{M}$ and the true matrix $M^*$ for Lasso regression with $\\lambda = 0.0001$ is $\\large{1.214}$.\n",
    "* Average Frobenius distance between the estimation $\\hat{M}$ and the true matrix $M^*$ for Lasso regression with $\\lambda = 0.001$ is $\\large{1.198}$.\n",
    "* Average Frobenius distance between the estimation $\\hat{M}$ and the true matrix $M^*$ for Lasso regression with $\\lambda = 0.005$ is $\\large{1.428}$.\n",
    "* Average Frobenius distance between the estimation $\\hat{M}$ and the true matrix $M^*$ for Lasso regression with $\\lambda = 0.01$ is $\\large{1.75}$.\n",
    "* Average Frobenius distance between the estimation $\\hat{M}$ and the true matrix $M^*$ for Lasso regression with $\\lambda = 0.05$ is $\\large{3.252}$."
   ]
  },
  {
   "cell_type": "code",
   "execution_count": 19,
   "metadata": {},
   "outputs": [],
   "source": [
    "offset = 120\n",
    "\n",
    "estimate_3_0 = np.empty(shape=(num_exp, num_param), dtype=object)\n",
    "frobnorm_3_0 = np.empty(shape=(num_exp, num_param), dtype=object)\n",
    "\n",
    "for seed in range(offset, num_exp + offset):\n",
    "    true_M = simulate_M(seed=seed, p=p)\n",
    "\n",
    "    true_cov = solve_continuous_lyapunov(a=true_M, q=-C)\n",
    "    true_mean = (b * np.linalg.inv(a=true_M)).dot(unit_v)\n",
    "\n",
    "    obs = np.random.multivariate_normal(mean = true_mean, cov = true_cov, size = num_sim)\n",
    "    emp_cov = np.cov(obs, rowvar=False)\n",
    "    emp_mean = np.mean(obs, axis=0)\n",
    "\n",
    "    emp_A_Sigma = create_A_Sigma(cov=emp_cov, p=p)\n",
    "    emp_A = create_A(A_Sigma=emp_A_Sigma, mean=emp_mean, p=p)\n",
    "\n",
    "    # Linear regression\n",
    "    lin_reg = linear_model.LinearRegression()\n",
    "    lin_reg.fit(X=emp_A, y=-c)\n",
    "    est_M = np.transpose(np.reshape(lin_reg.coef_, shape=(p, p)))\n",
    "    frob = np.linalg.norm(est_M - true_M)\n",
    "\n",
    "    estimate_3_0[seed-offset, 0] = est_M.round(3)\n",
    "    frobnorm_3_0[seed-offset, 0] = frob\n",
    "\n",
    "    for index, param in enumerate(reg_param):\n",
    "        direct_lasso = linear_model.Lasso(alpha=param, max_iter=5000)\n",
    "        direct_lasso.fit(X=emp_A, y=-c)\n",
    "        est_M = np.transpose(np.reshape(direct_lasso.coef_, shape=(p, p)))\n",
    "        frob = np.linalg.norm(est_M - true_M)\n",
    "\n",
    "        estimate_3_0[seed-offset, index+1] = est_M.round(3)\n",
    "        frobnorm_3_0[seed-offset, index+1] = frob"
   ]
  },
  {
   "cell_type": "code",
   "execution_count": 20,
   "metadata": {},
   "outputs": [
    {
     "data": {
      "text/plain": [
       "array([np.float64(1.5985822382812176), np.float64(1.213712848740723),\n",
       "       np.float64(1.1979436840885103), np.float64(1.4276400870415886),\n",
       "       np.float64(1.7503049194905516), np.float64(3.251963630348755)],\n",
       "      dtype=object)"
      ]
     },
     "execution_count": 20,
     "metadata": {},
     "output_type": "execute_result"
    }
   ],
   "source": [
    "np.mean(frobnorm_3_0, axis=0)"
   ]
  },
  {
   "cell_type": "markdown",
   "metadata": {},
   "source": [
    "### One random entry missing\n",
    "***Results:***\n",
    "* Average Frobenius distance between the estimation $\\hat{M}$ and the true matrix $M^*$ for linear regression is $\\large{1.402}$.\n",
    "* Average Frobenius distance between the estimation $\\hat{M}$ and the true matrix $M^*$ for Lasso regression with $\\lambda = 0.0001$ is $\\large{1.165}$.\n",
    "* Average Frobenius distance between the estimation $\\hat{M}$ and the true matrix $M^*$ for Lasso regression with $\\lambda = 0.001$ is $\\large{1.16}$.\n",
    "* Average Frobenius distance between the estimation $\\hat{M}$ and the true matrix $M^*$ for Lasso regression with $\\lambda = 0.005$ is $\\large{1.393}$.\n",
    "* Average Frobenius distance between the estimation $\\hat{M}$ and the true matrix $M^*$ for Lasso regression with $\\lambda = 0.01$ is $\\large{1.722}$.\n",
    "* Average Frobenius distance between the estimation $\\hat{M}$ and the true matrix $M^*$ for Lasso regression with $\\lambda = 0.05$ is $\\large{3.236}$."
   ]
  },
  {
   "cell_type": "code",
   "execution_count": 21,
   "metadata": {},
   "outputs": [],
   "source": [
    "entries = [[0, 1], [0, 2], [1, 0], [1, 2], [2, 0], [2, 1]]\n",
    "offset = 1208\n",
    "\n",
    "estimate_3_1 = np.empty(shape=(num_exp, num_param), dtype=object)\n",
    "frobnorm_3_1 = np.empty(shape=(num_exp, num_param), dtype=object)\n",
    "\n",
    "for seed in range(offset, num_exp + offset):\n",
    "    true_M = simulate_M(seed=seed, p=p)\n",
    "\n",
    "    true_cov = solve_continuous_lyapunov(a=true_M, q=-C)\n",
    "    true_mean = (b * np.linalg.inv(a=true_M)).dot(unit_v)\n",
    "\n",
    "    obs = np.random.multivariate_normal(mean = true_mean, cov = true_cov, size = num_sim)\n",
    "    emp_cov = np.cov(obs, rowvar=False)\n",
    "    emp_mean = np.mean(obs, axis=0)\n",
    "\n",
    "    emp_A_Sigma = create_A_Sigma(cov=emp_cov, p=p)\n",
    "    emp_A = create_A(A_Sigma=emp_A_Sigma, mean=emp_mean, p=p)\n",
    "\n",
    "    # Linear regression\n",
    "    lin_reg = linear_model.LinearRegression()\n",
    "    lin_reg.fit(X=emp_A, y=-c)\n",
    "    est_M = np.transpose(np.reshape(lin_reg.coef_, shape=(p, p)))\n",
    "    frob = np.linalg.norm(est_M - true_M)\n",
    "\n",
    "    estimate_3_1[seed-offset, 0] = est_M.round(3)\n",
    "    frobnorm_3_1[seed-offset, 0] = frob\n",
    "\n",
    "    for index, param in enumerate(reg_param):\n",
    "        direct_lasso = linear_model.Lasso(alpha=param, max_iter=5000)\n",
    "        direct_lasso.fit(X=emp_A, y=-c)\n",
    "        est_M = np.transpose(np.reshape(direct_lasso.coef_, shape=(p, p)))\n",
    "        frob = np.linalg.norm(est_M - true_M)\n",
    "\n",
    "        estimate_3_1[seed-offset, index+1] = est_M.round(3)\n",
    "        frobnorm_3_1[seed-offset, index+1] = frob"
   ]
  },
  {
   "cell_type": "code",
   "execution_count": 22,
   "metadata": {},
   "outputs": [
    {
     "data": {
      "text/plain": [
       "array([np.float64(1.4020310184075546), np.float64(1.1646270080806258),\n",
       "       np.float64(1.1601020306999925), np.float64(1.3926530057673174),\n",
       "       np.float64(1.7224551100129262), np.float64(3.2362609216277045)],\n",
       "      dtype=object)"
      ]
     },
     "execution_count": 22,
     "metadata": {},
     "output_type": "execute_result"
    }
   ],
   "source": [
    "np.mean(frobnorm_3_1, axis=0)"
   ]
  },
  {
   "cell_type": "markdown",
   "metadata": {},
   "source": [
    "### Two entries missing I\n",
    "***Results:***\n",
    "* Average Frobenius distance between the estimation $\\hat{M}$ and the true matrix $M^*$ for linear regression is $\\large{1.469}$.\n",
    "* Average Frobenius distance between the estimation $\\hat{M}$ and the true matrix $M^*$ for Lasso regression with $\\lambda = 0.0001$ is $\\large{1.193}$.\n",
    "* Average Frobenius distance between the estimation $\\hat{M}$ and the true matrix $M^*$ for Lasso regression with $\\lambda = 0.001$ is $\\large{1.165}$.\n",
    "* Average Frobenius distance between the estimation $\\hat{M}$ and the true matrix $M^*$ for Lasso regression with $\\lambda = 0.005$ is $\\large{1.385}$.\n",
    "* Average Frobenius distance between the estimation $\\hat{M}$ and the true matrix $M^*$ for Lasso regression with $\\lambda = 0.01$ is $\\large{1.703}$.\n",
    "* Average Frobenius distance between the estimation $\\hat{M}$ and the true matrix $M^*$ for Lasso regression with $\\lambda = 0.05$ is $\\large{3.216}$."
   ]
  },
  {
   "cell_type": "code",
   "execution_count": 23,
   "metadata": {},
   "outputs": [],
   "source": [
    "offset = 12089\n",
    "\n",
    "estimate_3_2 = np.empty(shape=(num_exp, num_param), dtype=object)\n",
    "frobnorm_3_2 = np.empty(shape=(num_exp, num_param), dtype=object)\n",
    "\n",
    "for seed in range(offset, num_exp + offset):\n",
    "    true_M = simulate_M(seed=seed, p=p)\n",
    "\n",
    "    true_cov = solve_continuous_lyapunov(a=true_M, q=-C)\n",
    "    true_mean = (b * np.linalg.inv(a=true_M)).dot(unit_v)\n",
    "\n",
    "    obs = np.random.multivariate_normal(mean = true_mean, cov = true_cov, size = num_sim)\n",
    "    emp_cov = np.cov(obs, rowvar=False)\n",
    "    emp_mean = np.mean(obs, axis=0)\n",
    "\n",
    "    emp_A_Sigma = create_A_Sigma(cov=emp_cov, p=p)\n",
    "    emp_A = create_A(A_Sigma=emp_A_Sigma, mean=emp_mean, p=p)\n",
    "\n",
    "    # Linear regression\n",
    "    lin_reg = linear_model.LinearRegression()\n",
    "    lin_reg.fit(X=emp_A, y=-c)\n",
    "    est_M = np.transpose(np.reshape(lin_reg.coef_, shape=(p, p)))\n",
    "    frob = np.linalg.norm(est_M - true_M)\n",
    "\n",
    "    estimate_3_2[seed-offset, 0] = est_M.round(3)\n",
    "    frobnorm_3_2[seed-offset, 0] = frob\n",
    "\n",
    "    for index, param in enumerate(reg_param):\n",
    "        direct_lasso = linear_model.Lasso(alpha=param, max_iter=5000)\n",
    "        direct_lasso.fit(X=emp_A, y=-c)\n",
    "        est_M = np.transpose(np.reshape(direct_lasso.coef_, shape=(p, p)))\n",
    "        frob = np.linalg.norm(est_M - true_M)\n",
    "\n",
    "        estimate_3_2[seed-offset, index+1] = est_M.round(3)\n",
    "        frobnorm_3_2[seed-offset, index+1] = frob"
   ]
  },
  {
   "cell_type": "code",
   "execution_count": 24,
   "metadata": {},
   "outputs": [
    {
     "data": {
      "text/plain": [
       "array([np.float64(1.468500549131823), np.float64(1.1925710057889076),\n",
       "       np.float64(1.1649036826929196), np.float64(1.3847339229662154),\n",
       "       np.float64(1.7029778835314224), np.float64(3.2156604401133935)],\n",
       "      dtype=object)"
      ]
     },
     "execution_count": 24,
     "metadata": {},
     "output_type": "execute_result"
    }
   ],
   "source": [
    "np.mean(frobnorm_3_2, axis=0)"
   ]
  },
  {
   "cell_type": "markdown",
   "metadata": {},
   "source": [
    "### Two entries missing II\n",
    "***Results:***\n",
    "* Average Frobenius distance between the estimation $\\hat{M}$ and the true matrix $M^*$ for linear regression is $\\large{1.494}$.\n",
    "* Average Frobenius distance between the estimation $\\hat{M}$ and the true matrix $M^*$ for Lasso regression with $\\lambda = 0.0001$ is $\\large{1.207}$.\n",
    "* Average Frobenius distance between the estimation $\\hat{M}$ and the true matrix $M^*$ for Lasso regression with $\\lambda = 0.001$ is $\\large{1.165}$.\n",
    "* Average Frobenius distance between the estimation $\\hat{M}$ and the true matrix $M^*$ for Lasso regression with $\\lambda = 0.005$ is $\\large{1.362}$.\n",
    "* Average Frobenius distance between the estimation $\\hat{M}$ and the true matrix $M^*$ for Lasso regression with $\\lambda = 0.01$ is $\\large{1.677}$.\n",
    "* Average Frobenius distance between the estimation $\\hat{M}$ and the true matrix $M^*$ for Lasso regression with $\\lambda = 0.05$ is $\\large{3.201}$."
   ]
  },
  {
   "cell_type": "code",
   "execution_count": 25,
   "metadata": {},
   "outputs": [],
   "source": [
    "offset = 120899\n",
    "\n",
    "estimate_3_3 = np.empty(shape=(num_exp, num_param), dtype=object)\n",
    "frobnorm_3_3 = np.empty(shape=(num_exp, num_param), dtype=object)\n",
    "\n",
    "for seed in range(offset, num_exp + offset):\n",
    "    true_M = simulate_M(seed=seed, p=p)\n",
    "\n",
    "    true_cov = solve_continuous_lyapunov(a=true_M, q=-C)\n",
    "    true_mean = (b * np.linalg.inv(a=true_M)).dot(unit_v)\n",
    "\n",
    "    obs = np.random.multivariate_normal(mean = true_mean, cov = true_cov, size = num_sim)\n",
    "    emp_cov = np.cov(obs, rowvar=False)\n",
    "    emp_mean = np.mean(obs, axis=0)\n",
    "\n",
    "    emp_A_Sigma = create_A_Sigma(cov=emp_cov, p=p)\n",
    "    emp_A = create_A(A_Sigma=emp_A_Sigma, mean=emp_mean, p=p)\n",
    "\n",
    "    # Linear regression\n",
    "    lin_reg = linear_model.LinearRegression()\n",
    "    lin_reg.fit(X=emp_A, y=-c)\n",
    "    est_M = np.transpose(np.reshape(lin_reg.coef_, shape=(p, p)))\n",
    "    frob = np.linalg.norm(est_M - true_M)\n",
    "\n",
    "    estimate_3_3[seed-offset, 0] = est_M.round(3)\n",
    "    frobnorm_3_3[seed-offset, 0] = frob\n",
    "\n",
    "    for index, param in enumerate(reg_param):\n",
    "        direct_lasso = linear_model.Lasso(alpha=param, max_iter=5000)\n",
    "        direct_lasso.fit(X=emp_A, y=-c)\n",
    "        est_M = np.transpose(np.reshape(direct_lasso.coef_, shape=(p, p)))\n",
    "        frob = np.linalg.norm(est_M - true_M)\n",
    "\n",
    "        estimate_3_3[seed-offset, index+1] = est_M.round(3)\n",
    "        frobnorm_3_3[seed-offset, index+1] = frob"
   ]
  },
  {
   "cell_type": "code",
   "execution_count": 26,
   "metadata": {},
   "outputs": [
    {
     "data": {
      "text/plain": [
       "array([np.float64(1.494461891642084), np.float64(1.207229674223321),\n",
       "       np.float64(1.1654669389367935), np.float64(1.3617718110742767),\n",
       "       np.float64(1.6774434061129226), np.float64(3.201126109718212)],\n",
       "      dtype=object)"
      ]
     },
     "execution_count": 26,
     "metadata": {},
     "output_type": "execute_result"
    }
   ],
   "source": [
    "np.mean(frobnorm_3_3, axis=0)"
   ]
  },
  {
   "cell_type": "markdown",
   "metadata": {},
   "source": [
    "### Overview: 3 nodes\n",
    "* Average Frobenius distance between the estimation $\\hat{M}$ and the true matrix $M^*$ for linear regression is $\\large{1.491}$.\n",
    "* Average Frobenius distance between the estimation $\\hat{M}$ and the true matrix $M^*$ for Lasso regression with $\\lambda = 0.0001$ is $\\large{1.195}$.\n",
    "* Average Frobenius distance between the estimation $\\hat{M}$ and the true matrix $M^*$ for Lasso regression with $\\lambda = 0.001$ is $\\large{1.172}$.\n",
    "* Average Frobenius distance between the estimation $\\hat{M}$ and the true matrix $M^*$ for Lasso regression with $\\lambda = 0.005$ is $\\large{1.392}$.\n",
    "* Average Frobenius distance between the estimation $\\hat{M}$ and the true matrix $M^*$ for Lasso regression with $\\lambda = 0.01$ is $\\large{1.713}$.\n",
    "* Average Frobenius distance between the estimation $\\hat{M}$ and the true matrix $M^*$ for Lasso regression with $\\lambda = 0.05$ is $\\large{3.226}$."
   ]
  },
  {
   "cell_type": "code",
   "execution_count": 27,
   "metadata": {},
   "outputs": [
    {
     "data": {
      "text/plain": [
       "array([np.float64(1.4908939243656711), np.float64(1.1945351342083956),\n",
       "       np.float64(1.172104084104554), np.float64(1.3916997067123489),\n",
       "       np.float64(1.713295329786958), np.float64(3.226252775452022)],\n",
       "      dtype=object)"
      ]
     },
     "execution_count": 27,
     "metadata": {},
     "output_type": "execute_result"
    }
   ],
   "source": [
    "frobnorm_3nodes = np.vstack((frobnorm_3_0, frobnorm_3_1, frobnorm_3_2, frobnorm_3_3))\n",
    "np.mean(frobnorm_3nodes, axis=0)"
   ]
  },
  {
   "cell_type": "markdown",
   "metadata": {},
   "source": [
    "## 4 nodes\n",
    "***Results:***\n",
    "* Average Frobenius distance between the estimation $\\hat{M}$ and the true matrix $M^*$ for linear regression is $\\large{2.407}$.\n",
    "* Average Frobenius distance between the estimation $\\hat{M}$ and the true matrix $M^*$ for Lasso regression with $\\lambda = 0.0001$ is $\\large{2.108}$.\n",
    "* Average Frobenius distance between the estimation $\\hat{M}$ and the true matrix $M^*$ for Lasso regression with $\\lambda = 0.001$ is $\\large{2.086}$.\n",
    "* Average Frobenius distance between the estimation $\\hat{M}$ and the true matrix $M^*$ for Lasso regression with $\\lambda = 0.005$ is $\\large{2.76}$.\n",
    "* Average Frobenius distance between the estimation $\\hat{M}$ and the true matrix $M^*$ for Lasso regression with $\\lambda = 0.01$ is $\\large{3.588}$.\n",
    "* Average Frobenius distance between the estimation $\\hat{M}$ and the true matrix $M^*$ for Lasso regression with $\\lambda = 0.05$ is $\\large{6.067}$."
   ]
  },
  {
   "cell_type": "code",
   "execution_count": 28,
   "metadata": {},
   "outputs": [],
   "source": [
    "p = 4\n",
    "\n",
    "C = 2 * np.eye(p)\n",
    "vech_C = np.array([C[i, j] for i in range(p) for j in range(i, p)])\n",
    "unit_v = np.eye(p)[:, index_intervention]\n",
    "c = np.hstack((vech_C, - b * unit_v))\n",
    "\n",
    "reg_param = [0.0001, 0.001, 0.005, 0.01, 0.05]\n",
    "num_param = len(reg_param) + 1 # also linear regression\n",
    "offset = 240\n",
    "\n",
    "estimate_4 = np.empty(shape=(num_exp, num_param), dtype=object)\n",
    "frobnorm_4 = np.empty(shape=(num_exp, num_param), dtype=object)\n",
    "\n",
    "for seed in range(offset, num_exp + offset):\n",
    "    true_M = simulate_M(seed=seed, p=p)\n",
    "\n",
    "    true_cov = solve_continuous_lyapunov(a=true_M, q=-C)\n",
    "    true_mean = (b * np.linalg.inv(a=true_M)).dot(unit_v)\n",
    "\n",
    "    obs = np.random.multivariate_normal(mean = true_mean, cov = true_cov, size = num_sim)\n",
    "    emp_cov = np.cov(obs, rowvar=False)\n",
    "    emp_mean = np.mean(obs, axis=0)\n",
    "\n",
    "    emp_A_Sigma = create_A_Sigma(cov=emp_cov, p=p)\n",
    "    emp_A = create_A(A_Sigma=emp_A_Sigma, mean=emp_mean, p=p)\n",
    "\n",
    "    # Linear regression\n",
    "    lin_reg = linear_model.LinearRegression()\n",
    "    lin_reg.fit(X=emp_A, y=-c)\n",
    "    est_M = np.transpose(np.reshape(lin_reg.coef_, shape=(p, p)))\n",
    "    frob = np.linalg.norm(est_M - true_M)\n",
    "\n",
    "    estimate_4[seed-offset, 0] = est_M.round(3)\n",
    "    frobnorm_4[seed-offset, 0] = frob\n",
    "\n",
    "    for index, param in enumerate(reg_param):\n",
    "        direct_lasso = linear_model.Lasso(alpha=param, max_iter=5000)\n",
    "        direct_lasso.fit(X=emp_A, y=-c)\n",
    "        est_M = np.transpose(np.reshape(direct_lasso.coef_, shape=(p, p)))\n",
    "        frob = np.linalg.norm(est_M - true_M)\n",
    "\n",
    "        estimate_4[seed-offset, index+1] = est_M.round(3)\n",
    "        frobnorm_4[seed-offset, index+1] = frob"
   ]
  },
  {
   "cell_type": "code",
   "execution_count": 29,
   "metadata": {},
   "outputs": [
    {
     "data": {
      "text/plain": [
       "array([np.float64(2.4072481489133537), np.float64(2.1084008205003952),\n",
       "       np.float64(2.0861951798924325), np.float64(2.7598147910651525),\n",
       "       np.float64(3.588047584401723), np.float64(6.066892127435979)],\n",
       "      dtype=object)"
      ]
     },
     "execution_count": 29,
     "metadata": {},
     "output_type": "execute_result"
    }
   ],
   "source": [
    "np.mean(frobnorm_4, axis=0)"
   ]
  },
  {
   "cell_type": "markdown",
   "metadata": {},
   "source": [
    "## 5 nodes\n",
    "***Results:***\n",
    "* Average Frobenius distance between the estimation $\\hat{M}$ and the true matrix $M^*$ for linear regression is $\\large{3.26}$.\n",
    "* Average Frobenius distance between the estimation $\\hat{M}$ and the true matrix $M^*$ for Lasso regression with $\\lambda = 0.0001$ is $\\large{3.047}$.\n",
    "* Average Frobenius distance between the estimation $\\hat{M}$ and the true matrix $M^*$ for Lasso regression with $\\lambda = 0.001$ is $\\large{3.095}$.\n",
    "* Average Frobenius distance between the estimation $\\hat{M}$ and the true matrix $M^*$ for Lasso regression with $\\lambda = 0.005$ is $\\large{4.587}$.\n",
    "* Average Frobenius distance between the estimation $\\hat{M}$ and the true matrix $M^*$ for Lasso regression with $\\lambda = 0.01$ is $\\large{5.743}$.\n",
    "* Average Frobenius distance between the estimation $\\hat{M}$ and the true matrix $M^*$ for Lasso regression with $\\lambda = 0.05$ is $\\large{9.537}$."
   ]
  },
  {
   "cell_type": "code",
   "execution_count": 30,
   "metadata": {},
   "outputs": [],
   "source": [
    "p = 5\n",
    "\n",
    "C = 2 * np.eye(p)\n",
    "vech_C = np.array([C[i, j] for i in range(p) for j in range(i, p)])\n",
    "unit_v = np.eye(p)[:, index_intervention]\n",
    "c = np.hstack((vech_C, - b * unit_v))\n",
    "\n",
    "reg_param = [0.0001, 0.001, 0.005, 0.01, 0.05]\n",
    "num_param = len(reg_param) + 1 # also linear regression\n",
    "offset = 2409\n",
    "\n",
    "estimate_5 = np.empty(shape=(num_exp, num_param), dtype=object)\n",
    "frobnorm_5 = np.empty(shape=(num_exp, num_param), dtype=object)\n",
    "\n",
    "for seed in range(offset, num_exp + offset):\n",
    "    true_M = simulate_M(seed=seed, p=p)\n",
    "\n",
    "    true_cov = solve_continuous_lyapunov(a=true_M, q=-C)\n",
    "    true_mean = (b * np.linalg.inv(a=true_M)).dot(unit_v)\n",
    "\n",
    "    obs = np.random.multivariate_normal(mean = true_mean, cov = true_cov, size = num_sim)\n",
    "    emp_cov = np.cov(obs, rowvar=False)\n",
    "    emp_mean = np.mean(obs, axis=0)\n",
    "\n",
    "    emp_A_Sigma = create_A_Sigma(cov=emp_cov, p=p)\n",
    "    emp_A = create_A(A_Sigma=emp_A_Sigma, mean=emp_mean, p=p)\n",
    "\n",
    "    # Linear regression\n",
    "    lin_reg = linear_model.LinearRegression()\n",
    "    lin_reg.fit(X=emp_A, y=-c)\n",
    "    est_M = np.transpose(np.reshape(lin_reg.coef_, shape=(p, p)))\n",
    "    frob = np.linalg.norm(est_M - true_M)\n",
    "\n",
    "    estimate_5[seed-offset, 0] = est_M.round(3)\n",
    "    frobnorm_5[seed-offset, 0] = frob\n",
    "\n",
    "    for index, param in enumerate(reg_param):\n",
    "        direct_lasso = linear_model.Lasso(alpha=param, max_iter=5000)\n",
    "        direct_lasso.fit(X=emp_A, y=-c)\n",
    "        est_M = np.transpose(np.reshape(direct_lasso.coef_, shape=(p, p)))\n",
    "        frob = np.linalg.norm(est_M - true_M)\n",
    "\n",
    "        estimate_5[seed-offset, index+1] = est_M.round(3)\n",
    "        frobnorm_5[seed-offset, index+1] = frob"
   ]
  },
  {
   "cell_type": "code",
   "execution_count": 31,
   "metadata": {},
   "outputs": [
    {
     "data": {
      "text/plain": [
       "array([np.float64(3.2603465863331853), np.float64(3.0467216915159754),\n",
       "       np.float64(3.0946854496177174), np.float64(4.586998208772058),\n",
       "       np.float64(5.743267446759196), np.float64(9.536728044426047)],\n",
       "      dtype=object)"
      ]
     },
     "execution_count": 31,
     "metadata": {},
     "output_type": "execute_result"
    }
   ],
   "source": [
    "np.mean(frobnorm_5, axis=0)"
   ]
  }
 ],
 "metadata": {
  "kernelspec": {
   "display_name": ".venv",
   "language": "python",
   "name": "python3"
  },
  "language_info": {
   "codemirror_mode": {
    "name": "ipython",
    "version": 3
   },
   "file_extension": ".py",
   "mimetype": "text/x-python",
   "name": "python",
   "nbconvert_exporter": "python",
   "pygments_lexer": "ipython3",
   "version": "3.12.3"
  }
 },
 "nbformat": 4,
 "nbformat_minor": 2
}
