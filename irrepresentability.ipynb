{
 "cells": [
  {
   "cell_type": "markdown",
   "metadata": {},
   "source": [
    "### Preparation"
   ]
  },
  {
   "cell_type": "code",
   "execution_count": 160,
   "metadata": {},
   "outputs": [],
   "source": [
    "import numpy as np\n",
    "from sympy import *\n",
    "from sympy.physics.quantum import TensorProduct\n",
    "import warnings\n",
    "from scipy.linalg import solve_continuous_lyapunov\n",
    "from sklearn.exceptions import ConvergenceWarning\n",
    "warnings.filterwarnings('ignore', category=ConvergenceWarning)\n",
    "init_printing(use_unicode=True)\n",
    "\n",
    "# ------- Simulation -------\n",
    "def simulate_M(bernoulli_matrix: Array, seed: int, p: int) -> Array:\n",
    "    normal_matrix = np.random.normal(0, 1, (p, p))\n",
    "    temp_M = bernoulli_matrix * normal_matrix\n",
    "    for i in range(p): # adjust diagonal entries s.t. M stable\n",
    "        row_sum = np.sum(np.abs(temp_M[i, :])) - np.abs(temp_M[i, i])\n",
    "        temp_M[i, i] = - row_sum - np.abs(normal_matrix[i,i])\n",
    "    return temp_M\n",
    "\n",
    "# ------- commutation matrix -------\n",
    "# sympy follows column-major style, numpy row-,amjor -> reshape with different order\n",
    "def comm_mat(m, n):\n",
    "    w = np.arange(m * n).reshape((m, n), order=\"F\").T.ravel(order=\"F\")\n",
    "    return np.eye(m * n)[w, :]\n",
    "def comm_mat_sympy(m, n):\n",
    "    w = Matrix(range(m * n)).reshape(n, m).T.reshape(m * n, 1)\n",
    "    return eye(m * n).extract(w, list(range(m * n)))\n",
    "\n",
    "# ------- matrix A(Sigma) -------\n",
    "def create_A_Sigma(cov: Array, p: int) -> Array:\n",
    "    identity = eye(p)\n",
    "    return np.kron(cov, identity) + np.matmul(np.kron(identity, cov), comm_mat(p, p))\n",
    "def create_A_Sigma_sympy(cov: Matrix, p: int) -> Matrix:\n",
    "    identity = eye(p)\n",
    "    return TensorProduct(cov, identity) + TensorProduct(identity, cov) * comm_mat_sympy(p, p)\n",
    "\n",
    "# ------- matrix A (intervention) -------\n",
    "def create_A(A_Sigma: Array, mean: Array, p: int) -> Array:\n",
    "    identity = mean[0] * eye(p)\n",
    "    for i in range(1, p):\n",
    "        identity = np.hstack((identity, mean[i] * eye(p)))\n",
    "    return np.vstack((A_Sigma, identity))\n",
    "def create_A_sympy(A_Sigma: Matrix, mean: Matrix, p: int) -> Matrix:\n",
    "    identity = mean[0] * eye(p)\n",
    "    for i in range(1, p):\n",
    "        identity = Matrix.hstack(identity, mean[i] * eye(p))\n",
    "    return Matrix.vstack(A_Sigma, identity)\n",
    "\n",
    "# ------- Gram matrix -------\n",
    "def gram(A: Array) -> Array:\n",
    "    return np.matmul(np.transpose(A), A)\n",
    "def gram_sympy(A: Matrix) -> Matrix:\n",
    "    return A.T * A\n",
    "\n",
    "# ------- vector g -------\n",
    "def vec_g(A: Array, vec_C: Array) -> Array:\n",
    "    return - np.dot(A, vec_C)\n",
    "def vec_g_sympy(A: Matrix, vec_C: Matrix) -> Matrix:\n",
    "    return - A * vec_C\n",
    "\n",
    "# ------- irrepresentability condition -------\n",
    "def irrep_cond(A: Array, supp: Array, supp_compl: Array) -> float:\n",
    "    gram_matrix = gram(A=A)\n",
    "    try:\n",
    "        matrix_1 = gram_matrix[supp_compl[:, None], supp] # uses broadcasting\n",
    "        matrix_2 = np.linalg.inv(gram_matrix[supp[:, None], supp])\n",
    "        return np.linalg.norm(np.matmul(matrix_1, matrix_2), ord=np.inf)\n",
    "    except np.linalg.LinAlgError:\n",
    "        return -1\n",
    "\n",
    "# ------- weak irrepresentability condition -------\n",
    "def weak_irrep_cond(M: Array, A: Array, supp: Array, supp_compl: Array) -> float:\n",
    "    gram_matrix = gram(A=A)\n",
    "    try:\n",
    "        matrix_1 = gram_matrix[supp_compl[:, None], supp] # uses broadcasting\n",
    "        matrix_2 = np.linalg.inv(gram_matrix[supp[:, None], supp])\n",
    "        sign_vec = np.sign(M.flatten(order=\"F\"))[supp]\n",
    "        return np.linalg.norm(np.matmul(matrix_1, matrix_2) @ sign_vec, ord=np.inf)\n",
    "    except np.linalg.LinAlgError:\n",
    "        return -1\n",
    "\n",
    "num_exp = 1000 # number of true matrices per case\n",
    "num_sim = 1000 # number of simulations per true matrix\n",
    "\n",
    "index_intervention = 0\n",
    "b = 2"
   ]
  },
  {
   "cell_type": "markdown",
   "metadata": {},
   "source": [
    "### $S^C = \\emptyset$: How does the irrepresentability condition look like?"
   ]
  },
  {
   "cell_type": "markdown",
   "metadata": {},
   "source": [
    "### 3 nodes - Irrepresentability condition"
   ]
  },
  {
   "cell_type": "code",
   "execution_count": 113,
   "metadata": {},
   "outputs": [
    {
     "data": {
      "image/png": "[encoded data removed]",
      "text/latex": [
       "$\\displaystyle \\left[\\begin{matrix}2 {\\Sigma}_{0,0} & 0 & 0 & 2 {\\Sigma}_{0,1} & 0 & 0 & 2 {\\Sigma}_{0,2} & 0 & 0\\\\{\\Sigma}_{0,1} & {\\Sigma}_{0,0} & 0 & {\\Sigma}_{1,1} & {\\Sigma}_{0,1} & 0 & {\\Sigma}_{1,2} & {\\Sigma}_{0,2} & 0\\\\{\\Sigma}_{0,2} & 0 & {\\Sigma}_{0,0} & {\\Sigma}_{1,2} & 0 & {\\Sigma}_{0,1} & {\\Sigma}_{2,2} & 0 & {\\Sigma}_{0,2}\\\\{\\Sigma}_{0,1} & {\\Sigma}_{0,0} & 0 & {\\Sigma}_{1,1} & {\\Sigma}_{0,1} & 0 & {\\Sigma}_{1,2} & {\\Sigma}_{0,2} & 0\\\\0 & 2 {\\Sigma}_{0,1} & 0 & 0 & 2 {\\Sigma}_{1,1} & 0 & 0 & 2 {\\Sigma}_{1,2} & 0\\\\0 & {\\Sigma}_{0,2} & {\\Sigma}_{0,1} & 0 & {\\Sigma}_{1,2} & {\\Sigma}_{1,1} & 0 & {\\Sigma}_{2,2} & {\\Sigma}_{1,2}\\\\{\\Sigma}_{0,2} & 0 & {\\Sigma}_{0,0} & {\\Sigma}_{1,2} & 0 & {\\Sigma}_{0,1} & {\\Sigma}_{2,2} & 0 & {\\Sigma}_{0,2}\\\\0 & {\\Sigma}_{0,2} & {\\Sigma}_{0,1} & 0 & {\\Sigma}_{1,2} & {\\Sigma}_{1,1} & 0 & {\\Sigma}_{2,2} & {\\Sigma}_{1,2}\\\\0 & 0 & 2 {\\Sigma}_{0,2} & 0 & 0 & 2 {\\Sigma}_{1,2} & 0 & 0 & 2 {\\Sigma}_{2,2}\\\\{\\mu}_{0,0} & 0 & 0 & {\\mu}_{1,0} & 0 & 0 & {\\mu}_{2,0} & 0 & 0\\\\0 & {\\mu}_{0,0} & 0 & 0 & {\\mu}_{1,0} & 0 & 0 & {\\mu}_{2,0} & 0\\\\0 & 0 & {\\mu}_{0,0} & 0 & 0 & {\\mu}_{1,0} & 0 & 0 & {\\mu}_{2,0}\\end{matrix}\\right]$"
      ],
      "text/plain": [
       "⎡2⋅Σ₀₀    0      0    2⋅Σ₀₁    0      0    2⋅Σ₀₂    0      0  ⎤\n",
       "⎢                                                             ⎥\n",
       "⎢ Σ₀₁    Σ₀₀     0     Σ₁₁    Σ₀₁     0     Σ₁₂    Σ₀₂     0  ⎥\n",
       "⎢                                                             ⎥\n",
       "⎢ Σ₀₂     0     Σ₀₀    Σ₁₂     0     Σ₀₁    Σ₂₂     0     Σ₀₂ ⎥\n",
       "⎢                                                             ⎥\n",
       "⎢ Σ₀₁    Σ₀₀     0     Σ₁₁    Σ₀₁     0     Σ₁₂    Σ₀₂     0  ⎥\n",
       "⎢                                                             ⎥\n",
       "⎢  0    2⋅Σ₀₁    0      0    2⋅Σ₁₁    0      0    2⋅Σ₁₂    0  ⎥\n",
       "⎢                                                             ⎥\n",
       "⎢  0     Σ₀₂    Σ₀₁     0     Σ₁₂    Σ₁₁     0     Σ₂₂    Σ₁₂ ⎥\n",
       "⎢                                                             ⎥\n",
       "⎢ Σ₀₂     0     Σ₀₀    Σ₁₂     0     Σ₀₁    Σ₂₂     0     Σ₀₂ ⎥\n",
       "⎢                                                             ⎥\n",
       "⎢  0     Σ₀₂    Σ₀₁     0     Σ₁₂    Σ₁₁     0     Σ₂₂    Σ₁₂ ⎥\n",
       "⎢                                                             ⎥\n",
       "⎢  0      0    2⋅Σ₀₂    0      0    2⋅Σ₁₂    0      0    2⋅Σ₂₂⎥\n",
       "⎢                                                             ⎥\n",
       "⎢ μ₀₀     0      0     μ₁₀     0      0     μ₂₀     0      0  ⎥\n",
       "⎢                                                             ⎥\n",
       "⎢  0     μ₀₀     0      0     μ₁₀     0      0     μ₂₀     0  ⎥\n",
       "⎢                                                             ⎥\n",
       "⎣  0      0     μ₀₀     0      0     μ₁₀     0      0     μ₂₀ ⎦"
      ]
     },
     "execution_count": 113,
     "metadata": {},
     "output_type": "execute_result"
    }
   ],
   "source": [
    "p = 3\n",
    "Sigma = MatrixSymbol(\"Sigma\", p, p).as_mutable()\n",
    "cov = Matrix(p, p, lambda i, j: Sigma[min(i,j),max(i,j)])\n",
    "mean = MatrixSymbol(\"mu\", p, 1).as_mutable()\n",
    "A_Sigma = create_A_Sigma_sympy(cov=cov, p=p)\n",
    "A = create_A_sympy(A_Sigma=A_Sigma, mean=mean, p=p)\n",
    "A"
   ]
  },
  {
   "cell_type": "code",
   "execution_count": 150,
   "metadata": {},
   "outputs": [
    {
     "name": "stdout",
     "output_type": "stream",
     "text": [
      "Complete graph:  [   4   16   37  111  258  526 1000]\n",
      "Singular Gram matrix:  [0 0 0 0 0 0 0]\n",
      "Irrepresentability condition satisfied:  [112  67  43  25  10   2   0]\n"
     ]
    }
   ],
   "source": [
    "p = 3\n",
    "offset = 120899\n",
    "d = [0.4, 0.5, 0.6, 0.7, 0.8, 0.9, 1]\n",
    "full_support = np.arange(p * p)\n",
    "\n",
    "C = 2 * np.eye(p)\n",
    "unit_v = np.eye(p)[:, index_intervention]\n",
    "\n",
    "irrep_3 = np.empty(shape=(num_exp, len(d)), dtype=object)\n",
    "\n",
    "for index in range(len(d)):\n",
    "    for seed in range(offset, num_exp + offset):\n",
    "        np.random.seed(seed=seed)\n",
    "        bernoulli_matrix = np.random.binomial(1, d[index], (p, p))\n",
    "\n",
    "        support = (np.nonzero(bernoulli_matrix.flatten() != 0))[0]\n",
    "        for i in range(p):\n",
    "            if ((i * p) + i) not in support:\n",
    "                support = np.append(support, (i * p) + i)\n",
    "        supp_compl = np.setdiff1d(full_support, support)\n",
    "\n",
    "        if len(supp_compl) == 0:\n",
    "            irrep_3[seed - offset, index] = -2\n",
    "        \n",
    "        else:\n",
    "            true_M = simulate_M(bernoulli_matrix=bernoulli_matrix, seed=seed, p=p)\n",
    "\n",
    "            true_cov = solve_continuous_lyapunov(a=true_M, q=-C)\n",
    "            true_mean = (b * np.linalg.inv(a=true_M)).dot(unit_v)\n",
    "\n",
    "            obs = np.random.multivariate_normal(mean = true_mean, cov = true_cov, size = num_sim)\n",
    "            emp_cov = np.cov(obs, rowvar=False)\n",
    "            emp_mean = np.mean(obs, axis=0)\n",
    "\n",
    "            emp_A_Sigma = create_A_Sigma(cov=emp_cov, p=p)\n",
    "            emp_A = create_A(A_Sigma=emp_A_Sigma, mean=emp_mean, p=p)\n",
    "            emp_A = np.float64(emp_A)\n",
    "\n",
    "            irrep_condition = irrep_cond(A=emp_A, supp=support, supp_compl=supp_compl)\n",
    "\n",
    "            irrep_3[seed - offset, index] = irrep_condition\n",
    "\n",
    "print(\"Complete graph: \", np.sum(irrep_3 == -2, axis=0))\n",
    "print(\"Singular Gram matrix: \", np.sum(irrep_3 == -1, axis=0))\n",
    "print(\"Irrepresentability condition satisfied: \", (np.sum(irrep_3 < 1, axis=0) - np.sum(irrep_3 == -2, axis=0) - np.sum(irrep_3 == -1, axis=0)))"
   ]
  },
  {
   "cell_type": "markdown",
   "metadata": {},
   "source": [
    "### 3 nodes - Weak irrepresentability condition"
   ]
  },
  {
   "cell_type": "code",
   "execution_count": 161,
   "metadata": {},
   "outputs": [
    {
     "name": "stdout",
     "output_type": "stream",
     "text": [
      "Complete graph:  [   4   16   37  111  258  526 1000]\n",
      "Singular Gram matrix:  [0 0 0 0 0 0 0]\n",
      "Irrepresentability condition satisfied:  [629 559 453 392 308 195   0]\n"
     ]
    }
   ],
   "source": [
    "p = 3\n",
    "offset = 120899\n",
    "d = [0.4, 0.5, 0.6, 0.7, 0.8, 0.9, 1]\n",
    "full_support = np.arange(p * p)\n",
    "\n",
    "C = 2 * np.eye(p)\n",
    "unit_v = np.eye(p)[:, index_intervention]\n",
    "\n",
    "weak_irrep_3 = np.empty(shape=(num_exp, len(d)), dtype=object)\n",
    "\n",
    "for index in range(len(d)):\n",
    "    for seed in range(offset, num_exp + offset):\n",
    "        np.random.seed(seed=seed)\n",
    "        bernoulli_matrix = np.random.binomial(1, d[index], (p, p))\n",
    "\n",
    "        support = (np.nonzero(bernoulli_matrix.flatten() != 0))[0]\n",
    "        for i in range(p):\n",
    "            if ((i * p) + i) not in support:\n",
    "                support = np.append(support, (i * p) + i)\n",
    "        supp_compl = np.setdiff1d(full_support, support)\n",
    "\n",
    "        if len(supp_compl) == 0:\n",
    "            weak_irrep_3[seed - offset, index] = -2\n",
    "        \n",
    "        else:\n",
    "            true_M = simulate_M(bernoulli_matrix=bernoulli_matrix, seed=seed, p=p)\n",
    "\n",
    "            true_cov = solve_continuous_lyapunov(a=true_M, q=-C)\n",
    "            true_mean = (b * np.linalg.inv(a=true_M)).dot(unit_v)\n",
    "\n",
    "            obs = np.random.multivariate_normal(mean = true_mean, cov = true_cov, size = num_sim)\n",
    "            emp_cov = np.cov(obs, rowvar=False)\n",
    "            emp_mean = np.mean(obs, axis=0)\n",
    "\n",
    "            emp_A_Sigma = create_A_Sigma(cov=emp_cov, p=p)\n",
    "            emp_A = create_A(A_Sigma=emp_A_Sigma, mean=emp_mean, p=p)\n",
    "            emp_A = np.float64(emp_A)\n",
    "\n",
    "            irrep_condition = weak_irrep_cond(M=true_M, A=emp_A, supp=support, supp_compl=supp_compl)\n",
    "\n",
    "            weak_irrep_3[seed - offset, index] = irrep_condition\n",
    "\n",
    "print(\"Complete graph: \", np.sum(weak_irrep_3 == -2, axis=0))\n",
    "print(\"Singular Gram matrix: \", np.sum(weak_irrep_3 == -1, axis=0))\n",
    "print(\"Irrepresentability condition satisfied: \", (np.sum(weak_irrep_3 <= 1, axis=0) - np.sum(weak_irrep_3 == -2, axis=0) - np.sum(weak_irrep_3 == -1, axis=0)))"
   ]
  },
  {
   "cell_type": "markdown",
   "metadata": {},
   "source": [
    "### 4 nodes - Irrepresentability condition"
   ]
  },
  {
   "cell_type": "code",
   "execution_count": 153,
   "metadata": {},
   "outputs": [
    {
     "name": "stdout",
     "output_type": "stream",
     "text": [
      "Complete graph:  [   0    0    2   17   72  261 1000]\n",
      "Singular Gram matrix:  [0 0 0 0 1 0 0]\n",
      "Irrepresentability condition satisfied:  [11  2  0  0  0  0  0]\n"
     ]
    }
   ],
   "source": [
    "p = 4\n",
    "offset = 120899\n",
    "d = [0.4, 0.5, 0.6, 0.7, 0.8, 0.9, 1]\n",
    "full_support = np.arange(p * p)\n",
    "\n",
    "C = 2 * np.eye(p)\n",
    "unit_v = np.eye(p)[:, index_intervention]\n",
    "\n",
    "irrep_4 = np.empty(shape=(num_exp, len(d)), dtype=object)\n",
    "\n",
    "for index in range(len(d)):\n",
    "    for seed in range(offset, num_exp + offset):\n",
    "        np.random.seed(seed=seed)\n",
    "        bernoulli_matrix = np.random.binomial(1, d[index], (p, p))\n",
    "\n",
    "        support = (np.nonzero(bernoulli_matrix.flatten() != 0))[0]\n",
    "        for i in range(p):\n",
    "            if ((i * p) + i) not in support:\n",
    "                support = np.append(support, (i * p) + i)\n",
    "        supp_compl = np.setdiff1d(full_support, support)\n",
    "\n",
    "        if len(supp_compl) == 0:\n",
    "            irrep_4[seed - offset, index] = -2\n",
    "        \n",
    "        else:\n",
    "            true_M = simulate_M(bernoulli_matrix=bernoulli_matrix, seed=seed, p=p)\n",
    "\n",
    "            true_cov = solve_continuous_lyapunov(a=true_M, q=-C)\n",
    "            true_mean = (b * np.linalg.inv(a=true_M)).dot(unit_v)\n",
    "\n",
    "            obs = np.random.multivariate_normal(mean = true_mean, cov = true_cov, size = num_sim)\n",
    "            emp_cov = np.cov(obs, rowvar=False)\n",
    "            emp_mean = np.mean(obs, axis=0)\n",
    "\n",
    "            emp_A_Sigma = create_A_Sigma(cov=emp_cov, p=p)\n",
    "            emp_A = create_A(A_Sigma=emp_A_Sigma, mean=emp_mean, p=p)\n",
    "            emp_A = np.float64(emp_A)\n",
    "\n",
    "            irrep_condition = irrep_cond(A=emp_A, supp=support, supp_compl=supp_compl)\n",
    "\n",
    "            irrep_4[seed - offset, index] = irrep_condition\n",
    "\n",
    "print(\"Complete graph: \", np.sum(irrep_4 == -2, axis=0))\n",
    "print(\"Singular Gram matrix: \", np.sum(irrep_4 == -1, axis=0))\n",
    "print(\"Irrepresentability condition satisfied: \", (np.sum(irrep_4 < 1, axis=0) - np.sum(irrep_4 == -2, axis=0) - np.sum(irrep_4 == -1, axis=0)))"
   ]
  },
  {
   "cell_type": "markdown",
   "metadata": {},
   "source": [
    "### 4 nodes - Weak irrepresentability condition"
   ]
  },
  {
   "cell_type": "code",
   "execution_count": 162,
   "metadata": {},
   "outputs": [
    {
     "name": "stdout",
     "output_type": "stream",
     "text": [
      "Complete graph:  [   0    0    2   17   72  261 1000]\n",
      "Singular Gram matrix:  [0 0 0 0 1 0 0]\n",
      "Irrepresentability condition satisfied:  [365 262 169 127 108 121   0]\n"
     ]
    }
   ],
   "source": [
    "p = 4\n",
    "offset = 120899\n",
    "d = [0.4, 0.5, 0.6, 0.7, 0.8, 0.9, 1]\n",
    "full_support = np.arange(p * p)\n",
    "\n",
    "C = 2 * np.eye(p)\n",
    "unit_v = np.eye(p)[:, index_intervention]\n",
    "\n",
    "weak_irrep_4 = np.empty(shape=(num_exp, len(d)), dtype=object)\n",
    "\n",
    "for index in range(len(d)):\n",
    "    for seed in range(offset, num_exp + offset):\n",
    "        np.random.seed(seed=seed)\n",
    "        bernoulli_matrix = np.random.binomial(1, d[index], (p, p))\n",
    "\n",
    "        support = (np.nonzero(bernoulli_matrix.flatten() != 0))[0]\n",
    "        for i in range(p):\n",
    "            if ((i * p) + i) not in support:\n",
    "                support = np.append(support, (i * p) + i)\n",
    "        supp_compl = np.setdiff1d(full_support, support)\n",
    "\n",
    "        if len(supp_compl) == 0:\n",
    "            weak_irrep_4[seed - offset, index] = -2\n",
    "        \n",
    "        else:\n",
    "            true_M = simulate_M(bernoulli_matrix=bernoulli_matrix, seed=seed, p=p)\n",
    "\n",
    "            true_cov = solve_continuous_lyapunov(a=true_M, q=-C)\n",
    "            true_mean = (b * np.linalg.inv(a=true_M)).dot(unit_v)\n",
    "\n",
    "            obs = np.random.multivariate_normal(mean = true_mean, cov = true_cov, size = num_sim)\n",
    "            emp_cov = np.cov(obs, rowvar=False)\n",
    "            emp_mean = np.mean(obs, axis=0)\n",
    "\n",
    "            emp_A_Sigma = create_A_Sigma(cov=emp_cov, p=p)\n",
    "            emp_A = create_A(A_Sigma=emp_A_Sigma, mean=emp_mean, p=p)\n",
    "            emp_A = np.float64(emp_A)\n",
    "\n",
    "            irrep_condition = weak_irrep_cond(M=true_M, A=emp_A, supp=support, supp_compl=supp_compl)\n",
    "\n",
    "            weak_irrep_4[seed - offset, index] = irrep_condition\n",
    "\n",
    "print(\"Complete graph: \", np.sum(weak_irrep_4 == -2, axis=0))\n",
    "print(\"Singular Gram matrix: \", np.sum(weak_irrep_4 == -1, axis=0))\n",
    "print(\"Irrepresentability condition satisfied: \", (np.sum(weak_irrep_4 <= 1, axis=0) - np.sum(weak_irrep_4 == -2, axis=0) - np.sum(weak_irrep_4 == -1, axis=0)))"
   ]
  },
  {
   "cell_type": "markdown",
   "metadata": {},
   "source": [
    "### 5 nodes - Irrepresentability condition"
   ]
  },
  {
   "cell_type": "code",
   "execution_count": 154,
   "metadata": {},
   "outputs": [
    {
     "name": "stdout",
     "output_type": "stream",
     "text": [
      "Complete graph:  [   0    0    0    0   13  106 1000]\n",
      "Singular Gram matrix:  [0 0 0 0 0 0 0]\n",
      "Irrepresentability condition satisfied:  [2 0 0 0 0 0 0]\n"
     ]
    }
   ],
   "source": [
    "p = 5\n",
    "offset = 120899\n",
    "d = [0.4, 0.5, 0.6, 0.7, 0.8, 0.9, 1]\n",
    "full_support = np.arange(p * p)\n",
    "\n",
    "C = 2 * np.eye(p)\n",
    "unit_v = np.eye(p)[:, index_intervention]\n",
    "\n",
    "irrep_5 = np.empty(shape=(num_exp, len(d)), dtype=object)\n",
    "\n",
    "for index in range(len(d)):\n",
    "    for seed in range(offset, num_exp + offset):\n",
    "        np.random.seed(seed=seed)\n",
    "        bernoulli_matrix = np.random.binomial(1, d[index], (p, p))\n",
    "\n",
    "        support = (np.nonzero(bernoulli_matrix.flatten() != 0))[0]\n",
    "        for i in range(p):\n",
    "            if ((i * p) + i) not in support:\n",
    "                support = np.append(support, (i * p) + i)\n",
    "        supp_compl = np.setdiff1d(full_support, support)\n",
    "\n",
    "        if len(supp_compl) == 0:\n",
    "            irrep_5[seed - offset, index] = -2\n",
    "        \n",
    "        else:\n",
    "            true_M = simulate_M(bernoulli_matrix=bernoulli_matrix, seed=seed, p=p)\n",
    "\n",
    "            true_cov = solve_continuous_lyapunov(a=true_M, q=-C)\n",
    "            true_mean = (b * np.linalg.inv(a=true_M)).dot(unit_v)\n",
    "\n",
    "            obs = np.random.multivariate_normal(mean = true_mean, cov = true_cov, size = num_sim)\n",
    "            emp_cov = np.cov(obs, rowvar=False)\n",
    "            emp_mean = np.mean(obs, axis=0)\n",
    "\n",
    "            emp_A_Sigma = create_A_Sigma(cov=emp_cov, p=p)\n",
    "            emp_A = create_A(A_Sigma=emp_A_Sigma, mean=emp_mean, p=p)\n",
    "            emp_A = np.float64(emp_A)\n",
    "\n",
    "            irrep_condition = irrep_cond(A=emp_A, supp=support, supp_compl=supp_compl)\n",
    "\n",
    "            irrep_5[seed - offset, index] = irrep_condition\n",
    "\n",
    "print(\"Complete graph: \", np.sum(irrep_5 == -2, axis=0))\n",
    "print(\"Singular Gram matrix: \", np.sum(irrep_5 == -1, axis=0))\n",
    "print(\"Irrepresentability condition satisfied: \", (np.sum(irrep_5 < 1, axis=0) - np.sum(irrep_5 == -2, axis=0) - np.sum(irrep_5 == -1, axis=0)))"
   ]
  },
  {
   "cell_type": "markdown",
   "metadata": {},
   "source": [
    "### 5 nodes - Weak irrepresentability condition"
   ]
  },
  {
   "cell_type": "code",
   "execution_count": 163,
   "metadata": {},
   "outputs": [
    {
     "name": "stdout",
     "output_type": "stream",
     "text": [
      "Complete graph:  [   0    0    0    0   13  106 1000]\n",
      "Singular Gram matrix:  [0 0 0 0 0 0 0]\n",
      "Irrepresentability condition satisfied:  [166  86  49  19  20  57   0]\n"
     ]
    }
   ],
   "source": [
    "p = 5\n",
    "offset = 120899\n",
    "d = [0.4, 0.5, 0.6, 0.7, 0.8, 0.9, 1]\n",
    "full_support = np.arange(p * p)\n",
    "\n",
    "C = 2 * np.eye(p)\n",
    "unit_v = np.eye(p)[:, index_intervention]\n",
    "\n",
    "weak_irrep_5 = np.empty(shape=(num_exp, len(d)), dtype=object)\n",
    "\n",
    "for index in range(len(d)):\n",
    "    for seed in range(offset, num_exp + offset):\n",
    "        np.random.seed(seed=seed)\n",
    "        bernoulli_matrix = np.random.binomial(1, d[index], (p, p))\n",
    "\n",
    "        support = (np.nonzero(bernoulli_matrix.flatten() != 0))[0]\n",
    "        for i in range(p):\n",
    "            if ((i * p) + i) not in support:\n",
    "                support = np.append(support, (i * p) + i)\n",
    "        supp_compl = np.setdiff1d(full_support, support)\n",
    "\n",
    "        if len(supp_compl) == 0:\n",
    "            weak_irrep_5[seed - offset, index] = -2\n",
    "        \n",
    "        else:\n",
    "            true_M = simulate_M(bernoulli_matrix=bernoulli_matrix, seed=seed, p=p)\n",
    "\n",
    "            true_cov = solve_continuous_lyapunov(a=true_M, q=-C)\n",
    "            true_mean = (b * np.linalg.inv(a=true_M)).dot(unit_v)\n",
    "\n",
    "            obs = np.random.multivariate_normal(mean = true_mean, cov = true_cov, size = num_sim)\n",
    "            emp_cov = np.cov(obs, rowvar=False)\n",
    "            emp_mean = np.mean(obs, axis=0)\n",
    "\n",
    "            emp_A_Sigma = create_A_Sigma(cov=emp_cov, p=p)\n",
    "            emp_A = create_A(A_Sigma=emp_A_Sigma, mean=emp_mean, p=p)\n",
    "            emp_A = np.float64(emp_A)\n",
    "\n",
    "            irrep_condition = weak_irrep_cond(M=true_M, A=emp_A, supp=support, supp_compl=supp_compl)\n",
    "\n",
    "            weak_irrep_5[seed - offset, index] = irrep_condition\n",
    "\n",
    "print(\"Complete graph: \", np.sum(weak_irrep_5 == -2, axis=0))\n",
    "print(\"Singular Gram matrix: \", np.sum(weak_irrep_5 == -1, axis=0))\n",
    "print(\"Irrepresentability condition satisfied: \", (np.sum(weak_irrep_5 <= 1, axis=0) - np.sum(weak_irrep_5 == -2, axis=0) - np.sum(weak_irrep_5 == -1, axis=0)))"
   ]
  }
 ],
 "metadata": {
  "kernelspec": {
   "display_name": ".venv",
   "language": "python",
   "name": "python3"
  },
  "language_info": {
   "codemirror_mode": {
    "name": "ipython",
    "version": 3
   },
   "file_extension": ".py",
   "mimetype": "text/x-python",
   "name": "python",
   "nbconvert_exporter": "python",
   "pygments_lexer": "ipython3",
   "version": "3.12.3"
  }
 },
 "nbformat": 4,
 "nbformat_minor": 2
}
