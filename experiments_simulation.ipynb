{
 "cells": [
  {
   "cell_type": "markdown",
   "metadata": {},
   "source": [
    "## Preparation"
   ]
  },
  {
   "cell_type": "code",
   "execution_count": 1,
   "metadata": {},
   "outputs": [],
   "source": [
    "import numpy as np\n",
    "from sympy import *\n",
    "# from sympy.solvers import solve\n",
    "import warnings\n",
    "from scipy.linalg import solve_continuous_lyapunov\n",
    "from sklearn import linear_model\n",
    "from sklearn.exceptions import ConvergenceWarning\n",
    "warnings.filterwarnings('ignore', category=ConvergenceWarning) \n",
    "init_printing(use_unicode=True)"
   ]
  },
  {
   "cell_type": "code",
   "execution_count": 2,
   "metadata": {},
   "outputs": [],
   "source": [
    "def simulate_M(seed: int, p: int) -> Array:\n",
    "    np.random.seed(seed=seed)\n",
    "    normal_matrix = np.random.normal(0, 1, (p, p))\n",
    "    for i in range(p): # adjust diagonal entries s.t. M stable\n",
    "        normal_matrix[i, i] = - np.sum(np.abs(normal_matrix[i, :]))\n",
    "    return normal_matrix\n",
    "\n",
    "def num_sym(p: int) -> int:\n",
    "    return int(p * (p + 1) / 2)\n",
    "\n",
    "def create_A_Sigma(cov: Array, p: int) -> Array:\n",
    "    row_num = num_sym(p=p)\n",
    "    col_num = int(p * p)\n",
    "    A_Sigma = np.empty(shape=(row_num, col_num), dtype=float)\n",
    "    for l in range(p):\n",
    "        for k in range(l+1):\n",
    "            for i in range(p):\n",
    "                for j in range(p):\n",
    "                    if (j != k) & (j != l):\n",
    "                        A_Sigma[(k * p) + (l - num_sym(p=k)), i * p + j] = 0\n",
    "                    elif (j == k) & (k != l):\n",
    "                        A_Sigma[(k * p) + (l - num_sym(p=k)), i * p + j] = cov[l, i]\n",
    "                    elif (j == l) & (l != k):\n",
    "                        A_Sigma[(k * p) + (l - num_sym(p=k)), i * p + j] = cov[k, i]\n",
    "                    elif (j == k) & (j == l):\n",
    "                        A_Sigma[(k * p) + (l - num_sym(p=k)), i * p + j] = 2 * cov[j, i]\n",
    "    return A_Sigma\n",
    "\n",
    "def create_A(A_Sigma: Array, mean: Array, p: int) -> Array:\n",
    "    identity = mean[0] * eye(p)\n",
    "    for i in range(1, p):\n",
    "        identity = np.hstack((identity, mean[i] * eye(p)))\n",
    "    return np.vstack((A_Sigma, identity))"
   ]
  },
  {
   "cell_type": "code",
   "execution_count": 3,
   "metadata": {},
   "outputs": [],
   "source": [
    "num_exp = 1000 # number of true matrices per case\n",
    "num_sim = 1000 # number of simulations per true matrix\n",
    "\n",
    "index_intervention = 0\n",
    "b = 2"
   ]
  },
  {
   "cell_type": "markdown",
   "metadata": {},
   "source": [
    "Universally:\n",
    "* save estimates and their Frobenius distances to the true $M^*$\n",
    "* $\\texttt{frob = -1}$ if no result could be produced"
   ]
  },
  {
   "cell_type": "markdown",
   "metadata": {},
   "source": [
    "## 2 nodes"
   ]
  },
  {
   "cell_type": "code",
   "execution_count": 4,
   "metadata": {},
   "outputs": [],
   "source": [
    "p = 2\n",
    "\n",
    "C = 2 * np.eye(p)\n",
    "vech_C = np.array([C[i, j] for i in range(p) for j in range(i, p)])\n",
    "unit_v = np.eye(p)[:, index_intervention]\n",
    "\n",
    "reg_param = [0.001, 0.01, 0.1, 1]\n",
    "num_param = len(reg_param) + 1 # also linear regression"
   ]
  },
  {
   "cell_type": "markdown",
   "metadata": {},
   "source": [
    "### $\\texttt{index\\_deletion = 0}$\n",
    "***Results:*** \n",
    "* Average Frobenius distance between the estimation $\\hat{M}$ and the true matrix $M^*$ is $\\large{2.311}$.\n",
    "* Average Frobenius distance between the estimation $\\hat{M}$ and the true matrix $M^*$ for linear regression is $\\large{2.716}$.\n",
    "* Average Frobenius distance between the estimation $\\hat{M}$ and the true matrix $M^*$ for Lasso regression with $\\lambda = 0.001$ is $\\large{2.546}$.\n",
    "* Average Frobenius distance between the estimation $\\hat{M}$ and the true matrix $M^*$ for Lasso regression with $\\lambda = 0.01$ is $\\large{1.939}$.\n",
    "* Average Frobenius distance between the estimation $\\hat{M}$ and the true matrix $M^*$ for Lasso regression with $\\lambda = 0.1$ is $\\large{1.715}$.\n",
    "* Average Frobenius distance between the estimation $\\hat{M}$ and the true matrix $M^*$ for Lasso regression with $\\lambda = 1$ is $\\large{2.64}$."
   ]
  },
  {
   "cell_type": "code",
   "execution_count": 5,
   "metadata": {},
   "outputs": [
    {
     "data": {
      "text/plain": [
       "'\\nindex_deletion = 0\\noffset = 1\\n\\nc = np.hstack((vech_C, - b * unit_v))\\nc = np.delete(c, (index_deletion))\\n\\nestimate_2_0 = np.empty(shape=(num_exp, num_param), dtype=object)\\nfrobnorm_2_0 = np.empty(shape=(num_exp, num_param), dtype=object)\\n\\nfor seed in range(offset, 4 + offset):\\n    true_M = simulate_M(seed=seed, p=p)\\n\\n    true_cov = solve_continuous_lyapunov(a=true_M, q=-C)\\n    true_mean = (b * np.linalg.inv(a=true_M)).dot(unit_v)\\n\\n    obs = np.random.multivariate_normal(mean = true_mean, cov = true_cov, size = 10)\\n    emp_cov = np.cov(obs, rowvar=False)\\n    emp_mean = np.mean(obs, axis=0)\\n\\n    emp_A_Sigma = create_A_Sigma(cov=emp_cov, p=p)\\n    emp_A = np.delete(create_A(A_Sigma=emp_A_Sigma, mean=emp_mean, p=p), (index_deletion), axis=0)\\n\\n    # Linear regression\\n    lin_reg = linear_model.LinearRegression()\\n    lin_reg.fit(X=emp_A, y=-c)\\n    est_M = np.transpose(np.reshape(lin_reg.coef_, shape=(p, p)))\\n    frob = np.linalg.norm(est_M - true_M)\\n\\n    estimate_2_0[seed-offset, 0] = est_M\\n    frobnorm_2_0[seed-offset, 0] = frob\\n\\n    for index, param in enumerate(reg_param):\\n        direct_lasso = linear_model.Lasso(alpha=param, max_iter=5000)\\n        direct_lasso.fit(X=emp_A, y=-c)\\n        est_M = np.transpose(np.reshape(direct_lasso.coef_, shape=(p, p)))\\n        frob = np.linalg.norm(est_M - true_M)\\n\\n        estimate_2_0[seed-offset, index+1] = est_M\\n        frobnorm_2_0[seed-offset, index+1] = frob\\n        \\n\\n    # Ordinary solution with sympy.solve\\n    solution = solve(emp_A * vec_M + c, vec_M)\\n\\n    if len(solution) == 4:\\n        est_M_np = matrix2numpy(M.subs(solution)).astype(float)\\n        frob = np.linalg.norm(est_M_np - true_M_np)\\n\\n        estimate_2_0[seed - offset, 0] = est_M_np.round(3)\\n        frobnorm_2_0[seed - offset, 0] = frob\\n    else:\\n        frobnorm_2_0[seed - offset, 0] = -1\\n    '"
      ]
     },
     "execution_count": 5,
     "metadata": {},
     "output_type": "execute_result"
    }
   ],
   "source": [
    "'''\n",
    "index_deletion = 0\n",
    "offset = 1\n",
    "\n",
    "c = np.hstack((vech_C, - b * unit_v))\n",
    "c = np.delete(c, (index_deletion))\n",
    "\n",
    "estimate_2_0 = np.empty(shape=(num_exp, num_param), dtype=object)\n",
    "frobnorm_2_0 = np.empty(shape=(num_exp, num_param), dtype=object)\n",
    "\n",
    "for seed in range(offset, 4 + offset):\n",
    "    true_M = simulate_M(seed=seed, p=p)\n",
    "\n",
    "    true_cov = solve_continuous_lyapunov(a=true_M, q=-C)\n",
    "    true_mean = (b * np.linalg.inv(a=true_M)).dot(unit_v)\n",
    "\n",
    "    obs = np.random.multivariate_normal(mean = true_mean, cov = true_cov, size = 10)\n",
    "    emp_cov = np.cov(obs, rowvar=False)\n",
    "    emp_mean = np.mean(obs, axis=0)\n",
    "\n",
    "    emp_A_Sigma = create_A_Sigma(cov=emp_cov, p=p)\n",
    "    emp_A = np.delete(create_A(A_Sigma=emp_A_Sigma, mean=emp_mean, p=p), (index_deletion), axis=0)\n",
    "\n",
    "    # Linear regression\n",
    "    lin_reg = linear_model.LinearRegression()\n",
    "    lin_reg.fit(X=emp_A, y=-c)\n",
    "    est_M = np.transpose(np.reshape(lin_reg.coef_, shape=(p, p)))\n",
    "    frob = np.linalg.norm(est_M - true_M)\n",
    "\n",
    "    estimate_2_0[seed-offset, 0] = est_M\n",
    "    frobnorm_2_0[seed-offset, 0] = frob\n",
    "\n",
    "    for index, param in enumerate(reg_param):\n",
    "        direct_lasso = linear_model.Lasso(alpha=param, max_iter=5000)\n",
    "        direct_lasso.fit(X=emp_A, y=-c)\n",
    "        est_M = np.transpose(np.reshape(direct_lasso.coef_, shape=(p, p)))\n",
    "        frob = np.linalg.norm(est_M - true_M)\n",
    "\n",
    "        estimate_2_0[seed-offset, index+1] = est_M\n",
    "        frobnorm_2_0[seed-offset, index+1] = frob\n",
    "        \n",
    "\n",
    "    # Ordinary solution with sympy.solve\n",
    "    solution = solve(emp_A * vec_M + c, vec_M)\n",
    "\n",
    "    if len(solution) == 4:\n",
    "        est_M_np = matrix2numpy(M.subs(solution)).astype(float)\n",
    "        frob = np.linalg.norm(est_M_np - true_M_np)\n",
    "\n",
    "        estimate_2_0[seed - offset, 0] = est_M_np.round(3)\n",
    "        frobnorm_2_0[seed - offset, 0] = frob\n",
    "    else:\n",
    "        frobnorm_2_0[seed - offset, 0] = -1\n",
    "    '''\n"
   ]
  },
  {
   "cell_type": "code",
   "execution_count": 6,
   "metadata": {},
   "outputs": [],
   "source": [
    "index_deletion = 0\n",
    "offset = 1\n",
    "\n",
    "c = np.hstack((vech_C, - b * unit_v))\n",
    "c = np.delete(c, (index_deletion))\n",
    "\n",
    "estimate_2_0 = np.empty(shape=(num_exp, num_param), dtype=object)\n",
    "frobnorm_2_0 = np.empty(shape=(num_exp, num_param), dtype=object)\n",
    "\n",
    "for seed in range(offset, num_exp + offset):\n",
    "    true_M = simulate_M(seed=seed, p=p)\n",
    "\n",
    "    true_cov = solve_continuous_lyapunov(a=true_M, q=-C)\n",
    "    true_mean = (b * np.linalg.inv(a=true_M)).dot(unit_v)\n",
    "\n",
    "    obs = np.random.multivariate_normal(mean = true_mean, cov = true_cov, size = 10)\n",
    "    emp_cov = np.cov(obs, rowvar=False)\n",
    "    emp_mean = np.mean(obs, axis=0)\n",
    "\n",
    "    emp_A_Sigma = create_A_Sigma(cov=emp_cov, p=p)\n",
    "    emp_A = np.delete(create_A(A_Sigma=emp_A_Sigma, mean=emp_mean, p=p), (index_deletion), axis=0)\n",
    "\n",
    "    # Linear regression\n",
    "    lin_reg = linear_model.LinearRegression()\n",
    "    lin_reg.fit(X=emp_A, y=-c)\n",
    "    est_M = np.transpose(np.reshape(lin_reg.coef_, shape=(p, p)))\n",
    "    frob = np.linalg.norm(est_M - true_M)\n",
    "\n",
    "    estimate_2_0[seed-offset, 0] = est_M.round(3)\n",
    "    frobnorm_2_0[seed-offset, 0] = frob\n",
    "\n",
    "    for index, param in enumerate(reg_param):\n",
    "        direct_lasso = linear_model.Lasso(alpha=param, max_iter=5000)\n",
    "        direct_lasso.fit(X=emp_A, y=-c)\n",
    "        est_M = np.transpose(np.reshape(direct_lasso.coef_, shape=(p, p)))\n",
    "        frob = np.linalg.norm(est_M - true_M)\n",
    "\n",
    "        estimate_2_0[seed-offset, index+1] = est_M.round(3)\n",
    "        frobnorm_2_0[seed-offset, index+1] = frob"
   ]
  },
  {
   "cell_type": "code",
   "execution_count": 7,
   "metadata": {},
   "outputs": [
    {
     "data": {
      "image/png": "[encoded data removed]",
      "text/latex": [
       "$\\displaystyle 2.31104041658$"
      ],
      "text/plain": [
       "np.float64(2.3110404165799956)"
      ]
     },
     "execution_count": 7,
     "metadata": {},
     "output_type": "execute_result"
    }
   ],
   "source": [
    "np.mean(frobnorm_2_0)"
   ]
  },
  {
   "cell_type": "code",
   "execution_count": 8,
   "metadata": {},
   "outputs": [
    {
     "data": {
      "text/plain": [
       "array([np.float64(2.7157554964053765), np.float64(2.545726509136398),\n",
       "       np.float64(1.938569857787821), np.float64(1.7151214860696669),\n",
       "       np.float64(2.640028733500743)], dtype=object)"
      ]
     },
     "execution_count": 8,
     "metadata": {},
     "output_type": "execute_result"
    }
   ],
   "source": [
    "np.mean(frobnorm_2_0, axis=0)"
   ]
  },
  {
   "cell_type": "markdown",
   "metadata": {},
   "source": [
    "### $\\texttt{index\\_deletion = 1}$\n",
    "***Results:*** \n",
    "* Average Frobenius distance between the estimation $\\hat{M}$ and the true matrix $M^*$ is $\\large{2.092}$.\n",
    "* Average Frobenius distance between the estimation $\\hat{M}$ and the true matrix $M^*$ for linear regression is $\\large{2.119}$.\n",
    "* Average Frobenius distance between the estimation $\\hat{M}$ and the true matrix $M^*$ for Lasso regression with $\\lambda = 0.001$ is $\\large{2.088}$.\n",
    "* Average Frobenius distance between the estimation $\\hat{M}$ and the true matrix $M^*$ for Lasso regression with $\\lambda = 0.01$ is $\\large{1.93}$.\n",
    "* Average Frobenius distance between the estimation $\\hat{M}$ and the true matrix $M^*$ for Lasso regression with $\\lambda = 0.1$ is $\\large{1.773}$.\n",
    "* Average Frobenius distance between the estimation $\\hat{M}$ and the true matrix $M^*$ for Lasso regression with $\\lambda = 1$ is $\\large{2.552}$."
   ]
  },
  {
   "cell_type": "code",
   "execution_count": 9,
   "metadata": {},
   "outputs": [],
   "source": [
    "index_deletion = 1\n",
    "offset = 12\n",
    "\n",
    "c = np.hstack((vech_C, - b * unit_v))\n",
    "c = np.delete(c, (index_deletion))\n",
    "\n",
    "estimate_2_1 = np.empty(shape=(num_exp, num_param), dtype=object)\n",
    "frobnorm_2_1 = np.empty(shape=(num_exp, num_param), dtype=object)\n",
    "\n",
    "for seed in range(offset, num_exp + offset):\n",
    "    true_M = simulate_M(seed=seed, p=p)\n",
    "\n",
    "    true_cov = solve_continuous_lyapunov(a=true_M, q=-C)\n",
    "    true_mean = (b * np.linalg.inv(a=true_M)).dot(unit_v)\n",
    "\n",
    "    obs = np.random.multivariate_normal(mean = true_mean, cov = true_cov, size = 10)\n",
    "    emp_cov = np.cov(obs, rowvar=False)\n",
    "    emp_mean = np.mean(obs, axis=0)\n",
    "\n",
    "    emp_A_Sigma = create_A_Sigma(cov=emp_cov, p=p)\n",
    "    emp_A = np.delete(create_A(A_Sigma=emp_A_Sigma, mean=emp_mean, p=p), (index_deletion), axis=0)\n",
    "\n",
    "    # Linear regression\n",
    "    lin_reg = linear_model.LinearRegression()\n",
    "    lin_reg.fit(X=emp_A, y=-c)\n",
    "    est_M = np.transpose(np.reshape(lin_reg.coef_, shape=(p, p)))\n",
    "    frob = np.linalg.norm(est_M - true_M)\n",
    "\n",
    "    estimate_2_1[seed-offset, 0] = est_M.round(3)\n",
    "    frobnorm_2_1[seed-offset, 0] = frob\n",
    "\n",
    "    for index, param in enumerate(reg_param):\n",
    "        direct_lasso = linear_model.Lasso(alpha=param, max_iter=5000)\n",
    "        direct_lasso.fit(X=emp_A, y=-c)\n",
    "        est_M = np.transpose(np.reshape(direct_lasso.coef_, shape=(p, p)))\n",
    "        frob = np.linalg.norm(est_M - true_M)\n",
    "\n",
    "        estimate_2_1[seed-offset, index+1] = est_M.round(3)\n",
    "        frobnorm_2_1[seed-offset, index+1] = frob"
   ]
  },
  {
   "cell_type": "code",
   "execution_count": 10,
   "metadata": {},
   "outputs": [
    {
     "data": {
      "image/png": "[encoded data removed]",
      "text/latex": [
       "$\\displaystyle 2.09253468805338$"
      ],
      "text/plain": [
       "np.float64(2.0925346880533766)"
      ]
     },
     "execution_count": 10,
     "metadata": {},
     "output_type": "execute_result"
    }
   ],
   "source": [
    "np.mean(frobnorm_2_1)"
   ]
  },
  {
   "cell_type": "code",
   "execution_count": 11,
   "metadata": {},
   "outputs": [
    {
     "data": {
      "text/plain": [
       "array([np.float64(2.119315702653408), np.float64(2.088465083478025),\n",
       "       np.float64(1.9301759193918808), np.float64(1.7726052690995346),\n",
       "       np.float64(2.5521114656440367)], dtype=object)"
      ]
     },
     "execution_count": 11,
     "metadata": {},
     "output_type": "execute_result"
    }
   ],
   "source": [
    "np.mean(frobnorm_2_1, axis=0)"
   ]
  },
  {
   "cell_type": "markdown",
   "metadata": {},
   "source": [
    "### $\\texttt{index\\_deletion = 2}$\n",
    "***Results:***\n",
    "* Average Frobenius distance between the estimation $\\hat{M}$ and the true matrix $M^*$ is $\\large{2.515}$.\n",
    "* Average Frobenius distance between the estimation $\\hat{M}$ and the true matrix $M^*$ for linear regression is $\\large{2.794}$.\n",
    "* Average Frobenius distance between the estimation $\\hat{M}$ and the true matrix $M^*$ for Lasso regression with $\\lambda = 0.001$ is $\\large{2.721}$.\n",
    "* Average Frobenius distance between the estimation $\\hat{M}$ and the true matrix $M^*$ for Lasso regression with $\\lambda = 0.01$ is $\\large{2.315}$.\n",
    "* Average Frobenius distance between the estimation $\\hat{M}$ and the true matrix $M^*$ for Lasso regression with $\\lambda = 0.1$ is $\\large{2.155}$.\n",
    "* Average Frobenius distance between the estimation $\\hat{M}$ and the true matrix $M^*$ for Lasso regression with $\\lambda = 1$ is $\\large{2.59}$."
   ]
  },
  {
   "cell_type": "code",
   "execution_count": 12,
   "metadata": {},
   "outputs": [],
   "source": [
    "index_deletion = 2\n",
    "offset = 123\n",
    "\n",
    "c = np.hstack((vech_C, - b * unit_v))\n",
    "c = np.delete(c, (index_deletion))\n",
    "\n",
    "estimate_2_2 = np.empty(shape=(num_exp, num_param), dtype=object)\n",
    "frobnorm_2_2 = np.empty(shape=(num_exp, num_param), dtype=object)\n",
    "\n",
    "for seed in range(offset, num_exp + offset):\n",
    "    true_M = simulate_M(seed=seed, p=p)\n",
    "\n",
    "    true_cov = solve_continuous_lyapunov(a=true_M, q=-C)\n",
    "    true_mean = (b * np.linalg.inv(a=true_M)).dot(unit_v)\n",
    "\n",
    "    obs = np.random.multivariate_normal(mean = true_mean, cov = true_cov, size = 10)\n",
    "    emp_cov = np.cov(obs, rowvar=False)\n",
    "    emp_mean = np.mean(obs, axis=0)\n",
    "\n",
    "    emp_A_Sigma = create_A_Sigma(cov=emp_cov, p=p)\n",
    "    emp_A = np.delete(create_A(A_Sigma=emp_A_Sigma, mean=emp_mean, p=p), (index_deletion), axis=0)\n",
    "\n",
    "    # Linear regression\n",
    "    lin_reg = linear_model.LinearRegression()\n",
    "    lin_reg.fit(X=emp_A, y=-c)\n",
    "    est_M = np.transpose(np.reshape(lin_reg.coef_, shape=(p, p)))\n",
    "    frob = np.linalg.norm(est_M - true_M)\n",
    "\n",
    "    estimate_2_2[seed-offset, 0] = est_M.round(3)\n",
    "    frobnorm_2_2[seed-offset, 0] = frob\n",
    "\n",
    "    for index, param in enumerate(reg_param):\n",
    "        direct_lasso = linear_model.Lasso(alpha=param, max_iter=5000)\n",
    "        direct_lasso.fit(X=emp_A, y=-c)\n",
    "        est_M = np.transpose(np.reshape(direct_lasso.coef_, shape=(p, p)))\n",
    "        frob = np.linalg.norm(est_M - true_M)\n",
    "\n",
    "        estimate_2_2[seed-offset, index+1] = est_M.round(3)\n",
    "        frobnorm_2_2[seed-offset, index+1] = frob"
   ]
  },
  {
   "cell_type": "code",
   "execution_count": 13,
   "metadata": {},
   "outputs": [
    {
     "data": {
      "image/png": "[encoded data removed]",
      "text/latex": [
       "$\\displaystyle 2.51518372352296$"
      ],
      "text/plain": [
       "np.float64(2.5151837235229575)"
      ]
     },
     "execution_count": 13,
     "metadata": {},
     "output_type": "execute_result"
    }
   ],
   "source": [
    "np.mean(frobnorm_2_2)"
   ]
  },
  {
   "cell_type": "code",
   "execution_count": 14,
   "metadata": {},
   "outputs": [
    {
     "data": {
      "text/plain": [
       "array([np.float64(2.794101922610868), np.float64(2.721633577749591),\n",
       "       np.float64(2.3150668463328654), np.float64(2.1551806957225725),\n",
       "       np.float64(2.5899355751988797)], dtype=object)"
      ]
     },
     "execution_count": 14,
     "metadata": {},
     "output_type": "execute_result"
    }
   ],
   "source": [
    "np.mean(frobnorm_2_2, axis=0)"
   ]
  },
  {
   "cell_type": "markdown",
   "metadata": {},
   "source": [
    "### $\\texttt{index\\_deletion = 3}$\n",
    "***Results:***\n",
    "* Average Frobenius distance between the estimation $\\hat{M}$ and the true matrix $M^*$ is $\\large{2.587}$.\n",
    "* Average Frobenius distance between the estimation $\\hat{M}$ and the true matrix $M^*$ for linear regression is $\\large{2.824}$.\n",
    "* Average Frobenius distance between the estimation $\\hat{M}$ and the true matrix $M^*$ for Lasso regression with $\\lambda = 0.001$ is $\\large{2.93}$.\n",
    "* Average Frobenius distance between the estimation $\\hat{M}$ and the true matrix $M^*$ for Lasso regression with $\\lambda = 0.01$ is $\\large{2.35}$.\n",
    "* Average Frobenius distance between the estimation $\\hat{M}$ and the true matrix $M^*$ for Lasso regression with $\\lambda = 0.1$ is $\\large{2.114}$.\n",
    "* Average Frobenius distance between the estimation $\\hat{M}$ and the true matrix $M^*$ for Lasso regression with $\\lambda = 1$ is $\\large{2.715}$."
   ]
  },
  {
   "cell_type": "code",
   "execution_count": 15,
   "metadata": {},
   "outputs": [],
   "source": [
    "index_deletion = 3\n",
    "offset = 1234\n",
    "\n",
    "c = np.hstack((vech_C, - b * unit_v))\n",
    "c = np.delete(c, (index_deletion))\n",
    "\n",
    "estimate_2_3 = np.empty(shape=(num_exp, num_param), dtype=object)\n",
    "frobnorm_2_3 = np.empty(shape=(num_exp, num_param), dtype=object)\n",
    "\n",
    "for seed in range(offset, num_exp + offset):\n",
    "    true_M = simulate_M(seed=seed, p=p)\n",
    "\n",
    "    true_cov = solve_continuous_lyapunov(a=true_M, q=-C)\n",
    "    true_mean = (b * np.linalg.inv(a=true_M)).dot(unit_v)\n",
    "\n",
    "    obs = np.random.multivariate_normal(mean = true_mean, cov = true_cov, size = 10)\n",
    "    emp_cov = np.cov(obs, rowvar=False)\n",
    "    emp_mean = np.mean(obs, axis=0)\n",
    "\n",
    "    emp_A_Sigma = create_A_Sigma(cov=emp_cov, p=p)\n",
    "    emp_A = np.delete(create_A(A_Sigma=emp_A_Sigma, mean=emp_mean, p=p), (index_deletion), axis=0)\n",
    "\n",
    "    # Linear regression\n",
    "    lin_reg = linear_model.LinearRegression()\n",
    "    lin_reg.fit(X=emp_A, y=-c)\n",
    "    est_M = np.transpose(np.reshape(lin_reg.coef_, shape=(p, p)))\n",
    "    frob = np.linalg.norm(est_M - true_M)\n",
    "\n",
    "    estimate_2_3[seed-offset, 0] = est_M.round(3)\n",
    "    frobnorm_2_3[seed-offset, 0] = frob\n",
    "\n",
    "    for index, param in enumerate(reg_param):\n",
    "        direct_lasso = linear_model.Lasso(alpha=param, max_iter=5000)\n",
    "        direct_lasso.fit(X=emp_A, y=-c)\n",
    "        est_M = np.transpose(np.reshape(direct_lasso.coef_, shape=(p, p)))\n",
    "        frob = np.linalg.norm(est_M - true_M)\n",
    "\n",
    "        estimate_2_3[seed-offset, index+1] = est_M.round(3)\n",
    "        frobnorm_2_3[seed-offset, index+1] = frob"
   ]
  },
  {
   "cell_type": "code",
   "execution_count": 16,
   "metadata": {},
   "outputs": [
    {
     "data": {
      "image/png": "[encoded data removed]",
      "text/latex": [
       "$\\displaystyle 2.58683607213764$"
      ],
      "text/plain": [
       "np.float64(2.586836072137636)"
      ]
     },
     "execution_count": 16,
     "metadata": {},
     "output_type": "execute_result"
    }
   ],
   "source": [
    "np.mean(frobnorm_2_3)"
   ]
  },
  {
   "cell_type": "code",
   "execution_count": 17,
   "metadata": {},
   "outputs": [
    {
     "data": {
      "text/plain": [
       "array([np.float64(2.824341154172404), np.float64(2.9303714603360413),\n",
       "       np.float64(2.34978225073085), np.float64(2.114454447367889),\n",
       "       np.float64(2.7152310480809967)], dtype=object)"
      ]
     },
     "execution_count": 17,
     "metadata": {},
     "output_type": "execute_result"
    }
   ],
   "source": [
    "np.mean(frobnorm_2_3, axis=0)"
   ]
  },
  {
   "cell_type": "markdown",
   "metadata": {},
   "source": [
    "### $\\texttt{index\\_deletion = 4}$\n",
    "***Results:***\n",
    "* Average Frobenius distance between the estimation $\\hat{M}$ and the true matrix $M^*$ is $\\large{2.007}$.\n",
    "* Average Frobenius distance between the estimation $\\hat{M}$ and the true matrix $M^*$ for linear regression is $\\large{1.984}$.\n",
    "* Average Frobenius distance between the estimation $\\hat{M}$ and the true matrix $M^*$ for Lasso regression with $\\lambda = 0.001$ is $\\large{2.201}$.\n",
    "* Average Frobenius distance between the estimation $\\hat{M}$ and the true matrix $M^*$ for Lasso regression with $\\lambda = 0.01$ is $\\large{2.017}$.\n",
    "* Average Frobenius distance between the estimation $\\hat{M}$ and the true matrix $M^*$ for Lasso regression with $\\lambda = 0.1$ is $\\large{1.623}$.\n",
    "* Average Frobenius distance between the estimation $\\hat{M}$ and the true matrix $M^*$ for Lasso regression with $\\lambda = 1$ is $\\large{2.562}$."
   ]
  },
  {
   "cell_type": "code",
   "execution_count": 18,
   "metadata": {},
   "outputs": [],
   "source": [
    "index_deletion = 4\n",
    "offset = 12345\n",
    "\n",
    "c = np.hstack((vech_C, - b * unit_v))\n",
    "c = np.delete(c, (index_deletion))\n",
    "\n",
    "estimate_2_4 = np.empty(shape=(num_exp, num_param), dtype=object)\n",
    "frobnorm_2_4 = np.empty(shape=(num_exp, num_param), dtype=object)\n",
    "\n",
    "for seed in range(offset, num_exp + offset):\n",
    "    true_M = simulate_M(seed=seed, p=p)\n",
    "\n",
    "    true_cov = solve_continuous_lyapunov(a=true_M, q=-C)\n",
    "    true_mean = (b * np.linalg.inv(a=true_M)).dot(unit_v)\n",
    "\n",
    "    obs = np.random.multivariate_normal(mean = true_mean, cov = true_cov, size = 10)\n",
    "    emp_cov = np.cov(obs, rowvar=False)\n",
    "    emp_mean = np.mean(obs, axis=0)\n",
    "\n",
    "    emp_A_Sigma = create_A_Sigma(cov=emp_cov, p=p)\n",
    "    emp_A = np.delete(create_A(A_Sigma=emp_A_Sigma, mean=emp_mean, p=p), (index_deletion), axis=0)\n",
    "\n",
    "    # Linear regression\n",
    "    lin_reg = linear_model.LinearRegression()\n",
    "    lin_reg.fit(X=emp_A, y=-c)\n",
    "    est_M = np.transpose(np.reshape(lin_reg.coef_, shape=(p, p)))\n",
    "    frob = np.linalg.norm(est_M - true_M)\n",
    "\n",
    "    estimate_2_4[seed-offset, 0] = est_M.round(3)\n",
    "    frobnorm_2_4[seed-offset, 0] = frob\n",
    "\n",
    "    for index, param in enumerate(reg_param):\n",
    "        direct_lasso = linear_model.Lasso(alpha=param, max_iter=5000)\n",
    "        direct_lasso.fit(X=emp_A, y=-c)\n",
    "        est_M = np.transpose(np.reshape(direct_lasso.coef_, shape=(p, p)))\n",
    "        frob = np.linalg.norm(est_M - true_M)\n",
    "\n",
    "        estimate_2_4[seed-offset, index+1] = est_M.round(3)\n",
    "        frobnorm_2_4[seed-offset, index+1] = frob"
   ]
  },
  {
   "cell_type": "code",
   "execution_count": 19,
   "metadata": {},
   "outputs": [
    {
     "data": {
      "image/png": "[encoded data removed]",
      "text/latex": [
       "$\\displaystyle 2.07732051907958$"
      ],
      "text/plain": [
       "np.float64(2.0773205190795827)"
      ]
     },
     "execution_count": 19,
     "metadata": {},
     "output_type": "execute_result"
    }
   ],
   "source": [
    "np.mean(frobnorm_2_4)"
   ]
  },
  {
   "cell_type": "code",
   "execution_count": 20,
   "metadata": {},
   "outputs": [
    {
     "data": {
      "text/plain": [
       "array([np.float64(1.9836201825759558), np.float64(2.2010237972738462),\n",
       "       np.float64(2.017090856341054), np.float64(1.622632204376296),\n",
       "       np.float64(2.5622355548307683)], dtype=object)"
      ]
     },
     "execution_count": 20,
     "metadata": {},
     "output_type": "execute_result"
    }
   ],
   "source": [
    "np.mean(frobnorm_2_4, axis=0)"
   ]
  },
  {
   "cell_type": "markdown",
   "metadata": {},
   "source": [
    "### No deletion\n",
    "***Results:***\n",
    "* Average Frobenius distance between the estimation $\\hat{M}$ and the true matrix $M^*$ is $\\large{12.004}$.\n",
    "* Average Frobenius distance between the estimation $\\hat{M}$ and the true matrix $M^*$ for linear regression is $\\large{50.428}$.\n",
    "* Average Frobenius distance between the estimation $\\hat{M}$ and the true matrix $M^*$ for Lasso regression with $\\lambda = 0.001$ is $\\large{3.422}$.\n",
    "* Average Frobenius distance between the estimation $\\hat{M}$ and the true matrix $M^*$ for Lasso regression with $\\lambda = 0.01$ is $\\large{1.891}$.\n",
    "* Average Frobenius distance between the estimation $\\hat{M}$ and the true matrix $M^*$ for Lasso regression with $\\lambda = 0.1$ is $\\large{1.663}$.\n",
    "* Average Frobenius distance between the estimation $\\hat{M}$ and the true matrix $M^*$ for Lasso regression with $\\lambda = 1$ is $\\large{2.615}$."
   ]
  },
  {
   "cell_type": "code",
   "execution_count": 21,
   "metadata": {},
   "outputs": [],
   "source": [
    "offset = 12345\n",
    "\n",
    "c = np.hstack((vech_C, - b * unit_v))\n",
    "\n",
    "estimate_2 = np.empty(shape=(num_exp, num_param), dtype=object)\n",
    "frobnorm_2 = np.empty(shape=(num_exp, num_param), dtype=object)\n",
    "\n",
    "for seed in range(offset, num_exp + offset):\n",
    "    true_M = simulate_M(seed=seed, p=p)\n",
    "\n",
    "    true_cov = solve_continuous_lyapunov(a=true_M, q=-C)\n",
    "    true_mean = (b * np.linalg.inv(a=true_M)).dot(unit_v)\n",
    "\n",
    "    obs = np.random.multivariate_normal(mean = true_mean, cov = true_cov, size = 10)\n",
    "    emp_cov = np.cov(obs, rowvar=False)\n",
    "    emp_mean = np.mean(obs, axis=0)\n",
    "\n",
    "    emp_A_Sigma = create_A_Sigma(cov=emp_cov, p=p)\n",
    "    emp_A = create_A(A_Sigma=emp_A_Sigma, mean=emp_mean, p=p)\n",
    "\n",
    "    # Linear regression\n",
    "    lin_reg = linear_model.LinearRegression()\n",
    "    lin_reg.fit(X=emp_A, y=-c)\n",
    "    est_M = np.transpose(np.reshape(lin_reg.coef_, shape=(p, p)))\n",
    "    frob = np.linalg.norm(est_M - true_M)\n",
    "\n",
    "    estimate_2[seed-offset, 0] = est_M.round(3)\n",
    "    frobnorm_2[seed-offset, 0] = frob\n",
    "\n",
    "    for index, param in enumerate(reg_param):\n",
    "        direct_lasso = linear_model.Lasso(alpha=param, max_iter=5000)\n",
    "        direct_lasso.fit(X=emp_A, y=-c)\n",
    "        est_M = np.transpose(np.reshape(direct_lasso.coef_, shape=(p, p)))\n",
    "        frob = np.linalg.norm(est_M - true_M)\n",
    "\n",
    "        estimate_2[seed-offset, index+1] = est_M.round(3)\n",
    "        frobnorm_2[seed-offset, index+1] = frob"
   ]
  },
  {
   "cell_type": "code",
   "execution_count": 22,
   "metadata": {},
   "outputs": [
    {
     "data": {
      "image/png": "[encoded data removed]",
      "text/latex": [
       "$\\displaystyle 12.0039420403249$"
      ],
      "text/plain": [
       "np.float64(12.00394204032488)"
      ]
     },
     "execution_count": 22,
     "metadata": {},
     "output_type": "execute_result"
    }
   ],
   "source": [
    "np.mean(frobnorm_2)"
   ]
  },
  {
   "cell_type": "code",
   "execution_count": 23,
   "metadata": {},
   "outputs": [
    {
     "data": {
      "text/plain": [
       "array([np.float64(50.42792522643579), np.float64(3.4223765021488117),\n",
       "       np.float64(1.8907988312286732), np.float64(1.6634908101760908),\n",
       "       np.float64(2.615118831635098)], dtype=object)"
      ]
     },
     "execution_count": 23,
     "metadata": {},
     "output_type": "execute_result"
    }
   ],
   "source": [
    "np.mean(frobnorm_2, axis=0)"
   ]
  },
  {
   "cell_type": "markdown",
   "metadata": {},
   "source": [
    "### Overview: 2 nodes\n",
    "* Average Frobenius distance between the estimation $\\hat{M}$ and the true matrix $M^*$ is $\\large{3.931}$.\n",
    "* Average Frobenius distance between the estimation $\\hat{M}$ and the true matrix $M^*$ for linear regression is $\\large{10.478}$.\n",
    "* Average Frobenius distance between the estimation $\\hat{M}$ and the true matrix $M^*$ for Lasso regression with $\\lambda = 0.001$ is $\\large{2.652}$.\n",
    "* Average Frobenius distance between the estimation $\\hat{M}$ and the true matrix $M^*$ for Lasso regression with $\\lambda = 0.01$ is $\\large{2.074}$.\n",
    "* Average Frobenius distance between the estimation $\\hat{M}$ and the true matrix $M^*$ for Lasso regression with $\\lambda = 0.1$ is $\\large{1.841}$.\n",
    "* Average Frobenius distance between the estimation $\\hat{M}$ and the true matrix $M^*$ for Lasso regression with $\\lambda = 1$ is $\\large{2.612}$."
   ]
  },
  {
   "cell_type": "code",
   "execution_count": 40,
   "metadata": {},
   "outputs": [
    {
     "data": {
      "text/plain": [
       "array([np.float64(10.477509947475678), np.float64(2.6515994883537877),\n",
       "       np.float64(2.0735807603021867), np.float64(1.8405808188020054),\n",
       "       np.float64(2.612443534815083)], dtype=object)"
      ]
     },
     "execution_count": 40,
     "metadata": {},
     "output_type": "execute_result"
    }
   ],
   "source": [
    "frobnorm_2nodes = np.vstack((frobnorm_2, frobnorm_2_0, frobnorm_2_1, frobnorm_2_2, frobnorm_2_3, frobnorm_2_4))\n",
    "np.mean(frobnorm_2nodes, axis=0)"
   ]
  },
  {
   "cell_type": "markdown",
   "metadata": {},
   "source": [
    "## 3 nodes"
   ]
  },
  {
   "cell_type": "code",
   "execution_count": 24,
   "metadata": {},
   "outputs": [],
   "source": [
    "p = 3\n",
    "\n",
    "C = 2 * np.eye(p)\n",
    "vech_C = np.array([C[i, j] for i in range(p) for j in range(i, p)])\n",
    "unit_v = np.eye(p)[:, index_intervention]\n",
    "c = np.hstack((vech_C, - b * unit_v))\n",
    "\n",
    "reg_param = [0.001, 0.005, 0.01, 0.05, 0.1, 0.5]\n",
    "num_param = len(reg_param) + 1 # also linear regression"
   ]
  },
  {
   "cell_type": "markdown",
   "metadata": {},
   "source": [
    "### All entries\n",
    "***Results:***\n",
    "* Average Frobenius distance between the estimation $\\hat{M}$ and the true matrix $M^*$ is $\\large{42.498}$.\n",
    "* Average Frobenius distance between the estimation $\\hat{M}$ and the true matrix $M^*$ for linear regression is $\\large{271.087}$.\n",
    "* Average Frobenius distance between the estimation $\\hat{M}$ and the true matrix $M^*$ for Lasso regression with $\\lambda = 0.001$ is $\\large{6.678}$.\n",
    "* Average Frobenius distance between the estimation $\\hat{M}$ and the true matrix $M^*$ for Lasso regression with $\\lambda = 0.005$ is $\\large{3.889}$.\n",
    "* Average Frobenius distance between the estimation $\\hat{M}$ and the true matrix $M^*$ for Lasso regression with $\\lambda = 0.01$ is $\\large{3.074}$.\n",
    "* Average Frobenius distance between the estimation $\\hat{M}$ and the true matrix $M^*$ for Lasso regression with $\\lambda = 0.05$ is $\\large{3.614}$.\n",
    "* Average Frobenius distance between the estimation $\\hat{M}$ and the true matrix $M^*$ for Lasso regression with $\\lambda = 0.1$ is $\\large{4.179}$.\n",
    "* Average Frobenius distance between the estimation $\\hat{M}$ and the true matrix $M^*$ for Lasso regression with $\\lambda = 0.5$ is $\\large{4.964}$."
   ]
  },
  {
   "cell_type": "code",
   "execution_count": 25,
   "metadata": {},
   "outputs": [],
   "source": [
    "offset = 120\n",
    "\n",
    "estimate_3_0 = np.empty(shape=(num_exp, num_param), dtype=object)\n",
    "frobnorm_3_0 = np.empty(shape=(num_exp, num_param), dtype=object)\n",
    "\n",
    "for seed in range(offset, num_exp + offset):\n",
    "    true_M = simulate_M(seed=seed, p=p)\n",
    "\n",
    "    true_cov = solve_continuous_lyapunov(a=true_M, q=-C)\n",
    "    true_mean = (b * np.linalg.inv(a=true_M)).dot(unit_v)\n",
    "\n",
    "    obs = np.random.multivariate_normal(mean = true_mean, cov = true_cov, size = 10)\n",
    "    emp_cov = np.cov(obs, rowvar=False)\n",
    "    emp_mean = np.mean(obs, axis=0)\n",
    "\n",
    "    emp_A_Sigma = create_A_Sigma(cov=emp_cov, p=p)\n",
    "    emp_A = create_A(A_Sigma=emp_A_Sigma, mean=emp_mean, p=p)\n",
    "\n",
    "    # Linear regression\n",
    "    lin_reg = linear_model.LinearRegression()\n",
    "    lin_reg.fit(X=emp_A, y=-c)\n",
    "    est_M = np.transpose(np.reshape(lin_reg.coef_, shape=(p, p)))\n",
    "    frob = np.linalg.norm(est_M - true_M)\n",
    "\n",
    "    estimate_3_0[seed-offset, 0] = est_M.round(3)\n",
    "    frobnorm_3_0[seed-offset, 0] = frob\n",
    "\n",
    "    for index, param in enumerate(reg_param):\n",
    "        direct_lasso = linear_model.Lasso(alpha=param, max_iter=5000)\n",
    "        direct_lasso.fit(X=emp_A, y=-c)\n",
    "        est_M = np.transpose(np.reshape(direct_lasso.coef_, shape=(p, p)))\n",
    "        frob = np.linalg.norm(est_M - true_M)\n",
    "\n",
    "        estimate_3_0[seed-offset, index+1] = est_M.round(3)\n",
    "        frobnorm_3_0[seed-offset, index+1] = frob"
   ]
  },
  {
   "cell_type": "code",
   "execution_count": 26,
   "metadata": {},
   "outputs": [
    {
     "data": {
      "image/png": "[encoded data removed]",
      "text/latex": [
       "$\\displaystyle 42.497905443863$"
      ],
      "text/plain": [
       "np.float64(42.49790544386301)"
      ]
     },
     "execution_count": 26,
     "metadata": {},
     "output_type": "execute_result"
    }
   ],
   "source": [
    "np.mean(frobnorm_3_0)"
   ]
  },
  {
   "cell_type": "code",
   "execution_count": 27,
   "metadata": {},
   "outputs": [
    {
     "data": {
      "text/plain": [
       "array([np.float64(271.0869505212456), np.float64(6.677960064013381),\n",
       "       np.float64(3.8892021537873354), np.float64(3.0740630243039218),\n",
       "       np.float64(3.614438931735723), np.float64(4.178673630140045),\n",
       "       np.float64(4.964049781815212)], dtype=object)"
      ]
     },
     "execution_count": 27,
     "metadata": {},
     "output_type": "execute_result"
    }
   ],
   "source": [
    "np.mean(frobnorm_3_0, axis=0)"
   ]
  },
  {
   "cell_type": "markdown",
   "metadata": {},
   "source": [
    "### One random entry missing\n",
    "***Results:***\n",
    "* Average Frobenius distance between the estimation $\\hat{M}$ and the true matrix $M^*$ is $\\large{26.269}$.\n",
    "* Average Frobenius distance between the estimation $\\hat{M}$ and the true matrix $M^*$ for linear regression is $\\large{157.323}$.\n",
    "* Average Frobenius distance between the estimation $\\hat{M}$ and the true matrix $M^*$ for Lasso regression with $\\lambda = 0.001$ is $\\large{6.909}$.\n",
    "* Average Frobenius distance between the estimation $\\hat{M}$ and the true matrix $M^*$ for Lasso regression with $\\lambda = 0.005$ is $\\large{3.935}$.\n",
    "* Average Frobenius distance between the estimation $\\hat{M}$ and the true matrix $M^*$ for Lasso regression with $\\lambda = 0.01$ is $\\large{3.096}$.\n",
    "* Average Frobenius distance between the estimation $\\hat{M}$ and the true matrix $M^*$ for Lasso regression with $\\lambda = 0.05$ is $\\large{3.586}$.\n",
    "* Average Frobenius distance between the estimation $\\hat{M}$ and the true matrix $M^*$ for Lasso regression with $\\lambda = 0.1$ is $\\large{4.118}$.\n",
    "* Average Frobenius distance between the estimation $\\hat{M}$ and the true matrix $M^*$ for Lasso regression with $\\lambda = 0.5$ is $\\large{4.914}$."
   ]
  },
  {
   "cell_type": "code",
   "execution_count": 28,
   "metadata": {},
   "outputs": [],
   "source": [
    "entries = [[0, 1], [0, 2], [1, 0], [1, 2], [2, 0], [2, 1]]\n",
    "offset = 1208\n",
    "\n",
    "estimate_3_1 = np.empty(shape=(num_exp, num_param), dtype=object)\n",
    "frobnorm_3_1 = np.empty(shape=(num_exp, num_param), dtype=object)\n",
    "\n",
    "for seed in range(offset, num_exp + offset):\n",
    "    true_M = simulate_M(seed=seed, p=p)\n",
    "\n",
    "    true_cov = solve_continuous_lyapunov(a=true_M, q=-C)\n",
    "    true_mean = (b * np.linalg.inv(a=true_M)).dot(unit_v)\n",
    "\n",
    "    obs = np.random.multivariate_normal(mean = true_mean, cov = true_cov, size = 10)\n",
    "    emp_cov = np.cov(obs, rowvar=False)\n",
    "    emp_mean = np.mean(obs, axis=0)\n",
    "\n",
    "    emp_A_Sigma = create_A_Sigma(cov=emp_cov, p=p)\n",
    "    emp_A = create_A(A_Sigma=emp_A_Sigma, mean=emp_mean, p=p)\n",
    "\n",
    "    # Linear regression\n",
    "    lin_reg = linear_model.LinearRegression()\n",
    "    lin_reg.fit(X=emp_A, y=-c)\n",
    "    est_M = np.transpose(np.reshape(lin_reg.coef_, shape=(p, p)))\n",
    "    frob = np.linalg.norm(est_M - true_M)\n",
    "\n",
    "    estimate_3_1[seed-offset, 0] = est_M.round(3)\n",
    "    frobnorm_3_1[seed-offset, 0] = frob\n",
    "\n",
    "    for index, param in enumerate(reg_param):\n",
    "        direct_lasso = linear_model.Lasso(alpha=param, max_iter=5000)\n",
    "        direct_lasso.fit(X=emp_A, y=-c)\n",
    "        est_M = np.transpose(np.reshape(direct_lasso.coef_, shape=(p, p)))\n",
    "        frob = np.linalg.norm(est_M - true_M)\n",
    "\n",
    "        estimate_3_1[seed-offset, index+1] = est_M.round(3)\n",
    "        frobnorm_3_1[seed-offset, index+1] = frob"
   ]
  },
  {
   "cell_type": "code",
   "execution_count": 29,
   "metadata": {},
   "outputs": [
    {
     "data": {
      "image/png": "[encoded data removed]",
      "text/latex": [
       "$\\displaystyle 26.2685918786429$"
      ],
      "text/plain": [
       "np.float64(26.268591878642898)"
      ]
     },
     "execution_count": 29,
     "metadata": {},
     "output_type": "execute_result"
    }
   ],
   "source": [
    "np.mean(frobnorm_3_1)"
   ]
  },
  {
   "cell_type": "code",
   "execution_count": 30,
   "metadata": {},
   "outputs": [
    {
     "data": {
      "text/plain": [
       "array([np.float64(157.3228586630324), np.float64(6.90868449862348),\n",
       "       np.float64(3.9345583586320756), np.float64(3.095995498317779),\n",
       "       np.float64(3.585962697397941), np.float64(4.117869731235047),\n",
       "       np.float64(4.914213703261751)], dtype=object)"
      ]
     },
     "execution_count": 30,
     "metadata": {},
     "output_type": "execute_result"
    }
   ],
   "source": [
    "np.mean(frobnorm_3_1, axis=0)"
   ]
  },
  {
   "cell_type": "markdown",
   "metadata": {},
   "source": [
    "### Two entries missing I\n",
    "***Results:***\n",
    "* Average Frobenius distance between the estimation $\\hat{M}$ and the true matrix $M^*$ is $\\large{21.27}$.\n",
    "* Average Frobenius distance between the estimation $\\hat{M}$ and the true matrix $M^*$ for linear regression is $\\large{122.947}$.\n",
    "* Average Frobenius distance between the estimation $\\hat{M}$ and the true matrix $M^*$ for Lasso regression with $\\lambda = 0.001$ is $\\large{6.478}$.\n",
    "* Average Frobenius distance between the estimation $\\hat{M}$ and the true matrix $M^*$ for Lasso regression with $\\lambda = 0.005$ is $\\large{3.765}$.\n",
    "* Average Frobenius distance between the estimation $\\hat{M}$ and the true matrix $M^*$ for Lasso regression with $\\lambda = 0.01$ is $\\large{3.061}$.\n",
    "* Average Frobenius distance between the estimation $\\hat{M}$ and the true matrix $M^*$ for Lasso regression with $\\lambda = 0.05$ is $\\large{3.564}$.\n",
    "* Average Frobenius distance between the estimation $\\hat{M}$ and the true matrix $M^*$ for Lasso regression with $\\lambda = 0.1$ is $\\large{4.129}$.\n",
    "* Average Frobenius distance between the estimation $\\hat{M}$ and the true matrix $M^*$ for Lasso regression with $\\lambda = 0.5$ is $\\large{4.945}$."
   ]
  },
  {
   "cell_type": "code",
   "execution_count": 31,
   "metadata": {},
   "outputs": [],
   "source": [
    "offset = 12089\n",
    "\n",
    "estimate_3_2 = np.empty(shape=(num_exp, num_param), dtype=object)\n",
    "frobnorm_3_2 = np.empty(shape=(num_exp, num_param), dtype=object)\n",
    "\n",
    "for seed in range(offset, num_exp + offset):\n",
    "    true_M = simulate_M(seed=seed, p=p)\n",
    "\n",
    "    true_cov = solve_continuous_lyapunov(a=true_M, q=-C)\n",
    "    true_mean = (b * np.linalg.inv(a=true_M)).dot(unit_v)\n",
    "\n",
    "    obs = np.random.multivariate_normal(mean = true_mean, cov = true_cov, size = 10)\n",
    "    emp_cov = np.cov(obs, rowvar=False)\n",
    "    emp_mean = np.mean(obs, axis=0)\n",
    "\n",
    "    emp_A_Sigma = create_A_Sigma(cov=emp_cov, p=p)\n",
    "    emp_A = create_A(A_Sigma=emp_A_Sigma, mean=emp_mean, p=p)\n",
    "\n",
    "    # Linear regression\n",
    "    lin_reg = linear_model.LinearRegression()\n",
    "    lin_reg.fit(X=emp_A, y=-c)\n",
    "    est_M = np.transpose(np.reshape(lin_reg.coef_, shape=(p, p)))\n",
    "    frob = np.linalg.norm(est_M - true_M)\n",
    "\n",
    "    estimate_3_2[seed-offset, 0] = est_M.round(3)\n",
    "    frobnorm_3_2[seed-offset, 0] = frob\n",
    "\n",
    "    for index, param in enumerate(reg_param):\n",
    "        direct_lasso = linear_model.Lasso(alpha=param, max_iter=5000)\n",
    "        direct_lasso.fit(X=emp_A, y=-c)\n",
    "        est_M = np.transpose(np.reshape(direct_lasso.coef_, shape=(p, p)))\n",
    "        frob = np.linalg.norm(est_M - true_M)\n",
    "\n",
    "        estimate_3_2[seed-offset, index+1] = est_M.round(3)\n",
    "        frobnorm_3_2[seed-offset, index+1] = frob"
   ]
  },
  {
   "cell_type": "code",
   "execution_count": 32,
   "metadata": {},
   "outputs": [
    {
     "data": {
      "image/png": "[encoded data removed]",
      "text/latex": [
       "$\\displaystyle 21.2698733673315$"
      ],
      "text/plain": [
       "np.float64(21.26987336733153)"
      ]
     },
     "execution_count": 32,
     "metadata": {},
     "output_type": "execute_result"
    }
   ],
   "source": [
    "np.mean(frobnorm_3_2)"
   ]
  },
  {
   "cell_type": "code",
   "execution_count": 33,
   "metadata": {},
   "outputs": [
    {
     "data": {
      "text/plain": [
       "array([np.float64(122.94716426965168), np.float64(6.478183491982295),\n",
       "       np.float64(3.765169291652454), np.float64(3.0605375312378844),\n",
       "       np.float64(3.5639319978416886), np.float64(4.128631268683257),\n",
       "       np.float64(4.945495720270547)], dtype=object)"
      ]
     },
     "execution_count": 33,
     "metadata": {},
     "output_type": "execute_result"
    }
   ],
   "source": [
    "np.mean(frobnorm_3_2, axis=0)"
   ]
  },
  {
   "cell_type": "markdown",
   "metadata": {},
   "source": [
    "### Two entries missing II\n",
    "***Results:***\n",
    "* Average Frobenius distance between the estimation $\\hat{M}$ and the true matrix $M^*$ is $\\large{33.845}$.\n",
    "* Average Frobenius distance between the estimation $\\hat{M}$ and the true matrix $M^*$ for linear regression is $\\large{210.425}$.\n",
    "* Average Frobenius distance between the estimation $\\hat{M}$ and the true matrix $M^*$ for Lasso regression with $\\lambda = 0.001$ is $\\large{6.696}$.\n",
    "* Average Frobenius distance between the estimation $\\hat{M}$ and the true matrix $M^*$ for Lasso regression with $\\lambda = 0.005$ is $\\large{3.849}$.\n",
    "* Average Frobenius distance between the estimation $\\hat{M}$ and the true matrix $M^*$ for Lasso regression with $\\lambda = 0.01$ is $\\large{3.079}$.\n",
    "* Average Frobenius distance between the estimation $\\hat{M}$ and the true matrix $M^*$ for Lasso regression with $\\lambda = 0.05$ is $\\large{3.568}$.\n",
    "* Average Frobenius distance between the estimation $\\hat{M}$ and the true matrix $M^*$ for Lasso regression with $\\lambda = 0.1$ is $\\large{4.117}$.\n",
    "* Average Frobenius distance between the estimation $\\hat{M}$ and the true matrix $M^*$ for Lasso regression with $\\lambda = 0.5$ is $\\large{4.909}$."
   ]
  },
  {
   "cell_type": "code",
   "execution_count": 34,
   "metadata": {},
   "outputs": [],
   "source": [
    "offset = 120899\n",
    "\n",
    "estimate_3_3 = np.empty(shape=(num_exp, num_param), dtype=object)\n",
    "frobnorm_3_3 = np.empty(shape=(num_exp, num_param), dtype=object)\n",
    "\n",
    "for seed in range(offset, num_exp + offset):\n",
    "    true_M = simulate_M(seed=seed, p=p)\n",
    "\n",
    "    true_cov = solve_continuous_lyapunov(a=true_M, q=-C)\n",
    "    true_mean = (b * np.linalg.inv(a=true_M)).dot(unit_v)\n",
    "\n",
    "    obs = np.random.multivariate_normal(mean = true_mean, cov = true_cov, size = 10)\n",
    "    emp_cov = np.cov(obs, rowvar=False)\n",
    "    emp_mean = np.mean(obs, axis=0)\n",
    "\n",
    "    emp_A_Sigma = create_A_Sigma(cov=emp_cov, p=p)\n",
    "    emp_A = create_A(A_Sigma=emp_A_Sigma, mean=emp_mean, p=p)\n",
    "\n",
    "    # Linear regression\n",
    "    lin_reg = linear_model.LinearRegression()\n",
    "    lin_reg.fit(X=emp_A, y=-c)\n",
    "    est_M = np.transpose(np.reshape(lin_reg.coef_, shape=(p, p)))\n",
    "    frob = np.linalg.norm(est_M - true_M)\n",
    "\n",
    "    estimate_3_3[seed-offset, 0] = est_M.round(3)\n",
    "    frobnorm_3_3[seed-offset, 0] = frob\n",
    "\n",
    "    for index, param in enumerate(reg_param):\n",
    "        direct_lasso = linear_model.Lasso(alpha=param, max_iter=5000)\n",
    "        direct_lasso.fit(X=emp_A, y=-c)\n",
    "        est_M = np.transpose(np.reshape(direct_lasso.coef_, shape=(p, p)))\n",
    "        frob = np.linalg.norm(est_M - true_M)\n",
    "\n",
    "        estimate_3_3[seed-offset, index+1] = est_M.round(3)\n",
    "        frobnorm_3_3[seed-offset, index+1] = frob"
   ]
  },
  {
   "cell_type": "code",
   "execution_count": 35,
   "metadata": {},
   "outputs": [
    {
     "data": {
      "image/png": "[encoded data removed]",
      "text/latex": [
       "$\\displaystyle 33.8449935113469$"
      ],
      "text/plain": [
       "np.float64(33.84499351134688)"
      ]
     },
     "execution_count": 35,
     "metadata": {},
     "output_type": "execute_result"
    }
   ],
   "source": [
    "np.mean(frobnorm_3_3)"
   ]
  },
  {
   "cell_type": "code",
   "execution_count": 36,
   "metadata": {},
   "outputs": [
    {
     "data": {
      "text/plain": [
       "array([np.float64(210.4247612747219), np.float64(6.968713742087751),\n",
       "       np.float64(3.849257508862546), np.float64(3.0786416291554604),\n",
       "       np.float64(3.5676437666765057), np.float64(4.117166184808064),\n",
       "       np.float64(4.908770473115364)], dtype=object)"
      ]
     },
     "execution_count": 36,
     "metadata": {},
     "output_type": "execute_result"
    }
   ],
   "source": [
    "np.mean(frobnorm_3_3, axis=0)"
   ]
  },
  {
   "cell_type": "markdown",
   "metadata": {},
   "source": [
    "### Overview: 3 nodes\n",
    "* Average Frobenius distance between the estimation $\\hat{M}$ and the true matrix $M^*$ is $\\large{30.97}$.\n",
    "* Average Frobenius distance between the estimation $\\hat{M}$ and the true matrix $M^*$ for linear regression is $\\large{190.445}$.\n",
    "* Average Frobenius distance between the estimation $\\hat{M}$ and the true matrix $M^*$ for Lasso regression with $\\lambda = 0.001$ is $\\large{6.758}$.\n",
    "* Average Frobenius distance between the estimation $\\hat{M}$ and the true matrix $M^*$ for Lasso regression with $\\lambda = 0.005$ is $\\large{3.86}$.\n",
    "* Average Frobenius distance between the estimation $\\hat{M}$ and the true matrix $M^*$ for Lasso regression with $\\lambda = 0.01$ is $\\large{3.077}$.\n",
    "* Average Frobenius distance between the estimation $\\hat{M}$ and the true matrix $M^*$ for Lasso regression with $\\lambda = 0.05$ is $\\large{3.583}$.\n",
    "* Average Frobenius distance between the estimation $\\hat{M}$ and the true matrix $M^*$ for Lasso regression with $\\lambda = 0.1$ is $\\large{4.136}$.\n",
    "* Average Frobenius distance between the estimation $\\hat{M}$ and the true matrix $M^*$ for Lasso regression with $\\lambda = 0.5$ is $\\large{4.933}$."
   ]
  },
  {
   "cell_type": "code",
   "execution_count": 42,
   "metadata": {},
   "outputs": [
    {
     "data": {
      "text/plain": [
       "array([np.float64(190.4454336821627), np.float64(6.758385449176724),\n",
       "       np.float64(3.8595468282335976), np.float64(3.0773094207537555),\n",
       "       np.float64(3.5829943484129636), np.float64(4.135585203716608),\n",
       "       np.float64(4.933132419615719)], dtype=object)"
      ]
     },
     "execution_count": 42,
     "metadata": {},
     "output_type": "execute_result"
    }
   ],
   "source": [
    "frobnorm_3nodes = np.vstack((frobnorm_3_0, frobnorm_3_1, frobnorm_3_2, frobnorm_3_3))\n",
    "np.mean(frobnorm_3nodes, axis=0)"
   ]
  }
 ],
 "metadata": {
  "kernelspec": {
   "display_name": ".venv",
   "language": "python",
   "name": "python3"
  },
  "language_info": {
   "codemirror_mode": {
    "name": "ipython",
    "version": 3
   },
   "file_extension": ".py",
   "mimetype": "text/x-python",
   "name": "python",
   "nbconvert_exporter": "python",
   "pygments_lexer": "ipython3",
   "version": "3.12.3"
  }
 },
 "nbformat": 4,
 "nbformat_minor": 2
}
