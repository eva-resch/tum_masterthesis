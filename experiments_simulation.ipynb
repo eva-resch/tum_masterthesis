{
 "cells": [
  {
   "cell_type": "code",
   "execution_count": 1,
   "metadata": {},
   "outputs": [],
   "source": [
    "import numpy as np\n",
    "from sympy import *\n",
    "from sympy.solvers import solve\n",
    "init_printing(use_unicode=True)"
   ]
  },
  {
   "cell_type": "code",
   "execution_count": 2,
   "metadata": {},
   "outputs": [],
   "source": [
    "def simulate_M(seed: int, p: int) -> Matrix:\n",
    "    np.random.seed(seed=seed)\n",
    "    \n",
    "    normal_matrix = np.random.normal(0, 1, (p, p))\n",
    "    for i in range(p): # adjust diagonal entries s.t. M stable\n",
    "        normal_matrix[i, i] = - np.sum(np.abs(normal_matrix[i, :]))\n",
    "\n",
    "    return Matrix(normal_matrix)\n",
    "\n",
    "def num_sym(p: int) -> int:\n",
    "    return int(p * (p + 1) / 2)\n",
    "\n",
    "def solve_lyapunov_cov(M: Matrix, C: Matrix, p: int) -> Matrix:\n",
    "    Sigma = MatrixSymbol(\"Sigma\", p, p).as_explicit()\n",
    "    Sigma_solved = solve(M*Sigma + Sigma*M.T + C, Sigma)\n",
    "    scheme = [[Sigma_solved[Sigma[i,j]] for i in range(p)] for j in range(p)]\n",
    "    Sigma_new = Matrix(scheme)\n",
    "    return Sigma_new\n",
    "\n",
    "def create_A_Sigma(cov: Matrix, p: int) -> Matrix:\n",
    "    row_num = num_sym(p=p)\n",
    "    col_num = int(p * p)\n",
    "    A_Sigma = MatrixSymbol(\"A\", row_num, col_num).as_mutable()\n",
    "    for l in range(p):\n",
    "        for k in range(l+1):\n",
    "            for i in range(p):\n",
    "                for j in range(p):\n",
    "                    if (j != k) & (j != l):\n",
    "                        A_Sigma[(k * p) + (l - num_sym(p=k)), i * p + j] = 0\n",
    "                    elif (j == k) & (k != l):\n",
    "                        A_Sigma[(k * p) + (l - num_sym(p=k)), i * p + j] = cov[l, i]\n",
    "                    elif (j == l) & (l != k):\n",
    "                        A_Sigma[(k * p) + (l - num_sym(p=k)), i * p + j] = cov[k, i]\n",
    "                    elif (j == k) & (j == l):\n",
    "                        A_Sigma[(k * p) + (l - num_sym(p=k)), i * p + j] = 2 * cov[j, i]\n",
    "    return A_Sigma\n",
    "\n",
    "def create_A(A_Sigma: Matrix, mean: Matrix, p: int) -> Matrix:\n",
    "    identity = mean[0] * eye(p)\n",
    "    for i in range(1, p):\n",
    "        identity = Matrix.hstack(identity, mean[i] * eye(p))\n",
    "    return Matrix.vstack(A_Sigma, identity)"
   ]
  },
  {
   "cell_type": "code",
   "execution_count": 9,
   "metadata": {},
   "outputs": [],
   "source": [
    "num_exp = 1000 # number of true matrices per case\n",
    "num_sim = 1000 # number of simulations per true matrix\n",
    "\n",
    "m11, m12, m13 = symbols('m11'), symbols('m12'), symbols('m13')\n",
    "m21, m22, m23 = symbols('m21'), symbols('m22'), symbols('m23')\n",
    "m31, m32, m33 = symbols('m31'), symbols('m32'), symbols('m33')\n",
    "\n",
    "index_intervention = 0\n",
    "b = 2"
   ]
  },
  {
   "cell_type": "markdown",
   "metadata": {},
   "source": [
    "Universally:\n",
    "* save estimates and their Frobenius distances to the true $M^*$\n",
    "* $\\texttt{frob = -1}$ if no result could be produced"
   ]
  },
  {
   "cell_type": "markdown",
   "metadata": {},
   "source": [
    "## 2 nodes"
   ]
  },
  {
   "cell_type": "code",
   "execution_count": 54,
   "metadata": {},
   "outputs": [],
   "source": [
    "p = 2\n",
    "\n",
    "M = Matrix([[m11, m12], [m21, m22]])\n",
    "C = 2 * eye(p)\n",
    "vec_M = Matrix([[M[j, i]] for i in range(p) for j in range(p)])\n",
    "vech_C = Matrix([[C[i, j]] for i in range(p) for j in range(i, p)])\n",
    "unit_v = eye(p).col(index_intervention)\n",
    "\n",
    "reg_param = [0, 0.01, 0.1]\n",
    "num_param = len(reg_param)"
   ]
  },
  {
   "cell_type": "markdown",
   "metadata": {},
   "source": [
    "### $\\texttt{index\\_deletion = 0}$"
   ]
  },
  {
   "cell_type": "code",
   "execution_count": null,
   "metadata": {},
   "outputs": [
    {
     "name": "stdout",
     "output_type": "stream",
     "text": [
      "4\n"
     ]
    }
   ],
   "source": [
    "index_deletion = 0\n",
    "offset = 1\n",
    "\n",
    "c = Matrix.vstack(vech_C, - b * unit_v)\n",
    "c.row_del(index_deletion)\n",
    "\n",
    "estimate_2_0 = np.empty(shape=(num_exp, num_param), dtype=object)\n",
    "frobnorm_2_0 = np.empty(shape=(num_exp, num_param), dtype=object)\n",
    "\n",
    "for seed in range(offset, 1 + offset):\n",
    "    true_M = simulate_M(seed=seed, p=p)\n",
    "\n",
    "    true_cov = matrix2numpy(solve_lyapunov_cov(M=true_M, C=C, p=p)).astype(float)\n",
    "    true_mean = (matrix2numpy(b * true_M.inv() * unit_v).astype(float)).flatten()\n",
    "\n",
    "    obs = np.random.multivariate_normal(mean = true_mean, cov = true_cov, size = 10)\n",
    "    emp_cov = np.cov(obs, rowvar=False)\n",
    "    emp_mean = np.mean(obs, axis=0)\n",
    "\n",
    "    emp_A_Sigma = create_A_Sigma(cov=emp_cov, p=p)\n",
    "    emp_A = create_A(A_Sigma=emp_A_Sigma, mean=emp_mean, p=p)\n",
    "\n",
    "    emp_A.row_del(index_deletion)\n",
    "    # solution = solve(emp_A * vec_M + c, vec_M)"
   ]
  },
  {
   "cell_type": "code",
   "execution_count": null,
   "metadata": {},
   "outputs": [],
   "source": [
    "index_deletion = 0\n",
    "offset = 1\n",
    "\n",
    "c = Matrix.vstack(vech_C, - b * unit_v)\n",
    "c.row_del(index_deletion)\n",
    "\n",
    "estimate_2_0 = np.empty(shape=(num_exp, num_param), dtype=object)\n",
    "frobnorm_2_0 = np.empty(shape=(num_exp, num_param), dtype=object)\n",
    "\n",
    "for seed in range(offset, num_exp + offset):\n",
    "    true_M = simulate_M(seed=seed, p=p)\n",
    "\n",
    "    true_cov = matrix2numpy(solve_lyapunov_cov(M=true_M, C=C, p=p)).astype(float)\n",
    "    true_mean = (matrix2numpy(b * true_M.inv() * unit_v).astype(float)).flatten()\n",
    "\n",
    "    obs = np.random.multivariate_normal(mean = true_mean, cov = true_cov, size = num_sim)\n",
    "    emp_cov = np.cov(obs, rowvar=False)\n",
    "    emp_mean = np.mean(obs, axis=0)\n",
    "\n",
    "    emp_A_Sigma = create_A_Sigma(cov=emp_cov, p=p)\n",
    "    emp_A = create_A(A_Sigma=emp_A_Sigma, mean=emp_mean, p=p)\n",
    "\n",
    "    emp_A.row_del(index_deletion)\n",
    "    # solution = solve(emp_A * vec_M + c, vec_M)"
   ]
  },
  {
   "cell_type": "markdown",
   "metadata": {},
   "source": [
    "### $\\texttt{index\\_deletion = 1}$"
   ]
  },
  {
   "cell_type": "code",
   "execution_count": null,
   "metadata": {},
   "outputs": [],
   "source": [
    "index_deletion = 1\n",
    "offset = 12\n",
    "\n",
    "c = Matrix.vstack(vech_C, - b * unit_v)\n",
    "c.row_del(index_deletion)\n",
    "\n",
    "estimate_2_1 = np.empty(shape=(num_exp, num_param), dtype=object)\n",
    "frobnorm_2_1 = np.empty(shape=(num_exp, num_param), dtype=object)\n",
    "\n",
    "for seed in range(offset, num_exp + offset):\n",
    "    true_M = simulate_M(seed=seed, p=p)\n",
    "\n",
    "    true_cov = matrix2numpy(solve_lyapunov_cov(M=true_M, C=C, p=p)).astype(float)\n",
    "    true_mean = (matrix2numpy(b * true_M.inv() * unit_v).astype(float)).flatten()\n",
    "\n",
    "    obs = np.random.multivariate_normal(mean = true_mean, cov = true_cov, size = num_sim)\n",
    "    emp_cov = np.cov(obs, rowvar=False)\n",
    "    emp_mean = np.mean(obs, axis=0)\n",
    "\n",
    "    emp_A_Sigma = create_A_Sigma(cov=emp_cov, p=p)\n",
    "    emp_A = create_A(A_Sigma=emp_A_Sigma, mean=emp_mean, p=p)\n",
    "\n",
    "    emp_A.row_del(index_deletion)\n",
    "    # solution = solve(emp_A * vec_M + c, vec_M)"
   ]
  },
  {
   "cell_type": "markdown",
   "metadata": {},
   "source": [
    "### $\\texttt{index\\_deletion = 2}$"
   ]
  },
  {
   "cell_type": "code",
   "execution_count": null,
   "metadata": {},
   "outputs": [],
   "source": [
    "index_deletion = 2\n",
    "offset = 123\n",
    "\n",
    "c = Matrix.vstack(vech_C, - b * unit_v)\n",
    "c.row_del(index_deletion)\n",
    "\n",
    "estimate_2_2 = np.empty(shape=(num_exp, num_param), dtype=object)\n",
    "frobnorm_2_2 = np.empty(shape=(num_exp, num_param), dtype=object)\n",
    "\n",
    "for seed in range(offset, num_exp + offset):\n",
    "    true_M = simulate_M(seed=seed, p=p)\n",
    "\n",
    "    true_cov = matrix2numpy(solve_lyapunov_cov(M=true_M, C=C, p=p)).astype(float)\n",
    "    true_mean = (matrix2numpy(b * true_M.inv() * unit_v).astype(float)).flatten()\n",
    "\n",
    "    obs = np.random.multivariate_normal(mean = true_mean, cov = true_cov, size = num_sim)\n",
    "    emp_cov = np.cov(obs, rowvar=False)\n",
    "    emp_mean = np.mean(obs, axis=0)\n",
    "\n",
    "    emp_A_Sigma = create_A_Sigma(cov=emp_cov, p=p)\n",
    "    emp_A = create_A(A_Sigma=emp_A_Sigma, mean=emp_mean, p=p)\n",
    "\n",
    "    emp_A.row_del(index_deletion)\n",
    "    # solution = solve(emp_A * vec_M + c, vec_M)"
   ]
  },
  {
   "cell_type": "markdown",
   "metadata": {},
   "source": [
    "### $\\texttt{index\\_deletion = 3}$"
   ]
  },
  {
   "cell_type": "code",
   "execution_count": null,
   "metadata": {},
   "outputs": [],
   "source": [
    "index_deletion = 3\n",
    "offset = 1234\n",
    "\n",
    "c = Matrix.vstack(vech_C, - b * unit_v)\n",
    "c.row_del(index_deletion)\n",
    "\n",
    "estimate_2_3 = np.empty(shape=(num_exp, num_param), dtype=object)\n",
    "frobnorm_2_3 = np.empty(shape=(num_exp, num_param), dtype=object)\n",
    "\n",
    "for seed in range(offset, num_exp + offset):\n",
    "    true_M = simulate_M(seed=seed, p=p)\n",
    "\n",
    "    true_cov = matrix2numpy(solve_lyapunov_cov(M=true_M, C=C, p=p)).astype(float)\n",
    "    true_mean = (matrix2numpy(b * true_M.inv() * unit_v).astype(float)).flatten()\n",
    "\n",
    "    obs = np.random.multivariate_normal(mean = true_mean, cov = true_cov, size = num_sim)\n",
    "    emp_cov = np.cov(obs, rowvar=False)\n",
    "    emp_mean = np.mean(obs, axis=0)\n",
    "\n",
    "    emp_A_Sigma = create_A_Sigma(cov=emp_cov, p=p)\n",
    "    emp_A = create_A(A_Sigma=emp_A_Sigma, mean=emp_mean, p=p)\n",
    "\n",
    "    emp_A.row_del(index_deletion)\n",
    "    # solution = solve(emp_A * vec_M + c, vec_M)"
   ]
  },
  {
   "cell_type": "markdown",
   "metadata": {},
   "source": [
    "### $\\texttt{index\\_deletion = 4}$"
   ]
  },
  {
   "cell_type": "code",
   "execution_count": null,
   "metadata": {},
   "outputs": [],
   "source": [
    "index_deletion = 4\n",
    "offset = 12345\n",
    "\n",
    "c = Matrix.vstack(vech_C, - b * unit_v)\n",
    "c.row_del(index_deletion)\n",
    "\n",
    "estimate_2_4 = np.empty(shape=(num_exp, num_param), dtype=object)\n",
    "frobnorm_2_4 = np.empty(shape=(num_exp, num_param), dtype=object)\n",
    "\n",
    "for seed in range(offset, num_exp + offset):\n",
    "    true_M = simulate_M(seed=seed, p=p)\n",
    "\n",
    "    true_cov = matrix2numpy(solve_lyapunov_cov(M=true_M, C=C, p=p)).astype(float)\n",
    "    true_mean = (matrix2numpy(b * true_M.inv() * unit_v).astype(float)).flatten()\n",
    "\n",
    "    obs = np.random.multivariate_normal(mean = true_mean, cov = true_cov, size = num_sim)\n",
    "    emp_cov = np.cov(obs, rowvar=False)\n",
    "    emp_mean = np.mean(obs, axis=0)\n",
    "\n",
    "    emp_A_Sigma = create_A_Sigma(cov=emp_cov, p=p)\n",
    "    emp_A = create_A(A_Sigma=emp_A_Sigma, mean=emp_mean, p=p)\n",
    "\n",
    "    emp_A.row_del(index_deletion)\n",
    "    # solution = solve(emp_A * vec_M + c, vec_M)"
   ]
  },
  {
   "cell_type": "markdown",
   "metadata": {},
   "source": [
    "## 3 nodes"
   ]
  },
  {
   "cell_type": "code",
   "execution_count": 10,
   "metadata": {},
   "outputs": [],
   "source": [
    "p = 3\n",
    "\n",
    "M = Matrix([[m11, m12, m13], [m21, m22, m23], [m31, m32, m33]])\n",
    "C = 2 * eye(p)\n",
    "vec_M = Matrix([[M[j, i]] for i in range(p) for j in range(p)])\n",
    "vech_C = Matrix([[C[i, j]] for i in range(p) for j in range(i, p)])\n",
    "unit_v = eye(p).col(index_intervention)\n",
    "c = Matrix.vstack(vech_C, - b * unit_v)\n",
    "\n",
    "reg_param = [0, 0.001, 0.005, 0.01, 0.05, 0.1, 0.5]\n",
    "num_param = len(reg_param)"
   ]
  },
  {
   "cell_type": "markdown",
   "metadata": {},
   "source": [
    "### All entries"
   ]
  },
  {
   "cell_type": "code",
   "execution_count": null,
   "metadata": {},
   "outputs": [],
   "source": [
    "offset = 120\n",
    "\n",
    "estimate_3_0 = np.empty(shape=(num_exp, num_param), dtype=object)\n",
    "frobnorm_3_0 = np.empty(shape=(num_exp, num_param), dtype=object)\n",
    "\n",
    "for seed in range(offset, num_exp + offset):\n",
    "    true_M = simulate_M(seed=seed, p=p)\n",
    "\n",
    "    true_cov = matrix2numpy(solve_lyapunov_cov(M=true_M, C=C, p=p)).astype(float)\n",
    "    true_mean = (matrix2numpy(b * true_M.inv() * unit_v).astype(float)).flatten()\n",
    "\n",
    "    obs = np.random.multivariate_normal(mean = true_mean, cov = true_cov, size = num_sim)\n",
    "    emp_cov = np.cov(obs, rowvar=False)\n",
    "    emp_mean = np.mean(obs, axis=0)\n",
    "\n",
    "    emp_A_Sigma = create_A_Sigma(cov=emp_cov, p=p)\n",
    "    emp_A = create_A(A_Sigma=emp_A_Sigma, mean=emp_mean, p=p)\n",
    "\n",
    "    emp_A.row_del(index_deletion)\n",
    "    # solution = solve(emp_A * vec_M + c, vec_M)"
   ]
  },
  {
   "cell_type": "markdown",
   "metadata": {},
   "source": [
    "### One random entry missing"
   ]
  },
  {
   "cell_type": "code",
   "execution_count": 23,
   "metadata": {},
   "outputs": [
    {
     "name": "stdout",
     "output_type": "stream",
     "text": [
      "Matrix([[-2.76427352957677, -0.611756413650075, -0.528171752263456], [-1.07296862215617, -4.23991494836113, -2.30153869688028], [1.74481176421648, 0, -2.82505776116868]])\n",
      "Matrix([[-2.60922077030025, 0, -2.13619609566845], [1.64027080840499, -4.27545375925606, -0.841747365656204], [0.502881417158043, -1.24528808660723, -2.80612172262761]])\n",
      "Matrix([[-2.32163579201432, 0.436509850511989, 0.0964974680720086], [0, -2.49563988514788, -0.354758979268987], [-0.0827414814824598, -0.627000676823847, -0.753560327282235]])\n"
     ]
    }
   ],
   "source": [
    "entries = [[0, 1], [0, 2], [1, 0], [1, 2], [2, 0], [2, 1]]\n",
    "offset = 1208\n",
    "\n",
    "estimate_3_1 = np.empty(shape=(num_exp, num_param), dtype=object)\n",
    "frobnorm_3_1 = np.empty(shape=(num_exp, num_param), dtype=object)\n",
    "\n",
    "for seed in range(offset, num_exp + offset):\n",
    "    true_M = simulate_M(seed=seed, p=p)\n",
    "    np.random.seed(seed)\n",
    "    true_M[entries[np.random.randint(len(entries))]] = 0\n",
    "\n",
    "    true_cov = matrix2numpy(solve_lyapunov_cov(M=true_M, C=C, p=p)).astype(float)\n",
    "    true_mean = (matrix2numpy(b * true_M.inv() * unit_v).astype(float)).flatten()\n",
    "\n",
    "    obs = np.random.multivariate_normal(mean = true_mean, cov = true_cov, size = num_sim)\n",
    "    emp_cov = np.cov(obs, rowvar=False)\n",
    "    emp_mean = np.mean(obs, axis=0)\n",
    "\n",
    "    emp_A_Sigma = create_A_Sigma(cov=emp_cov, p=p)\n",
    "    emp_A = create_A(A_Sigma=emp_A_Sigma, mean=emp_mean, p=p)\n",
    "\n",
    "    emp_A.row_del(index_deletion)\n",
    "    # solution = solve(emp_A * vec_M + c, vec_M)"
   ]
  },
  {
   "cell_type": "markdown",
   "metadata": {},
   "source": [
    "### Two entries missing I"
   ]
  },
  {
   "cell_type": "code",
   "execution_count": null,
   "metadata": {},
   "outputs": [],
   "source": [
    "offset = 12089\n",
    "\n",
    "estimate_3_2 = np.empty(shape=(num_exp, num_param), dtype=object)\n",
    "frobnorm_3_2 = np.empty(shape=(num_exp, num_param), dtype=object)\n",
    "\n",
    "for seed in range(offset, num_exp + offset):\n",
    "    true_M = simulate_M(seed=seed, p=p)\n",
    "    true_M[0, 1] = 0\n",
    "    true_M[2, 0] = 0\n",
    "\n",
    "    true_cov = matrix2numpy(solve_lyapunov_cov(M=true_M, C=C, p=p)).astype(float)\n",
    "    true_mean = (matrix2numpy(b * true_M.inv() * unit_v).astype(float)).flatten()\n",
    "\n",
    "    obs = np.random.multivariate_normal(mean = true_mean, cov = true_cov, size = num_sim)\n",
    "    emp_cov = np.cov(obs, rowvar=False)\n",
    "    emp_mean = np.mean(obs, axis=0)\n",
    "\n",
    "    emp_A_Sigma = create_A_Sigma(cov=emp_cov, p=p)\n",
    "    emp_A = create_A(A_Sigma=emp_A_Sigma, mean=emp_mean, p=p)\n",
    "\n",
    "    emp_A.row_del(index_deletion)\n",
    "    # solution = solve(emp_A * vec_M + c, vec_M)"
   ]
  },
  {
   "cell_type": "markdown",
   "metadata": {},
   "source": [
    "### Two entries missing II"
   ]
  },
  {
   "cell_type": "code",
   "execution_count": null,
   "metadata": {},
   "outputs": [],
   "source": [
    "offset = 120899\n",
    "\n",
    "estimate_3_3 = np.empty(shape=(num_exp, num_param), dtype=object)\n",
    "frobnorm_3_3 = np.empty(shape=(num_exp, num_param), dtype=object)\n",
    "\n",
    "for seed in range(offset, num_exp + offset):\n",
    "    true_M = simulate_M(seed=seed, p=p)\n",
    "    true_M[0, 1] = 0\n",
    "    true_M[0, 2] = 0\n",
    "\n",
    "    true_cov = matrix2numpy(solve_lyapunov_cov(M=true_M, C=C, p=p)).astype(float)\n",
    "    true_mean = (matrix2numpy(b * true_M.inv() * unit_v).astype(float)).flatten()\n",
    "\n",
    "    obs = np.random.multivariate_normal(mean = true_mean, cov = true_cov, size = num_sim)\n",
    "    emp_cov = np.cov(obs, rowvar=False)\n",
    "    emp_mean = np.mean(obs, axis=0)\n",
    "\n",
    "    emp_A_Sigma = create_A_Sigma(cov=emp_cov, p=p)\n",
    "    emp_A = create_A(A_Sigma=emp_A_Sigma, mean=emp_mean, p=p)\n",
    "\n",
    "    emp_A.row_del(index_deletion)\n",
    "    # solution = solve(emp_A * vec_M + c, vec_M)"
   ]
  }
 ],
 "metadata": {
  "kernelspec": {
   "display_name": ".venv",
   "language": "python",
   "name": "python3"
  },
  "language_info": {
   "codemirror_mode": {
    "name": "ipython",
    "version": 3
   },
   "file_extension": ".py",
   "mimetype": "text/x-python",
   "name": "python",
   "nbconvert_exporter": "python",
   "pygments_lexer": "ipython3",
   "version": "3.12.3"
  }
 },
 "nbformat": 4,
 "nbformat_minor": 2
}
