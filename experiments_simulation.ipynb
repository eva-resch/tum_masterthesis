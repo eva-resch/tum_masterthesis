{
 "cells": [
  {
   "cell_type": "markdown",
   "metadata": {},
   "source": [
    "## Preparation"
   ]
  },
  {
   "cell_type": "code",
   "execution_count": 1,
   "metadata": {},
   "outputs": [],
   "source": [
    "import numpy as np\n",
    "from sympy import *\n",
    "# from sympy.solvers import solve\n",
    "import warnings\n",
    "from scipy.linalg import solve_continuous_lyapunov\n",
    "from sklearn import linear_model\n",
    "from sklearn.exceptions import ConvergenceWarning\n",
    "warnings.filterwarnings('ignore', category=ConvergenceWarning) \n",
    "init_printing(use_unicode=True)"
   ]
  },
  {
   "cell_type": "code",
   "execution_count": 2,
   "metadata": {},
   "outputs": [],
   "source": [
    "def simulate_M(seed: int, p: int) -> Array:\n",
    "    np.random.seed(seed=seed)\n",
    "    normal_matrix = np.random.normal(0, 1, (p, p))\n",
    "    for i in range(p): # adjust diagonal entries s.t. M stable\n",
    "        normal_matrix[i, i] = - np.sum(np.abs(normal_matrix[i, :]))\n",
    "    return normal_matrix\n",
    "\n",
    "def num_sym(p: int) -> int:\n",
    "    return int(p * (p + 1) / 2)\n",
    "\n",
    "def create_A_Sigma(cov: Array, p: int) -> Array:\n",
    "    row_num = num_sym(p=p)\n",
    "    col_num = int(p * p)\n",
    "    A_Sigma = np.empty(shape=(row_num, col_num), dtype=float)\n",
    "    for l in range(p):\n",
    "        for k in range(l+1):\n",
    "            for i in range(p):\n",
    "                for j in range(p):\n",
    "                    if (j != k) & (j != l):\n",
    "                        A_Sigma[(k * p) + (l - num_sym(p=k)), i * p + j] = 0\n",
    "                    elif (j == k) & (k != l):\n",
    "                        A_Sigma[(k * p) + (l - num_sym(p=k)), i * p + j] = cov[l, i]\n",
    "                    elif (j == l) & (l != k):\n",
    "                        A_Sigma[(k * p) + (l - num_sym(p=k)), i * p + j] = cov[k, i]\n",
    "                    elif (j == k) & (j == l):\n",
    "                        A_Sigma[(k * p) + (l - num_sym(p=k)), i * p + j] = 2 * cov[j, i]\n",
    "    return A_Sigma\n",
    "\n",
    "def create_A(A_Sigma: Array, mean: Array, p: int) -> Array:\n",
    "    identity = mean[0] * eye(p)\n",
    "    for i in range(1, p):\n",
    "        identity = np.hstack((identity, mean[i] * eye(p)))\n",
    "    return np.vstack((A_Sigma, identity))"
   ]
  },
  {
   "cell_type": "code",
   "execution_count": 3,
   "metadata": {},
   "outputs": [],
   "source": [
    "num_exp = 1000 # number of true matrices per case\n",
    "num_sim = 1000 # number of simulations per true matrix\n",
    "\n",
    "index_intervention = 0\n",
    "b = 2"
   ]
  },
  {
   "cell_type": "markdown",
   "metadata": {},
   "source": [
    "### Lasso\n",
    "$\\min_{M\\in\\R ^{pxp}} \\frac{1}{2 n} * \\left\\lVert c - A * \\text{vec}(M) \\right\\rVert^2_2 + \\lambda * \\left\\lVert \\text{vec}(M) \\right\\rVert_1$\n",
    "\n",
    "Universally:\n",
    "* save estimates and their Frobenius distances to the true $M^*$\n",
    "* $\\texttt{frob = -1}$ if no result could be produced"
   ]
  },
  {
   "cell_type": "markdown",
   "metadata": {},
   "source": [
    "## 2 nodes"
   ]
  },
  {
   "cell_type": "code",
   "execution_count": 4,
   "metadata": {},
   "outputs": [],
   "source": [
    "p = 2\n",
    "\n",
    "C = 2 * np.eye(p)\n",
    "vech_C = np.array([C[i, j] for i in range(p) for j in range(i, p)])\n",
    "unit_v = np.eye(p)[:, index_intervention]\n",
    "\n",
    "reg_param = [0.001, 0.01, 0.1, 1]\n",
    "num_param = len(reg_param) + 1 # also linear regression"
   ]
  },
  {
   "cell_type": "markdown",
   "metadata": {},
   "source": [
    "### $\\texttt{index\\_deletion = 0}$\n",
    "***Results:*** \n",
    "* Average Frobenius distance between the estimation $\\hat{M}$ and the true matrix $M^*$ is $\\large{2.311}$.\n",
    "* Average Frobenius distance between the estimation $\\hat{M}$ and the true matrix $M^*$ for linear regression is $\\large{2.716}$.\n",
    "* Average Frobenius distance between the estimation $\\hat{M}$ and the true matrix $M^*$ for Lasso regression with $\\lambda = 0.001$ is $\\large{2.546}$.\n",
    "* Average Frobenius distance between the estimation $\\hat{M}$ and the true matrix $M^*$ for Lasso regression with $\\lambda = 0.01$ is $\\large{1.939}$.\n",
    "* Average Frobenius distance between the estimation $\\hat{M}$ and the true matrix $M^*$ for Lasso regression with $\\lambda = 0.1$ is $\\large{1.715}$.\n",
    "* Average Frobenius distance between the estimation $\\hat{M}$ and the true matrix $M^*$ for Lasso regression with $\\lambda = 1$ is $\\large{2.64}$."
   ]
  },
  {
   "cell_type": "code",
   "execution_count": 5,
   "metadata": {},
   "outputs": [
    {
     "data": {
      "text/plain": [
       "'\\nindex_deletion = 0\\noffset = 1\\n\\nc = np.hstack((vech_C, - b * unit_v))\\nc = np.delete(c, (index_deletion))\\n\\nestimate_2_0 = np.empty(shape=(num_exp, num_param), dtype=object)\\nfrobnorm_2_0 = np.empty(shape=(num_exp, num_param), dtype=object)\\n\\nfor seed in range(offset, 4 + offset):\\n    true_M = simulate_M(seed=seed, p=p)\\n\\n    true_cov = solve_continuous_lyapunov(a=true_M, q=-C)\\n    true_mean = (b * np.linalg.inv(a=true_M)).dot(unit_v)\\n\\n    obs = np.random.multivariate_normal(mean = true_mean, cov = true_cov, size = 10)\\n    emp_cov = np.cov(obs, rowvar=False)\\n    emp_mean = np.mean(obs, axis=0)\\n\\n    emp_A_Sigma = create_A_Sigma(cov=emp_cov, p=p)\\n    emp_A = np.delete(create_A(A_Sigma=emp_A_Sigma, mean=emp_mean, p=p), (index_deletion), axis=0)\\n\\n    # Linear regression\\n    lin_reg = linear_model.LinearRegression()\\n    lin_reg.fit(X=emp_A, y=-c)\\n    est_M = np.transpose(np.reshape(lin_reg.coef_, shape=(p, p)))\\n    frob = np.linalg.norm(est_M - true_M)\\n\\n    estimate_2_0[seed-offset, 0] = est_M\\n    frobnorm_2_0[seed-offset, 0] = frob\\n\\n    for index, param in enumerate(reg_param):\\n        direct_lasso = linear_model.Lasso(alpha=param, max_iter=5000)\\n        direct_lasso.fit(X=emp_A, y=-c)\\n        est_M = np.transpose(np.reshape(direct_lasso.coef_, shape=(p, p)))\\n        frob = np.linalg.norm(est_M - true_M)\\n\\n        estimate_2_0[seed-offset, index+1] = est_M\\n        frobnorm_2_0[seed-offset, index+1] = frob\\n        \\n\\n    # Ordinary solution with sympy.solve\\n    solution = solve(emp_A * vec_M + c, vec_M)\\n\\n    if len(solution) == 4:\\n        est_M_np = matrix2numpy(M.subs(solution)).astype(float)\\n        frob = np.linalg.norm(est_M_np - true_M_np)\\n\\n        estimate_2_0[seed - offset, 0] = est_M_np.round(3)\\n        frobnorm_2_0[seed - offset, 0] = frob\\n    else:\\n        frobnorm_2_0[seed - offset, 0] = -1\\n    '"
      ]
     },
     "execution_count": 5,
     "metadata": {},
     "output_type": "execute_result"
    }
   ],
   "source": [
    "'''\n",
    "index_deletion = 0\n",
    "offset = 1\n",
    "\n",
    "c = np.hstack((vech_C, - b * unit_v))\n",
    "c = np.delete(c, (index_deletion))\n",
    "\n",
    "estimate_2_0 = np.empty(shape=(num_exp, num_param), dtype=object)\n",
    "frobnorm_2_0 = np.empty(shape=(num_exp, num_param), dtype=object)\n",
    "\n",
    "for seed in range(offset, 4 + offset):\n",
    "    true_M = simulate_M(seed=seed, p=p)\n",
    "\n",
    "    true_cov = solve_continuous_lyapunov(a=true_M, q=-C)\n",
    "    true_mean = (b * np.linalg.inv(a=true_M)).dot(unit_v)\n",
    "\n",
    "    obs = np.random.multivariate_normal(mean = true_mean, cov = true_cov, size = 10)\n",
    "    emp_cov = np.cov(obs, rowvar=False)\n",
    "    emp_mean = np.mean(obs, axis=0)\n",
    "\n",
    "    emp_A_Sigma = create_A_Sigma(cov=emp_cov, p=p)\n",
    "    emp_A = np.delete(create_A(A_Sigma=emp_A_Sigma, mean=emp_mean, p=p), (index_deletion), axis=0)\n",
    "\n",
    "    # Linear regression\n",
    "    lin_reg = linear_model.LinearRegression()\n",
    "    lin_reg.fit(X=emp_A, y=-c)\n",
    "    est_M = np.transpose(np.reshape(lin_reg.coef_, shape=(p, p)))\n",
    "    frob = np.linalg.norm(est_M - true_M)\n",
    "\n",
    "    estimate_2_0[seed-offset, 0] = est_M\n",
    "    frobnorm_2_0[seed-offset, 0] = frob\n",
    "\n",
    "    for index, param in enumerate(reg_param):\n",
    "        direct_lasso = linear_model.Lasso(alpha=param, max_iter=5000)\n",
    "        direct_lasso.fit(X=emp_A, y=-c)\n",
    "        est_M = np.transpose(np.reshape(direct_lasso.coef_, shape=(p, p)))\n",
    "        frob = np.linalg.norm(est_M - true_M)\n",
    "\n",
    "        estimate_2_0[seed-offset, index+1] = est_M\n",
    "        frobnorm_2_0[seed-offset, index+1] = frob\n",
    "        \n",
    "\n",
    "    # Ordinary solution with sympy.solve\n",
    "    solution = solve(emp_A * vec_M + c, vec_M)\n",
    "\n",
    "    if len(solution) == 4:\n",
    "        est_M_np = matrix2numpy(M.subs(solution)).astype(float)\n",
    "        frob = np.linalg.norm(est_M_np - true_M_np)\n",
    "\n",
    "        estimate_2_0[seed - offset, 0] = est_M_np.round(3)\n",
    "        frobnorm_2_0[seed - offset, 0] = frob\n",
    "    else:\n",
    "        frobnorm_2_0[seed - offset, 0] = -1\n",
    "    '''\n"
   ]
  },
  {
   "cell_type": "code",
   "execution_count": 6,
   "metadata": {},
   "outputs": [],
   "source": [
    "index_deletion = 0\n",
    "offset = 1\n",
    "\n",
    "c = np.hstack((vech_C, - b * unit_v))\n",
    "c = np.delete(c, (index_deletion))\n",
    "\n",
    "estimate_2_0 = np.empty(shape=(num_exp, num_param), dtype=object)\n",
    "frobnorm_2_0 = np.empty(shape=(num_exp, num_param), dtype=object)\n",
    "\n",
    "for seed in range(offset, num_exp + offset):\n",
    "    true_M = simulate_M(seed=seed, p=p)\n",
    "\n",
    "    true_cov = solve_continuous_lyapunov(a=true_M, q=-C)\n",
    "    true_mean = (b * np.linalg.inv(a=true_M)).dot(unit_v)\n",
    "\n",
    "    obs = np.random.multivariate_normal(mean = true_mean, cov = true_cov, size = num_sim)\n",
    "    emp_cov = np.cov(obs, rowvar=False)\n",
    "    emp_mean = np.mean(obs, axis=0)\n",
    "\n",
    "    emp_A_Sigma = create_A_Sigma(cov=emp_cov, p=p)\n",
    "    emp_A = np.delete(create_A(A_Sigma=emp_A_Sigma, mean=emp_mean, p=p), (index_deletion), axis=0)\n",
    "\n",
    "    # Linear regression\n",
    "    lin_reg = linear_model.LinearRegression()\n",
    "    lin_reg.fit(X=emp_A, y=-c)\n",
    "    est_M = np.transpose(np.reshape(lin_reg.coef_, shape=(p, p)))\n",
    "    frob = np.linalg.norm(est_M - true_M)\n",
    "\n",
    "    estimate_2_0[seed-offset, 0] = est_M.round(3)\n",
    "    frobnorm_2_0[seed-offset, 0] = frob\n",
    "\n",
    "    for index, param in enumerate(reg_param):\n",
    "        direct_lasso = linear_model.Lasso(alpha=param, max_iter=5000)\n",
    "        direct_lasso.fit(X=emp_A, y=-c)\n",
    "        est_M = np.transpose(np.reshape(direct_lasso.coef_, shape=(p, p)))\n",
    "        frob = np.linalg.norm(est_M - true_M)\n",
    "\n",
    "        estimate_2_0[seed-offset, index+1] = est_M.round(3)\n",
    "        frobnorm_2_0[seed-offset, index+1] = frob"
   ]
  },
  {
   "cell_type": "code",
   "execution_count": 7,
   "metadata": {},
   "outputs": [
    {
     "data": {
      "image/png": "[encoded data removed]",
      "text/latex": [
       "$\\displaystyle 1.3776829756102$"
      ],
      "text/plain": [
       "np.float64(1.3776829756101998)"
      ]
     },
     "execution_count": 7,
     "metadata": {},
     "output_type": "execute_result"
    }
   ],
   "source": [
    "np.mean(frobnorm_2_0)"
   ]
  },
  {
   "cell_type": "code",
   "execution_count": 8,
   "metadata": {},
   "outputs": [
    {
     "data": {
      "text/plain": [
       "array([np.float64(0.8149207435168655), np.float64(0.9651368666292439),\n",
       "       np.float64(0.9656801934246148), np.float64(1.4977554525252295),\n",
       "       np.float64(2.6449216219550697)], dtype=object)"
      ]
     },
     "execution_count": 8,
     "metadata": {},
     "output_type": "execute_result"
    }
   ],
   "source": [
    "np.mean(frobnorm_2_0, axis=0)"
   ]
  },
  {
   "cell_type": "markdown",
   "metadata": {},
   "source": [
    "### $\\texttt{index\\_deletion = 1}$\n",
    "***Results:*** \n",
    "* Average Frobenius distance between the estimation $\\hat{M}$ and the true matrix $M^*$ is $\\large{2.092}$.\n",
    "* Average Frobenius distance between the estimation $\\hat{M}$ and the true matrix $M^*$ for linear regression is $\\large{2.119}$.\n",
    "* Average Frobenius distance between the estimation $\\hat{M}$ and the true matrix $M^*$ for Lasso regression with $\\lambda = 0.001$ is $\\large{2.088}$.\n",
    "* Average Frobenius distance between the estimation $\\hat{M}$ and the true matrix $M^*$ for Lasso regression with $\\lambda = 0.01$ is $\\large{1.93}$.\n",
    "* Average Frobenius distance between the estimation $\\hat{M}$ and the true matrix $M^*$ for Lasso regression with $\\lambda = 0.1$ is $\\large{1.773}$.\n",
    "* Average Frobenius distance between the estimation $\\hat{M}$ and the true matrix $M^*$ for Lasso regression with $\\lambda = 1$ is $\\large{2.552}$."
   ]
  },
  {
   "cell_type": "code",
   "execution_count": 9,
   "metadata": {},
   "outputs": [],
   "source": [
    "index_deletion = 1\n",
    "offset = 12\n",
    "\n",
    "c = np.hstack((vech_C, - b * unit_v))\n",
    "c = np.delete(c, (index_deletion))\n",
    "\n",
    "estimate_2_1 = np.empty(shape=(num_exp, num_param), dtype=object)\n",
    "frobnorm_2_1 = np.empty(shape=(num_exp, num_param), dtype=object)\n",
    "\n",
    "for seed in range(offset, num_exp + offset):\n",
    "    true_M = simulate_M(seed=seed, p=p)\n",
    "\n",
    "    true_cov = solve_continuous_lyapunov(a=true_M, q=-C)\n",
    "    true_mean = (b * np.linalg.inv(a=true_M)).dot(unit_v)\n",
    "\n",
    "    obs = np.random.multivariate_normal(mean = true_mean, cov = true_cov, size = num_sim)\n",
    "    emp_cov = np.cov(obs, rowvar=False)\n",
    "    emp_mean = np.mean(obs, axis=0)\n",
    "\n",
    "    emp_A_Sigma = create_A_Sigma(cov=emp_cov, p=p)\n",
    "    emp_A = np.delete(create_A(A_Sigma=emp_A_Sigma, mean=emp_mean, p=p), (index_deletion), axis=0)\n",
    "\n",
    "    # Linear regression\n",
    "    lin_reg = linear_model.LinearRegression()\n",
    "    lin_reg.fit(X=emp_A, y=-c)\n",
    "    est_M = np.transpose(np.reshape(lin_reg.coef_, shape=(p, p)))\n",
    "    frob = np.linalg.norm(est_M - true_M)\n",
    "\n",
    "    estimate_2_1[seed-offset, 0] = est_M.round(3)\n",
    "    frobnorm_2_1[seed-offset, 0] = frob\n",
    "\n",
    "    for index, param in enumerate(reg_param):\n",
    "        direct_lasso = linear_model.Lasso(alpha=param, max_iter=5000)\n",
    "        direct_lasso.fit(X=emp_A, y=-c)\n",
    "        est_M = np.transpose(np.reshape(direct_lasso.coef_, shape=(p, p)))\n",
    "        frob = np.linalg.norm(est_M - true_M)\n",
    "\n",
    "        estimate_2_1[seed-offset, index+1] = est_M.round(3)\n",
    "        frobnorm_2_1[seed-offset, index+1] = frob"
   ]
  },
  {
   "cell_type": "code",
   "execution_count": 10,
   "metadata": {},
   "outputs": [
    {
     "data": {
      "image/png": "[encoded data removed]",
      "text/latex": [
       "$\\displaystyle 1.48255789192828$"
      ],
      "text/plain": [
       "np.float64(1.4825578919282842)"
      ]
     },
     "execution_count": 10,
     "metadata": {},
     "output_type": "execute_result"
    }
   ],
   "source": [
    "np.mean(frobnorm_2_1)"
   ]
  },
  {
   "cell_type": "code",
   "execution_count": 11,
   "metadata": {},
   "outputs": [
    {
     "data": {
      "text/plain": [
       "array([np.float64(1.109647579854012), np.float64(1.098175096620818),\n",
       "       np.float64(1.1259596413563264), np.float64(1.5344809765349823),\n",
       "       np.float64(2.544526165275287)], dtype=object)"
      ]
     },
     "execution_count": 11,
     "metadata": {},
     "output_type": "execute_result"
    }
   ],
   "source": [
    "np.mean(frobnorm_2_1, axis=0)"
   ]
  },
  {
   "cell_type": "markdown",
   "metadata": {},
   "source": [
    "### $\\texttt{index\\_deletion = 2}$\n",
    "***Results:***\n",
    "* Average Frobenius distance between the estimation $\\hat{M}$ and the true matrix $M^*$ is $\\large{2.515}$.\n",
    "* Average Frobenius distance between the estimation $\\hat{M}$ and the true matrix $M^*$ for linear regression is $\\large{2.794}$.\n",
    "* Average Frobenius distance between the estimation $\\hat{M}$ and the true matrix $M^*$ for Lasso regression with $\\lambda = 0.001$ is $\\large{2.721}$.\n",
    "* Average Frobenius distance between the estimation $\\hat{M}$ and the true matrix $M^*$ for Lasso regression with $\\lambda = 0.01$ is $\\large{2.315}$.\n",
    "* Average Frobenius distance between the estimation $\\hat{M}$ and the true matrix $M^*$ for Lasso regression with $\\lambda = 0.1$ is $\\large{2.155}$.\n",
    "* Average Frobenius distance between the estimation $\\hat{M}$ and the true matrix $M^*$ for Lasso regression with $\\lambda = 1$ is $\\large{2.59}$."
   ]
  },
  {
   "cell_type": "code",
   "execution_count": 12,
   "metadata": {},
   "outputs": [],
   "source": [
    "index_deletion = 2\n",
    "offset = 123\n",
    "\n",
    "c = np.hstack((vech_C, - b * unit_v))\n",
    "c = np.delete(c, (index_deletion))\n",
    "\n",
    "estimate_2_2 = np.empty(shape=(num_exp, num_param), dtype=object)\n",
    "frobnorm_2_2 = np.empty(shape=(num_exp, num_param), dtype=object)\n",
    "\n",
    "for seed in range(offset, num_exp + offset):\n",
    "    true_M = simulate_M(seed=seed, p=p)\n",
    "\n",
    "    true_cov = solve_continuous_lyapunov(a=true_M, q=-C)\n",
    "    true_mean = (b * np.linalg.inv(a=true_M)).dot(unit_v)\n",
    "\n",
    "    obs = np.random.multivariate_normal(mean = true_mean, cov = true_cov, size = num_sim)\n",
    "    emp_cov = np.cov(obs, rowvar=False)\n",
    "    emp_mean = np.mean(obs, axis=0)\n",
    "\n",
    "    emp_A_Sigma = create_A_Sigma(cov=emp_cov, p=p)\n",
    "    emp_A = np.delete(create_A(A_Sigma=emp_A_Sigma, mean=emp_mean, p=p), (index_deletion), axis=0)\n",
    "\n",
    "    # Linear regression\n",
    "    lin_reg = linear_model.LinearRegression()\n",
    "    lin_reg.fit(X=emp_A, y=-c)\n",
    "    est_M = np.transpose(np.reshape(lin_reg.coef_, shape=(p, p)))\n",
    "    frob = np.linalg.norm(est_M - true_M)\n",
    "\n",
    "    estimate_2_2[seed-offset, 0] = est_M.round(3)\n",
    "    frobnorm_2_2[seed-offset, 0] = frob\n",
    "\n",
    "    for index, param in enumerate(reg_param):\n",
    "        direct_lasso = linear_model.Lasso(alpha=param, max_iter=5000)\n",
    "        direct_lasso.fit(X=emp_A, y=-c)\n",
    "        est_M = np.transpose(np.reshape(direct_lasso.coef_, shape=(p, p)))\n",
    "        frob = np.linalg.norm(est_M - true_M)\n",
    "\n",
    "        estimate_2_2[seed-offset, index+1] = est_M.round(3)\n",
    "        frobnorm_2_2[seed-offset, index+1] = frob"
   ]
  },
  {
   "cell_type": "code",
   "execution_count": 13,
   "metadata": {},
   "outputs": [
    {
     "data": {
      "image/png": "[encoded data removed]",
      "text/latex": [
       "$\\displaystyle 2.06110482095606$"
      ],
      "text/plain": [
       "np.float64(2.061104820956059)"
      ]
     },
     "execution_count": 13,
     "metadata": {},
     "output_type": "execute_result"
    }
   ],
   "source": [
    "np.mean(frobnorm_2_2)"
   ]
  },
  {
   "cell_type": "code",
   "execution_count": 14,
   "metadata": {},
   "outputs": [
    {
     "data": {
      "text/plain": [
       "array([np.float64(1.8341394399326245), np.float64(1.8040643901133049),\n",
       "       np.float64(1.9567571459419715), np.float64(2.1297214900596284),\n",
       "       np.float64(2.580841638732733)], dtype=object)"
      ]
     },
     "execution_count": 14,
     "metadata": {},
     "output_type": "execute_result"
    }
   ],
   "source": [
    "np.mean(frobnorm_2_2, axis=0)"
   ]
  },
  {
   "cell_type": "markdown",
   "metadata": {},
   "source": [
    "### $\\texttt{index\\_deletion = 3}$\n",
    "***Results:***\n",
    "* Average Frobenius distance between the estimation $\\hat{M}$ and the true matrix $M^*$ is $\\large{2.587}$.\n",
    "* Average Frobenius distance between the estimation $\\hat{M}$ and the true matrix $M^*$ for linear regression is $\\large{2.824}$.\n",
    "* Average Frobenius distance between the estimation $\\hat{M}$ and the true matrix $M^*$ for Lasso regression with $\\lambda = 0.001$ is $\\large{2.93}$.\n",
    "* Average Frobenius distance between the estimation $\\hat{M}$ and the true matrix $M^*$ for Lasso regression with $\\lambda = 0.01$ is $\\large{2.35}$.\n",
    "* Average Frobenius distance between the estimation $\\hat{M}$ and the true matrix $M^*$ for Lasso regression with $\\lambda = 0.1$ is $\\large{2.114}$.\n",
    "* Average Frobenius distance between the estimation $\\hat{M}$ and the true matrix $M^*$ for Lasso regression with $\\lambda = 1$ is $\\large{2.715}$."
   ]
  },
  {
   "cell_type": "code",
   "execution_count": 15,
   "metadata": {},
   "outputs": [],
   "source": [
    "index_deletion = 3\n",
    "offset = 1234\n",
    "\n",
    "c = np.hstack((vech_C, - b * unit_v))\n",
    "c = np.delete(c, (index_deletion))\n",
    "\n",
    "estimate_2_3 = np.empty(shape=(num_exp, num_param), dtype=object)\n",
    "frobnorm_2_3 = np.empty(shape=(num_exp, num_param), dtype=object)\n",
    "\n",
    "for seed in range(offset, num_exp + offset):\n",
    "    true_M = simulate_M(seed=seed, p=p)\n",
    "\n",
    "    true_cov = solve_continuous_lyapunov(a=true_M, q=-C)\n",
    "    true_mean = (b * np.linalg.inv(a=true_M)).dot(unit_v)\n",
    "\n",
    "    obs = np.random.multivariate_normal(mean = true_mean, cov = true_cov, size = num_sim)\n",
    "    emp_cov = np.cov(obs, rowvar=False)\n",
    "    emp_mean = np.mean(obs, axis=0)\n",
    "\n",
    "    emp_A_Sigma = create_A_Sigma(cov=emp_cov, p=p)\n",
    "    emp_A = np.delete(create_A(A_Sigma=emp_A_Sigma, mean=emp_mean, p=p), (index_deletion), axis=0)\n",
    "\n",
    "    # Linear regression\n",
    "    lin_reg = linear_model.LinearRegression()\n",
    "    lin_reg.fit(X=emp_A, y=-c)\n",
    "    est_M = np.transpose(np.reshape(lin_reg.coef_, shape=(p, p)))\n",
    "    frob = np.linalg.norm(est_M - true_M)\n",
    "\n",
    "    estimate_2_3[seed-offset, 0] = est_M.round(3)\n",
    "    frobnorm_2_3[seed-offset, 0] = frob\n",
    "\n",
    "    for index, param in enumerate(reg_param):\n",
    "        direct_lasso = linear_model.Lasso(alpha=param, max_iter=5000)\n",
    "        direct_lasso.fit(X=emp_A, y=-c)\n",
    "        est_M = np.transpose(np.reshape(direct_lasso.coef_, shape=(p, p)))\n",
    "        frob = np.linalg.norm(est_M - true_M)\n",
    "\n",
    "        estimate_2_3[seed-offset, index+1] = est_M.round(3)\n",
    "        frobnorm_2_3[seed-offset, index+1] = frob"
   ]
  },
  {
   "cell_type": "code",
   "execution_count": 16,
   "metadata": {},
   "outputs": [
    {
     "data": {
      "image/png": "[encoded data removed]",
      "text/latex": [
       "$\\displaystyle 1.56984658465748$"
      ],
      "text/plain": [
       "np.float64(1.5698465846574792)"
      ]
     },
     "execution_count": 16,
     "metadata": {},
     "output_type": "execute_result"
    }
   ],
   "source": [
    "np.mean(frobnorm_2_3)"
   ]
  },
  {
   "cell_type": "code",
   "execution_count": 17,
   "metadata": {},
   "outputs": [
    {
     "data": {
      "text/plain": [
       "array([np.float64(1.173212079122521), np.float64(1.0992103591417925),\n",
       "       np.float64(1.0527467957458996), np.float64(1.807932496222883),\n",
       "       np.float64(2.7161311930542973)], dtype=object)"
      ]
     },
     "execution_count": 17,
     "metadata": {},
     "output_type": "execute_result"
    }
   ],
   "source": [
    "np.mean(frobnorm_2_3, axis=0)"
   ]
  },
  {
   "cell_type": "markdown",
   "metadata": {},
   "source": [
    "### $\\texttt{index\\_deletion = 4}$\n",
    "***Results:***\n",
    "* Average Frobenius distance between the estimation $\\hat{M}$ and the true matrix $M^*$ is $\\large{2.007}$.\n",
    "* Average Frobenius distance between the estimation $\\hat{M}$ and the true matrix $M^*$ for linear regression is $\\large{1.984}$.\n",
    "* Average Frobenius distance between the estimation $\\hat{M}$ and the true matrix $M^*$ for Lasso regression with $\\lambda = 0.001$ is $\\large{2.201}$.\n",
    "* Average Frobenius distance between the estimation $\\hat{M}$ and the true matrix $M^*$ for Lasso regression with $\\lambda = 0.01$ is $\\large{2.017}$.\n",
    "* Average Frobenius distance between the estimation $\\hat{M}$ and the true matrix $M^*$ for Lasso regression with $\\lambda = 0.1$ is $\\large{1.623}$.\n",
    "* Average Frobenius distance between the estimation $\\hat{M}$ and the true matrix $M^*$ for Lasso regression with $\\lambda = 1$ is $\\large{2.562}$."
   ]
  },
  {
   "cell_type": "code",
   "execution_count": 18,
   "metadata": {},
   "outputs": [],
   "source": [
    "index_deletion = 4\n",
    "offset = 12345\n",
    "\n",
    "c = np.hstack((vech_C, - b * unit_v))\n",
    "c = np.delete(c, (index_deletion))\n",
    "\n",
    "estimate_2_4 = np.empty(shape=(num_exp, num_param), dtype=object)\n",
    "frobnorm_2_4 = np.empty(shape=(num_exp, num_param), dtype=object)\n",
    "\n",
    "for seed in range(offset, num_exp + offset):\n",
    "    true_M = simulate_M(seed=seed, p=p)\n",
    "\n",
    "    true_cov = solve_continuous_lyapunov(a=true_M, q=-C)\n",
    "    true_mean = (b * np.linalg.inv(a=true_M)).dot(unit_v)\n",
    "\n",
    "    obs = np.random.multivariate_normal(mean = true_mean, cov = true_cov, size = num_sim)\n",
    "    emp_cov = np.cov(obs, rowvar=False)\n",
    "    emp_mean = np.mean(obs, axis=0)\n",
    "\n",
    "    emp_A_Sigma = create_A_Sigma(cov=emp_cov, p=p)\n",
    "    emp_A = np.delete(create_A(A_Sigma=emp_A_Sigma, mean=emp_mean, p=p), (index_deletion), axis=0)\n",
    "\n",
    "    # Linear regression\n",
    "    lin_reg = linear_model.LinearRegression()\n",
    "    lin_reg.fit(X=emp_A, y=-c)\n",
    "    est_M = np.transpose(np.reshape(lin_reg.coef_, shape=(p, p)))\n",
    "    frob = np.linalg.norm(est_M - true_M)\n",
    "\n",
    "    estimate_2_4[seed-offset, 0] = est_M.round(3)\n",
    "    frobnorm_2_4[seed-offset, 0] = frob\n",
    "\n",
    "    for index, param in enumerate(reg_param):\n",
    "        direct_lasso = linear_model.Lasso(alpha=param, max_iter=5000)\n",
    "        direct_lasso.fit(X=emp_A, y=-c)\n",
    "        est_M = np.transpose(np.reshape(direct_lasso.coef_, shape=(p, p)))\n",
    "        frob = np.linalg.norm(est_M - true_M)\n",
    "\n",
    "        estimate_2_4[seed-offset, index+1] = est_M.round(3)\n",
    "        frobnorm_2_4[seed-offset, index+1] = frob"
   ]
  },
  {
   "cell_type": "code",
   "execution_count": 19,
   "metadata": {},
   "outputs": [
    {
     "data": {
      "image/png": "[encoded data removed]",
      "text/latex": [
       "$\\displaystyle 1.20194766236247$"
      ],
      "text/plain": [
       "np.float64(1.2019476623624676)"
      ]
     },
     "execution_count": 19,
     "metadata": {},
     "output_type": "execute_result"
    }
   ],
   "source": [
    "np.mean(frobnorm_2_4)"
   ]
  },
  {
   "cell_type": "code",
   "execution_count": 20,
   "metadata": {},
   "outputs": [
    {
     "data": {
      "text/plain": [
       "array([np.float64(0.5254359070100943), np.float64(0.6843382765957513),\n",
       "       np.float64(0.7738859483887953), np.float64(1.4657694011316678),\n",
       "       np.float64(2.5603087786860352)], dtype=object)"
      ]
     },
     "execution_count": 20,
     "metadata": {},
     "output_type": "execute_result"
    }
   ],
   "source": [
    "np.mean(frobnorm_2_4, axis=0)"
   ]
  },
  {
   "cell_type": "markdown",
   "metadata": {},
   "source": [
    "### No deletion\n",
    "***Results:***\n",
    "* Average Frobenius distance between the estimation $\\hat{M}$ and the true matrix $M^*$ is $\\large{12.004}$.\n",
    "* Average Frobenius distance between the estimation $\\hat{M}$ and the true matrix $M^*$ for linear regression is $\\large{50.428}$.\n",
    "* Average Frobenius distance between the estimation $\\hat{M}$ and the true matrix $M^*$ for Lasso regression with $\\lambda = 0.001$ is $\\large{3.422}$.\n",
    "* Average Frobenius distance between the estimation $\\hat{M}$ and the true matrix $M^*$ for Lasso regression with $\\lambda = 0.01$ is $\\large{1.891}$.\n",
    "* Average Frobenius distance between the estimation $\\hat{M}$ and the true matrix $M^*$ for Lasso regression with $\\lambda = 0.1$ is $\\large{1.663}$.\n",
    "* Average Frobenius distance between the estimation $\\hat{M}$ and the true matrix $M^*$ for Lasso regression with $\\lambda = 1$ is $\\large{2.615}$."
   ]
  },
  {
   "cell_type": "code",
   "execution_count": 21,
   "metadata": {},
   "outputs": [],
   "source": [
    "offset = 12345\n",
    "\n",
    "c = np.hstack((vech_C, - b * unit_v))\n",
    "\n",
    "estimate_2 = np.empty(shape=(num_exp, num_param), dtype=object)\n",
    "frobnorm_2 = np.empty(shape=(num_exp, num_param), dtype=object)\n",
    "\n",
    "for seed in range(offset, num_exp + offset):\n",
    "    true_M = simulate_M(seed=seed, p=p)\n",
    "\n",
    "    true_cov = solve_continuous_lyapunov(a=true_M, q=-C)\n",
    "    true_mean = (b * np.linalg.inv(a=true_M)).dot(unit_v)\n",
    "\n",
    "    obs = np.random.multivariate_normal(mean = true_mean, cov = true_cov, size = num_sim)\n",
    "    emp_cov = np.cov(obs, rowvar=False)\n",
    "    emp_mean = np.mean(obs, axis=0)\n",
    "\n",
    "    emp_A_Sigma = create_A_Sigma(cov=emp_cov, p=p)\n",
    "    emp_A = create_A(A_Sigma=emp_A_Sigma, mean=emp_mean, p=p)\n",
    "\n",
    "    # Linear regression\n",
    "    lin_reg = linear_model.LinearRegression()\n",
    "    lin_reg.fit(X=emp_A, y=-c)\n",
    "    est_M = np.transpose(np.reshape(lin_reg.coef_, shape=(p, p)))\n",
    "    frob = np.linalg.norm(est_M - true_M)\n",
    "\n",
    "    estimate_2[seed-offset, 0] = est_M.round(3)\n",
    "    frobnorm_2[seed-offset, 0] = frob\n",
    "\n",
    "    for index, param in enumerate(reg_param):\n",
    "        direct_lasso = linear_model.Lasso(alpha=param, max_iter=5000)\n",
    "        direct_lasso.fit(X=emp_A, y=-c)\n",
    "        est_M = np.transpose(np.reshape(direct_lasso.coef_, shape=(p, p)))\n",
    "        frob = np.linalg.norm(est_M - true_M)\n",
    "\n",
    "        estimate_2[seed-offset, index+1] = est_M.round(3)\n",
    "        frobnorm_2[seed-offset, index+1] = frob"
   ]
  },
  {
   "cell_type": "code",
   "execution_count": 22,
   "metadata": {},
   "outputs": [
    {
     "data": {
      "image/png": "[encoded data removed]",
      "text/latex": [
       "$\\displaystyle 1.02162268893756$"
      ],
      "text/plain": [
       "np.float64(1.0216226889375597)"
      ]
     },
     "execution_count": 22,
     "metadata": {},
     "output_type": "execute_result"
    }
   ],
   "source": [
    "np.mean(frobnorm_2)"
   ]
  },
  {
   "cell_type": "code",
   "execution_count": 23,
   "metadata": {},
   "outputs": [
    {
     "data": {
      "text/plain": [
       "array([np.float64(0.31640154268575704), np.float64(0.25661614152081935),\n",
       "       np.float64(0.4347665218428023), np.float64(1.4850007438856891),\n",
       "       np.float64(2.6153284947527413)], dtype=object)"
      ]
     },
     "execution_count": 23,
     "metadata": {},
     "output_type": "execute_result"
    }
   ],
   "source": [
    "np.mean(frobnorm_2, axis=0)"
   ]
  },
  {
   "cell_type": "markdown",
   "metadata": {},
   "source": [
    "### Overview: 2 nodes\n",
    "* Average Frobenius distance between the estimation $\\hat{M}$ and the true matrix $M^*$ is $\\large{3.931}$.\n",
    "* Average Frobenius distance between the estimation $\\hat{M}$ and the true matrix $M^*$ for linear regression is $\\large{10.478}$.\n",
    "* Average Frobenius distance between the estimation $\\hat{M}$ and the true matrix $M^*$ for Lasso regression with $\\lambda = 0.001$ is $\\large{2.652}$.\n",
    "* Average Frobenius distance between the estimation $\\hat{M}$ and the true matrix $M^*$ for Lasso regression with $\\lambda = 0.01$ is $\\large{2.074}$.\n",
    "* Average Frobenius distance between the estimation $\\hat{M}$ and the true matrix $M^*$ for Lasso regression with $\\lambda = 0.1$ is $\\large{1.841}$.\n",
    "* Average Frobenius distance between the estimation $\\hat{M}$ and the true matrix $M^*$ for Lasso regression with $\\lambda = 1$ is $\\large{2.612}$."
   ]
  },
  {
   "cell_type": "code",
   "execution_count": 24,
   "metadata": {},
   "outputs": [
    {
     "data": {
      "text/plain": [
       "array([np.float64(0.9622928820203176), np.float64(0.9845901884369537),\n",
       "       np.float64(1.051632707783403), np.float64(1.6534434267266764),\n",
       "       np.float64(2.61034298207602)], dtype=object)"
      ]
     },
     "execution_count": 24,
     "metadata": {},
     "output_type": "execute_result"
    }
   ],
   "source": [
    "frobnorm_2nodes = np.vstack((frobnorm_2, frobnorm_2_0, frobnorm_2_1, frobnorm_2_2, frobnorm_2_3, frobnorm_2_4))\n",
    "np.mean(frobnorm_2nodes, axis=0)"
   ]
  },
  {
   "cell_type": "markdown",
   "metadata": {},
   "source": [
    "## 3 nodes"
   ]
  },
  {
   "cell_type": "code",
   "execution_count": 25,
   "metadata": {},
   "outputs": [],
   "source": [
    "p = 3\n",
    "\n",
    "C = 2 * np.eye(p)\n",
    "vech_C = np.array([C[i, j] for i in range(p) for j in range(i, p)])\n",
    "unit_v = np.eye(p)[:, index_intervention]\n",
    "c = np.hstack((vech_C, - b * unit_v))\n",
    "\n",
    "reg_param = [0.001, 0.005, 0.01, 0.05, 0.1, 0.5]\n",
    "num_param = len(reg_param) + 1 # also linear regression"
   ]
  },
  {
   "cell_type": "markdown",
   "metadata": {},
   "source": [
    "### All entries\n",
    "***Results:***\n",
    "* Average Frobenius distance between the estimation $\\hat{M}$ and the true matrix $M^*$ is $\\large{42.498}$.\n",
    "* Average Frobenius distance between the estimation $\\hat{M}$ and the true matrix $M^*$ for linear regression is $\\large{271.087}$.\n",
    "* Average Frobenius distance between the estimation $\\hat{M}$ and the true matrix $M^*$ for Lasso regression with $\\lambda = 0.001$ is $\\large{6.678}$.\n",
    "* Average Frobenius distance between the estimation $\\hat{M}$ and the true matrix $M^*$ for Lasso regression with $\\lambda = 0.005$ is $\\large{3.889}$.\n",
    "* Average Frobenius distance between the estimation $\\hat{M}$ and the true matrix $M^*$ for Lasso regression with $\\lambda = 0.01$ is $\\large{3.074}$.\n",
    "* Average Frobenius distance between the estimation $\\hat{M}$ and the true matrix $M^*$ for Lasso regression with $\\lambda = 0.05$ is $\\large{3.614}$.\n",
    "* Average Frobenius distance between the estimation $\\hat{M}$ and the true matrix $M^*$ for Lasso regression with $\\lambda = 0.1$ is $\\large{4.179}$.\n",
    "* Average Frobenius distance between the estimation $\\hat{M}$ and the true matrix $M^*$ for Lasso regression with $\\lambda = 0.5$ is $\\large{4.964}$."
   ]
  },
  {
   "cell_type": "code",
   "execution_count": 26,
   "metadata": {},
   "outputs": [],
   "source": [
    "offset = 120\n",
    "\n",
    "estimate_3_0 = np.empty(shape=(num_exp, num_param), dtype=object)\n",
    "frobnorm_3_0 = np.empty(shape=(num_exp, num_param), dtype=object)\n",
    "\n",
    "for seed in range(offset, num_exp + offset):\n",
    "    true_M = simulate_M(seed=seed, p=p)\n",
    "\n",
    "    true_cov = solve_continuous_lyapunov(a=true_M, q=-C)\n",
    "    true_mean = (b * np.linalg.inv(a=true_M)).dot(unit_v)\n",
    "\n",
    "    obs = np.random.multivariate_normal(mean = true_mean, cov = true_cov, size = num_sim)\n",
    "    emp_cov = np.cov(obs, rowvar=False)\n",
    "    emp_mean = np.mean(obs, axis=0)\n",
    "\n",
    "    emp_A_Sigma = create_A_Sigma(cov=emp_cov, p=p)\n",
    "    emp_A = create_A(A_Sigma=emp_A_Sigma, mean=emp_mean, p=p)\n",
    "\n",
    "    # Linear regression\n",
    "    lin_reg = linear_model.LinearRegression()\n",
    "    lin_reg.fit(X=emp_A, y=-c)\n",
    "    est_M = np.transpose(np.reshape(lin_reg.coef_, shape=(p, p)))\n",
    "    frob = np.linalg.norm(est_M - true_M)\n",
    "\n",
    "    estimate_3_0[seed-offset, 0] = est_M.round(3)\n",
    "    frobnorm_3_0[seed-offset, 0] = frob\n",
    "\n",
    "    for index, param in enumerate(reg_param):\n",
    "        direct_lasso = linear_model.Lasso(alpha=param, max_iter=5000)\n",
    "        direct_lasso.fit(X=emp_A, y=-c)\n",
    "        est_M = np.transpose(np.reshape(direct_lasso.coef_, shape=(p, p)))\n",
    "        frob = np.linalg.norm(est_M - true_M)\n",
    "\n",
    "        estimate_3_0[seed-offset, index+1] = est_M.round(3)\n",
    "        frobnorm_3_0[seed-offset, index+1] = frob"
   ]
  },
  {
   "cell_type": "code",
   "execution_count": 27,
   "metadata": {},
   "outputs": [
    {
     "data": {
      "image/png": "[encoded data removed]",
      "text/latex": [
       "$\\displaystyle 2.59402865758356$"
      ],
      "text/plain": [
       "np.float64(2.5940286575835567)"
      ]
     },
     "execution_count": 27,
     "metadata": {},
     "output_type": "execute_result"
    }
   ],
   "source": [
    "np.mean(frobnorm_3_0)"
   ]
  },
  {
   "cell_type": "code",
   "execution_count": 28,
   "metadata": {},
   "outputs": [
    {
     "data": {
      "text/plain": [
       "array([np.float64(1.5985822382812176), np.float64(1.1979436840885103),\n",
       "       np.float64(1.4276400870415886), np.float64(1.7503049194905516),\n",
       "       np.float64(3.251963630348755), np.float64(3.9656645714777334),\n",
       "       np.float64(4.966101472356572)], dtype=object)"
      ]
     },
     "execution_count": 28,
     "metadata": {},
     "output_type": "execute_result"
    }
   ],
   "source": [
    "np.mean(frobnorm_3_0, axis=0)"
   ]
  },
  {
   "cell_type": "markdown",
   "metadata": {},
   "source": [
    "### One random entry missing\n",
    "***Results:***\n",
    "* Average Frobenius distance between the estimation $\\hat{M}$ and the true matrix $M^*$ is $\\large{26.269}$.\n",
    "* Average Frobenius distance between the estimation $\\hat{M}$ and the true matrix $M^*$ for linear regression is $\\large{157.323}$.\n",
    "* Average Frobenius distance between the estimation $\\hat{M}$ and the true matrix $M^*$ for Lasso regression with $\\lambda = 0.001$ is $\\large{6.909}$.\n",
    "* Average Frobenius distance between the estimation $\\hat{M}$ and the true matrix $M^*$ for Lasso regression with $\\lambda = 0.005$ is $\\large{3.935}$.\n",
    "* Average Frobenius distance between the estimation $\\hat{M}$ and the true matrix $M^*$ for Lasso regression with $\\lambda = 0.01$ is $\\large{3.096}$.\n",
    "* Average Frobenius distance between the estimation $\\hat{M}$ and the true matrix $M^*$ for Lasso regression with $\\lambda = 0.05$ is $\\large{3.586}$.\n",
    "* Average Frobenius distance between the estimation $\\hat{M}$ and the true matrix $M^*$ for Lasso regression with $\\lambda = 0.1$ is $\\large{4.118}$.\n",
    "* Average Frobenius distance between the estimation $\\hat{M}$ and the true matrix $M^*$ for Lasso regression with $\\lambda = 0.5$ is $\\large{4.914}$."
   ]
  },
  {
   "cell_type": "code",
   "execution_count": 29,
   "metadata": {},
   "outputs": [],
   "source": [
    "entries = [[0, 1], [0, 2], [1, 0], [1, 2], [2, 0], [2, 1]]\n",
    "offset = 1208\n",
    "\n",
    "estimate_3_1 = np.empty(shape=(num_exp, num_param), dtype=object)\n",
    "frobnorm_3_1 = np.empty(shape=(num_exp, num_param), dtype=object)\n",
    "\n",
    "for seed in range(offset, num_exp + offset):\n",
    "    true_M = simulate_M(seed=seed, p=p)\n",
    "\n",
    "    true_cov = solve_continuous_lyapunov(a=true_M, q=-C)\n",
    "    true_mean = (b * np.linalg.inv(a=true_M)).dot(unit_v)\n",
    "\n",
    "    obs = np.random.multivariate_normal(mean = true_mean, cov = true_cov, size = num_sim)\n",
    "    emp_cov = np.cov(obs, rowvar=False)\n",
    "    emp_mean = np.mean(obs, axis=0)\n",
    "\n",
    "    emp_A_Sigma = create_A_Sigma(cov=emp_cov, p=p)\n",
    "    emp_A = create_A(A_Sigma=emp_A_Sigma, mean=emp_mean, p=p)\n",
    "\n",
    "    # Linear regression\n",
    "    lin_reg = linear_model.LinearRegression()\n",
    "    lin_reg.fit(X=emp_A, y=-c)\n",
    "    est_M = np.transpose(np.reshape(lin_reg.coef_, shape=(p, p)))\n",
    "    frob = np.linalg.norm(est_M - true_M)\n",
    "\n",
    "    estimate_3_1[seed-offset, 0] = est_M.round(3)\n",
    "    frobnorm_3_1[seed-offset, 0] = frob\n",
    "\n",
    "    for index, param in enumerate(reg_param):\n",
    "        direct_lasso = linear_model.Lasso(alpha=param, max_iter=5000)\n",
    "        direct_lasso.fit(X=emp_A, y=-c)\n",
    "        est_M = np.transpose(np.reshape(direct_lasso.coef_, shape=(p, p)))\n",
    "        frob = np.linalg.norm(est_M - true_M)\n",
    "\n",
    "        estimate_3_1[seed-offset, index+1] = est_M.round(3)\n",
    "        frobnorm_3_1[seed-offset, index+1] = frob"
   ]
  },
  {
   "cell_type": "code",
   "execution_count": 30,
   "metadata": {},
   "outputs": [
    {
     "data": {
      "image/png": "[encoded data removed]",
      "text/latex": [
       "$\\displaystyle 2.5361913223201$"
      ],
      "text/plain": [
       "np.float64(2.5361913223200987)"
      ]
     },
     "execution_count": 30,
     "metadata": {},
     "output_type": "execute_result"
    }
   ],
   "source": [
    "np.mean(frobnorm_3_1)"
   ]
  },
  {
   "cell_type": "code",
   "execution_count": 31,
   "metadata": {},
   "outputs": [
    {
     "data": {
      "text/plain": [
       "array([np.float64(1.4020310184075546), np.float64(1.1601020306999925),\n",
       "       np.float64(1.3926530057673174), np.float64(1.7224551100129262),\n",
       "       np.float64(3.2362609216277045), np.float64(3.9228219251234915),\n",
       "       np.float64(4.917015244601737)], dtype=object)"
      ]
     },
     "execution_count": 31,
     "metadata": {},
     "output_type": "execute_result"
    }
   ],
   "source": [
    "np.mean(frobnorm_3_1, axis=0)"
   ]
  },
  {
   "cell_type": "markdown",
   "metadata": {},
   "source": [
    "### Two entries missing I\n",
    "***Results:***\n",
    "* Average Frobenius distance between the estimation $\\hat{M}$ and the true matrix $M^*$ is $\\large{21.27}$.\n",
    "* Average Frobenius distance between the estimation $\\hat{M}$ and the true matrix $M^*$ for linear regression is $\\large{122.947}$.\n",
    "* Average Frobenius distance between the estimation $\\hat{M}$ and the true matrix $M^*$ for Lasso regression with $\\lambda = 0.001$ is $\\large{6.478}$.\n",
    "* Average Frobenius distance between the estimation $\\hat{M}$ and the true matrix $M^*$ for Lasso regression with $\\lambda = 0.005$ is $\\large{3.765}$.\n",
    "* Average Frobenius distance between the estimation $\\hat{M}$ and the true matrix $M^*$ for Lasso regression with $\\lambda = 0.01$ is $\\large{3.061}$.\n",
    "* Average Frobenius distance between the estimation $\\hat{M}$ and the true matrix $M^*$ for Lasso regression with $\\lambda = 0.05$ is $\\large{3.564}$.\n",
    "* Average Frobenius distance between the estimation $\\hat{M}$ and the true matrix $M^*$ for Lasso regression with $\\lambda = 0.1$ is $\\large{4.129}$.\n",
    "* Average Frobenius distance between the estimation $\\hat{M}$ and the true matrix $M^*$ for Lasso regression with $\\lambda = 0.5$ is $\\large{4.945}$."
   ]
  },
  {
   "cell_type": "code",
   "execution_count": 32,
   "metadata": {},
   "outputs": [],
   "source": [
    "offset = 12089\n",
    "\n",
    "estimate_3_2 = np.empty(shape=(num_exp, num_param), dtype=object)\n",
    "frobnorm_3_2 = np.empty(shape=(num_exp, num_param), dtype=object)\n",
    "\n",
    "for seed in range(offset, num_exp + offset):\n",
    "    true_M = simulate_M(seed=seed, p=p)\n",
    "\n",
    "    true_cov = solve_continuous_lyapunov(a=true_M, q=-C)\n",
    "    true_mean = (b * np.linalg.inv(a=true_M)).dot(unit_v)\n",
    "\n",
    "    obs = np.random.multivariate_normal(mean = true_mean, cov = true_cov, size = num_sim)\n",
    "    emp_cov = np.cov(obs, rowvar=False)\n",
    "    emp_mean = np.mean(obs, axis=0)\n",
    "\n",
    "    emp_A_Sigma = create_A_Sigma(cov=emp_cov, p=p)\n",
    "    emp_A = create_A(A_Sigma=emp_A_Sigma, mean=emp_mean, p=p)\n",
    "\n",
    "    # Linear regression\n",
    "    lin_reg = linear_model.LinearRegression()\n",
    "    lin_reg.fit(X=emp_A, y=-c)\n",
    "    est_M = np.transpose(np.reshape(lin_reg.coef_, shape=(p, p)))\n",
    "    frob = np.linalg.norm(est_M - true_M)\n",
    "\n",
    "    estimate_3_2[seed-offset, 0] = est_M.round(3)\n",
    "    frobnorm_3_2[seed-offset, 0] = frob\n",
    "\n",
    "    for index, param in enumerate(reg_param):\n",
    "        direct_lasso = linear_model.Lasso(alpha=param, max_iter=5000)\n",
    "        direct_lasso.fit(X=emp_A, y=-c)\n",
    "        est_M = np.transpose(np.reshape(direct_lasso.coef_, shape=(p, p)))\n",
    "        frob = np.linalg.norm(est_M - true_M)\n",
    "\n",
    "        estimate_3_2[seed-offset, index+1] = est_M.round(3)\n",
    "        frobnorm_3_2[seed-offset, index+1] = frob"
   ]
  },
  {
   "cell_type": "code",
   "execution_count": 33,
   "metadata": {},
   "outputs": [
    {
     "data": {
      "image/png": "[encoded data removed]",
      "text/latex": [
       "$\\displaystyle 2.54564524084728$"
      ],
      "text/plain": [
       "np.float64(2.5456452408472847)"
      ]
     },
     "execution_count": 33,
     "metadata": {},
     "output_type": "execute_result"
    }
   ],
   "source": [
    "np.mean(frobnorm_3_2)"
   ]
  },
  {
   "cell_type": "code",
   "execution_count": 34,
   "metadata": {},
   "outputs": [
    {
     "data": {
      "text/plain": [
       "array([np.float64(1.468500549131823), np.float64(1.1649036826929196),\n",
       "       np.float64(1.3847339229662154), np.float64(1.7029778835314224),\n",
       "       np.float64(3.2156604401133935), np.float64(3.9345988575240964),\n",
       "       np.float64(4.948141349971065)], dtype=object)"
      ]
     },
     "execution_count": 34,
     "metadata": {},
     "output_type": "execute_result"
    }
   ],
   "source": [
    "np.mean(frobnorm_3_2, axis=0)"
   ]
  },
  {
   "cell_type": "markdown",
   "metadata": {},
   "source": [
    "### Two entries missing II\n",
    "***Results:***\n",
    "* Average Frobenius distance between the estimation $\\hat{M}$ and the true matrix $M^*$ is $\\large{33.845}$.\n",
    "* Average Frobenius distance between the estimation $\\hat{M}$ and the true matrix $M^*$ for linear regression is $\\large{210.425}$.\n",
    "* Average Frobenius distance between the estimation $\\hat{M}$ and the true matrix $M^*$ for Lasso regression with $\\lambda = 0.001$ is $\\large{6.696}$.\n",
    "* Average Frobenius distance between the estimation $\\hat{M}$ and the true matrix $M^*$ for Lasso regression with $\\lambda = 0.005$ is $\\large{3.849}$.\n",
    "* Average Frobenius distance between the estimation $\\hat{M}$ and the true matrix $M^*$ for Lasso regression with $\\lambda = 0.01$ is $\\large{3.079}$.\n",
    "* Average Frobenius distance between the estimation $\\hat{M}$ and the true matrix $M^*$ for Lasso regression with $\\lambda = 0.05$ is $\\large{3.568}$.\n",
    "* Average Frobenius distance between the estimation $\\hat{M}$ and the true matrix $M^*$ for Lasso regression with $\\lambda = 0.1$ is $\\large{4.117}$.\n",
    "* Average Frobenius distance between the estimation $\\hat{M}$ and the true matrix $M^*$ for Lasso regression with $\\lambda = 0.5$ is $\\large{4.909}$."
   ]
  },
  {
   "cell_type": "code",
   "execution_count": 35,
   "metadata": {},
   "outputs": [],
   "source": [
    "offset = 120899\n",
    "\n",
    "estimate_3_3 = np.empty(shape=(num_exp, num_param), dtype=object)\n",
    "frobnorm_3_3 = np.empty(shape=(num_exp, num_param), dtype=object)\n",
    "\n",
    "for seed in range(offset, num_exp + offset):\n",
    "    true_M = simulate_M(seed=seed, p=p)\n",
    "\n",
    "    true_cov = solve_continuous_lyapunov(a=true_M, q=-C)\n",
    "    true_mean = (b * np.linalg.inv(a=true_M)).dot(unit_v)\n",
    "\n",
    "    obs = np.random.multivariate_normal(mean = true_mean, cov = true_cov, size = num_sim)\n",
    "    emp_cov = np.cov(obs, rowvar=False)\n",
    "    emp_mean = np.mean(obs, axis=0)\n",
    "\n",
    "    emp_A_Sigma = create_A_Sigma(cov=emp_cov, p=p)\n",
    "    emp_A = create_A(A_Sigma=emp_A_Sigma, mean=emp_mean, p=p)\n",
    "\n",
    "    # Linear regression\n",
    "    lin_reg = linear_model.LinearRegression()\n",
    "    lin_reg.fit(X=emp_A, y=-c)\n",
    "    est_M = np.transpose(np.reshape(lin_reg.coef_, shape=(p, p)))\n",
    "    frob = np.linalg.norm(est_M - true_M)\n",
    "\n",
    "    estimate_3_3[seed-offset, 0] = est_M.round(3)\n",
    "    frobnorm_3_3[seed-offset, 0] = frob\n",
    "\n",
    "    for index, param in enumerate(reg_param):\n",
    "        direct_lasso = linear_model.Lasso(alpha=param, max_iter=5000)\n",
    "        direct_lasso.fit(X=emp_A, y=-c)\n",
    "        est_M = np.transpose(np.reshape(direct_lasso.coef_, shape=(p, p)))\n",
    "        frob = np.linalg.norm(est_M - true_M)\n",
    "\n",
    "        estimate_3_3[seed-offset, index+1] = est_M.round(3)\n",
    "        frobnorm_3_3[seed-offset, index+1] = frob"
   ]
  },
  {
   "cell_type": "code",
   "execution_count": 36,
   "metadata": {},
   "outputs": [
    {
     "data": {
      "image/png": "[encoded data removed]",
      "text/latex": [
       "$\\displaystyle 2.53032529161315$"
      ],
      "text/plain": [
       "np.float64(2.530325291613153)"
      ]
     },
     "execution_count": 36,
     "metadata": {},
     "output_type": "execute_result"
    }
   ],
   "source": [
    "np.mean(frobnorm_3_3)"
   ]
  },
  {
   "cell_type": "code",
   "execution_count": 37,
   "metadata": {},
   "outputs": [
    {
     "data": {
      "text/plain": [
       "array([np.float64(1.494461891642084), np.float64(1.1654669389367935),\n",
       "       np.float64(1.3617718110742767), np.float64(1.6774434061129226),\n",
       "       np.float64(3.201126109718212), np.float64(3.9004008720783454),\n",
       "       np.float64(4.91160601172952)], dtype=object)"
      ]
     },
     "execution_count": 37,
     "metadata": {},
     "output_type": "execute_result"
    }
   ],
   "source": [
    "np.mean(frobnorm_3_3, axis=0)"
   ]
  },
  {
   "cell_type": "markdown",
   "metadata": {},
   "source": [
    "### Overview: 3 nodes\n",
    "* Average Frobenius distance between the estimation $\\hat{M}$ and the true matrix $M^*$ is $\\large{30.97}$.\n",
    "* Average Frobenius distance between the estimation $\\hat{M}$ and the true matrix $M^*$ for linear regression is $\\large{190.445}$.\n",
    "* Average Frobenius distance between the estimation $\\hat{M}$ and the true matrix $M^*$ for Lasso regression with $\\lambda = 0.001$ is $\\large{6.758}$.\n",
    "* Average Frobenius distance between the estimation $\\hat{M}$ and the true matrix $M^*$ for Lasso regression with $\\lambda = 0.005$ is $\\large{3.86}$.\n",
    "* Average Frobenius distance between the estimation $\\hat{M}$ and the true matrix $M^*$ for Lasso regression with $\\lambda = 0.01$ is $\\large{3.077}$.\n",
    "* Average Frobenius distance between the estimation $\\hat{M}$ and the true matrix $M^*$ for Lasso regression with $\\lambda = 0.05$ is $\\large{3.583}$.\n",
    "* Average Frobenius distance between the estimation $\\hat{M}$ and the true matrix $M^*$ for Lasso regression with $\\lambda = 0.1$ is $\\large{4.136}$.\n",
    "* Average Frobenius distance between the estimation $\\hat{M}$ and the true matrix $M^*$ for Lasso regression with $\\lambda = 0.5$ is $\\large{4.933}$."
   ]
  },
  {
   "cell_type": "code",
   "execution_count": 38,
   "metadata": {},
   "outputs": [
    {
     "data": {
      "text/plain": [
       "array([np.float64(1.4908939243656711), np.float64(1.172104084104554),\n",
       "       np.float64(1.3916997067123489), np.float64(1.713295329786958),\n",
       "       np.float64(3.226252775452022), np.float64(3.9308715565509047),\n",
       "       np.float64(4.9357160196647225)], dtype=object)"
      ]
     },
     "execution_count": 38,
     "metadata": {},
     "output_type": "execute_result"
    }
   ],
   "source": [
    "frobnorm_3nodes = np.vstack((frobnorm_3_0, frobnorm_3_1, frobnorm_3_2, frobnorm_3_3))\n",
    "np.mean(frobnorm_3nodes, axis=0)"
   ]
  },
  {
   "cell_type": "markdown",
   "metadata": {},
   "source": [
    "## 4 nodes\n",
    "***Results:***\n",
    "* Average Frobenius distance between the estimation $\\hat{M}$ and the true matrix $M^*$ is $\\large{31.527}$.\n",
    "* Average Frobenius distance between the estimation $\\hat{M}$ and the true matrix $M^*$ for linear regression is $\\large{180.115}$.\n",
    "* Average Frobenius distance between the estimation $\\hat{M}$ and the true matrix $M^*$ for Lasso regression with $\\lambda = 0.001$ is $\\large{9.611}$.\n",
    "* Average Frobenius distance between the estimation $\\hat{M}$ and the true matrix $M^*$ for Lasso regression with $\\lambda = 0.005$ is $\\large{4.943}$.\n",
    "* Average Frobenius distance between the estimation $\\hat{M}$ and the true matrix $M^*$ for Lasso regression with $\\lambda = 0.01$ is $\\large{4.77}$.\n",
    "* Average Frobenius distance between the estimation $\\hat{M}$ and the true matrix $M^*$ for Lasso regression with $\\lambda = 0.05$ is $\\large{6.478}$.\n",
    "* Average Frobenius distance between the estimation $\\hat{M}$ and the true matrix $M^*$ for Lasso regression with $\\lambda = 0.1$ is $\\large{7.185}$.\n",
    "* Average Frobenius distance between the estimation $\\hat{M}$ and the true matrix $M^*$ for Lasso regression with $\\lambda = 0.5$ is $\\large{7.589}$."
   ]
  },
  {
   "cell_type": "code",
   "execution_count": 39,
   "metadata": {},
   "outputs": [
    {
     "data": {
      "image/png": "[encoded data removed]",
      "text/latex": [
       "$\\displaystyle 4.51841793367304$"
      ],
      "text/plain": [
       "np.float64(4.518417933673035)"
      ]
     },
     "execution_count": 39,
     "metadata": {},
     "output_type": "execute_result"
    }
   ],
   "source": [
    "p = 4\n",
    "\n",
    "C = 2 * np.eye(p)\n",
    "vech_C = np.array([C[i, j] for i in range(p) for j in range(i, p)])\n",
    "unit_v = np.eye(p)[:, index_intervention]\n",
    "c = np.hstack((vech_C, - b * unit_v))\n",
    "\n",
    "reg_param = [0.001, 0.005, 0.01, 0.05, 0.1, 0.5]\n",
    "num_param = len(reg_param) + 1 # also linear regression\n",
    "offset = 240\n",
    "\n",
    "estimate_4 = np.empty(shape=(num_exp, num_param), dtype=object)\n",
    "frobnorm_4 = np.empty(shape=(num_exp, num_param), dtype=object)\n",
    "\n",
    "for seed in range(offset, num_exp + offset):\n",
    "    true_M = simulate_M(seed=seed, p=p)\n",
    "\n",
    "    true_cov = solve_continuous_lyapunov(a=true_M, q=-C)\n",
    "    true_mean = (b * np.linalg.inv(a=true_M)).dot(unit_v)\n",
    "\n",
    "    obs = np.random.multivariate_normal(mean = true_mean, cov = true_cov, size = num_sim)\n",
    "    emp_cov = np.cov(obs, rowvar=False)\n",
    "    emp_mean = np.mean(obs, axis=0)\n",
    "\n",
    "    emp_A_Sigma = create_A_Sigma(cov=emp_cov, p=p)\n",
    "    emp_A = create_A(A_Sigma=emp_A_Sigma, mean=emp_mean, p=p)\n",
    "\n",
    "    # Linear regression\n",
    "    lin_reg = linear_model.LinearRegression()\n",
    "    lin_reg.fit(X=emp_A, y=-c)\n",
    "    est_M = np.transpose(np.reshape(lin_reg.coef_, shape=(p, p)))\n",
    "    frob = np.linalg.norm(est_M - true_M)\n",
    "\n",
    "    estimate_4[seed-offset, 0] = est_M.round(3)\n",
    "    frobnorm_4[seed-offset, 0] = frob\n",
    "\n",
    "    for index, param in enumerate(reg_param):\n",
    "        direct_lasso = linear_model.Lasso(alpha=param, max_iter=5000)\n",
    "        direct_lasso.fit(X=emp_A, y=-c)\n",
    "        est_M = np.transpose(np.reshape(direct_lasso.coef_, shape=(p, p)))\n",
    "        frob = np.linalg.norm(est_M - true_M)\n",
    "\n",
    "        estimate_4[seed-offset, index+1] = est_M.round(3)\n",
    "        frobnorm_4[seed-offset, index+1] = frob\n",
    "\n",
    "np.mean(frobnorm_4)"
   ]
  },
  {
   "cell_type": "code",
   "execution_count": 40,
   "metadata": {},
   "outputs": [
    {
     "data": {
      "text/plain": [
       "array([np.float64(2.4072481489133537), np.float64(2.0861951798924325),\n",
       "       np.float64(2.7598147910651525), np.float64(3.588047584401723),\n",
       "       np.float64(6.066892127435979), np.float64(7.131298592786825),\n",
       "       np.float64(7.589429111215869)], dtype=object)"
      ]
     },
     "execution_count": 40,
     "metadata": {},
     "output_type": "execute_result"
    }
   ],
   "source": [
    "np.mean(frobnorm_4, axis=0)"
   ]
  },
  {
   "cell_type": "markdown",
   "metadata": {},
   "source": [
    "## 5 nodes\n",
    "***Results:***\n",
    "* Average Frobenius distance between the estimation $\\hat{M}$ and the true matrix $M^*$ is $\\large{203.858}$.\n",
    "* Average Frobenius distance between the estimation $\\hat{M}$ and the true matrix $M^*$ for linear regression is $\\large{1373.272}$.\n",
    "* Average Frobenius distance between the estimation $\\hat{M}$ and the true matrix $M^*$ for Lasso regression with $\\lambda = 0.001$ is $\\large{10.273}$.\n",
    "* Average Frobenius distance between the estimation $\\hat{M}$ and the true matrix $M^*$ for Lasso regression with $\\lambda = 0.005$ is $\\large{6.409}$.\n",
    "* Average Frobenius distance between the estimation $\\hat{M}$ and the true matrix $M^*$ for Lasso regression with $\\lambda = 0.01$ is $\\large{7.054}$.\n",
    "* Average Frobenius distance between the estimation $\\hat{M}$ and the true matrix $M^*$ for Lasso regression with $\\lambda = 0.05$ is $\\large{9.613}$.\n",
    "* Average Frobenius distance between the estimation $\\hat{M}$ and the true matrix $M^*$ for Lasso regression with $\\lambda = 0.1$ is $\\large{10.131}$.\n",
    "* Average Frobenius distance between the estimation $\\hat{M}$ and the true matrix $M^*$ for Lasso regression with $\\lambda = 0.5$ is $\\large{10.253}$."
   ]
  },
  {
   "cell_type": "code",
   "execution_count": 41,
   "metadata": {},
   "outputs": [
    {
     "data": {
      "image/png": "[encoded data removed]",
      "text/latex": [
       "$\\displaystyle 6.65914264646139$"
      ],
      "text/plain": [
       "np.float64(6.65914264646139)"
      ]
     },
     "execution_count": 41,
     "metadata": {},
     "output_type": "execute_result"
    }
   ],
   "source": [
    "p = 5\n",
    "\n",
    "C = 2 * np.eye(p)\n",
    "vech_C = np.array([C[i, j] for i in range(p) for j in range(i, p)])\n",
    "unit_v = np.eye(p)[:, index_intervention]\n",
    "c = np.hstack((vech_C, - b * unit_v))\n",
    "\n",
    "reg_param = [0.001, 0.005, 0.01, 0.05, 0.1, 0.5]\n",
    "num_param = len(reg_param) + 1 # also linear regression\n",
    "offset = 2409\n",
    "\n",
    "estimate_5 = np.empty(shape=(num_exp, num_param), dtype=object)\n",
    "frobnorm_5 = np.empty(shape=(num_exp, num_param), dtype=object)\n",
    "\n",
    "for seed in range(offset, num_exp + offset):\n",
    "    true_M = simulate_M(seed=seed, p=p)\n",
    "\n",
    "    true_cov = solve_continuous_lyapunov(a=true_M, q=-C)\n",
    "    true_mean = (b * np.linalg.inv(a=true_M)).dot(unit_v)\n",
    "\n",
    "    obs = np.random.multivariate_normal(mean = true_mean, cov = true_cov, size = num_sim)\n",
    "    emp_cov = np.cov(obs, rowvar=False)\n",
    "    emp_mean = np.mean(obs, axis=0)\n",
    "\n",
    "    emp_A_Sigma = create_A_Sigma(cov=emp_cov, p=p)\n",
    "    emp_A = create_A(A_Sigma=emp_A_Sigma, mean=emp_mean, p=p)\n",
    "\n",
    "    # Linear regression\n",
    "    lin_reg = linear_model.LinearRegression()\n",
    "    lin_reg.fit(X=emp_A, y=-c)\n",
    "    est_M = np.transpose(np.reshape(lin_reg.coef_, shape=(p, p)))\n",
    "    frob = np.linalg.norm(est_M - true_M)\n",
    "\n",
    "    estimate_5[seed-offset, 0] = est_M.round(3)\n",
    "    frobnorm_5[seed-offset, 0] = frob\n",
    "\n",
    "    for index, param in enumerate(reg_param):\n",
    "        direct_lasso = linear_model.Lasso(alpha=param, max_iter=5000)\n",
    "        direct_lasso.fit(X=emp_A, y=-c)\n",
    "        est_M = np.transpose(np.reshape(direct_lasso.coef_, shape=(p, p)))\n",
    "        frob = np.linalg.norm(est_M - true_M)\n",
    "\n",
    "        estimate_5[seed-offset, index+1] = est_M.round(3)\n",
    "        frobnorm_5[seed-offset, index+1] = frob\n",
    "\n",
    "np.mean(frobnorm_5)"
   ]
  },
  {
   "cell_type": "code",
   "execution_count": 42,
   "metadata": {},
   "outputs": [
    {
     "data": {
      "text/plain": [
       "array([np.float64(3.2603465863331853), np.float64(3.0946854496177174),\n",
       "       np.float64(4.586998208772058), np.float64(5.743267446759196),\n",
       "       np.float64(9.536728044426047), np.float64(10.1389128267134),\n",
       "       np.float64(10.253059962608116)], dtype=object)"
      ]
     },
     "execution_count": 42,
     "metadata": {},
     "output_type": "execute_result"
    }
   ],
   "source": [
    "np.mean(frobnorm_5, axis=0)"
   ]
  }
 ],
 "metadata": {
  "kernelspec": {
   "display_name": ".venv",
   "language": "python",
   "name": "python3"
  },
  "language_info": {
   "codemirror_mode": {
    "name": "ipython",
    "version": 3
   },
   "file_extension": ".py",
   "mimetype": "text/x-python",
   "name": "python",
   "nbconvert_exporter": "python",
   "pygments_lexer": "ipython3",
   "version": "3.12.3"
  }
 },
 "nbformat": 4,
 "nbformat_minor": 2
}
