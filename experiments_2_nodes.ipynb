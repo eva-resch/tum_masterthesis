{
 "cells": [
  {
   "cell_type": "markdown",
   "metadata": {},
   "source": [
    "## Preparation"
   ]
  },
  {
   "cell_type": "code",
   "execution_count": 1,
   "metadata": {},
   "outputs": [],
   "source": [
    "import numpy as np\n",
    "from sympy import *\n",
    "from sympy.solvers import solve\n",
    "init_printing(use_unicode=True)\n",
    "\n",
    "def num_sym(p: int) -> int:\n",
    "    return int(p * (p + 1) / 2)\n",
    "\n",
    "def solve_lyapunov_cov(M: Matrix, C: Matrix, p: int) -> Matrix:\n",
    "    Sigma = MatrixSymbol(\"Sigma\", p, p).as_explicit()\n",
    "    Sigma_solved = solve(M*Sigma + Sigma*M.T + C, Sigma)\n",
    "    scheme = [[Sigma_solved[Sigma[i,j]] for i in range(p)] for j in range(p)]\n",
    "    Sigma_new = Matrix(scheme)\n",
    "    return Sigma_new\n",
    "\n",
    "def create_A_Sigma(cov: Matrix, p: int) -> Matrix:\n",
    "    row_num = num_sym(p=p)\n",
    "    col_num = int(p * p)\n",
    "    A_Sigma = MatrixSymbol(\"A\", row_num, col_num).as_mutable()\n",
    "    for l in range(p):\n",
    "        for k in range(l+1):\n",
    "            for i in range(p):\n",
    "                for j in range(p):\n",
    "                    if (j != k) & (j != l):\n",
    "                        A_Sigma[(k * p) + (l - num_sym(p=k)), i * p + j] = 0\n",
    "                    elif (j == k) & (k != l):\n",
    "                        A_Sigma[(k * p) + (l - num_sym(p=k)), i * p + j] = cov[l, i]\n",
    "                    elif (j == l) & (l != k):\n",
    "                        A_Sigma[(k * p) + (l - num_sym(p=k)), i * p + j] = cov[k, i]\n",
    "                    elif (j == k) & (j == l):\n",
    "                        A_Sigma[(k * p) + (l - num_sym(p=k)), i * p + j] = 2 * cov[j, i]\n",
    "    return A_Sigma\n",
    "\n",
    "def create_A(A_Sigma: Matrix, mean: Matrix, p: int) -> Matrix:\n",
    "    identity = mean[0] * eye(p)\n",
    "    for i in range(1, p):\n",
    "        identity = Matrix.hstack(identity, mean[i] * eye(p))\n",
    "    return Matrix.vstack(A_Sigma, identity)\n",
    "\n",
    "def create_c(vech_C: Matrix, b: float, index: int, p: int) -> Matrix:\n",
    "    unit_vector = eye(p).col(index)\n",
    "    return Matrix. vstack(vech_C, - b * unit_vector)"
   ]
  },
  {
   "cell_type": "markdown",
   "metadata": {},
   "source": [
    "## Test 1\n",
    "1000 true matrices $M^*$ $\\to$ estimate $\\hat{M}$ by deleting each one of the five equations once.\n",
    "\n",
    "This gives 5000 estimates, save them and also their Frobenius distance to the true $M^*$ and the determinante of the corresponding $A$."
   ]
  },
  {
   "cell_type": "code",
   "execution_count": 2,
   "metadata": {},
   "outputs": [],
   "source": [
    "p = 2\n",
    "num_eq = num_sym(p=p) + p\n",
    "num_seed = 1000\n",
    "d = 0.9 # Probability of edges in graph\n",
    "\n",
    "m11, m12 = symbols('m11'), symbols('m12')\n",
    "m21, m22 = symbols('m21'), symbols('m22')\n",
    "M = Matrix([[m11, m12], [m21, m22]])\n",
    "\n",
    "C = 2 * eye(p) # volatility matrix\n",
    "\n",
    "vec_M = Matrix([[M[j, i]] for i in range(p) for j in range(p)]) # j faster than i\n",
    "vech_C = Matrix([[C[i, j]] for i in range(p) for j in range(i, p)])\n",
    "\n",
    "# Intervention\n",
    "index_intervention = 1\n",
    "b = 1\n",
    "unit_v = eye(p).col(index_intervention)\n",
    "\n",
    "estimates_2nodes_test1 = np.empty(shape=(num_seed, num_eq), dtype=object)\n",
    "statistics_2nodes_test1 = np.empty(shape=(num_seed*num_eq, 2), dtype=float)\n",
    "\n",
    "for index in range(num_eq):\n",
    "    for seed in range(1, num_seed + 1):\n",
    "        index_deletion = index\n",
    "        np.random.seed(seed=seed)\n",
    "\n",
    "        bernoulli_matrix = np.random.binomial(1, d, (p, p))\n",
    "        normal_matrix = np.random.normal(0, 1, (p, p))\n",
    "\n",
    "        temp_M = bernoulli_matrix * normal_matrix\n",
    "        for i in range(p): # adjust diagonal entries s.t. M stable\n",
    "            row_sum = np.sum(np.abs(temp_M[i, :])) - np.abs(temp_M[i, i])\n",
    "            temp_M[i, i] = - row_sum - np.abs(normal_matrix[i,i])\n",
    "\n",
    "        concrete_M = Matrix(temp_M)\n",
    "\n",
    "        cov = solve_lyapunov_cov(M=concrete_M, C=C, p=p)\n",
    "        mean = b * concrete_M.inv() * unit_v\n",
    "\n",
    "        A_Sigma = create_A_Sigma(cov=cov, p=p)\n",
    "        A = create_A(A_Sigma=A_Sigma, mean=mean, p=p)\n",
    "\n",
    "        c = create_c(vech_C=vech_C, b=b, index=index_intervention, p=p)\n",
    "\n",
    "        A.row_del(index_deletion)\n",
    "        c.row_del(index_deletion)\n",
    "        temp = A * vec_M + c\n",
    "\n",
    "        det_A = det(A)\n",
    "\n",
    "        if det_A != 0:\n",
    "            # M_est = M.subs(solve(A * vec_M + c, vec_M))\n",
    "            M_est = M.subs(solve(temp, vec_M))\n",
    "            M_est_np = matrix2numpy(M_est).astype(float)\n",
    "            M_true = matrix2numpy(concrete_M).astype(float)\n",
    "            frob = np.linalg.norm(M_est_np - M_true)\n",
    "\n",
    "            estimates_2nodes_test1[seed - 1, index] = M_est_np.round(3)\n",
    "            statistics_2nodes_test1[num_seed * index + (seed - 1), 0] = det_A\n",
    "            statistics_2nodes_test1[num_seed * index + (seed - 1), 1] = frob\n",
    "        else:\n",
    "            statistics_2nodes_test1[num_seed * index + (seed - 1), 0] = det_A\n",
    "            statistics_2nodes_test1[num_seed * index + (seed - 1), 1] = 0.0"
   ]
  },
  {
   "cell_type": "markdown",
   "metadata": {},
   "source": [
    "How many times was the estimate not unique? In total 27 times not unique with $\\text{det}(A)=0$."
   ]
  },
  {
   "cell_type": "code",
   "execution_count": 3,
   "metadata": {},
   "outputs": [
    {
     "data": {
      "image/png": "[encoded data removed]",
      "text/latex": [
       "$\\displaystyle 27$"
      ],
      "text/plain": [
       "27"
      ]
     },
     "execution_count": 3,
     "metadata": {},
     "output_type": "execute_result"
    }
   ],
   "source": [
    "(num_eq * num_seed) - np.count_nonzero(statistics_2nodes_test1[:, 0])"
   ]
  },
  {
   "cell_type": "markdown",
   "metadata": {},
   "source": [
    "By looking at the data, we see that this happened in rows indexed by 86, 212, 540, 545, 566, 575, 660, 891 and 892 and always for deleting rows 1, 2 and 4 from the equations, not for rows 3 and 5."
   ]
  },
  {
   "cell_type": "code",
   "execution_count": 4,
   "metadata": {},
   "outputs": [],
   "source": [
    "unique_estimates_2nodes_test1 = np.delete(estimates_2nodes_test1, [86, 212, 540, 545, 566, 575, 660, 891, 892], axis=0)"
   ]
  },
  {
   "cell_type": "markdown",
   "metadata": {},
   "source": [
    "Are the estimates for the same true matrix $M^*$ always the same? Yes, they are!"
   ]
  },
  {
   "cell_type": "code",
   "execution_count": 5,
   "metadata": {},
   "outputs": [],
   "source": [
    "for seed in range(len(unique_estimates_2nodes_test1)):\n",
    "    diff_0_1 = np.linalg.norm(unique_estimates_2nodes_test1[seed, 0] - unique_estimates_2nodes_test1[seed, 1])\n",
    "    diff_0_2 = np.linalg.norm(unique_estimates_2nodes_test1[seed, 0] - unique_estimates_2nodes_test1[seed, 2])\n",
    "    diff_0_3 = np.linalg.norm(unique_estimates_2nodes_test1[seed, 0] - unique_estimates_2nodes_test1[seed, 3])\n",
    "    diff_0_4 = np.linalg.norm(unique_estimates_2nodes_test1[seed, 0] - unique_estimates_2nodes_test1[seed, 4])\n",
    "    diff_1_2 = np.linalg.norm(unique_estimates_2nodes_test1[seed, 1] - unique_estimates_2nodes_test1[seed, 2])\n",
    "    diff_1_3 = np.linalg.norm(unique_estimates_2nodes_test1[seed, 1] - unique_estimates_2nodes_test1[seed, 3])\n",
    "    diff_1_4 = np.linalg.norm(unique_estimates_2nodes_test1[seed, 1] - unique_estimates_2nodes_test1[seed, 4])\n",
    "    diff_2_3 = np.linalg.norm(unique_estimates_2nodes_test1[seed, 2] - unique_estimates_2nodes_test1[seed, 3])\n",
    "    diff_2_4 = np.linalg.norm(unique_estimates_2nodes_test1[seed, 2] - unique_estimates_2nodes_test1[seed, 4])\n",
    "    diff_3_4 = np.linalg.norm(unique_estimates_2nodes_test1[seed, 3] - unique_estimates_2nodes_test1[seed, 4])\n",
    "    if diff_0_1 != 0:\n",
    "        print(\"Matrizen 1 und 2 sind ungleich bei \", seed)\n",
    "        continue\n",
    "    elif diff_0_2 != 0:\n",
    "        print(\"Matrizen 1 und 3 sind ungleich bei \", seed)\n",
    "        continue\n",
    "    elif diff_0_2 != 0:\n",
    "        print(\"Matrizen 1 und 3 sind ungleich bei \", seed)\n",
    "        continue\n",
    "    elif diff_0_3 != 0:\n",
    "        print(\"Matrizen 1 und 4 sind ungleich bei \", seed)\n",
    "        continue\n",
    "    elif diff_0_4 != 0:\n",
    "        print(\"Matrizen 1 und 5 sind ungleich bei \", seed)\n",
    "        continue\n",
    "    elif diff_1_2 != 0:\n",
    "        print(\"Matrizen 2 und 3 sind ungleich bei \", seed)\n",
    "        continue\n",
    "    elif diff_1_3 != 0:\n",
    "        print(\"Matrizen 2 und 4 sind ungleich bei \", seed)\n",
    "        continue\n",
    "    elif diff_1_4 != 0:\n",
    "        print(\"Matrizen 2 und 5 sind ungleich bei \", seed)\n",
    "        continue\n",
    "    elif diff_2_3 != 0:\n",
    "        print(\"Matrizen 3 und 4 sind ungleich bei \", seed)\n",
    "        continue\n",
    "    elif diff_2_4 != 0:\n",
    "        print(\"Matrizen 3 und 5 sind ungleich bei \", seed)\n",
    "        continue\n",
    "    elif diff_3_4 != 0:\n",
    "        print(\"Matrizen 4 und 5 sind ungleich bei \", seed)\n",
    "        continue"
   ]
  },
  {
   "cell_type": "markdown",
   "metadata": {},
   "source": [
    "## Test 2\n",
    "How do the matrices $M^*$ that did not produce unique solutions look like? They all have 0 next to the diagonale."
   ]
  },
  {
   "cell_type": "code",
   "execution_count": 6,
   "metadata": {},
   "outputs": [
    {
     "data": {
      "image/png": "[encoded data removed]",
      "text/latex": [
       "$\\displaystyle \\left[\\begin{matrix}1.65094992485558 & 0 & 0 & 0\\\\0 & 0.825474962427791 & 1.51228710790569 & 0\\\\0 & 0 & 0 & 3.02457421581138\\end{matrix}\\right]$"
      ],
      "text/plain": [
       "⎡1.65094992485558          0                 0                 0        ⎤\n",
       "⎢                                                                       ⎥\n",
       "⎢       0          0.825474962427791  1.51228710790569         0        ⎥\n",
       "⎢                                                                       ⎥\n",
       "⎣       0                  0                 0          3.02457421581138⎦"
      ]
     },
     "execution_count": 6,
     "metadata": {},
     "output_type": "execute_result"
    }
   ],
   "source": [
    "np.random.seed(seed=541)\n",
    "\n",
    "bernoulli_matrix = np.random.binomial(1, d, (p, p))\n",
    "normal_matrix = np.random.normal(0, 1, (p, p))\n",
    "\n",
    "temp_M = bernoulli_matrix * normal_matrix\n",
    "for i in range(p): # adjust diagonal entries s.t. M stable\n",
    "    row_sum = np.sum(np.abs(temp_M[i, :])) - np.abs(temp_M[i, i])\n",
    "    temp_M[i, i] = - row_sum - np.abs(normal_matrix[i,i])\n",
    "\n",
    "concrete_M = Matrix(temp_M)\n",
    "\n",
    "cov = solve_lyapunov_cov(M=concrete_M, C=C, p=p)\n",
    "mean = b * concrete_M.inv() * unit_v\n",
    "\n",
    "A_Sigma = create_A_Sigma(cov=cov, p=p)\n",
    "A = create_A(A_Sigma=A_Sigma, mean=mean, p=p)\n",
    "\n",
    "A_Sigma"
   ]
  },
  {
   "cell_type": "markdown",
   "metadata": {},
   "source": [
    "## Test 3\n",
    "How is the goodness of fit for this estimation technique? Generate 10000 instances of a true matrix $M^*$, choose randomly which equation to eliminate, estimate $\\hat{M}$ and calculate the frobenius distance to the true $M^*$."
   ]
  },
  {
   "cell_type": "code",
   "execution_count": 7,
   "metadata": {},
   "outputs": [],
   "source": [
    "frob_2nodes_test3 = np.empty(shape=(10000), dtype=float)\n",
    "\n",
    "for seed in range(1, 10001):\n",
    "    index_deletion = 2 + 2 * np.random.binomial(n=1, p=0.5) # always delete 3 or 5 -> get solution.\n",
    "    np.random.seed(seed=seed)\n",
    "\n",
    "    bernoulli_matrix = np.random.binomial(1, d, (p, p))\n",
    "    normal_matrix = np.random.normal(0, 1, (p, p))\n",
    "\n",
    "    temp_M = bernoulli_matrix * normal_matrix\n",
    "    for i in range(p): # adjust diagonal entries s.t. M stable\n",
    "        row_sum = np.sum(np.abs(temp_M[i, :])) - np.abs(temp_M[i, i])\n",
    "        temp_M[i, i] = - row_sum - np.abs(normal_matrix[i,i])\n",
    "\n",
    "    concrete_M = Matrix(temp_M)\n",
    "\n",
    "    cov = solve_lyapunov_cov(M=concrete_M, C=C, p=p)\n",
    "    mean = b * concrete_M.inv() * unit_v\n",
    "\n",
    "    A_Sigma = create_A_Sigma(cov=cov, p=p)\n",
    "    A = create_A(A_Sigma=A_Sigma, mean=mean, p=p)\n",
    "\n",
    "    c = create_c(vech_C=vech_C, b=b, index=index_intervention, p=p)\n",
    "\n",
    "    A.row_del(index_deletion)\n",
    "    c.row_del(index_deletion)\n",
    "    temp = A * vec_M + c\n",
    "\n",
    "    M_est = M.subs(solve(temp, vec_M))\n",
    "    M_est_np = matrix2numpy(M_est).astype(float)\n",
    "    M_true = matrix2numpy(concrete_M).astype(float)\n",
    "    frob_2nodes_test3[seed-1] = np.linalg.norm(M_est_np - M_true)\n"
   ]
  },
  {
   "cell_type": "code",
   "execution_count": 8,
   "metadata": {},
   "outputs": [
    {
     "data": {
      "image/png": "[encoded data removed]",
      "text/latex": [
       "$\\displaystyle 1.41749810442406 \\cdot 10^{-14}$"
      ],
      "text/plain": [
       "np.float64(1.4174981044240623e-14)"
      ]
     },
     "execution_count": 8,
     "metadata": {},
     "output_type": "execute_result"
    }
   ],
   "source": [
    "np.mean(frob_2nodes_test3)"
   ]
  },
  {
   "cell_type": "markdown",
   "metadata": {},
   "source": [
    "## Test 4\n",
    "The same as test 1 but this time check if $\\texttt{solve}$ gives a solution, not for $\\text{det}(A) = 0$."
   ]
  },
  {
   "cell_type": "code",
   "execution_count": null,
   "metadata": {},
   "outputs": [],
   "source": [
    "estimates_2nodes_test4 = np.empty(shape=(num_seed, num_eq), dtype=object)\n",
    "statistics_2nodes_test4 = np.empty(shape=(num_seed*num_eq, 3), dtype=float)\n",
    "\n",
    "for index in range(num_eq):\n",
    "    for seed in range(1, num_seed + 1):\n",
    "        index_deletion = index\n",
    "        np.random.seed(seed=seed)\n",
    "\n",
    "        bernoulli_matrix = np.random.binomial(1, d, (p, p))\n",
    "        normal_matrix = np.random.normal(0, 1, (p, p))\n",
    "\n",
    "        temp_M = bernoulli_matrix * normal_matrix\n",
    "        for i in range(p): # adjust diagonal entries s.t. M stable\n",
    "            row_sum = np.sum(np.abs(temp_M[i, :])) - np.abs(temp_M[i, i])\n",
    "            temp_M[i, i] = - row_sum - np.abs(normal_matrix[i,i])\n",
    "\n",
    "        concrete_M = Matrix(temp_M)\n",
    "\n",
    "        cov = solve_lyapunov_cov(M=concrete_M, C=C, p=p)\n",
    "        mean = b * concrete_M.inv() * unit_v\n",
    "\n",
    "        A_Sigma = create_A_Sigma(cov=cov, p=p)\n",
    "        A = create_A(A_Sigma=A_Sigma, mean=mean, p=p)\n",
    "\n",
    "        c = create_c(vech_C=vech_C, b=b, index=index_intervention, p=p)\n",
    "\n",
    "        A.row_del(index_deletion)\n",
    "        c.row_del(index_deletion)\n",
    "        temp = A * vec_M + c\n",
    "\n",
    "        det_A = det(A)\n",
    "        solution = solve(temp, vec_M)\n",
    "\n",
    "        if solution:\n",
    "            M_est = M.subs(solution)\n",
    "            M_est_np = matrix2numpy(M_est).astype(float)\n",
    "            M_true = matrix2numpy(concrete_M).astype(float)\n",
    "            frob = np.linalg.norm(M_est_np - M_true)\n",
    "\n",
    "            estimates_2nodes_test4[seed - 1, index] = M_est_np.round(3)\n",
    "            statistics_2nodes_test4[num_seed * index + (seed - 1), 0] = det_A\n",
    "            statistics_2nodes_test4[num_seed * index + (seed - 1), 1] = frob\n",
    "            statistics_2nodes_test4[num_seed * index + (seed - 1), 2] = 1\n",
    "        else:\n",
    "            statistics_2nodes_test4[num_seed * index + (seed - 1), 0] = det_A\n",
    "            statistics_2nodes_test4[num_seed * index + (seed - 1), 1] = 0.0\n",
    "            statistics_2nodes_test4[num_seed * index + (seed - 1), 2] = 0"
   ]
  }
 ],
 "metadata": {
  "kernelspec": {
   "display_name": ".venv",
   "language": "python",
   "name": "python3"
  },
  "language_info": {
   "codemirror_mode": {
    "name": "ipython",
    "version": 3
   },
   "file_extension": ".py",
   "mimetype": "text/x-python",
   "name": "python",
   "nbconvert_exporter": "python",
   "pygments_lexer": "ipython3",
   "version": "3.12.3"
  }
 },
 "nbformat": 4,
 "nbformat_minor": 2
}
