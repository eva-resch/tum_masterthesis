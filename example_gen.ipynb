{
 "cells": [
  {
   "cell_type": "code",
   "execution_count": 1,
   "metadata": {},
   "outputs": [],
   "source": [
    "import numpy as np\n",
    "from sympy import *\n",
    "from sympy.solvers import solve\n",
    "init_printing(use_unicode=True)"
   ]
  },
  {
   "cell_type": "markdown",
   "metadata": {},
   "source": [
    "## Functions\n"
   ]
  },
  {
   "cell_type": "code",
   "execution_count": 2,
   "metadata": {},
   "outputs": [],
   "source": [
    "def num_sym(p: int) -> int:\n",
    "    return int(p * (p + 1) / 2)"
   ]
  },
  {
   "cell_type": "markdown",
   "metadata": {},
   "source": [
    "### Solve the Lyapunov equation for $\\Sigma$"
   ]
  },
  {
   "cell_type": "code",
   "execution_count": 3,
   "metadata": {},
   "outputs": [],
   "source": [
    "def solve_lyapunov_cov(M: Matrix, C: Matrix, p: int) -> Matrix:\n",
    "    Sigma = MatrixSymbol(\"Sigma\", p, p).as_explicit()\n",
    "    Sigma_solved = solve(M*Sigma + Sigma*M.T + C, Sigma)\n",
    "    scheme = [[Sigma_solved[Sigma[i,j]] for i in range(p)] for j in range(p)]\n",
    "    Sigma_new = Matrix(scheme)\n",
    "    return Sigma_new"
   ]
  },
  {
   "cell_type": "markdown",
   "metadata": {},
   "source": [
    "### Create $A(\\Sigma)$\n",
    "\n",
    "The column indices $i \\to j$ are translated to single numbers by $p*i + j$ with $p= |V|$. The row indices $(k,l)$ with $k\\leq l$ are translated to single numbers by $k * p + \\left( l - \\frac{k(k+1)}{2}\\right).$"
   ]
  },
  {
   "cell_type": "code",
   "execution_count": 4,
   "metadata": {},
   "outputs": [],
   "source": [
    "def create_A_Sigma(cov: Matrix, p: int) -> Matrix:\n",
    "    row_num = num_sym(p=p)\n",
    "    col_num = int(p * p)\n",
    "    A_Sigma = MatrixSymbol(\"A\", row_num, col_num).as_mutable()\n",
    "    for l in range(p):\n",
    "        for k in range(l+1):\n",
    "            for i in range(p):\n",
    "                for j in range(p):\n",
    "                    if (j != k) & (j != l):\n",
    "                        A_Sigma[(k * p) + (l - num_sym(p=k)), i * p + j] = 0\n",
    "                    elif (j == k) & (k != l):\n",
    "                        A_Sigma[(k * p) + (l - num_sym(p=k)), i * p + j] = cov[l, i]\n",
    "                    elif (j == l) & (l != k):\n",
    "                        A_Sigma[(k * p) + (l - num_sym(p=k)), i * p + j] = cov[k, i]\n",
    "                    elif (j == k) & (j == l):\n",
    "                        A_Sigma[(k * p) + (l - num_sym(p=k)), i * p + j] = 2 * cov[j, i]\n",
    "    return A_Sigma"
   ]
  },
  {
   "cell_type": "markdown",
   "metadata": {},
   "source": [
    "Add the identity matrices multiplied by the mean."
   ]
  },
  {
   "cell_type": "code",
   "execution_count": 5,
   "metadata": {},
   "outputs": [],
   "source": [
    "def create_A(A_Sigma: Matrix, mean: Matrix, p: int) -> Matrix:\n",
    "    identity = mean[0] * eye(p)\n",
    "    for i in range(1, p):\n",
    "        identity = Matrix.hstack(identity, mean[i] * eye(p))\n",
    "    return Matrix.vstack(A_Sigma, identity)"
   ]
  },
  {
   "cell_type": "markdown",
   "metadata": {},
   "source": [
    "Add the unit vector multiplied by the negative scalar of the shift intervention to $\\text{vech}(C)$."
   ]
  },
  {
   "cell_type": "code",
   "execution_count": 35,
   "metadata": {},
   "outputs": [],
   "source": [
    "def create_c(vech_C: Matrix, b: float, index: int, p: int) -> Matrix:\n",
    "    unit_vector = eye(p).col(index)\n",
    "    return Matrix. vstack(vech_C, - b * unit_vector)"
   ]
  },
  {
   "cell_type": "markdown",
   "metadata": {},
   "source": [
    "## General settings\n",
    "General variables"
   ]
  },
  {
   "cell_type": "code",
   "execution_count": 6,
   "metadata": {},
   "outputs": [],
   "source": [
    "# Number of nodes p=|V|\n",
    "p = 3"
   ]
  },
  {
   "cell_type": "code",
   "execution_count": 37,
   "metadata": {},
   "outputs": [],
   "source": [
    "Sigma = MatrixSymbol(\"Sigma\", p, p).as_mutable()\n",
    "cov = Matrix(p, p, lambda i, j: Sigma[min(i,j),max(i,j)])\n",
    "\n",
    "m11, m12, m13, m14, m15 = symbols('m11'), symbols('m12'), symbols('m13'), symbols('m14'), symbols('m15')\n",
    "m21, m22, m23, m24, m25 = symbols('m21'), symbols('m22'), symbols('m23'), symbols('m24'), symbols('m25')\n",
    "m31, m32, m33, m34, m35 = symbols('m31'), symbols('m32'), symbols('m33'), symbols('m34'), symbols('m35')\n",
    "m41, m42, m43, m44, m45 = symbols('m41'), symbols('m42'), symbols('m43'), symbols('m44'), symbols('m45')\n",
    "m51, m52, m53, m54, m55 = symbols('m51'), symbols('m52'), symbols('m53'), symbols('m54'), symbols('m55')\n",
    "\n",
    "M_2 = Matrix([[m11, m12], [m21, m22]])\n",
    "M_3 = Matrix([[m11, m12, m13], [m21, m22, m23], [m31, m32, m33]])\n",
    "M_4 = Matrix([[m11, m12, m13, m14], [m21, m22, m23, m24], [m31, m32, m33, m34], [m41, m42, m43, m44]])\n",
    "M_5 = Matrix([[m11, m12, m13, m14, m15], [m21, m22, m23, m24, m25], [m31, m32, m33, m34, m35], [m41, m42, m43, m44, m45], [m51, m52, m53, m54, m55]])\n",
    "\n",
    "mean_2 = Matrix([[2], [1]])\n",
    "mean_3 = Matrix([[3], [1], [4]])\n",
    "#mean_3 = Matrix([[2], [1], [4]])\n",
    "mean_4 = Matrix([[1], [3], [6], [2]])\n",
    "mean_5 = Matrix([[1], [3], [5], [2], [5]])\n"
   ]
  },
  {
   "cell_type": "markdown",
   "metadata": {},
   "source": [
    "Fixed values"
   ]
  },
  {
   "cell_type": "code",
   "execution_count": 38,
   "metadata": {},
   "outputs": [],
   "source": [
    "# Volatility matrix C\n",
    "C = 2 * eye(p)\n",
    "\n",
    "# Index of shift intervention\n",
    "index = 0\n",
    "# Parameter of shift intervention\n",
    "b = 2\n",
    "# Corresponding unit vector\n",
    "unit_v = eye(p).col(index)\n",
    "\n",
    "# Probability of edges in graph\n",
    "k = p - 1\n",
    "d = min(k / p + 0.1, 1)"
   ]
  },
  {
   "cell_type": "markdown",
   "metadata": {},
   "source": [
    "Dependent on $p$"
   ]
  },
  {
   "cell_type": "code",
   "execution_count": 39,
   "metadata": {},
   "outputs": [],
   "source": [
    "# !!! change this for p !!!\n",
    "# ----------------------------------------------\n",
    "M = M_3\n",
    "mean = mean_3"
   ]
  },
  {
   "cell_type": "markdown",
   "metadata": {},
   "source": [
    "## Approach with $A(\\Sigma)$\n",
    "### From $M$, $C$, $b$, $i$, $p$ construct $\\Sigma$, $\\mu$\n",
    "First, let us generate a random stable matrix $M$."
   ]
  },
  {
   "cell_type": "code",
   "execution_count": 40,
   "metadata": {},
   "outputs": [],
   "source": [
    "np.random.seed(1211)\n",
    "\n",
    "# Bernoulli distribution with prob p=d,\n",
    "# determines which entries are 0 (no edge)\n",
    "bernoulli_matrix = np.random.binomial(1, d, (p, p))\n",
    "# Standard Gaussian distribution N(0,1)\n",
    "normal_matrix = np.random.normal(0, 1, (p, p))\n",
    "\n",
    "temp_M = bernoulli_matrix * normal_matrix\n",
    "# Adjust diagonal entries s.t. M stable\n",
    "for i in range(p):\n",
    "    row_sum = np.sum(np.abs(temp_M[i, :])) - np.abs(temp_M[i, i])\n",
    "    temp_M[i, i] = - row_sum - np.abs(normal_matrix[i,i])\n",
    "\n",
    "concrete_M = Matrix(temp_M)"
   ]
  },
  {
   "cell_type": "markdown",
   "metadata": {},
   "source": [
    "Now, we find the corresponding covariance matrix $\\Sigma$ by solving the Lyapunov equation with $M$ and $C$ for $\\Sigma$ and the mean corresponding to a shift intervention on node $i$ with scalar $b$ by setting\n",
    "$$\\mu = b \\cdot M^{-1} e_i.$$"
   ]
  },
  {
   "cell_type": "code",
   "execution_count": 41,
   "metadata": {},
   "outputs": [],
   "source": [
    "cov = solve_lyapunov_cov(M=concrete_M, C=C, p=p)\n",
    "mean = b * concrete_M.inv() * unit_v"
   ]
  },
  {
   "cell_type": "markdown",
   "metadata": {},
   "source": [
    "### Estimate $M$ from $\\Sigma$, $C$, $\\mu$, $b$, $i$, $p$"
   ]
  },
  {
   "cell_type": "code",
   "execution_count": 42,
   "metadata": {},
   "outputs": [],
   "source": [
    "vec_M = Matrix([[M[j, i]] for i in range(p) for j in range(p)]) # j faster than i\n",
    "vech_C = Matrix([[C[i, j]] for i in range(p) for j in range(i, p)])\n",
    "\n",
    "A_Sigma = create_A_Sigma(cov=cov, p=p)\n",
    "A = create_A(A_Sigma=A_Sigma, mean=mean, p=p)\n",
    "\n",
    "c = create_c(vech_C=vech_C, b=b, index=index, p=p)"
   ]
  },
  {
   "cell_type": "code",
   "execution_count": 43,
   "metadata": {},
   "outputs": [],
   "source": [
    "M_est = M.subs(solve(A * vec_M + c, vec_M))"
   ]
  },
  {
   "cell_type": "code",
   "execution_count": 45,
   "metadata": {},
   "outputs": [
    {
     "data": {
      "image/png": "[encoded data removed]",
      "text/latex": [
       "$\\displaystyle 5.17204259054647 \\cdot 10^{-18}$"
      ],
      "text/plain": [
       "5.17204259054647e-18"
      ]
     },
     "execution_count": 45,
     "metadata": {},
     "output_type": "execute_result"
    }
   ],
   "source": [
    "det(A)"
   ]
  },
  {
   "cell_type": "code",
   "execution_count": 46,
   "metadata": {},
   "outputs": [
    {
     "data": {
      "image/png": "[encoded data removed]",
      "text/latex": [
       "$\\displaystyle \\left[\\begin{matrix}-0.932286021789985 & -20.1616817579986 & 1.88631733346161\\\\15.2713574111764 & -10.9624506136644 & 89.7009904128527\\\\2.52775595291194 & -54.6984810361397 & 6.9001274641027\\end{matrix}\\right]$"
      ],
      "text/plain": [
       "⎡-0.932286021789985  -20.1616817579986  1.88631733346161⎤\n",
       "⎢                                                       ⎥\n",
       "⎢ 15.2713574111764   -10.9624506136644  89.7009904128527⎥\n",
       "⎢                                                       ⎥\n",
       "⎣ 2.52775595291194   -54.6984810361397  6.9001274641027 ⎦"
      ]
     },
     "execution_count": 46,
     "metadata": {},
     "output_type": "execute_result"
    }
   ],
   "source": [
    "M_est"
   ]
  },
  {
   "cell_type": "markdown",
   "metadata": {},
   "source": [
    "### Evaluate estimation\n",
    "Here we change from using sympy (matrices and number types) to using numpy (ndarrays and float)."
   ]
  },
  {
   "cell_type": "code",
   "execution_count": 47,
   "metadata": {},
   "outputs": [
    {
     "data": {
      "image/png": "[encoded data removed]",
      "text/latex": [
       "$\\displaystyle 109.315004815718$"
      ],
      "text/plain": [
       "np.float64(109.31500481571794)"
      ]
     },
     "execution_count": 47,
     "metadata": {},
     "output_type": "execute_result"
    }
   ],
   "source": [
    "M_est = matrix2numpy(M_est).astype(float)\n",
    "M_true = matrix2numpy(concrete_M).astype(float)\n",
    "frob = np.linalg.norm(M_est - M_true)\n",
    "frob"
   ]
  },
  {
   "cell_type": "markdown",
   "metadata": {},
   "source": [
    "### Testing of 2 nodes\n",
    "Since looking at all 5 equations (3 from Lyapunov, 2 from intervention) yielded a over-determined system of equations, we try different settings by deleting each one of the rows seperately and looking at the result obtained for only the Lyapunov equations."
   ]
  },
  {
   "cell_type": "code",
   "execution_count": null,
   "metadata": {},
   "outputs": [],
   "source": [
    "temp = A * vec_M + c\n",
    "temp.row_del(0)"
   ]
  },
  {
   "cell_type": "code",
   "execution_count": null,
   "metadata": {},
   "outputs": [],
   "source": [
    "M_est = M.subs(solve(A_Sigma * vec_M + vech_C, vec_M)) # only Lyapunov\n",
    "# M_est = M.subs(solve(temp, vec_M)) # deleting 1 row\n",
    "M_est"
   ]
  },
  {
   "cell_type": "markdown",
   "metadata": {},
   "source": [
    "What is the solution in case of $p=2$? Let us look at deleting rows from the equations.\n",
    "\n",
    "* Delete none: $\\left(\\begin{matrix}m_{11} & m_{12}\\\\m_{21} & m_{22}\\end{matrix}\\right)$, so all entries $m_{11}$, $m_{12}$, $m_{21}$ and $m_{22}$ free.\n",
    "* Delete 5: $\\left(\\begin{matrix}-0.660419 & -0.644847\\\\-1.564843 & -2.819894\\end{matrix}\\right)$, so concrete values for all entries.\n",
    "* Delete 4: $\\left(\\begin{matrix}-0.660419 & -0.644847\\\\-1.564843 & -2.819894\\end{matrix}\\right)$, so concrete values for all entries.\n",
    "* Delete 3: $\\left(\\begin{matrix}-0.660419 & -0.644847\\\\-1.564843 & -2.819894\\end{matrix}\\right)$, so concrete values for all entries.\n",
    "* Delete 2: $\\left(\\begin{matrix}-0.660419 & -0.644847\\\\-1.564843 & -2.819894\\end{matrix}\\right)$, so concrete values for all entries.\n",
    "* Delete 1: $\\left(\\begin{matrix}-0.660419 & -0.644847\\\\-1.564843 & -2.819894\\end{matrix}\\right)$, so concrete values for all entries.\n",
    "* Delete 4, 5: $\\left(\\begin{matrix}- m_{22} - 3.480313 & - 1.905703 m_{22} - 6.018726\\\\0.772567 m_{22} + 0.613715 & m_{22}\\end{matrix}\\right)$, so one entry, $m_{22}$ free.\n",
    "\n",
    "***Observation:*** It does not matter which row we delete, when deleting one row this always yields the same result."
   ]
  },
  {
   "cell_type": "markdown",
   "metadata": {},
   "source": [
    "## Possible graphs to consider"
   ]
  },
  {
   "cell_type": "markdown",
   "metadata": {},
   "source": [
    "### 2 nodes with a 2-cycle\n",
    "<div>\n",
    "<img src=\"graph1.png\" width=\"400\"/>\n",
    "</div>"
   ]
  },
  {
   "cell_type": "markdown",
   "metadata": {},
   "source": [
    "### 3 nodes with a 2-cycle and a 3-cycle\n",
    "<div>\n",
    "<img src=\"graph2.png\" width=\"400\"/>\n",
    "</div>"
   ]
  },
  {
   "cell_type": "code",
   "execution_count": null,
   "metadata": {},
   "outputs": [],
   "source": [
    "substitute = {m12: 0, m31: 0}\n",
    "# M.subs(substitute)"
   ]
  },
  {
   "cell_type": "markdown",
   "metadata": {},
   "source": [
    "### 3 nodes with a 2-cycle and connected by treks\n",
    "<div>\n",
    "<img src=\"graph3.png\" width=\"400\"/>\n",
    "</div>"
   ]
  },
  {
   "cell_type": "code",
   "execution_count": null,
   "metadata": {},
   "outputs": [],
   "source": [
    "substitute = {m12: 0, m13: 0}"
   ]
  },
  {
   "cell_type": "markdown",
   "metadata": {},
   "source": [
    "### 3 nodes with a 2-cycle and not connected by treks\n",
    "<div>\n",
    "<img src=\"graph4.png\" width=\"400\"/>\n",
    "</div>"
   ]
  },
  {
   "cell_type": "code",
   "execution_count": null,
   "metadata": {},
   "outputs": [],
   "source": [
    "substitute = {m12: 0, m13: 0, m31: 0}"
   ]
  },
  {
   "cell_type": "markdown",
   "metadata": {},
   "source": [
    "## Failed Approach: $M\\Sigma + \\Sigma M^\\top + C = 0$\n",
    "We tried to first adjust the matrix $M$ for the shift intervention and then solve the Lyapunov equation. This did not work since the adjustment was not thought correctly. We cannot set certain values of $M^{-1}$ to the corresponding values, this takes away information. We need to treat these equations as extra information that needs to go alongside the Lyapunov equation."
   ]
  },
  {
   "cell_type": "markdown",
   "metadata": {},
   "source": [
    "\n",
    "The functions used for this approach are the following:\n"
   ]
  },
  {
   "cell_type": "markdown",
   "metadata": {},
   "source": [
    "### Adjust $M$ after shift intervention\n",
    "\n",
    "Since we define the shift intervention on a node $i$ of the process $X(t)$ with mean zero to be described as\n",
    "$$dX^I(t) = (MX^I(t)-b_ie_i)dt+DdW(t) = M(X^I(t)-M^{-1}b_ie_i)dt+DdW(t)$$\n",
    "the new mean after the intervention has changed to be $\\mathbb{E}(X^I(t)) = M^{-1}b_ie_i$. Therefore, if we know the empirical mean of the process $X^I(t)$ after the shift intervention, we also know the $i$-th column of the inverse of the drift matrix $M$\n",
    "$$(M^{-1})_{\\cdot i} = M^{-1}e_i = \\frac{1}{b_i}\\mathbb{E}(X^I(t)).$$"
   ]
  },
  {
   "cell_type": "code",
   "execution_count": null,
   "metadata": {},
   "outputs": [],
   "source": [
    "'''def adjust_M(M: Matrix, col: int, b: float, emp_mean: Matrix, p: int) -> Matrix:\n",
    "    M_inv = M.inv()\n",
    "    for row in range(p):\n",
    "        M_inv[row, col] = (1 / b) * emp_mean[row]\n",
    "    return M_inv.inv()'''"
   ]
  },
  {
   "cell_type": "markdown",
   "metadata": {},
   "source": [
    "### Solve Lyapunov equation for $M$"
   ]
  },
  {
   "cell_type": "code",
   "execution_count": null,
   "metadata": {},
   "outputs": [],
   "source": [
    "def solve_lyapunov_M(Sigma: Matrix, C: Matrix, p: int) -> Matrix:\n",
    "    M = MatrixSymbol(\"M\", p, p).as_explicit()\n",
    "    M_solved = solve(M * Sigma + Sigma * M.T + C, M)\n",
    "    return M_solved"
   ]
  },
  {
   "cell_type": "markdown",
   "metadata": {},
   "source": [
    "Now let's accomodate shift interventions by first adjusting $M$ as seen below and then solving the Lyapunov equation.\n",
    "\n",
    "***Doubts:*** In which order do we set the constraints for M: first inverse then Lyapunov equation or the other way around? maybe it's better to work with $A(\\Sigma)$ and optimize directly?"
   ]
  },
  {
   "cell_type": "code",
   "execution_count": null,
   "metadata": {},
   "outputs": [],
   "source": [
    "'''def solve_lyapunov_M_interv(M: Matrix, Sigma: Matrix, C: Matrix, p: int, A: list[int], b: list[float], emp_mean: list[Matrix]) -> Matrix:\n",
    "    for index, col in enumerate(A):\n",
    "        M = adjust_M(M=M, col=col, b=b[index], emp_mean=emp_mean[index], p=p)\n",
    "    M_solved = solve(M * Sigma + Sigma * M.T + C, M)\n",
    "    return M_solved'''"
   ]
  },
  {
   "cell_type": "markdown",
   "metadata": {},
   "source": [
    "### 2 nodes with a 2-cycle\n",
    "<div>\n",
    "<img src=\"graph1.png\" width=\"400\"/>\n",
    "</div>"
   ]
  },
  {
   "cell_type": "markdown",
   "metadata": {},
   "source": [
    "Let's start by defining the drift matrix $M$ corresponding to the graph $G=(V,E)$ with nodes $V=\\{1,2\\}$ and edges $E=\\{1\\to 1, 1\\to 2, 2\\to 1, 2\\to 2\\}$."
   ]
  },
  {
   "cell_type": "code",
   "execution_count": null,
   "metadata": {},
   "outputs": [],
   "source": [
    "p = 2\n",
    "\n",
    "C = 2 * eye(p)\n",
    "cov = MatrixSymbol(\"Sigma\", p, p).as_explicit()\n",
    "\n",
    "m11 = symbols('m11')\n",
    "m12 = symbols('m12')\n",
    "m21 = symbols('m21')\n",
    "m22 = symbols('m22')\n",
    "\n",
    "b_1 = 2\n",
    "b_2 = 2\n",
    "\n",
    "emp_mean_1 = Matrix([[1], [1]])\n",
    "emp_mean_2 = Matrix([[1], [2]])\n",
    "\n",
    "M = Matrix([[m11, m12], [m21, m22]])"
   ]
  },
  {
   "cell_type": "code",
   "execution_count": null,
   "metadata": {},
   "outputs": [],
   "source": [
    "# Intervention on 1\n",
    "A = [0]\n",
    "b = [b_1]\n",
    "emp_mean = [emp_mean_1]\n",
    "\n",
    "M_est = solve_lyapunov_M_interv(M=M, Sigma=cov, C=C, p=p, A=A, b=b, emp_mean=emp_mean)\n",
    "M_est"
   ]
  },
  {
   "cell_type": "code",
   "execution_count": null,
   "metadata": {},
   "outputs": [],
   "source": [
    "# Intervention on 2\n",
    "A = [1]\n",
    "b = [b_2]\n",
    "emp_mean = [emp_mean_2]\n",
    "\n",
    "M_est = solve_lyapunov_M_interv(M=M, Sigma=cov, C=C, p=p, A=A, b=b, emp_mean=emp_mean)\n",
    "M_est"
   ]
  },
  {
   "cell_type": "markdown",
   "metadata": {},
   "source": [
    "### 3 nodes with a 2-cycle and a 3-cycle\n",
    "<div>\n",
    "<img src=\"graph2.png\" width=\"400\"/>\n",
    "</div>"
   ]
  },
  {
   "cell_type": "markdown",
   "metadata": {},
   "source": [
    "Let's start by defining the drift matrix $M$ corresponding to the graph $G=(V,E)$ with nodes $V=\\{1,2,3\\}$ and edges $E=\\{1\\to 1, 1\\to 2, 2\\to 2, 2\\to 3, 3\\to 1, 3\\to 2, 3\\to 3\\}$."
   ]
  },
  {
   "cell_type": "code",
   "execution_count": null,
   "metadata": {},
   "outputs": [],
   "source": [
    "# Eigenvalues are {-2.837, -2.151, -1.012} -> stable!\n",
    "\n",
    "substitute_zero = {m12: 0, m31: 0}\n",
    "M = M.subs(substitute_zero)\n",
    "\n",
    "# Find corresponding mean vectors\n",
    "emp_mean_1 = b_1 * (M.inv()).col(0)\n",
    "emp_mean_2 = b_2 * (M.inv()).col(1)\n",
    "emp_mean_3 = b_3 * (M.inv()).col(2)\n",
    "\n",
    "# Find corresponding covariance matrix\n",
    "cov = solve_lyapunov_cov(M=M, C=C, p=p)"
   ]
  },
  {
   "cell_type": "code",
   "execution_count": null,
   "metadata": {},
   "outputs": [],
   "source": [
    "# Intervention auf 1\n",
    "A = [0]\n",
    "b = [b_1]\n",
    "emp_mean = [emp_mean_1]\n",
    "M_est_1 = solve_lyapunov_M_interv(M=M_general, Sigma=cov, C=C, p=p , A=A, b=b, emp_mean=emp_mean)\n",
    "M_est_1\n",
    "\n",
    "# General case: not terminated after 5 min\n",
    "# Concrete numbers: not terminated after 5 min"
   ]
  },
  {
   "cell_type": "code",
   "execution_count": null,
   "metadata": {},
   "outputs": [],
   "source": [
    "# Intervention auf 2\n",
    "A = [1]\n",
    "b = [b_2]\n",
    "emp_mean = [emp_mean_2]\n",
    "M_est_2 = solve_lyapunov_M_interv(M=M, Sigma=cov, C=C, p=p , A=A, b=b, emp_mean=emp_mean)\n",
    "M_est_2\n",
    "\n",
    "# General case: not terminated after 5 min\n",
    "# Concrete numbers: not terminated after 3 min"
   ]
  },
  {
   "cell_type": "code",
   "execution_count": null,
   "metadata": {},
   "outputs": [],
   "source": [
    "# Intervention auf 3\n",
    "A = [2]\n",
    "b = [b_3]\n",
    "emp_mean = [emp_mean_3]\n",
    "M_est_3 = solve_lyapunov_M_interv(M=M, Sigma=cov, C=C, p=p , A=A, b=b, emp_mean=emp_mean)\n",
    "M_est_3\n",
    "\n",
    "# General case: not terminated after 5 min\n",
    "# Concrete numbers: not terminated after 2 min"
   ]
  },
  {
   "cell_type": "code",
   "execution_count": null,
   "metadata": {},
   "outputs": [],
   "source": [
    "# Intervention auf 1 und 2\n",
    "A = [0, 1]\n",
    "b = [b_1, b_2]\n",
    "emp_mean = [emp_mean_1, emp_mean_2]\n",
    "M_est_12 = solve_lyapunov_M_interv(M=M, Sigma=cov, C=C, p=p , A=A, b=b, emp_mean=emp_mean)\n",
    "M_est_12"
   ]
  },
  {
   "cell_type": "code",
   "execution_count": null,
   "metadata": {},
   "outputs": [],
   "source": [
    "# Intervention auf 1 und 3\n",
    "A = [0, 2]\n",
    "b = [b_1, b_3]\n",
    "emp_mean = [emp_mean_1, emp_mean_3]\n",
    "M_est_13 = solve_lyapunov_M_interv(M=M, Sigma=cov, C=C, p=p , A=A, b=b, emp_mean=emp_mean)\n",
    "M_est_13"
   ]
  },
  {
   "cell_type": "code",
   "execution_count": null,
   "metadata": {},
   "outputs": [],
   "source": [
    "# Intervention auf 2 und 3\n",
    "A = [1, 2]\n",
    "b = [b_2, b_3]\n",
    "emp_mean = [emp_mean_2, emp_mean_3]\n",
    "M_est_23 = solve_lyapunov_M_interv(M=M, Sigma=cov, C=C, p=p , A=A, b=b, emp_mean=emp_mean)\n",
    "M_est_23"
   ]
  },
  {
   "cell_type": "markdown",
   "metadata": {},
   "source": [
    "### 3 nodes with a 2-cycle and connected by treks\n",
    "<div>\n",
    "<img src=\"graph3.png\" width=\"400\"/>\n",
    "</div>"
   ]
  },
  {
   "cell_type": "markdown",
   "metadata": {},
   "source": [
    "Let's start by defining the drift matrix $M$ corresponding to the graph $G=(V,E)$ with nodes $V=\\{1,2,3\\}$ and edges $E=\\{1\\to 1, 1\\to 2, 1\\to 3, 2\\to 2, 2\\to 3, 3\\to 2, 3\\to 3\\}$."
   ]
  },
  {
   "cell_type": "code",
   "execution_count": null,
   "metadata": {},
   "outputs": [],
   "source": [
    "# Eigenvalues are {-2.687, -2.206, -1.108} -> stable!\n",
    "\n",
    "substitute_zero = {m12: 0, m13: 0}\n",
    "M = M.subs(substitute_zero)\n",
    "\n",
    "# Find corresponding mean vectors\n",
    "emp_mean_1 = b_1 * (M.inv()).col(0)\n",
    "emp_mean_2 = b_2 * (M.inv()).col(1)\n",
    "emp_mean_3 = b_3 * (M.inv()).col(2)\n",
    "\n",
    "# Find corresponding covariance matrix\n",
    "cov = solve_lyapunov_cov(M=M, C=C, p=p)"
   ]
  },
  {
   "cell_type": "code",
   "execution_count": null,
   "metadata": {},
   "outputs": [],
   "source": [
    "# Intervention auf 1\n",
    "A = [0]\n",
    "b = [b_1]\n",
    "emp_mean = [emp_mean_1]\n",
    "M_est_1 = solve_lyapunov_M_interv(M=M_general, Sigma=cov, C=C, p=p , A=A, b=b, emp_mean=emp_mean)\n",
    "M_est_1"
   ]
  },
  {
   "cell_type": "code",
   "execution_count": null,
   "metadata": {},
   "outputs": [],
   "source": [
    "# Intervention auf 2\n",
    "A = [1]\n",
    "b = [b_2]\n",
    "emp_mean = [emp_mean_2]\n",
    "M_est_2 = solve_lyapunov_M_interv(M=M, Sigma=cov, C=C, p=p , A=A, b=b, emp_mean=emp_mean)\n",
    "M_est_2"
   ]
  },
  {
   "cell_type": "code",
   "execution_count": null,
   "metadata": {},
   "outputs": [],
   "source": [
    "# Intervention auf 3\n",
    "A = [2]\n",
    "b = [b_3]\n",
    "emp_mean = [emp_mean_3]\n",
    "M_est_3 = solve_lyapunov_M_interv(M=M, Sigma=cov, C=C, p=p , A=A, b=b, emp_mean=emp_mean)\n",
    "M_est_3"
   ]
  },
  {
   "cell_type": "code",
   "execution_count": null,
   "metadata": {},
   "outputs": [],
   "source": [
    "# Intervention auf 1 und 2\n",
    "A = [0, 1]\n",
    "b = [b_1, b_2]\n",
    "emp_mean = [emp_mean_1, emp_mean_2]\n",
    "M_est_12 = solve_lyapunov_M_interv(M=M, Sigma=cov, C=C, p=p , A=A, b=b, emp_mean=emp_mean)\n",
    "M_est_12"
   ]
  },
  {
   "cell_type": "code",
   "execution_count": null,
   "metadata": {},
   "outputs": [],
   "source": [
    "# Intervention auf 1 und 3\n",
    "A = [0, 2]\n",
    "b = [b_1, b_3]\n",
    "emp_mean = [emp_mean_1, emp_mean_3]\n",
    "M_est_13 = solve_lyapunov_M_interv(M=M, Sigma=cov, C=C, p=p , A=A, b=b, emp_mean=emp_mean)\n",
    "M_est_13"
   ]
  },
  {
   "cell_type": "code",
   "execution_count": null,
   "metadata": {},
   "outputs": [],
   "source": [
    "# Intervention auf 2 und 3\n",
    "A = [1, 2]\n",
    "b = [b_2, b_3]\n",
    "emp_mean = [emp_mean_2, emp_mean_3]\n",
    "M_est_23 = solve_lyapunov_M_interv(M=M, Sigma=cov, C=C, p=p , A=A, b=b, emp_mean=emp_mean)\n",
    "M_est_23"
   ]
  },
  {
   "cell_type": "markdown",
   "metadata": {},
   "source": [
    "Kovarianzmatrix berechnen:\n",
    "* Ohne Intervention klappt nicht (Laufzeit >1 min und kein Ergebnis).\n",
    "* Intervention auf 1 klappt.\n",
    "* Intervention auf 2 klappt nicht (Laufzeit >1 min und kein Ergebnis).\n",
    "* Intervention auf 3 klappt nicht (Laufzeit >1 min und kein Ergebnis).\n",
    "* Intervention auf 1 und 2 klappt.\n",
    "* Intervention auf 1 und 3 klappt.\n",
    "* Intervention auf 2 und 3 klappt nicht (Laufzeit >1 min und kein Ergebnis).\n",
    "* Intervention auf 1, 2 und 3 klappt ($M$ eindeutig bestimmt)."
   ]
  },
  {
   "cell_type": "markdown",
   "metadata": {},
   "source": [
    "### 3 nodes with a 2-cycle and not connected by treks\n",
    "<div>\n",
    "<img src=\"graph4.png\" width=\"400\"/>\n",
    "</div>"
   ]
  },
  {
   "cell_type": "markdown",
   "metadata": {},
   "source": [
    "Let's start by defining the drift matrix $M$ corresponding to the graph $G=(V,E)$ with nodes $V=\\{1,2,3\\}$ and edges $E=\\{1\\to 1, 1\\to 2, 2\\to 2, 2\\to 3, 3\\to 2, 3\\to 3\\}$."
   ]
  },
  {
   "cell_type": "code",
   "execution_count": null,
   "metadata": {},
   "outputs": [],
   "source": [
    "# Eigenvalues are {-2.687, -2.206, -1.108} -> stable!\n",
    "\n",
    "substitute_zero = {m12: 0, m13: 0, m31: 0}\n",
    "M = M.subs(substitute_zero)\n",
    "\n",
    "# Find corresponding mean vectors\n",
    "emp_mean_1 = b_1 * (M.inv()).col(0)\n",
    "emp_mean_2 = b_2 * (M.inv()).col(1)\n",
    "emp_mean_3 = b_3 * (M.inv()).col(2)\n",
    "\n",
    "# Find corresponding covariance matrix\n",
    "cov = solve_lyapunov_cov(M=M, C=C, p=p)"
   ]
  },
  {
   "cell_type": "code",
   "execution_count": null,
   "metadata": {},
   "outputs": [],
   "source": [
    "# Intervention auf 1\n",
    "A = [0]\n",
    "b = [b_1]\n",
    "emp_mean = [emp_mean_1]\n",
    "M_est_1 = solve_lyapunov_M_interv(M=M_general, Sigma=cov, C=C, p=p , A=A, b=b, emp_mean=emp_mean)\n",
    "M_est_1"
   ]
  },
  {
   "cell_type": "code",
   "execution_count": null,
   "metadata": {},
   "outputs": [],
   "source": [
    "# Intervention auf 2\n",
    "A = [1]\n",
    "b = [b_2]\n",
    "emp_mean = [emp_mean_2]\n",
    "M_est_2 = solve_lyapunov_M_interv(M=M, Sigma=cov, C=C, p=p , A=A, b=b, emp_mean=emp_mean)\n",
    "M_est_2"
   ]
  },
  {
   "cell_type": "code",
   "execution_count": null,
   "metadata": {},
   "outputs": [],
   "source": [
    "# Intervention auf 3\n",
    "A = [2]\n",
    "b = [b_3]\n",
    "emp_mean = [emp_mean_3]\n",
    "M_est_3 = solve_lyapunov_M_interv(M=M, Sigma=cov, C=C, p=p , A=A, b=b, emp_mean=emp_mean)\n",
    "M_est_3"
   ]
  },
  {
   "cell_type": "code",
   "execution_count": null,
   "metadata": {},
   "outputs": [],
   "source": [
    "# Intervention auf 1 und 2\n",
    "A = [0, 1]\n",
    "b = [b_1, b_2]\n",
    "emp_mean = [emp_mean_1, emp_mean_2]\n",
    "M_est_12 = solve_lyapunov_M_interv(M=M, Sigma=cov, C=C, p=p , A=A, b=b, emp_mean=emp_mean)\n",
    "M_est_12"
   ]
  },
  {
   "cell_type": "code",
   "execution_count": null,
   "metadata": {},
   "outputs": [],
   "source": [
    "# Intervention auf 1 und 3\n",
    "A = [0, 2]\n",
    "b = [b_1, b_3]\n",
    "emp_mean = [emp_mean_1, emp_mean_3]\n",
    "M_est_13 = solve_lyapunov_M_interv(M=M, Sigma=cov, C=C, p=p , A=A, b=b, emp_mean=emp_mean)\n",
    "M_est_13"
   ]
  },
  {
   "cell_type": "code",
   "execution_count": null,
   "metadata": {},
   "outputs": [],
   "source": [
    "# Intervention auf 2 und 3\n",
    "A = [1, 2]\n",
    "b = [b_2, b_3]\n",
    "emp_mean = [emp_mean_2, emp_mean_3]\n",
    "M_est_23 = solve_lyapunov_M_interv(M=M, Sigma=cov, C=C, p=p , A=A, b=b, emp_mean=emp_mean)\n",
    "M_est_23"
   ]
  },
  {
   "cell_type": "markdown",
   "metadata": {},
   "source": [
    "Kovarianzmatrix berechnen:\n",
    "* Ohne Intervention klappt.\n",
    "* Intervention auf 1 klappt.\n",
    "* Intervention auf 2 klappt nicht (Laufzeit >1 min und kein Ergebnis).\n",
    "* Intervention auf 3 klappt.\n",
    "* Intervention auf 1 und 2 klappt.\n",
    "* Intervention auf 1 und 3 klappt.\n",
    "* Intervention auf 2 und 3 klappt nicht (Laufzeit >1 min und kein Ergebnis).\n",
    "* Intervention auf 1, 2 und 3 klappt ($M$ eindeutig bestimmt)."
   ]
  },
  {
   "cell_type": "markdown",
   "metadata": {},
   "source": [
    "## Determinant of augmented $A$"
   ]
  },
  {
   "cell_type": "code",
   "execution_count": 13,
   "metadata": {},
   "outputs": [],
   "source": [
    "Sigma = MatrixSymbol(\"Sigma\", p, p).as_mutable()\n",
    "cov = Matrix(p, p, lambda i, j: Sigma[min(i,j),max(i,j)])\n",
    "mean = MatrixSymbol(\"mu\", p, 1).as_mutable()"
   ]
  },
  {
   "cell_type": "code",
   "execution_count": 17,
   "metadata": {},
   "outputs": [
    {
     "data": {
      "text/plain": [
       "'$\\\\displaystyle \\\\left[\\\\begin{matrix}2 {\\\\Sigma}_{0,0} & 0 & 0 & 2 {\\\\Sigma}_{0,1} & 0 & 0 & 2 {\\\\Sigma}_{0,2} & 0 & 0\\\\\\\\{\\\\Sigma}_{0,1} & {\\\\Sigma}_{0,0} & 0 & {\\\\Sigma}_{1,1} & {\\\\Sigma}_{0,1} & 0 & {\\\\Sigma}_{1,2} & {\\\\Sigma}_{0,2} & 0\\\\\\\\{\\\\Sigma}_{0,2} & 0 & {\\\\Sigma}_{0,0} & {\\\\Sigma}_{1,2} & 0 & {\\\\Sigma}_{0,1} & {\\\\Sigma}_{2,2} & 0 & {\\\\Sigma}_{0,2}\\\\\\\\0 & 2 {\\\\Sigma}_{0,1} & 0 & 0 & 2 {\\\\Sigma}_{1,1} & 0 & 0 & 2 {\\\\Sigma}_{1,2} & 0\\\\\\\\0 & {\\\\Sigma}_{0,2} & {\\\\Sigma}_{0,1} & 0 & {\\\\Sigma}_{1,2} & {\\\\Sigma}_{1,1} & 0 & {\\\\Sigma}_{2,2} & {\\\\Sigma}_{1,2}\\\\\\\\0 & 0 & 2 {\\\\Sigma}_{0,2} & 0 & 0 & 2 {\\\\Sigma}_{1,2} & 0 & 0 & 2 {\\\\Sigma}_{2,2}\\\\\\\\{\\\\mu}_{0,0} & 0 & 0 & {\\\\mu}_{1,0} & 0 & 0 & {\\\\mu}_{2,0} & 0 & 0\\\\\\\\0 & {\\\\mu}_{0,0} & 0 & 0 & {\\\\mu}_{1,0} & 0 & 0 & {\\\\mu}_{2,0} & 0\\\\\\\\0 & 0 & {\\\\mu}_{0,0} & 0 & 0 & {\\\\mu}_{1,0} & 0 & 0 & {\\\\mu}_{2,0}\\\\end{matrix}\\\\right]$'"
      ]
     },
     "execution_count": 17,
     "metadata": {},
     "output_type": "execute_result"
    }
   ],
   "source": [
    "A_Sigma = create_A_Sigma(cov=cov, p=p)\n",
    "A = create_A(A_Sigma=A_Sigma, mean=mean, p=p)\n",
    "A._repr_latex_()"
   ]
  },
  {
   "cell_type": "code",
   "execution_count": 19,
   "metadata": {},
   "outputs": [
    {
     "data": {
      "image/png": "[encoded data removed]",
      "text/latex": [
       "$\\displaystyle \\left[\\begin{matrix}2 {\\Sigma}_{0,0} & 0 & 0 & 2 {\\Sigma}_{0,1} & 0 & 0 & 2 {\\Sigma}_{0,2} & 0 & 0\\\\{\\Sigma}_{0,1} & {\\Sigma}_{0,0} & 0 & {\\Sigma}_{1,1} & {\\Sigma}_{0,1} & 0 & {\\Sigma}_{1,2} & {\\Sigma}_{0,2} & 0\\\\{\\Sigma}_{0,2} & 0 & {\\Sigma}_{0,0} & {\\Sigma}_{1,2} & 0 & {\\Sigma}_{0,1} & {\\Sigma}_{2,2} & 0 & {\\Sigma}_{0,2}\\\\0 & 2 {\\Sigma}_{0,1} & 0 & 0 & 2 {\\Sigma}_{1,1} & 0 & 0 & 2 {\\Sigma}_{1,2} & 0\\\\0 & {\\Sigma}_{0,2} & {\\Sigma}_{0,1} & 0 & {\\Sigma}_{1,2} & {\\Sigma}_{1,1} & 0 & {\\Sigma}_{2,2} & {\\Sigma}_{1,2}\\\\0 & 0 & 2 {\\Sigma}_{0,2} & 0 & 0 & 2 {\\Sigma}_{1,2} & 0 & 0 & 2 {\\Sigma}_{2,2}\\\\{\\mu}_{0,0} & 0 & 0 & {\\mu}_{1,0} & 0 & 0 & {\\mu}_{2,0} & 0 & 0\\\\0 & {\\mu}_{0,0} & 0 & 0 & {\\mu}_{1,0} & 0 & 0 & {\\mu}_{2,0} & 0\\\\0 & 0 & {\\mu}_{0,0} & 0 & 0 & {\\mu}_{1,0} & 0 & 0 & {\\mu}_{2,0}\\end{matrix}\\right]$"
      ],
      "text/plain": [
       "⎡2⋅Σ₀₀    0      0    2⋅Σ₀₁    0      0    2⋅Σ₀₂    0      0  ⎤\n",
       "⎢                                                             ⎥\n",
       "⎢ Σ₀₁    Σ₀₀     0     Σ₁₁    Σ₀₁     0     Σ₁₂    Σ₀₂     0  ⎥\n",
       "⎢                                                             ⎥\n",
       "⎢ Σ₀₂     0     Σ₀₀    Σ₁₂     0     Σ₀₁    Σ₂₂     0     Σ₀₂ ⎥\n",
       "⎢                                                             ⎥\n",
       "⎢  0    2⋅Σ₀₁    0      0    2⋅Σ₁₁    0      0    2⋅Σ₁₂    0  ⎥\n",
       "⎢                                                             ⎥\n",
       "⎢  0     Σ₀₂    Σ₀₁     0     Σ₁₂    Σ₁₁     0     Σ₂₂    Σ₁₂ ⎥\n",
       "⎢                                                             ⎥\n",
       "⎢  0      0    2⋅Σ₀₂    0      0    2⋅Σ₁₂    0      0    2⋅Σ₂₂⎥\n",
       "⎢                                                             ⎥\n",
       "⎢ μ₀₀     0      0     μ₁₀     0      0     μ₂₀     0      0  ⎥\n",
       "⎢                                                             ⎥\n",
       "⎢  0     μ₀₀     0      0     μ₁₀     0      0     μ₂₀     0  ⎥\n",
       "⎢                                                             ⎥\n",
       "⎣  0      0     μ₀₀     0      0     μ₁₀     0      0     μ₂₀ ⎦"
      ]
     },
     "execution_count": 19,
     "metadata": {},
     "output_type": "execute_result"
    }
   ],
   "source": [
    "A"
   ]
  },
  {
   "cell_type": "code",
   "execution_count": 18,
   "metadata": {},
   "outputs": [
    {
     "data": {
      "image/png": "[encoded data removed]",
      "text/latex": [
       "$\\displaystyle 0$"
      ],
      "text/plain": [
       "0"
      ]
     },
     "execution_count": 18,
     "metadata": {},
     "output_type": "execute_result"
    }
   ],
   "source": [
    "from sympy import symbols, Matrix\n",
    "\n",
    "# Define the symbolic elements\n",
    "Sigma00, Sigma01, Sigma02, Sigma11, Sigma12, Sigma22 = symbols('Sigma00 Sigma01 Sigma02 Sigma11 Sigma12 Sigma22')\n",
    "mu00, mu10, mu20 = symbols('mu00 mu10 mu20')\n",
    "\n",
    "# Define the 9x9 matrix\n",
    "M = Matrix([\n",
    "    [2*Sigma00, 0, 0, 2*Sigma01, 0, 0, 2*Sigma02, 0, 0],\n",
    "    [Sigma01, Sigma00, 0, Sigma11, Sigma01, 0, Sigma12, Sigma02, 0],\n",
    "    [Sigma02, 0, Sigma00, Sigma12, 0, Sigma01, Sigma22, 0, Sigma02],\n",
    "    [0, 2*Sigma01, 0, 0, 2*Sigma11, 0, 0, 2*Sigma12, 0],\n",
    "    [0, Sigma02, Sigma01, 0, Sigma12, Sigma11, 0, Sigma22, Sigma12],\n",
    "    [0, 0, 2*Sigma02, 0, 0, 2*Sigma12, 0, 0, 2*Sigma22],\n",
    "    [mu00, 0, 0, mu10, 0, 0, mu20, 0, 0],\n",
    "    [0, mu00, 0, 0, mu10, 0, 0, mu20, 0],\n",
    "    [0, 0, mu00, 0, 0, mu10, 0, 0, mu20]\n",
    "])\n",
    "\n",
    "# Compute the determinant\n",
    "det_M = M.det()\n",
    "det_M\n"
   ]
  }
 ],
 "metadata": {
  "kernelspec": {
   "display_name": ".venv",
   "language": "python",
   "name": "python3"
  },
  "language_info": {
   "codemirror_mode": {
    "name": "ipython",
    "version": 3
   },
   "file_extension": ".py",
   "mimetype": "text/x-python",
   "name": "python",
   "nbconvert_exporter": "python",
   "pygments_lexer": "ipython3",
   "version": "3.12.3"
  }
 },
 "nbformat": 4,
 "nbformat_minor": 2
}
