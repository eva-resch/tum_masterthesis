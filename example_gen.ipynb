{
 "cells": [
  {
   "cell_type": "code",
   "execution_count": 1,
   "metadata": {},
   "outputs": [],
   "source": [
    "from sympy import *\n",
    "from sympy.solvers import solve\n",
    "init_printing(use_unicode=True)"
   ]
  },
  {
   "cell_type": "markdown",
   "metadata": {},
   "source": [
    "## 2 Nodes\n",
    "### 2 nodes with a 2-cycle"
   ]
  },
  {
   "cell_type": "markdown",
   "metadata": {},
   "source": [
    "<div>\n",
    "<img src=\"graph1.png\" width=\"400\"/>\n",
    "</div>"
   ]
  },
  {
   "cell_type": "code",
   "execution_count": 12,
   "metadata": {},
   "outputs": [],
   "source": [
    "p = 2\n",
    "M = Matrix([[-2, 3/2], [1, -2]])\n",
    "C = diag(p, p)\n",
    "\n",
    "Sigma = MatrixSymbol(\"Sigma\", p, p).as_explicit()\n",
    "Sigma_solved = solve(M*Sigma + Sigma*M.T + C, Sigma)"
   ]
  },
  {
   "cell_type": "code",
   "execution_count": 13,
   "metadata": {},
   "outputs": [
    {
     "data": {
      "image/png": "[encoded data removed]",
      "text/latex": [
       "$\\displaystyle \\left[\\begin{matrix}0.875 & 0.5\\\\0.5 & 0.75\\end{matrix}\\right]$"
      ],
      "text/plain": [
       "⎡0.875  0.5 ⎤\n",
       "⎢           ⎥\n",
       "⎣ 0.5   0.75⎦"
      ]
     },
     "execution_count": 13,
     "metadata": {},
     "output_type": "execute_result"
    }
   ],
   "source": [
    "Sigma_solved\n",
    "Sigma_new = Matrix([[Sigma_solved[Sigma[0, 0]], Sigma_solved[Sigma[0, 1]]], [Sigma_solved[Sigma[1, 0]], Sigma_solved[Sigma[1, 1]]]])\n",
    "Sigma_new"
   ]
  },
  {
   "cell_type": "code",
   "execution_count": 14,
   "metadata": {},
   "outputs": [
    {
     "data": {
      "image/png": "[encoded data removed]",
      "text/latex": [
       "$\\displaystyle \\left[\\begin{matrix}-0.8 & -0.6\\\\-0.4 & -0.8\\end{matrix}\\right]$"
      ],
      "text/plain": [
       "⎡-0.8  -0.6⎤\n",
       "⎢          ⎥\n",
       "⎣-0.4  -0.8⎦"
      ]
     },
     "execution_count": 14,
     "metadata": {},
     "output_type": "execute_result"
    }
   ],
   "source": [
    "M.inv()"
   ]
  },
  {
   "cell_type": "code",
   "execution_count": 15,
   "metadata": {},
   "outputs": [
    {
     "data": {
      "image/png": "[encoded data removed]",
      "text/latex": [
       "$\\displaystyle \\left\\{ {M}_{0,0} : - {M}_{1,1} - 4.0, \\  {M}_{0,1} : 1.75 {M}_{1,1} + 5.0, \\  {M}_{1,0} : - 1.5 {M}_{1,1} - 2.0\\right\\}$"
      ],
      "text/plain": [
       "{M₀₀: -M₁₁ - 4.0, M₀₁: 1.75⋅M₁₁ + 5.0, M₁₀: -1.5⋅M₁₁ - 2.0}"
      ]
     },
     "execution_count": 15,
     "metadata": {},
     "output_type": "execute_result"
    }
   ],
   "source": [
    "M = MatrixSymbol(\"M\", p, p).as_explicit()\n",
    "solve(M*Sigma_new + Sigma_new*M.T + C, M)"
   ]
  },
  {
   "cell_type": "markdown",
   "metadata": {},
   "source": [
    "## 3 Nodes\n",
    "### 3 nodes with a 2-cycle and a 3-cycle\n",
    "In notes that is graph 4."
   ]
  },
  {
   "cell_type": "markdown",
   "metadata": {},
   "source": [
    "<div>\n",
    "<img src=\"graph2.png\" width=\"400\"/>\n",
    "</div>"
   ]
  },
  {
   "cell_type": "markdown",
   "metadata": {},
   "source": [
    "### 3 nodes with a 2-cycle and connected by treks\n",
    "In notes, that is graph 2"
   ]
  },
  {
   "cell_type": "markdown",
   "metadata": {},
   "source": [
    "<div>\n",
    "<img src=\"graph3.png\" width=\"400\"/>\n",
    "</div>"
   ]
  },
  {
   "cell_type": "markdown",
   "metadata": {},
   "source": [
    "### 3 nodes with a 2-cycle and not connected by treks\n",
    "In notes, that is graph 3."
   ]
  },
  {
   "cell_type": "markdown",
   "metadata": {},
   "source": [
    "<div>\n",
    "<img src=\"graph4.png\" width=\"400\"/>\n",
    "</div>"
   ]
  }
 ],
 "metadata": {
  "kernelspec": {
   "display_name": ".venv",
   "language": "python",
   "name": "python3"
  },
  "language_info": {
   "codemirror_mode": {
    "name": "ipython",
    "version": 3
   },
   "file_extension": ".py",
   "mimetype": "text/x-python",
   "name": "python",
   "nbconvert_exporter": "python",
   "pygments_lexer": "ipython3",
   "version": "3.12.3"
  }
 },
 "nbformat": 4,
 "nbformat_minor": 2
}
