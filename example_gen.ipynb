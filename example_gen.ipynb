{
 "cells": [
  {
   "cell_type": "code",
   "execution_count": null,
   "metadata": {
    "vscode": {
     "languageId": "plaintext"
    }
   },
   "outputs": [],
   "source": [
    "from sympy import *\n",
    "from sympy.solvers import solve\n",
    "init_printing(use_unicode=True)"
   ]
  },
  {
   "cell_type": "code",
   "execution_count": null,
   "metadata": {
    "vscode": {
     "languageId": "plaintext"
    }
   },
   "outputs": [],
   "source": [
    "p = 2\n",
    "M = Matrix([[-5, 4], [3, -5]])\n",
    "C = diag(p, p)\n",
    " \n",
    "#matr = MatrixSymbol(\"Sigma\", p, p)\n",
    "#Sigma = Matrix(p, p, lambda i, j: matr[min(i,j),max(i,j)])\n",
    "\n",
    "Sigma = MatrixSymbol(\"Sigma\", p, p).as_explicit()\n",
    "Sigma_solved = solve(M*Sigma + Sigma*M.T + C, Sigma)"
   ]
  },
  {
   "cell_type": "code",
   "execution_count": null,
   "metadata": {
    "vscode": {
     "languageId": "plaintext"
    }
   },
   "outputs": [],
   "source": [
    "Sigma_solved\n",
    "Sigma_new = Matrix([[Sigma_solved[Sigma[0, 0]], Sigma_solved[Sigma[0, 1]]], [Sigma_solved[Sigma[1, 0]], Sigma_solved[Sigma[1, 1]]]])\n",
    "Sigma_new"
   ]
  },
  {
   "cell_type": "code",
   "execution_count": null,
   "metadata": {
    "vscode": {
     "languageId": "plaintext"
    }
   },
   "outputs": [],
   "source": [
    "M = MatrixSymbol(\"M\", p, p).as_explicit()\n",
    "solve(M*Sigma_new + Sigma_new*M.T + C, M)"
   ]
  }
 ],
 "metadata": {
  "language_info": {
   "name": "python"
  }
 },
 "nbformat": 4,
 "nbformat_minor": 2
}
