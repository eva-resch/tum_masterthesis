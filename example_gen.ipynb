{
 "cells": [
  {
   "cell_type": "code",
   "execution_count": 1,
   "metadata": {},
   "outputs": [],
   "source": [
    "import numpy as np\n",
    "from sympy import *\n",
    "from sympy.solvers import solve\n",
    "init_printing(use_unicode=True)"
   ]
  },
  {
   "cell_type": "markdown",
   "metadata": {},
   "source": [
    "## Functions\n"
   ]
  },
  {
   "cell_type": "code",
   "execution_count": 2,
   "metadata": {},
   "outputs": [],
   "source": [
    "def num_sym(p: int) -> int:\n",
    "    return int(p * (p + 1) / 2)"
   ]
  },
  {
   "cell_type": "markdown",
   "metadata": {},
   "source": [
    "### Solve the Lyapunov equation for $\\Sigma$"
   ]
  },
  {
   "cell_type": "code",
   "execution_count": 3,
   "metadata": {},
   "outputs": [],
   "source": [
    "def solve_lyapunov_cov(M: Matrix, C: Matrix, p: int) -> Matrix:\n",
    "    Sigma = MatrixSymbol(\"Sigma\", p, p).as_explicit()\n",
    "    Sigma_solved = solve(M*Sigma + Sigma*M.T + C, Sigma)\n",
    "    scheme = [[Sigma_solved[Sigma[i,j]] for i in range(p)] for j in range(p)]\n",
    "    Sigma_new = Matrix(scheme)\n",
    "    return Sigma_new"
   ]
  },
  {
   "cell_type": "markdown",
   "metadata": {},
   "source": [
    "### Create $A(\\Sigma)$\n",
    "\n",
    "The column indices $i \\to j$ are translated to single numbers by $p*i + j$ with $p= |V|$. The row indices $(k,l)$ with $k\\leq l$ are translated to single numbers by $k * p + \\left( l - \\frac{k(k+1)}{2}\\right).$"
   ]
  },
  {
   "cell_type": "code",
   "execution_count": 4,
   "metadata": {},
   "outputs": [],
   "source": [
    "def create_A_Sigma(cov: Matrix, p: int) -> Matrix:\n",
    "    row_num = num_sym(p=p)\n",
    "    col_num = int(p * p)\n",
    "    A_Sigma = MatrixSymbol(\"A\", row_num, col_num).as_mutable()\n",
    "    for l in range(p):\n",
    "        for k in range(l+1):\n",
    "            for i in range(p):\n",
    "                for j in range(p):\n",
    "                    if (j != k) & (j != l):\n",
    "                        A_Sigma[(k * p) + (l - num_sym(p=k)), i * p + j] = 0\n",
    "                    elif (j == k) & (k != l):\n",
    "                        A_Sigma[(k * p) + (l - num_sym(p=k)), i * p + j] = cov[l, i]\n",
    "                    elif (j == l) & (l != k):\n",
    "                        A_Sigma[(k * p) + (l - num_sym(p=k)), i * p + j] = cov[k, i]\n",
    "                    elif (j == k) & (j == l):\n",
    "                        A_Sigma[(k * p) + (l - num_sym(p=k)), i * p + j] = 2 * cov[j, i]\n",
    "    return A_Sigma"
   ]
  },
  {
   "cell_type": "markdown",
   "metadata": {},
   "source": [
    "Add the identity matrices multiplied by the mean."
   ]
  },
  {
   "cell_type": "code",
   "execution_count": 5,
   "metadata": {},
   "outputs": [],
   "source": [
    "def create_A(A_Sigma: Matrix, mean: Matrix, p: int) -> Matrix:\n",
    "    identity = mean[0] * eye(p)\n",
    "    for i in range(1, p):\n",
    "        identity = Matrix.hstack(identity, mean[i] * eye(p))\n",
    "    return Matrix.vstack(A_Sigma, identity)"
   ]
  },
  {
   "cell_type": "markdown",
   "metadata": {},
   "source": [
    "Add the unit vector multiplied by the negative scalar of the shift intervention to $vech(C)$."
   ]
  },
  {
   "cell_type": "code",
   "execution_count": 6,
   "metadata": {},
   "outputs": [],
   "source": [
    "def create_c(vech_C: Matrix, b: float, index: int, p: int) -> Matrix:\n",
    "    unit_vector = eye(p).col(index)\n",
    "    return Matrix. vstack(vech_C, - b * unit_vector)"
   ]
  },
  {
   "cell_type": "markdown",
   "metadata": {},
   "source": [
    "## General settings\n",
    "General variables"
   ]
  },
  {
   "cell_type": "code",
   "execution_count": 7,
   "metadata": {},
   "outputs": [],
   "source": [
    "# Number of nodes p=|V|\n",
    "p = 3"
   ]
  },
  {
   "cell_type": "code",
   "execution_count": 8,
   "metadata": {},
   "outputs": [],
   "source": [
    "Sigma = MatrixSymbol(\"Sigma\", p, p).as_mutable()\n",
    "cov = Matrix(p, p, lambda i, j: Sigma[min(i,j),max(i,j)])\n",
    "\n",
    "m11 = symbols('m11')\n",
    "m12 = symbols('m12')\n",
    "m13 = symbols('m13')\n",
    "m14 = symbols('m14')\n",
    "m21 = symbols('m21')\n",
    "m22 = symbols('m22')\n",
    "m23 = symbols('m23')\n",
    "m24 = symbols('m24')\n",
    "m31 = symbols('m31')\n",
    "m32 = symbols('m32')\n",
    "m33 = symbols('m33')\n",
    "m34 = symbols('m34')\n",
    "m41 = symbols('m41')\n",
    "m42 = symbols('m42')\n",
    "m43 = symbols('m43')\n",
    "m44 = symbols('m44')\n",
    "\n",
    "M_2 = Matrix([[m11, m12], [m21, m22]])\n",
    "M_3 = Matrix([[m11, m12, m13], [m21, m22, m23], [m31, m32, m33]])\n",
    "M_4 = Matrix([[m11, m12, m13, m14], [m21, m22, m23, m24], [m31, m32, m33, m34], [m41, m42, m43, m44]])\n",
    "\n",
    "mean_2 = Matrix([[2], [1]])\n",
    "mean_3 = Matrix([[2], [1], [4]])\n",
    "mean_4 = Matrix([[1], [3], [6], [2]])\n"
   ]
  },
  {
   "cell_type": "markdown",
   "metadata": {},
   "source": [
    "Fixed values"
   ]
  },
  {
   "cell_type": "code",
   "execution_count": 9,
   "metadata": {},
   "outputs": [],
   "source": [
    "# Volatility matrix C\n",
    "C = 2 * eye(p)\n",
    "\n",
    "# Index of shift intervention\n",
    "index = 0\n",
    "# Parameter of shift intervention\n",
    "b = 2\n",
    "# Corresponding unit vector\n",
    "unit_v = eye(p).col(index)\n",
    "\n",
    "# Probability of edges in graph\n",
    "k = 2\n",
    "d = min(k / p + 0.1, 1)"
   ]
  },
  {
   "cell_type": "markdown",
   "metadata": {},
   "source": [
    "Dependent on $p$"
   ]
  },
  {
   "cell_type": "code",
   "execution_count": 10,
   "metadata": {},
   "outputs": [],
   "source": [
    "# ----------------------------------------------\n",
    "# TODO: change this for p\n",
    "# ----------------------------------------------\n",
    "M = M_3\n",
    "mean = mean_3"
   ]
  },
  {
   "cell_type": "markdown",
   "metadata": {},
   "source": [
    "## Approach with $A(\\Sigma)$\n",
    "### From $M$, $C$, $b$, $i$, $p$ construct $\\Sigma$, $\\mu$\n",
    "First, let us generate a random stable matrix $M$."
   ]
  },
  {
   "cell_type": "code",
   "execution_count": 11,
   "metadata": {},
   "outputs": [],
   "source": [
    "np.random.seed(1208)\n",
    "\n",
    "# Bernoulli distribution with prob p=d,\n",
    "# determines which entries are 0 (no edge)\n",
    "bernoulli_matrix = np.random.binomial(1, d, (p, p))\n",
    "# Standard Gaussian distribution N(0,1)\n",
    "normal_matrix = np.random.normal(0, 1, (p, p))\n",
    "\n",
    "temp_M = bernoulli_matrix * normal_matrix\n",
    "# Adjust diagonal entries s.t. M stable\n",
    "for i in range(p):\n",
    "    row_sum = np.sum(np.abs(temp_M[i, :])) - np.abs(temp_M[i, i])\n",
    "    temp_M[i, i] = - row_sum - np.abs(normal_matrix[i,i])\n",
    "\n",
    "concrete_M = Matrix(temp_M)"
   ]
  },
  {
   "cell_type": "markdown",
   "metadata": {},
   "source": [
    "Now, we find the corresponding covariance matrix $\\Sigma$ by solving the Lyapunov equation with $M$ and $C$ for $\\Sigma$ and the mean corresponding to a shift intervention on node $i$ with scalar $b$ by setting\n",
    "$$\\mu = b \\cdot M^{-1} e_i.$$"
   ]
  },
  {
   "cell_type": "code",
   "execution_count": 12,
   "metadata": {},
   "outputs": [],
   "source": [
    "cov = solve_lyapunov_cov(M=concrete_M, C=C, p=p)\n",
    "mean = b * concrete_M.inv() * unit_v"
   ]
  },
  {
   "cell_type": "markdown",
   "metadata": {},
   "source": [
    "### Estimate $M$ from $\\Sigma$, $C$, $\\mu$, $b$, $i$, $p$"
   ]
  },
  {
   "cell_type": "code",
   "execution_count": 13,
   "metadata": {},
   "outputs": [],
   "source": [
    "vec_M = Matrix([[M[j, i]] for i in range(p) for j in range(p)]) # j faster than i\n",
    "vech_C = Matrix([[C[i, j]] for i in range(p) for j in range(i, p)])\n",
    "\n",
    "A_Sigma = create_A_Sigma(cov=cov, p=p)\n",
    "A = create_A(A_Sigma=A_Sigma, mean=mean, p=p)\n",
    "\n",
    "\n",
    "c = create_c(vech_C=vech_C, b=b, index=index, p=p)"
   ]
  },
  {
   "cell_type": "code",
   "execution_count": 14,
   "metadata": {},
   "outputs": [
    {
     "data": {
      "image/png": "[encoded data removed]",
      "text/latex": [
       "$\\displaystyle \\left[\\begin{matrix}-2.3700445900223 & -0.540965062075079 & -1.61021324964837\\\\0.158270223498445 & -0.8637324610854 & 0.857857942047039\\\\-1.06748305400676 & 1.56563641820158 & -3.85388371196949\\end{matrix}\\right]$"
      ],
      "text/plain": [
       "⎡-2.3700445900223   -0.540965062075079  -1.61021324964837⎤\n",
       "⎢                                                        ⎥\n",
       "⎢0.158270223498445   -0.8637324610854   0.857857942047039⎥\n",
       "⎢                                                        ⎥\n",
       "⎣-1.06748305400676   1.56563641820158   -3.85388371196949⎦"
      ]
     },
     "execution_count": 14,
     "metadata": {},
     "output_type": "execute_result"
    }
   ],
   "source": [
    "M_est = M.subs(solve(A * vec_M + c, vec_M))\n",
    "M_est"
   ]
  },
  {
   "cell_type": "markdown",
   "metadata": {},
   "source": [
    "### Evaluate estimation"
   ]
  },
  {
   "cell_type": "code",
   "execution_count": 19,
   "metadata": {},
   "outputs": [
    {
     "data": {
      "text/plain": [
       "array([[-2.30386206293535, -0.653729606151196, -1.36415817641326],\n",
       "       [0.0, -0.655034842767227, 0.297089609083519],\n",
       "       [-1.13142101287898, 1.75653041611095, -4.12876385737464]],\n",
       "      dtype=object)"
      ]
     },
     "execution_count": 19,
     "metadata": {},
     "output_type": "execute_result"
    }
   ],
   "source": [
    "matrix2numpy(concrete_M)\n",
    "# frob = np.linalg.norm(matrix2numpy(M_est) - matrix2numpy(concrete_M))\n",
    "# frob"
   ]
  },
  {
   "cell_type": "markdown",
   "metadata": {},
   "source": [
    "## Possible graphs to consider"
   ]
  },
  {
   "cell_type": "markdown",
   "metadata": {},
   "source": [
    "### 2 nodes with a 2-cycle\n",
    "<div>\n",
    "<img src=\"graph1.png\" width=\"400\"/>\n",
    "</div>"
   ]
  },
  {
   "cell_type": "markdown",
   "metadata": {},
   "source": [
    "### 3 nodes with a 2-cycle and a 3-cycle\n",
    "<div>\n",
    "<img src=\"graph2.png\" width=\"400\"/>\n",
    "</div>"
   ]
  },
  {
   "cell_type": "code",
   "execution_count": null,
   "metadata": {},
   "outputs": [],
   "source": [
    "substitute = {m12: 0, m31: 0}\n",
    "# M.subs(substitute)"
   ]
  },
  {
   "cell_type": "markdown",
   "metadata": {},
   "source": [
    "### 3 nodes with a 2-cycle and connected by treks\n",
    "<div>\n",
    "<img src=\"graph3.png\" width=\"400\"/>\n",
    "</div>"
   ]
  },
  {
   "cell_type": "code",
   "execution_count": null,
   "metadata": {},
   "outputs": [],
   "source": [
    "substitute = {m12: 0, m13: 0}"
   ]
  },
  {
   "cell_type": "markdown",
   "metadata": {},
   "source": [
    "### 3 nodes with a 2-cycle and not connected by treks\n",
    "<div>\n",
    "<img src=\"graph4.png\" width=\"400\"/>\n",
    "</div>"
   ]
  },
  {
   "cell_type": "code",
   "execution_count": null,
   "metadata": {},
   "outputs": [],
   "source": [
    "substitute = {m12: 0, m13: 0, m31: 0}"
   ]
  },
  {
   "cell_type": "markdown",
   "metadata": {},
   "source": [
    "## Failed Approach: $M\\Sigma + \\Sigma M^\\top + C = 0$\n",
    "We tried to first adjust the matrix $M$ for the shift intervention and then solve the Lyapunov equation. This did not work since the adjustment was not thought correctly. We cannot set certain values of $M^{-1}$ to the corresponding values, this takes away information. We need to treat these equations as extra information that needs to go alongside the Lyapunov equation."
   ]
  },
  {
   "cell_type": "markdown",
   "metadata": {},
   "source": [
    "\n",
    "The functions used for this approach are the following:\n"
   ]
  },
  {
   "cell_type": "markdown",
   "metadata": {},
   "source": [
    "### Adjust $M$ after shift intervention\n",
    "\n",
    "Since we define the shift intervention on a node $i$ of the process $X(t)$ with mean zero to be described as\n",
    "$$dX^I(t) = (MX^I(t)-b_ie_i)dt+DdW(t) = M(X^I(t)-M^{-1}b_ie_i)dt+DdW(t)$$\n",
    "the new mean after the intervention has changed to be $\\mathbb{E}(X^I(t)) = M^{-1}b_ie_i$. Therefore, if we know the empirical mean of the process $X^I(t)$ after the shift intervention, we also know the $i$-th column of the inverse of the drift matrix $M$\n",
    "$$(M^{-1})_{\\cdot i} = M^{-1}e_i = \\frac{1}{b_i}\\mathbb{E}(X^I(t)).$$"
   ]
  },
  {
   "cell_type": "code",
   "execution_count": null,
   "metadata": {},
   "outputs": [],
   "source": [
    "'''def adjust_M(M: Matrix, col: int, b: float, emp_mean: Matrix, p: int) -> Matrix:\n",
    "    M_inv = M.inv()\n",
    "    for row in range(p):\n",
    "        M_inv[row, col] = (1 / b) * emp_mean[row]\n",
    "    return M_inv.inv()'''"
   ]
  },
  {
   "cell_type": "markdown",
   "metadata": {},
   "source": [
    "### Solve Lyapunov equation for $M$"
   ]
  },
  {
   "cell_type": "code",
   "execution_count": null,
   "metadata": {},
   "outputs": [],
   "source": [
    "def solve_lyapunov_M(Sigma: Matrix, C: Matrix, p: int) -> Matrix:\n",
    "    M = MatrixSymbol(\"M\", p, p).as_explicit()\n",
    "    M_solved = solve(M * Sigma + Sigma * M.T + C, M)\n",
    "    return M_solved"
   ]
  },
  {
   "cell_type": "markdown",
   "metadata": {},
   "source": [
    "Now let's accomodate shift interventions by first adjusting $M$ as seen below and then solving the Lyapunov equation.\n",
    "\n",
    "***Doubts:*** In which order do we set the constraints for M: first inverse then Lyapunov equation or the other way around? maybe it's better to work with $A(\\Sigma)$ and optimize directly?"
   ]
  },
  {
   "cell_type": "code",
   "execution_count": null,
   "metadata": {},
   "outputs": [],
   "source": [
    "'''def solve_lyapunov_M_interv(M: Matrix, Sigma: Matrix, C: Matrix, p: int, A: list[int], b: list[float], emp_mean: list[Matrix]) -> Matrix:\n",
    "    for index, col in enumerate(A):\n",
    "        M = adjust_M(M=M, col=col, b=b[index], emp_mean=emp_mean[index], p=p)\n",
    "    M_solved = solve(M * Sigma + Sigma * M.T + C, M)\n",
    "    return M_solved'''"
   ]
  },
  {
   "cell_type": "markdown",
   "metadata": {},
   "source": [
    "### 2 nodes with a 2-cycle\n",
    "<div>\n",
    "<img src=\"graph1.png\" width=\"400\"/>\n",
    "</div>"
   ]
  },
  {
   "cell_type": "markdown",
   "metadata": {},
   "source": [
    "Let's start by defining the drift matrix $M$ corresponding to the graph $G=(V,E)$ with nodes $V=\\{1,2\\}$ and edges $E=\\{1\\to 1, 1\\to 2, 2\\to 1, 2\\to 2\\}$."
   ]
  },
  {
   "cell_type": "code",
   "execution_count": null,
   "metadata": {},
   "outputs": [],
   "source": [
    "p = 2\n",
    "\n",
    "C = 2 * eye(p)\n",
    "cov = MatrixSymbol(\"Sigma\", p, p).as_explicit()\n",
    "\n",
    "m11 = symbols('m11')\n",
    "m12 = symbols('m12')\n",
    "m21 = symbols('m21')\n",
    "m22 = symbols('m22')\n",
    "\n",
    "b_1 = 2\n",
    "b_2 = 2\n",
    "\n",
    "emp_mean_1 = Matrix([[1], [1]])\n",
    "emp_mean_2 = Matrix([[1], [2]])\n",
    "\n",
    "M = Matrix([[m11, m12], [m21, m22]])"
   ]
  },
  {
   "cell_type": "code",
   "execution_count": null,
   "metadata": {},
   "outputs": [],
   "source": [
    "# Intervention on 1\n",
    "A = [0]\n",
    "b = [b_1]\n",
    "emp_mean = [emp_mean_1]\n",
    "\n",
    "M_est = solve_lyapunov_M_interv(M=M, Sigma=cov, C=C, p=p, A=A, b=b, emp_mean=emp_mean)\n",
    "M_est"
   ]
  },
  {
   "cell_type": "code",
   "execution_count": null,
   "metadata": {},
   "outputs": [],
   "source": [
    "# Intervention on 2\n",
    "A = [1]\n",
    "b = [b_2]\n",
    "emp_mean = [emp_mean_2]\n",
    "\n",
    "M_est = solve_lyapunov_M_interv(M=M, Sigma=cov, C=C, p=p, A=A, b=b, emp_mean=emp_mean)\n",
    "M_est"
   ]
  },
  {
   "cell_type": "markdown",
   "metadata": {},
   "source": [
    "### 3 nodes with a 2-cycle and a 3-cycle\n",
    "<div>\n",
    "<img src=\"graph2.png\" width=\"400\"/>\n",
    "</div>"
   ]
  },
  {
   "cell_type": "markdown",
   "metadata": {},
   "source": [
    "Let's start by defining the drift matrix $M$ corresponding to the graph $G=(V,E)$ with nodes $V=\\{1,2,3\\}$ and edges $E=\\{1\\to 1, 1\\to 2, 2\\to 2, 2\\to 3, 3\\to 1, 3\\to 2, 3\\to 3\\}$."
   ]
  },
  {
   "cell_type": "code",
   "execution_count": null,
   "metadata": {},
   "outputs": [],
   "source": [
    "# Eigenvalues are {-2.837, -2.151, -1.012} -> stable!\n",
    "\n",
    "substitute_zero = {m12: 0, m31: 0}\n",
    "M = M.subs(substitute_zero)\n",
    "\n",
    "# Find corresponding mean vectors\n",
    "emp_mean_1 = b_1 * (M.inv()).col(0)\n",
    "emp_mean_2 = b_2 * (M.inv()).col(1)\n",
    "emp_mean_3 = b_3 * (M.inv()).col(2)\n",
    "\n",
    "# Find corresponding covariance matrix\n",
    "cov = solve_lyapunov_cov(M=M, C=C, p=p)"
   ]
  },
  {
   "cell_type": "code",
   "execution_count": null,
   "metadata": {},
   "outputs": [],
   "source": [
    "# Intervention auf 1\n",
    "A = [0]\n",
    "b = [b_1]\n",
    "emp_mean = [emp_mean_1]\n",
    "M_est_1 = solve_lyapunov_M_interv(M=M_general, Sigma=cov, C=C, p=p , A=A, b=b, emp_mean=emp_mean)\n",
    "M_est_1\n",
    "\n",
    "# General case: not terminated after 5 min\n",
    "# Concrete numbers: not terminated after 5 min"
   ]
  },
  {
   "cell_type": "code",
   "execution_count": null,
   "metadata": {},
   "outputs": [],
   "source": [
    "# Intervention auf 2\n",
    "A = [1]\n",
    "b = [b_2]\n",
    "emp_mean = [emp_mean_2]\n",
    "M_est_2 = solve_lyapunov_M_interv(M=M, Sigma=cov, C=C, p=p , A=A, b=b, emp_mean=emp_mean)\n",
    "M_est_2\n",
    "\n",
    "# General case: not terminated after 5 min\n",
    "# Concrete numbers: not terminated after 3 min"
   ]
  },
  {
   "cell_type": "code",
   "execution_count": null,
   "metadata": {},
   "outputs": [],
   "source": [
    "# Intervention auf 3\n",
    "A = [2]\n",
    "b = [b_3]\n",
    "emp_mean = [emp_mean_3]\n",
    "M_est_3 = solve_lyapunov_M_interv(M=M, Sigma=cov, C=C, p=p , A=A, b=b, emp_mean=emp_mean)\n",
    "M_est_3\n",
    "\n",
    "# General case: not terminated after 5 min\n",
    "# Concrete numbers: not terminated after 2 min"
   ]
  },
  {
   "cell_type": "code",
   "execution_count": null,
   "metadata": {},
   "outputs": [],
   "source": [
    "# Intervention auf 1 und 2\n",
    "A = [0, 1]\n",
    "b = [b_1, b_2]\n",
    "emp_mean = [emp_mean_1, emp_mean_2]\n",
    "M_est_12 = solve_lyapunov_M_interv(M=M, Sigma=cov, C=C, p=p , A=A, b=b, emp_mean=emp_mean)\n",
    "M_est_12"
   ]
  },
  {
   "cell_type": "code",
   "execution_count": null,
   "metadata": {},
   "outputs": [],
   "source": [
    "# Intervention auf 1 und 3\n",
    "A = [0, 2]\n",
    "b = [b_1, b_3]\n",
    "emp_mean = [emp_mean_1, emp_mean_3]\n",
    "M_est_13 = solve_lyapunov_M_interv(M=M, Sigma=cov, C=C, p=p , A=A, b=b, emp_mean=emp_mean)\n",
    "M_est_13"
   ]
  },
  {
   "cell_type": "code",
   "execution_count": null,
   "metadata": {},
   "outputs": [],
   "source": [
    "# Intervention auf 2 und 3\n",
    "A = [1, 2]\n",
    "b = [b_2, b_3]\n",
    "emp_mean = [emp_mean_2, emp_mean_3]\n",
    "M_est_23 = solve_lyapunov_M_interv(M=M, Sigma=cov, C=C, p=p , A=A, b=b, emp_mean=emp_mean)\n",
    "M_est_23"
   ]
  },
  {
   "cell_type": "markdown",
   "metadata": {},
   "source": [
    "### 3 nodes with a 2-cycle and connected by treks\n",
    "<div>\n",
    "<img src=\"graph3.png\" width=\"400\"/>\n",
    "</div>"
   ]
  },
  {
   "cell_type": "markdown",
   "metadata": {},
   "source": [
    "Let's start by defining the drift matrix $M$ corresponding to the graph $G=(V,E)$ with nodes $V=\\{1,2,3\\}$ and edges $E=\\{1\\to 1, 1\\to 2, 1\\to 3, 2\\to 2, 2\\to 3, 3\\to 2, 3\\to 3\\}$."
   ]
  },
  {
   "cell_type": "code",
   "execution_count": null,
   "metadata": {},
   "outputs": [],
   "source": [
    "# Eigenvalues are {-2.687, -2.206, -1.108} -> stable!\n",
    "\n",
    "substitute_zero = {m12: 0, m13: 0}\n",
    "M = M.subs(substitute_zero)\n",
    "\n",
    "# Find corresponding mean vectors\n",
    "emp_mean_1 = b_1 * (M.inv()).col(0)\n",
    "emp_mean_2 = b_2 * (M.inv()).col(1)\n",
    "emp_mean_3 = b_3 * (M.inv()).col(2)\n",
    "\n",
    "# Find corresponding covariance matrix\n",
    "cov = solve_lyapunov_cov(M=M, C=C, p=p)"
   ]
  },
  {
   "cell_type": "code",
   "execution_count": null,
   "metadata": {},
   "outputs": [],
   "source": [
    "# Intervention auf 1\n",
    "A = [0]\n",
    "b = [b_1]\n",
    "emp_mean = [emp_mean_1]\n",
    "M_est_1 = solve_lyapunov_M_interv(M=M_general, Sigma=cov, C=C, p=p , A=A, b=b, emp_mean=emp_mean)\n",
    "M_est_1"
   ]
  },
  {
   "cell_type": "code",
   "execution_count": null,
   "metadata": {},
   "outputs": [],
   "source": [
    "# Intervention auf 2\n",
    "A = [1]\n",
    "b = [b_2]\n",
    "emp_mean = [emp_mean_2]\n",
    "M_est_2 = solve_lyapunov_M_interv(M=M, Sigma=cov, C=C, p=p , A=A, b=b, emp_mean=emp_mean)\n",
    "M_est_2"
   ]
  },
  {
   "cell_type": "code",
   "execution_count": null,
   "metadata": {},
   "outputs": [],
   "source": [
    "# Intervention auf 3\n",
    "A = [2]\n",
    "b = [b_3]\n",
    "emp_mean = [emp_mean_3]\n",
    "M_est_3 = solve_lyapunov_M_interv(M=M, Sigma=cov, C=C, p=p , A=A, b=b, emp_mean=emp_mean)\n",
    "M_est_3"
   ]
  },
  {
   "cell_type": "code",
   "execution_count": null,
   "metadata": {},
   "outputs": [],
   "source": [
    "# Intervention auf 1 und 2\n",
    "A = [0, 1]\n",
    "b = [b_1, b_2]\n",
    "emp_mean = [emp_mean_1, emp_mean_2]\n",
    "M_est_12 = solve_lyapunov_M_interv(M=M, Sigma=cov, C=C, p=p , A=A, b=b, emp_mean=emp_mean)\n",
    "M_est_12"
   ]
  },
  {
   "cell_type": "code",
   "execution_count": null,
   "metadata": {},
   "outputs": [],
   "source": [
    "# Intervention auf 1 und 3\n",
    "A = [0, 2]\n",
    "b = [b_1, b_3]\n",
    "emp_mean = [emp_mean_1, emp_mean_3]\n",
    "M_est_13 = solve_lyapunov_M_interv(M=M, Sigma=cov, C=C, p=p , A=A, b=b, emp_mean=emp_mean)\n",
    "M_est_13"
   ]
  },
  {
   "cell_type": "code",
   "execution_count": null,
   "metadata": {},
   "outputs": [],
   "source": [
    "# Intervention auf 2 und 3\n",
    "A = [1, 2]\n",
    "b = [b_2, b_3]\n",
    "emp_mean = [emp_mean_2, emp_mean_3]\n",
    "M_est_23 = solve_lyapunov_M_interv(M=M, Sigma=cov, C=C, p=p , A=A, b=b, emp_mean=emp_mean)\n",
    "M_est_23"
   ]
  },
  {
   "cell_type": "markdown",
   "metadata": {},
   "source": [
    "Kovarianzmatrix berechnen:\n",
    "* Ohne Intervention klappt nicht (Laufzeit >1 min und kein Ergebnis).\n",
    "* Intervention auf 1 klappt.\n",
    "* Intervention auf 2 klappt nicht (Laufzeit >1 min und kein Ergebnis).\n",
    "* Intervention auf 3 klappt nicht (Laufzeit >1 min und kein Ergebnis).\n",
    "* Intervention auf 1 und 2 klappt.\n",
    "* Intervention auf 1 und 3 klappt.\n",
    "* Intervention auf 2 und 3 klappt nicht (Laufzeit >1 min und kein Ergebnis).\n",
    "* Intervention auf 1, 2 und 3 klappt ($M$ eindeutig bestimmt)."
   ]
  },
  {
   "cell_type": "markdown",
   "metadata": {},
   "source": [
    "### 3 nodes with a 2-cycle and not connected by treks\n",
    "<div>\n",
    "<img src=\"graph4.png\" width=\"400\"/>\n",
    "</div>"
   ]
  },
  {
   "cell_type": "markdown",
   "metadata": {},
   "source": [
    "Let's start by defining the drift matrix $M$ corresponding to the graph $G=(V,E)$ with nodes $V=\\{1,2,3\\}$ and edges $E=\\{1\\to 1, 1\\to 2, 2\\to 2, 2\\to 3, 3\\to 2, 3\\to 3\\}$."
   ]
  },
  {
   "cell_type": "code",
   "execution_count": null,
   "metadata": {},
   "outputs": [],
   "source": [
    "# Eigenvalues are {-2.687, -2.206, -1.108} -> stable!\n",
    "\n",
    "substitute_zero = {m12: 0, m13: 0, m31: 0}\n",
    "M = M.subs(substitute_zero)\n",
    "\n",
    "# Find corresponding mean vectors\n",
    "emp_mean_1 = b_1 * (M.inv()).col(0)\n",
    "emp_mean_2 = b_2 * (M.inv()).col(1)\n",
    "emp_mean_3 = b_3 * (M.inv()).col(2)\n",
    "\n",
    "# Find corresponding covariance matrix\n",
    "cov = solve_lyapunov_cov(M=M, C=C, p=p)"
   ]
  },
  {
   "cell_type": "code",
   "execution_count": null,
   "metadata": {},
   "outputs": [],
   "source": [
    "# Intervention auf 1\n",
    "A = [0]\n",
    "b = [b_1]\n",
    "emp_mean = [emp_mean_1]\n",
    "M_est_1 = solve_lyapunov_M_interv(M=M_general, Sigma=cov, C=C, p=p , A=A, b=b, emp_mean=emp_mean)\n",
    "M_est_1"
   ]
  },
  {
   "cell_type": "code",
   "execution_count": null,
   "metadata": {},
   "outputs": [],
   "source": [
    "# Intervention auf 2\n",
    "A = [1]\n",
    "b = [b_2]\n",
    "emp_mean = [emp_mean_2]\n",
    "M_est_2 = solve_lyapunov_M_interv(M=M, Sigma=cov, C=C, p=p , A=A, b=b, emp_mean=emp_mean)\n",
    "M_est_2"
   ]
  },
  {
   "cell_type": "code",
   "execution_count": null,
   "metadata": {},
   "outputs": [],
   "source": [
    "# Intervention auf 3\n",
    "A = [2]\n",
    "b = [b_3]\n",
    "emp_mean = [emp_mean_3]\n",
    "M_est_3 = solve_lyapunov_M_interv(M=M, Sigma=cov, C=C, p=p , A=A, b=b, emp_mean=emp_mean)\n",
    "M_est_3"
   ]
  },
  {
   "cell_type": "code",
   "execution_count": null,
   "metadata": {},
   "outputs": [],
   "source": [
    "# Intervention auf 1 und 2\n",
    "A = [0, 1]\n",
    "b = [b_1, b_2]\n",
    "emp_mean = [emp_mean_1, emp_mean_2]\n",
    "M_est_12 = solve_lyapunov_M_interv(M=M, Sigma=cov, C=C, p=p , A=A, b=b, emp_mean=emp_mean)\n",
    "M_est_12"
   ]
  },
  {
   "cell_type": "code",
   "execution_count": null,
   "metadata": {},
   "outputs": [],
   "source": [
    "# Intervention auf 1 und 3\n",
    "A = [0, 2]\n",
    "b = [b_1, b_3]\n",
    "emp_mean = [emp_mean_1, emp_mean_3]\n",
    "M_est_13 = solve_lyapunov_M_interv(M=M, Sigma=cov, C=C, p=p , A=A, b=b, emp_mean=emp_mean)\n",
    "M_est_13"
   ]
  },
  {
   "cell_type": "code",
   "execution_count": null,
   "metadata": {},
   "outputs": [],
   "source": [
    "# Intervention auf 2 und 3\n",
    "A = [1, 2]\n",
    "b = [b_2, b_3]\n",
    "emp_mean = [emp_mean_2, emp_mean_3]\n",
    "M_est_23 = solve_lyapunov_M_interv(M=M, Sigma=cov, C=C, p=p , A=A, b=b, emp_mean=emp_mean)\n",
    "M_est_23"
   ]
  },
  {
   "cell_type": "markdown",
   "metadata": {},
   "source": [
    "Kovarianzmatrix berechnen:\n",
    "* Ohne Intervention klappt.\n",
    "* Intervention auf 1 klappt.\n",
    "* Intervention auf 2 klappt nicht (Laufzeit >1 min und kein Ergebnis).\n",
    "* Intervention auf 3 klappt.\n",
    "* Intervention auf 1 und 2 klappt.\n",
    "* Intervention auf 1 und 3 klappt.\n",
    "* Intervention auf 2 und 3 klappt nicht (Laufzeit >1 min und kein Ergebnis).\n",
    "* Intervention auf 1, 2 und 3 klappt ($M$ eindeutig bestimmt)."
   ]
  }
 ],
 "metadata": {
  "kernelspec": {
   "display_name": ".venv",
   "language": "python",
   "name": "python3"
  },
  "language_info": {
   "codemirror_mode": {
    "name": "ipython",
    "version": 3
   },
   "file_extension": ".py",
   "mimetype": "text/x-python",
   "name": "python",
   "nbconvert_exporter": "python",
   "pygments_lexer": "ipython3",
   "version": "3.12.3"
  }
 },
 "nbformat": 4,
 "nbformat_minor": 2
}
