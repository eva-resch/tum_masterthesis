{
 "cells": [
  {
   "cell_type": "code",
   "execution_count": 1,
   "metadata": {},
   "outputs": [],
   "source": [
    "import numpy as np\n",
    "from sympy import *\n",
    "from sympy.solvers import solve\n",
    "import warnings\n",
    "from scipy.linalg import solve_continuous_lyapunov\n",
    "from sklearn import linear_model\n",
    "from sklearn.exceptions import ConvergenceWarning\n",
    "warnings.filterwarnings('ignore', category=ConvergenceWarning) \n",
    "init_printing(use_unicode=True)"
   ]
  },
  {
   "cell_type": "code",
   "execution_count": 2,
   "metadata": {},
   "outputs": [],
   "source": [
    "def simulate_M(seed: int, p: int) -> Array:\n",
    "    np.random.seed(seed=seed)\n",
    "    normal_matrix = np.random.normal(0, 1, (p, p))\n",
    "    for i in range(p): # adjust diagonal entries s.t. M stable\n",
    "        normal_matrix[i, i] = - np.sum(np.abs(normal_matrix[i, :]))\n",
    "    return normal_matrix\n",
    "\n",
    "def num_sym(p: int) -> int:\n",
    "    return int(p * (p + 1) / 2)\n",
    "\n",
    "def create_A_Sigma(cov: Array, p: int) -> Array:\n",
    "    row_num = num_sym(p=p)\n",
    "    col_num = int(p * p)\n",
    "    A_Sigma = np.empty(shape=(row_num, col_num), dtype=float)\n",
    "    for l in range(p):\n",
    "        for k in range(l+1):\n",
    "            for i in range(p):\n",
    "                for j in range(p):\n",
    "                    if (j != k) & (j != l):\n",
    "                        A_Sigma[(k * p) + (l - num_sym(p=k)), i * p + j] = 0\n",
    "                    elif (j == k) & (k != l):\n",
    "                        A_Sigma[(k * p) + (l - num_sym(p=k)), i * p + j] = cov[l, i]\n",
    "                    elif (j == l) & (l != k):\n",
    "                        A_Sigma[(k * p) + (l - num_sym(p=k)), i * p + j] = cov[k, i]\n",
    "                    elif (j == k) & (j == l):\n",
    "                        A_Sigma[(k * p) + (l - num_sym(p=k)), i * p + j] = 2 * cov[j, i]\n",
    "    return A_Sigma\n",
    "\n",
    "def create_A(A_Sigma: Array, mean: Array, p: int) -> Array:\n",
    "    identity = mean[0] * eye(p)\n",
    "    for i in range(1, p):\n",
    "        identity = np.hstack((identity, mean[i] * eye(p)))\n",
    "    return np.vstack((A_Sigma, identity))"
   ]
  },
  {
   "cell_type": "code",
   "execution_count": 3,
   "metadata": {},
   "outputs": [],
   "source": [
    "def solve_lyapunov_cov(M: Matrix, C: Matrix, p: int) -> Matrix:\n",
    "    Sigma = MatrixSymbol(\"Sigma\", p, p).as_explicit()\n",
    "    Sigma_solved = solve(M*Sigma + Sigma*M.T + C, Sigma)\n",
    "    scheme = [[Sigma_solved[Sigma[i,j]] for i in range(p)] for j in range(p)]\n",
    "    Sigma_new = Matrix(scheme)\n",
    "    return Sigma_new\n",
    "\n",
    "def create_A_Sigma_sympy(cov: Matrix, p: int) -> Matrix:\n",
    "    row_num = num_sym(p=p)\n",
    "    col_num = int(p * p)\n",
    "    A_Sigma = MatrixSymbol(\"A\", row_num, col_num).as_mutable()\n",
    "    for l in range(p):\n",
    "        for k in range(l+1):\n",
    "            for i in range(p):\n",
    "                for j in range(p):\n",
    "                    if (j != k) & (j != l):\n",
    "                        A_Sigma[(k * p) + (l - num_sym(p=k)), i * p + j] = 0\n",
    "                    elif (j == k) & (k != l):\n",
    "                        A_Sigma[(k * p) + (l - num_sym(p=k)), i * p + j] = cov[l, i]\n",
    "                    elif (j == l) & (l != k):\n",
    "                        A_Sigma[(k * p) + (l - num_sym(p=k)), i * p + j] = cov[k, i]\n",
    "                    elif (j == k) & (j == l):\n",
    "                        A_Sigma[(k * p) + (l - num_sym(p=k)), i * p + j] = 2 * cov[j, i]\n",
    "    return A_Sigma\n",
    "\n",
    "def create_A_sympy(A_Sigma: Matrix, mean: Matrix, p: int) -> Matrix:\n",
    "    identity = mean[0] * eye(p)\n",
    "    for i in range(1, p):\n",
    "        identity = Matrix.hstack(identity, mean[i] * eye(p))\n",
    "    return Matrix.vstack(A_Sigma, identity)\n",
    "\n",
    "def create_c_sympy(vech_C: Matrix, b: float, index: int, p: int) -> Matrix:\n",
    "    unit_vector = eye(p).col(index)\n",
    "    return Matrix.vstack(vech_C, - b * unit_vector)"
   ]
  },
  {
   "cell_type": "markdown",
   "metadata": {},
   "source": [
    "## Example for fully connected graph on 3 nodes\n",
    "The corresponding drift matrix is given by $M = \\begin{pmatrix} m_{11} & m_{12} & m_{13}\\\\ m_{21} & m_{22} & m_{23}\\\\ m_{31} & m_{32} & m_{33}\\end{pmatrix}$. Let's choose this matrix randomly to be a stable matrix, generate 1000 instances of the underlying process and apply Lasso regression with parameter $\\lambda = 0.001$ as seen in the package 'sklearn'. We suppose an intervention on the first node with a shift parameter $b=2$."
   ]
  },
  {
   "cell_type": "code",
   "execution_count": 4,
   "metadata": {},
   "outputs": [
    {
     "data": {
      "text/plain": [
       "array([[-1.39685121, -0.68142588,  0.2424395 ],\n",
       "       [-1.70073563, -3.98859981, -1.53472134],\n",
       "       [ 0.00512708, -0.12022767, -0.93233663]])"
      ]
     },
     "execution_count": 4,
     "metadata": {},
     "output_type": "execute_result"
    }
   ],
   "source": [
    "p = 3\n",
    "num_sim = 1000 # number of simulations\n",
    "index_intervention = 0\n",
    "b = 2\n",
    "\n",
    "C = 2 * np.eye(p)\n",
    "vech_C = np.array([C[i, j] for i in range(p) for j in range(i, p)])\n",
    "unit_v = np.eye(p)[:, index_intervention]\n",
    "c = np.hstack((vech_C, - b * unit_v))\n",
    "\n",
    "reg_param = 0.001\n",
    "\n",
    "true_M = simulate_M(seed=12, p=p)\n",
    "true_M"
   ]
  },
  {
   "cell_type": "code",
   "execution_count": 5,
   "metadata": {},
   "outputs": [
    {
     "name": "stdout",
     "output_type": "stream",
     "text": [
      "0.9883564827737027\n"
     ]
    },
    {
     "data": {
      "text/plain": [
       "array([[-1.14643722, -0.        ,  0.551987  ],\n",
       "       [-1.47765782, -3.49275742, -1.33852597],\n",
       "       [-0.00353736, -0.        , -0.85929751]])"
      ]
     },
     "execution_count": 5,
     "metadata": {},
     "output_type": "execute_result"
    }
   ],
   "source": [
    "true_cov = solve_continuous_lyapunov(a=true_M, q=-C)\n",
    "true_mean = (b * np.linalg.inv(a=true_M)).dot(unit_v)\n",
    "\n",
    "obs = np.random.multivariate_normal(mean = true_mean, cov = true_cov, size = num_sim)\n",
    "emp_cov = np.cov(obs, rowvar=False)\n",
    "emp_mean = np.mean(obs, axis=0)\n",
    "\n",
    "emp_A_Sigma = create_A_Sigma(cov=emp_cov, p=p)\n",
    "emp_A = create_A(A_Sigma=emp_A_Sigma, mean=emp_mean, p=p)\n",
    "\n",
    "direct_lasso = linear_model.Lasso(alpha=reg_param, max_iter=5000)\n",
    "direct_lasso.fit(X=emp_A, y=-c)\n",
    "est_M = np.transpose(np.reshape(direct_lasso.coef_, shape=(p, p)))\n",
    "frob = np.linalg.norm(est_M - true_M)\n",
    "print(frob)\n",
    "est_M"
   ]
  },
  {
   "cell_type": "markdown",
   "metadata": {},
   "source": [
    "Now let's look at the symbolic computation with 'sym_py'."
   ]
  },
  {
   "cell_type": "code",
   "execution_count": 6,
   "metadata": {},
   "outputs": [
    {
     "data": {
      "image/png": "[encoded data removed]",
      "text/latex": [
       "$\\displaystyle \\left[\\begin{matrix}-1.3968512076199 & -0.681425879439445 & 0.242439496690478\\\\-1.70073563403833 & -3.98859980819558 & -1.53472134020804\\\\0.00512707813227236 & -0.120227670156191 & -0.932336626861415\\end{matrix}\\right]$"
      ],
      "text/plain": [
       "⎡ -1.3968512076199    -0.681425879439445  0.242439496690478 ⎤\n",
       "⎢                                                           ⎥\n",
       "⎢ -1.70073563403833   -3.98859980819558   -1.53472134020804 ⎥\n",
       "⎢                                                           ⎥\n",
       "⎣0.00512707813227236  -0.120227670156191  -0.932336626861415⎦"
      ]
     },
     "execution_count": 6,
     "metadata": {},
     "output_type": "execute_result"
    }
   ],
   "source": [
    "m11, m12, m13 = symbols('m11'), symbols('m12'), symbols('m13')\n",
    "m21, m22, m23 = symbols('m21'), symbols('m22'), symbols('m23')\n",
    "m31, m32, m33 = symbols('m31'), symbols('m32'), symbols('m33')\n",
    "M = Matrix([[m11, m12, m13], [m21, m22, m23], [m31, m32, m33]])\n",
    "\n",
    "C = 2 * eye(p) # volatility matrix\n",
    "\n",
    "vec_M = Matrix([[M[j, i]] for i in range(p) for j in range(p)]) # j faster than i\n",
    "vech_C = Matrix([[C[i, j]] for i in range(p) for j in range(i, p)])\n",
    "unit_v = eye(p).col(index_intervention)\n",
    "\n",
    "subs = {m11: true_M[0, 0], m12: true_M[0, 1], m13: true_M[0, 2], m21: true_M[1, 0], m22: true_M[1, 1], m23: true_M[1, 2], m31: true_M[2, 0], m32: true_M[2, 1], m33: true_M[2, 2]}\n",
    "concrete_M = M.subs(subs)\n",
    "concrete_M"
   ]
  },
  {
   "cell_type": "code",
   "execution_count": 7,
   "metadata": {},
   "outputs": [
    {
     "name": "stdout",
     "output_type": "stream",
     "text": [
      "8.068330095695664\n"
     ]
    },
    {
     "data": {
      "image/png": "[encoded data removed]",
      "text/latex": [
       "$\\displaystyle \\left[\\begin{matrix}-0.857291311774251 & 0.552573319176766 & 0.506959412129235\\\\-2.65895690974253 & -6.44683033932088 & -3.89421022899618\\\\2.72134238448872 & 6.17474691860915 & 0.986334008418218\\end{matrix}\\right]$"
      ],
      "text/plain": [
       "⎡-0.857291311774251  0.552573319176766  0.506959412129235⎤\n",
       "⎢                                                        ⎥\n",
       "⎢-2.65895690974253   -6.44683033932088  -3.89421022899618⎥\n",
       "⎢                                                        ⎥\n",
       "⎣ 2.72134238448872   6.17474691860915   0.986334008418218⎦"
      ]
     },
     "execution_count": 7,
     "metadata": {},
     "output_type": "execute_result"
    }
   ],
   "source": [
    "cov = solve_lyapunov_cov(M=concrete_M, C=C, p=p)\n",
    "mean = b * concrete_M.inv() * unit_v\n",
    "\n",
    "A_Sigma = create_A_Sigma_sympy(cov=cov, p=p)\n",
    "A = create_A_sympy(A_Sigma=A_Sigma, mean=mean, p=p)\n",
    "\n",
    "c = create_c_sympy(vech_C=vech_C, b=b, index=index_intervention, p=p)\n",
    "\n",
    "det_A = det(A)\n",
    "solution = solve(A * vec_M + c, vec_M)\n",
    "\n",
    "if len(solution) == 9:\n",
    "    M_est = M.subs(solution)\n",
    "    M_est_np = matrix2numpy(M_est).astype(float)\n",
    "    M_true = matrix2numpy(concrete_M).astype(float)\n",
    "    frob = np.linalg.norm(M_est_np - M_true)\n",
    "\n",
    "print(frob)\n",
    "M_est"
   ]
  }
 ],
 "metadata": {
  "kernelspec": {
   "display_name": ".venv",
   "language": "python",
   "name": "python3"
  },
  "language_info": {
   "codemirror_mode": {
    "name": "ipython",
    "version": 3
   },
   "file_extension": ".py",
   "mimetype": "text/x-python",
   "name": "python",
   "nbconvert_exporter": "python",
   "pygments_lexer": "ipython3",
   "version": "3.12.3"
  }
 },
 "nbformat": 4,
 "nbformat_minor": 2
}
