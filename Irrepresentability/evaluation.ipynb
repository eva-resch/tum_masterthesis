{
 "cells": [
  {
   "cell_type": "markdown",
   "metadata": {},
   "source": [
    "## Preparation"
   ]
  },
  {
   "cell_type": "code",
   "execution_count": 1,
   "metadata": {},
   "outputs": [],
   "source": [
    "import os\n",
    "import pandas as pd\n",
    "import matplotlib.pyplot as plt\n",
    "import seaborn as sns\n",
    "\n",
    "# Function to plot results for a given graph\n",
    "def plot_experiment_results(df: pd.DataFrame, exp_name: str, graph_name: str, img_folder=\"Graphics/\"):\n",
    "    # Load experimental results\n",
    "    df = pd.read_pickle(f\"Experiments/{exp_name}.pkl\")\n",
    "\n",
    "    # Grouping and counting fulfillment of conditions\n",
    "    df[\"Irrep. fulfilled\"] = df[\"Irrep. fulfilled\"].astype(int)\n",
    "    df[\"Weak irrep. fulfilled\"] = df[\"Weak irrep. fulfilled\"].astype(int)\n",
    "    condition_counts = df.groupby([\"Intervention\"]).agg({\"Irrep. fulfilled\": \"sum\", \"Weak irrep. fulfilled\": \"sum\"}).reset_index()\n",
    "\n",
    "    # Define unique interventions\n",
    "    unique_interventions = df[\"Intervention\"].unique()\n",
    "    num_interventions = len(unique_interventions)\n",
    "\n",
    "    # Create a figure with dynamic rows based on the number of interventions\n",
    "    fig, axes = plt.subplots(nrows=max(num_interventions, 2), ncols=2, figsize=(10, 3 * max(num_interventions, 2)))\n",
    "\n",
    "    # Flatten axes array if necessary\n",
    "    if num_interventions == 1:\n",
    "        axes = axes.reshape(-1, 2)  # Ensure it's always 2 columns\n",
    "\n",
    "    # **1️⃣ Left Column: Graph Image**\n",
    "    graph_img_path = os.path.join(f\"Graphics/{graph_name}.png\")\n",
    "    if os.path.exists(graph_img_path):\n",
    "        img = plt.imread(graph_img_path)\n",
    "        axes[0, 0].imshow(img)\n",
    "        axes[0, 0].axis(\"off\")\n",
    "        axes[0, 0].set_title(f\"Graph: {graph_name}\")\n",
    "\n",
    "    # **2️⃣ Left Column: Table with Condition Fulfillment**\n",
    "    percentage_data = condition_counts.copy()\n",
    "    percentage_data[\"Irrep. fulfilled\"] = (percentage_data[\"Irrep. fulfilled\"] / 1000).round(1)\n",
    "    percentage_data[\"Weak irrep. fulfilled\"] = (percentage_data[\"Weak irrep. fulfilled\"] / 1000).round(1)\n",
    "\n",
    "    # Hide axes for the table\n",
    "    axes[1, 0].axis(\"tight\")\n",
    "    axes[1, 0].axis(\"off\")\n",
    "\n",
    "    # Create the first table (absolute counts)\n",
    "    table1 = axes[1, 0].table(cellText=condition_counts.values, \n",
    "                            colLabels=condition_counts.columns, \n",
    "                            rowLabels=[''] * len(condition_counts),  # Hide row labels\n",
    "                            cellLoc='center', loc='center', bbox=[0, 0.55, 1, 0.3])\n",
    "\n",
    "    # Create the second table (percentage values)\n",
    "    table2 = axes[1, 0].table(cellText=percentage_data.values, \n",
    "                            colLabels=percentage_data.columns, \n",
    "                            rowLabels=[''] * len(percentage_data),  \n",
    "                            cellLoc='center', loc='center', bbox=[0, 0.05, 1, 0.3])\n",
    "\n",
    "    # Set title for table\n",
    "    axes[1, 0].set_title(\"Condition Fulfillment Counts & Percentages\")\n",
    "\n",
    "    # **3️⃣ Right Column: Scatter Plots for Each Intervention**\n",
    "    for i, intervention in enumerate(unique_interventions):\n",
    "        subset = df[df[\"Intervention\"] == intervention]  # Select data for this intervention\n",
    "\n",
    "        # Add experiment index as x-axis (0, 1, 2, ..., len(subset)-1)\n",
    "        subset = subset.reset_index()\n",
    "\n",
    "        # Scatter plot for this intervention\n",
    "        sns.scatterplot(data=subset, x=subset.index, y=\"Performance lasso\", ax=axes[i, 1])\n",
    "\n",
    "        # Labels and title\n",
    "        axes[i, 1].set_title(f\"Intervention {intervention}\")\n",
    "        axes[i, 1].set_xlabel(\"Experiment Number\")\n",
    "        axes[i, 1].set_ylabel(\"Frobenius Distance\" if i == 0 else \"\")  # Only first plot has y-label\n",
    "\n",
    "    # **Adjust layout for better spacing**\n",
    "    plt.tight_layout()\n",
    "    plt.savefig(f\"Evaluation/{exp_name}.png\")\n",
    "    plt.show()"
   ]
  },
  {
   "cell_type": "markdown",
   "metadata": {},
   "source": [
    "## Evaluation"
   ]
  },
  {
   "cell_type": "code",
   "execution_count": null,
   "metadata": {},
   "outputs": [],
   "source": []
  },
  {
   "cell_type": "code",
   "execution_count": null,
   "metadata": {},
   "outputs": [],
   "source": []
  }
 ],
 "metadata": {
  "kernelspec": {
   "display_name": ".venv",
   "language": "python",
   "name": "python3"
  },
  "language_info": {
   "codemirror_mode": {
    "name": "ipython",
    "version": 3
   },
   "file_extension": ".py",
   "mimetype": "text/x-python",
   "name": "python",
   "nbconvert_exporter": "python",
   "pygments_lexer": "ipython3",
   "version": "3.12.3"
  }
 },
 "nbformat": 4,
 "nbformat_minor": 2
}
